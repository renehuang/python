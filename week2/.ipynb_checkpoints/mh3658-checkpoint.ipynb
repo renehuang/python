{
 "cells": [
  {
   "cell_type": "markdown",
   "metadata": {},
   "source": [
    "# HW2\n",
    "Mengyu Huang - UNI: mh3658"
   ]
  },
  {
   "cell_type": "code",
   "execution_count": 3,
   "metadata": {
    "collapsed": true
   },
   "outputs": [],
   "source": [
    "# test vectors for Problem 1 a,b,c,d\n",
    "\n",
    "tv0 = [1,2,3]\n",
    "tv1 = [4,5,6,7,8,9]"
   ]
  },
  {
   "cell_type": "markdown",
   "metadata": {},
   "source": [
    "# Problem 1a\n",
    "- write function 'dot'\n",
    "- computes the standard 'dot products' \n",
    "between two lists \n",
    "- example: dot([1,2,3], [4,5,6]) = $$1 * 4 + 2 * 5 + 3 * 6 = 32$$\n",
    "- if one vector is longer than the other, the extra elements are ignored"
   ]
  },
  {
   "cell_type": "code",
   "execution_count": 4,
   "metadata": {
    "collapsed": true
   },
   "outputs": [],
   "source": [
    "def dot(vec1, vec2):\n",
    "    addup=0\n",
    "    for a, b in zip(vec1, vec2):\n",
    "        addup+=a*b\n",
    "    return addup"
   ]
  },
  {
   "cell_type": "code",
   "execution_count": 5,
   "metadata": {
    "collapsed": false
   },
   "outputs": [
    {
     "data": {
      "text/plain": [
       "32"
      ]
     },
     "execution_count": 5,
     "metadata": {},
     "output_type": "execute_result"
    }
   ],
   "source": [
    "# the 7,8,9 elements are ignored because zip stops when the shorter list is exhausted\n",
    "\n",
    "dot(tv0, tv1)"
   ]
  },
  {
   "cell_type": "markdown",
   "metadata": {},
   "source": [
    "# Problem 1b\n",
    "- write function 'shortlong'\n",
    "- takes two vectors, and returns in a list the shorter vector, the short vector length, the long vector, and the long vector length"
   ]
  },
  {
   "cell_type": "code",
   "execution_count": 6,
   "metadata": {
    "collapsed": false
   },
   "outputs": [],
   "source": [
    "def shortlong(vec1, vec2):\n",
    "    if len(vec1)<len(vec2):\n",
    "        return [vec1, len(vec1),vec2,len(vec2)]\n",
    "    else:\n",
    "        return [vec2, len(vec2), vec1,len(vec1)]"
   ]
  },
  {
   "cell_type": "code",
   "execution_count": 7,
   "metadata": {
    "collapsed": false
   },
   "outputs": [
    {
     "data": {
      "text/plain": [
       "[[1, 2, 3], 3, [4, 5, 6, 7, 8, 9], 6]"
      ]
     },
     "execution_count": 7,
     "metadata": {},
     "output_type": "execute_result"
    }
   ],
   "source": [
    "shortlong(tv0, tv1)"
   ]
  },
  {
   "cell_type": "code",
   "execution_count": 8,
   "metadata": {
    "collapsed": false
   },
   "outputs": [
    {
     "data": {
      "text/plain": [
       "[[1, 2, 3], 3, [4, 5, 6, 7, 8, 9], 6]"
      ]
     },
     "execution_count": 8,
     "metadata": {},
     "output_type": "execute_result"
    }
   ],
   "source": [
    "shortlong(tv1, tv0)"
   ]
  },
  {
   "cell_type": "markdown",
   "metadata": {},
   "source": [
    "# Problem 1c\n",
    "- write function 'dotmv'\n",
    "- more flexible version of 'dot'\n",
    "- 'dotmv' takes an extra 'offset' arg, which moves the shorter vector to the right\n",
    "- use 'shortlong'\n",
    "- dotmv(tv0, tv1, 2) = $$1 * 6 + 2 * 7 + 3 * 8$$"
   ]
  },
  {
   "cell_type": "code",
   "execution_count": 9,
   "metadata": {
    "collapsed": true
   },
   "outputs": [],
   "source": [
    "#do we need to consider if offset=3,4,5,6.. here I assume that offset is smaller than len(long)-len(short)\n",
    "\n",
    "def dotmv(vec1, vec2, offset):\n",
    "    list1=shortlong(vec1, vec2)      # s, slen, l, llen=shortlong(vec1, vec2)\n",
    "    return dot(list1[0], list1[2][offset:])\n"
   ]
  },
  {
   "cell_type": "code",
   "execution_count": 10,
   "metadata": {
    "collapsed": false
   },
   "outputs": [
    {
     "data": {
      "text/plain": [
       "[32, 38, 44]"
      ]
     },
     "execution_count": 10,
     "metadata": {},
     "output_type": "execute_result"
    }
   ],
   "source": [
    "[dotmv(tv0, tv1, 0), dotmv(tv0, tv1, 1), dotmv(tv0, tv1, 2)]"
   ]
  },
  {
   "cell_type": "markdown",
   "metadata": {},
   "source": [
    "# Problem 1d\n",
    "- write function 'dotpad' \n",
    "- another version of 'dot'\n",
    "- 'dotpad' takes a pad arg\n",
    "- if one vector is shorter, it is padded on the right with the pad value\n",
    "- use 'shortlong'\n",
    "- don't modify the input vectors\n",
    "- dotpad(tv0, tv1,1) = dot([1,2,3,1,1,1], [4,5,6,7,8,9])"
   ]
  },
  {
   "cell_type": "code",
   "execution_count": 11,
   "metadata": {
    "collapsed": true
   },
   "outputs": [],
   "source": [
    "def dotpad(vec1, vec2, pad):\n",
    "    list1=shortlong(vec1, vec2)\n",
    "    return dot(list1[0]+[pad]*(list1[3]-list1[1]), list1[2])"
   ]
  },
  {
   "cell_type": "code",
   "execution_count": 12,
   "metadata": {
    "collapsed": false
   },
   "outputs": [
    {
     "data": {
      "text/plain": [
       "[32, 56, 80]"
      ]
     },
     "execution_count": 12,
     "metadata": {},
     "output_type": "execute_result"
    }
   ],
   "source": [
    "[dotpad(tv0, tv1, 0), dotpad(tv0, tv1, 1), dotpad(tv0, tv1,2)]"
   ]
  },
  {
   "cell_type": "markdown",
   "metadata": {},
   "source": [
    "# Problem 2 \n",
    "- write function 'cbt'\n",
    "- 'cbt' => 'Collate By Type'\n",
    "- argument: a non-nested list of objects\n",
    "- returns: a dictionary, where there is \n",
    "a key for each type found. the value of each\n",
    "key is a list of the objects of that type found.\n",
    "- prints: \n",
    "  - the number of each type found\n",
    "  - the sum, if any, of the ints, and floats found\n",
    "  - the strings, if any, sorted alphabetically, and concatenated\n",
    "  togther, separated by '|'"
   ]
  },
  {
   "cell_type": "code",
   "execution_count": 13,
   "metadata": {
    "collapsed": false
   },
   "outputs": [],
   "source": [
    "def cbt(list1):\n",
    "    dic={}\n",
    "    for elem in list1:\n",
    "        if str(type(elem).__name__) in dic.keys():\n",
    "            dic[str(type(elem).__name__)].append(elem)\n",
    "        else:\n",
    "            dic[str(type(elem).__name__)]=[elem]\n",
    "    for keys in dic.keys():\n",
    "        print ('found '+ str(len(dic[keys]))+\" of <class '\"+ keys+ \"'>\")\n",
    "        # print ('found {} of {}.format(len(d[k]),k))\n",
    "    \n",
    "    print (\"sum of <class 'int'> is \"+ str(sum(dic[\"int\"])))\n",
    "    print (\"sum of <class 'float'> is \"+ str(sum(dic[\"float\"])))\n",
    "\n",
    "    sortstr=\"alpha sorted concat of strings: \"\n",
    "    for word in sorted(dic[\"str\"]):\n",
    "        sortstr= sortstr+word+\"|\"\n",
    "    sortstr=sortstr[:-1]\n",
    "    print (sortstr)\n",
    "    \n",
    "    return dic\n",
    "    "
   ]
  },
  {
   "cell_type": "code",
   "execution_count": 14,
   "metadata": {
    "collapsed": false
   },
   "outputs": [
    {
     "name": "stdout",
     "output_type": "stream",
     "text": [
      "found 2 of <class 'builtin_function_or_method'>\n",
      "found 2 of <class 'float'>\n",
      "found 4 of <class 'int'>\n",
      "found 4 of <class 'str'>\n",
      "sum of <class 'int'> is 1049673\n",
      "sum of <class 'float'> is 5.48\n",
      "alpha sorted concat of strings: butler|science|shapiro|unicode\n"
     ]
    },
    {
     "data": {
      "text/plain": [
       "{'builtin_function_or_method': [<function sorted>, <function len>],\n",
       " 'float': [3.14, 2.34],\n",
       " 'int': [23, 1048576, 1031, 43],\n",
       " 'str': ['shapiro', 'science', 'butler', 'unicode']}"
      ]
     },
     "execution_count": 14,
     "metadata": {},
     "output_type": "execute_result"
    }
   ],
   "source": [
    "# the order of the output result is a little different from the given hw sample. I asked the TA and she said there is no need to sort the output\n",
    "\n",
    "x = [23, 2**20, 3.14,'shapiro', 2**10+7, sorted,2.34, 'science', len, 43, 'butler', 'unicode']\n",
    "cbt(x)"
   ]
  },
  {
   "cell_type": "markdown",
   "metadata": {},
   "source": [
    "# Problem 3\n",
    "- write function 'partition'\n",
    "- divides a list into segments\n",
    "- first arg is the input list\n",
    "- second arg is the length of each segment. if there are not enough list elements to make a final segment of length n, they are discarded\n",
    "- third arg is how many list elements should overlap btw adjacent segments\n",
    "- remember range is range(inclusive, exclusive), range[0,2] => [0,1]\n",
    "- might want to use 'while' instead of 'for'"
   ]
  },
  {
   "cell_type": "code",
   "execution_count": 15,
   "metadata": {
    "collapsed": false
   },
   "outputs": [],
   "source": [
    "def partition(list1, seglen, overlap):\n",
    "    i=0\n",
    "    output=[]\n",
    "    \n",
    "    while (i+seglen)<=len(list1):\n",
    "        output.append(list1[i:i+seglen])\n",
    "        i+=(seglen-overlap)\n",
    "    return output"
   ]
  },
  {
   "cell_type": "code",
   "execution_count": 16,
   "metadata": {
    "collapsed": false
   },
   "outputs": [
    {
     "data": {
      "text/plain": [
       "[[0, 1], [2, 3], [4, 5], [6, 7], [8, 9]]"
      ]
     },
     "execution_count": 16,
     "metadata": {},
     "output_type": "execute_result"
    }
   ],
   "source": [
    "partition(list(range(10)), 2, 0)"
   ]
  },
  {
   "cell_type": "code",
   "execution_count": 21,
   "metadata": {
    "collapsed": false
   },
   "outputs": [
    {
     "data": {
      "text/plain": [
       "[[0, 1, 2], [3, 4, 5], [6, 7, 8]]"
      ]
     },
     "execution_count": 21,
     "metadata": {},
     "output_type": "execute_result"
    }
   ],
   "source": [
    "# only want length 3 partitions, so 9 was discarded\n",
    "\n",
    "partition(list(range(10)), 3, 0)"
   ]
  },
  {
   "cell_type": "code",
   "execution_count": 17,
   "metadata": {
    "collapsed": false
   },
   "outputs": [
    {
     "data": {
      "text/plain": [
       "[[0, 1], [1, 2], [2, 3], [3, 4], [4, 5], [5, 6], [6, 7], [7, 8], [8, 9]]"
      ]
     },
     "execution_count": 17,
     "metadata": {},
     "output_type": "execute_result"
    }
   ],
   "source": [
    "partition(list(range(10)), 2, 1)"
   ]
  },
  {
   "cell_type": "code",
   "execution_count": 18,
   "metadata": {
    "collapsed": false
   },
   "outputs": [
    {
     "data": {
      "text/plain": [
       "[[0, 1, 2, 3], [4, 5, 6, 7]]"
      ]
     },
     "execution_count": 18,
     "metadata": {},
     "output_type": "execute_result"
    }
   ],
   "source": [
    "partition(list(range(10)), 4, 0)"
   ]
  },
  {
   "cell_type": "code",
   "execution_count": 19,
   "metadata": {
    "collapsed": false
   },
   "outputs": [
    {
     "data": {
      "text/plain": [
       "[[0, 1, 2, 3],\n",
       " [1, 2, 3, 4],\n",
       " [2, 3, 4, 5],\n",
       " [3, 4, 5, 6],\n",
       " [4, 5, 6, 7],\n",
       " [5, 6, 7, 8],\n",
       " [6, 7, 8, 9]]"
      ]
     },
     "execution_count": 19,
     "metadata": {},
     "output_type": "execute_result"
    }
   ],
   "source": [
    "partition(list(range(10)), 4, 3)"
   ]
  },
  {
   "cell_type": "markdown",
   "metadata": {},
   "source": [
    "# Problem 4a\n",
    "- write function 'expandlazy' \n",
    "- if given a 'lazy' range, zip, or enumerate, expand it into a list\n"
   ]
  },
  {
   "cell_type": "code",
   "execution_count": 27,
   "metadata": {
    "collapsed": false
   },
   "outputs": [],
   "source": [
    "def expandlazy(data):\n",
    "    if type(data)==range or type(data)==zip or type(data)==enumerate:\n",
    "        return list(data)\n",
    "    else:\n",
    "        return data\n",
    "    \n",
    "    # for lazy in [range, map, zip, enumerate]:\n",
    "        # if isinstance(data, lazy)\n",
    "        # ...\n",
    "        \n",
    "    # if isinstance(data, [range, map, zip, enumerate])"
   ]
  },
  {
   "cell_type": "code",
   "execution_count": 21,
   "metadata": {
    "collapsed": false
   },
   "outputs": [
    {
     "data": {
      "text/plain": [
       "[234, [0, 1, 2], 'asdf', [(0, 'a'), (1, 'b'), (2, 'c')]]"
      ]
     },
     "execution_count": 21,
     "metadata": {},
     "output_type": "execute_result"
    }
   ],
   "source": [
    "[expandlazy(234), expandlazy(range(3)), expandlazy('asdf'), expandlazy(enumerate(['a','b','c']))]"
   ]
  },
  {
   "cell_type": "markdown",
   "metadata": {},
   "source": [
    "# Problem 4b\n",
    "- write function 'expandlazylist' \n",
    "- expand any lazy elements of a non nested list"
   ]
  },
  {
   "cell_type": "code",
   "execution_count": 22,
   "metadata": {
    "collapsed": true
   },
   "outputs": [],
   "source": [
    "def expandlazylist(datalist):\n",
    "    output=[]\n",
    "    for elem in datalist:\n",
    "        output.append(expandlazy(elem))\n",
    "    return output"
   ]
  },
  {
   "cell_type": "code",
   "execution_count": 23,
   "metadata": {
    "collapsed": false
   },
   "outputs": [
    {
     "data": {
      "text/plain": [
       "[1,\n",
       " 2,\n",
       " 3,\n",
       " [0, 1, 2, 3],\n",
       " 5,\n",
       " [(1, 4), (2, 5)],\n",
       " 'asdf',\n",
       " [(0, 'a'), (1, 'b'), (2, 'c')]]"
      ]
     },
     "execution_count": 23,
     "metadata": {},
     "output_type": "execute_result"
    }
   ],
   "source": [
    "x = [1,2,3, range(4), 5, zip([1,2,3], [4,5]), 'asdf', enumerate(['a', 'b', 'c'])]\n",
    "expandlazylist(x)"
   ]
  },
  {
   "cell_type": "markdown",
   "metadata": {},
   "source": [
    "# Problem 5\n",
    "- 'flatten' turns a nested list into a non-nested linear one\n",
    "- use recursion"
   ]
  },
  {
   "cell_type": "code",
   "execution_count": 24,
   "metadata": {
    "collapsed": false
   },
   "outputs": [],
   "source": [
    "def flatten(datalist):\n",
    "    if isinstance(datalist,list):\n",
    "        if datalist==[]:\n",
    "            return []\n",
    "        return flatten(datalist[0])+flatten(datalist[1:])\n",
    "    else:\n",
    "        return [datalist]"
   ]
  },
  {
   "cell_type": "code",
   "execution_count": 25,
   "metadata": {
    "collapsed": false
   },
   "outputs": [
    {
     "data": {
      "text/plain": [
       "[1, 2, 3, 4, 5, 6, 7, 8, 9, 11]"
      ]
     },
     "execution_count": 25,
     "metadata": {},
     "output_type": "execute_result"
    }
   ],
   "source": [
    "flatten([1,[2,3,4,[5,6,[7,8],9],11]])"
   ]
  },
  {
   "cell_type": "code",
   "execution_count": 26,
   "metadata": {
    "collapsed": false
   },
   "outputs": [
    {
     "data": {
      "text/plain": [
       "[1, 2, 3, 4, 56, 44, 55, 7, 8]"
      ]
     },
     "execution_count": 26,
     "metadata": {},
     "output_type": "execute_result"
    }
   ],
   "source": [
    "flatten([1,2,3,[4,56],[44,55],7,8])"
   ]
  },
  {
   "cell_type": "code",
   "execution_count": null,
   "metadata": {
    "collapsed": true
   },
   "outputs": [],
   "source": []
  }
 ],
 "metadata": {
  "anaconda-cloud": {},
  "kernelspec": {
   "display_name": "Python [conda root]",
   "language": "python",
   "name": "conda-root-py"
  },
  "language_info": {
   "codemirror_mode": {
    "name": "ipython",
    "version": 3
   },
   "file_extension": ".py",
   "mimetype": "text/x-python",
   "name": "python",
   "nbconvert_exporter": "python",
   "pygments_lexer": "ipython3",
   "version": "3.5.2"
  }
 },
 "nbformat": 4,
 "nbformat_minor": 1
}
