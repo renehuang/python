{
 "cells": [
  {
   "cell_type": "markdown",
   "metadata": {},
   "source": [
    "\n",
    "# Examples"
   ]
  },
  {
   "cell_type": "code",
   "execution_count": 3,
   "metadata": {
    "collapsed": true
   },
   "outputs": [],
   "source": [
    "# setup\n",
    "\n",
    "import math\n",
    "import random\n",
    "import matplotlib.pyplot as plt\n",
    "\n",
    "# make plots render in the notebook, instead of in an external window,\n",
    "# which tends to be annoying\n",
    "%matplotlib inline\n"
   ]
  },
  {
   "cell_type": "code",
   "execution_count": 2,
   "metadata": {
    "collapsed": false
   },
   "outputs": [
    {
     "ename": "TypeError",
     "evalue": "'str' object does not support item assignment",
     "output_type": "error",
     "traceback": [
      "\u001b[0;31m---------------------------------------------------------------------------\u001b[0m",
      "\u001b[0;31mTypeError\u001b[0m                                 Traceback (most recent call last)",
      "\u001b[0;32m<ipython-input-2-fffc28ea2da6>\u001b[0m in \u001b[0;36m<module>\u001b[0;34m()\u001b[0m\n\u001b[1;32m     10\u001b[0m     \u001b[1;32mreturn\u001b[0m \u001b[0ms\u001b[0m\u001b[1;33m\u001b[0m\u001b[0m\n\u001b[1;32m     11\u001b[0m \u001b[1;33m\u001b[0m\u001b[0m\n\u001b[0;32m---> 12\u001b[0;31m \u001b[0mswapone\u001b[0m\u001b[1;33m(\u001b[0m\u001b[1;34m'abcd'\u001b[0m\u001b[1;33m,\u001b[0m \u001b[1;36m2\u001b[0m\u001b[1;33m)\u001b[0m\u001b[1;33m\u001b[0m\u001b[0m\n\u001b[0m",
      "\u001b[0;32m<ipython-input-2-fffc28ea2da6>\u001b[0m in \u001b[0;36mswapone\u001b[0;34m(s, n)\u001b[0m\n\u001b[1;32m      7\u001b[0m     \u001b[0mc\u001b[0m \u001b[1;33m=\u001b[0m \u001b[0mc\u001b[0m\u001b[1;33m.\u001b[0m\u001b[0mswapcase\u001b[0m\u001b[1;33m(\u001b[0m\u001b[1;33m)\u001b[0m\u001b[1;33m\u001b[0m\u001b[0m\n\u001b[1;32m      8\u001b[0m     \u001b[1;31m# and put back in the string\u001b[0m\u001b[1;33m\u001b[0m\u001b[1;33m\u001b[0m\u001b[0m\n\u001b[0;32m----> 9\u001b[0;31m     \u001b[0ms\u001b[0m\u001b[1;33m[\u001b[0m\u001b[0mn\u001b[0m\u001b[1;33m]\u001b[0m \u001b[1;33m=\u001b[0m \u001b[0mc\u001b[0m\u001b[1;33m\u001b[0m\u001b[0m\n\u001b[0m\u001b[1;32m     10\u001b[0m     \u001b[1;32mreturn\u001b[0m \u001b[0ms\u001b[0m\u001b[1;33m\u001b[0m\u001b[0m\n\u001b[1;32m     11\u001b[0m \u001b[1;33m\u001b[0m\u001b[0m\n",
      "\u001b[0;31mTypeError\u001b[0m: 'str' object does not support item assignment"
     ]
    }
   ],
   "source": [
    "# want to swap the case of s[n]\n",
    "# this won't work - can't modify a string\n",
    "\n",
    "def swapone(s, n):\n",
    "    c = s[n]\n",
    "    # get the char, swap it\n",
    "    c = c.swapcase()\n",
    "    # and put back in the string\n",
    "    s[n] = c\n",
    "    return s\n",
    "\n",
    "swapone('abcd', 2)"
   ]
  },
  {
   "cell_type": "code",
   "execution_count": 4,
   "metadata": {
    "collapsed": false
   },
   "outputs": [
    {
     "data": {
      "text/plain": [
       "'abCd'"
      ]
     },
     "execution_count": 4,
     "metadata": {},
     "output_type": "execute_result"
    }
   ],
   "source": [
    "# take 2\n",
    "\n",
    "def swapone2(s, n):\n",
    "    # take the string apart\n",
    "    left = s[:n]\n",
    "    right = s[n+1:]\n",
    "    swap = s[n].swapcase()\n",
    "    # and put it back together\n",
    "    return left + swap + right\n",
    "    \n",
    "swapone2('abcd', 2)"
   ]
  },
  {
   "cell_type": "code",
   "execution_count": null,
   "metadata": {
    "collapsed": false
   },
   "outputs": [],
   "source": [
    "list('asdf')"
   ]
  },
  {
   "cell_type": "code",
   "execution_count": null,
   "metadata": {
    "collapsed": false
   },
   "outputs": [],
   "source": [
    "# take 3\n",
    "\n",
    "def swapone3(s, n):\n",
    "    # convert to a list!!\n",
    "    sl = list(s)\n",
    "    # list can be updated\n",
    "    sl[n] = sl[n].swapcase()\n",
    "    # convert back to string\n",
    "    return ''.join(sl)\n",
    "\n",
    "swapone3('abcd', 2)"
   ]
  },
  {
   "cell_type": "markdown",
   "metadata": {},
   "source": [
    "# Structure sharing"
   ]
  },
  {
   "cell_type": "code",
   "execution_count": 5,
   "metadata": {
    "collapsed": false
   },
   "outputs": [
    {
     "data": {
      "text/plain": [
       "[[1, 2], [3, 4], [5, 6]]"
      ]
     },
     "execution_count": 5,
     "metadata": {},
     "output_type": "execute_result"
    }
   ],
   "source": [
    "# lists are zero origin\n",
    "\n",
    "x = [[1,2],[3,4],[5,6]]\n",
    "x"
   ]
  },
  {
   "cell_type": "code",
   "execution_count": 6,
   "metadata": {
    "collapsed": false
   },
   "outputs": [
    {
     "data": {
      "text/plain": [
       "3"
      ]
     },
     "execution_count": 6,
     "metadata": {},
     "output_type": "execute_result"
    }
   ],
   "source": [
    "# 2nd element of outer list, then 1st element of [3,4]\n",
    "\n",
    "x[1][0]"
   ]
  },
  {
   "cell_type": "code",
   "execution_count": 7,
   "metadata": {
    "collapsed": false
   },
   "outputs": [
    {
     "data": {
      "text/plain": [
       "[[1, 2], [55, 4], [5, 6]]"
      ]
     },
     "execution_count": 7,
     "metadata": {},
     "output_type": "execute_result"
    }
   ],
   "source": [
    "x[1][0] = 55\n",
    "x"
   ]
  },
  {
   "cell_type": "code",
   "execution_count": null,
   "metadata": {
    "collapsed": false
   },
   "outputs": [],
   "source": [
    "y = 5*[[1,2]]\n",
    "y"
   ]
  },
  {
   "cell_type": "code",
   "execution_count": null,
   "metadata": {
    "collapsed": false
   },
   "outputs": [],
   "source": [
    "# why so many 55's? \n",
    "# because 5*[[1,2]] made a len 5 list, then\n",
    "# filled it with references to the same [1,2] list. \n",
    "# only one [1,2] was constructed, not 5\n",
    "\n",
    "y[1][0] = 55\n",
    "y"
   ]
  },
  {
   "cell_type": "code",
   "execution_count": null,
   "metadata": {
    "collapsed": false
   },
   "outputs": [],
   "source": [
    "y[0] is y[1] is y[2]"
   ]
  },
  {
   "cell_type": "code",
   "execution_count": null,
   "metadata": {
    "collapsed": false
   },
   "outputs": [],
   "source": [
    "# this will make 5 separate [1,2] lists\n",
    "\n",
    "z = [[1,2] for j in range(5)]\n",
    "z"
   ]
  },
  {
   "cell_type": "code",
   "execution_count": null,
   "metadata": {
    "collapsed": false
   },
   "outputs": [],
   "source": [
    "z[0] is z[1]"
   ]
  },
  {
   "cell_type": "code",
   "execution_count": null,
   "metadata": {
    "collapsed": false
   },
   "outputs": [],
   "source": [
    "# the other four [1,5] lists are not affected \n",
    "\n",
    "z[1][0] = 55\n",
    "z"
   ]
  },
  {
   "cell_type": "code",
   "execution_count": null,
   "metadata": {
    "collapsed": false
   },
   "outputs": [],
   "source": [
    "# this was a typo i made\n",
    "# what is it doing?\n",
    "\n",
    "z = [[1,2] for j in range(5)]\n",
    "z[[1][0]] = 55\n",
    "z"
   ]
  },
  {
   "cell_type": "markdown",
   "metadata": {},
   "source": [
    "# define rcount\n",
    "- recursively count elements in a nested list\n",
    "- a common pattern for recursing thru a nested list is to split the list into the first element, and the rest of the list, then recurse on each piece\n",
    "- if you are not familar with recursion, I will cover it in the next class\n"
   ]
  },
  {
   "cell_type": "code",
   "execution_count": null,
   "metadata": {
    "collapsed": true
   },
   "outputs": [],
   "source": [
    "def rcount(x):\n",
    "    if isinstance(x, list):\n",
    "        # x is a list, get the length\n",
    "        xlen = len(x)\n",
    "        if xlen == 1:\n",
    "            return(rcount(x[0]))\n",
    "        else:\n",
    "            # use an array access and a slice\n",
    "            # to subdivide list\n",
    "            return rcount(x[0]) + rcount(x[1:])\n",
    "\n",
    "    # x is not a list, so just counts as 1\n",
    "    return(1)\n"
   ]
  },
  {
   "cell_type": "code",
   "execution_count": null,
   "metadata": {
    "collapsed": false
   },
   "outputs": [],
   "source": [
    "rcount([1,2,[3,4,[5,6,7],8],9])"
   ]
  },
  {
   "cell_type": "markdown",
   "metadata": {},
   "source": [
    "# Histogram of Guassian samples"
   ]
  },
  {
   "cell_type": "code",
   "execution_count": 90,
   "metadata": {
    "collapsed": false
   },
   "outputs": [
    {
     "data": {
      "text/plain": [
       "[0.9535116594651616,\n",
       " 1.9983554701396489,\n",
       " 1.3438607393549067,\n",
       " 0.187812391852202,\n",
       " 0.2022862330620038,\n",
       " 0.744678932514926,\n",
       " -0.6055947095950244,\n",
       " -0.35851635663311515,\n",
       " -0.3961399376889448,\n",
       " 0.041974484996130115]"
      ]
     },
     "execution_count": 90,
     "metadata": {},
     "output_type": "execute_result"
    }
   ],
   "source": [
    "# mean = 0, stddev = 1\n",
    "\n",
    "[random.gauss(0,1) for j in range(10)]"
   ]
  },
  {
   "cell_type": "code",
   "execution_count": 113,
   "metadata": {
    "collapsed": false
   },
   "outputs": [
    {
     "data": {
      "text/plain": [
       "95437"
      ]
     },
     "execution_count": 113,
     "metadata": {},
     "output_type": "execute_result"
    }
   ],
   "source": [
    "# get 100,100 samples, and filter out data greater than 2 SD\n",
    "\n",
    "gd = [d for d in [random.gauss(0,1) for j in range(100000)] if abs(d)<2]\n",
    "len(gd)"
   ]
  },
  {
   "cell_type": "code",
   "execution_count": 92,
   "metadata": {
    "collapsed": false
   },
   "outputs": [
    {
     "data": {
      "text/plain": [
       "[3, -3]"
      ]
     },
     "execution_count": 92,
     "metadata": {},
     "output_type": "execute_result"
    }
   ],
   "source": [
    "# int seems like an easy way to compute bin numbers\n",
    "# truncates the fraction\n",
    "\n",
    "[int(3.4), int(-3.2)]"
   ]
  },
  {
   "cell_type": "code",
   "execution_count": 93,
   "metadata": {
    "collapsed": false
   },
   "outputs": [
    {
     "data": {
      "text/plain": [
       "[-3, 1, -1, -7, 6, 2, 3, 1, -4, 2, 2, -4, 0, -4, 5, -5, 0, 1, 3, -8]"
      ]
     },
     "execution_count": 93,
     "metadata": {},
     "output_type": "execute_result"
    }
   ],
   "source": [
    "# list of bins each data point fell into\n",
    "\n",
    "\n",
    "bins = [int((d /.2)) for d in gd]\n",
    "bins[:20]"
   ]
  },
  {
   "cell_type": "code",
   "execution_count": 112,
   "metadata": {
    "collapsed": false
   },
   "outputs": [
    {
     "data": {
      "text/plain": [
       "[-9, 9, 95337]"
      ]
     },
     "execution_count": 112,
     "metadata": {},
     "output_type": "execute_result"
    }
   ],
   "source": [
    "# sort the bin numbers. \n",
    "# range from -10 to 9 \n",
    "\n",
    "bins.sort()\n",
    "[bins[0],bins[-1], len(bins)]"
   ]
  },
  {
   "cell_type": "code",
   "execution_count": 95,
   "metadata": {
    "collapsed": false
   },
   "outputs": [
    {
     "data": {
      "text/plain": [
       "[0, 18]"
      ]
     },
     "execution_count": 95,
     "metadata": {},
     "output_type": "execute_result"
    }
   ],
   "source": [
    "# offset bins so smallest bin number = 0\n",
    "\n",
    "bins2 = [b - bins[0] for b in bins]\n",
    "[bins2[0], bins2[-1]]"
   ]
  },
  {
   "cell_type": "code",
   "execution_count": 96,
   "metadata": {
    "collapsed": false
   },
   "outputs": [
    {
     "data": {
      "text/plain": [
       "[0, 0, 0, 0, 0, 0, 0, 0, 0, 0, 0, 0, 0, 0, 0, 0, 0, 0, 0]"
      ]
     },
     "execution_count": 96,
     "metadata": {},
     "output_type": "execute_result"
    }
   ],
   "source": [
    "# make a list of zeros that we can increment\n",
    "# to record the number of points in each bucket\n",
    "\n",
    "cnts = [0] * (bins2[-1]+1)\n",
    "cnts"
   ]
  },
  {
   "cell_type": "code",
   "execution_count": 97,
   "metadata": {
    "collapsed": false
   },
   "outputs": [
    {
     "data": {
      "text/plain": [
       "[1335,\n",
       " 1913,\n",
       " 2592,\n",
       " 3431,\n",
       " 4426,\n",
       " 5339,\n",
       " 6293,\n",
       " 6912,\n",
       " 7638,\n",
       " 16106,\n",
       " 7402,\n",
       " 7088,\n",
       " 6117,\n",
       " 5286,\n",
       " 4395,\n",
       " 3426,\n",
       " 2594,\n",
       " 1772,\n",
       " 1272]"
      ]
     },
     "execution_count": 97,
     "metadata": {},
     "output_type": "execute_result"
    }
   ],
   "source": [
    "for b in bins2:\n",
    "    cnts[b] += 1\n",
    "cnts"
   ]
  },
  {
   "cell_type": "code",
   "execution_count": 98,
   "metadata": {
    "collapsed": false
   },
   "outputs": [
    {
     "data": {
      "text/plain": [
       "<Container object of 19 artists>"
      ]
     },
     "execution_count": 98,
     "metadata": {},
     "output_type": "execute_result"
    },
    {
     "data": {
      "image/png": "[encoded data removed]",
      "text/plain": [
       "<matplotlib.figure.Figure at 0x112f09438>"
      ]
     },
     "metadata": {},
     "output_type": "display_data"
    }
   ],
   "source": [
    "# hmmm...\n",
    "\n",
    "plt.bar(range(len(cnts)), cnts, 1)"
   ]
  },
  {
   "cell_type": "code",
   "execution_count": 99,
   "metadata": {
    "collapsed": false
   },
   "outputs": [
    {
     "ename": "TypeError",
     "evalue": "'float' object cannot be interpreted as an integer",
     "output_type": "error",
     "traceback": [
      "\u001b[0;31m---------------------------------------------------------------------------\u001b[0m",
      "\u001b[0;31mTypeError\u001b[0m                                 Traceback (most recent call last)",
      "\u001b[0;32m<ipython-input-99-e09210850ac3>\u001b[0m in \u001b[0;36m<module>\u001b[0;34m()\u001b[0m\n\u001b[1;32m      4\u001b[0m \u001b[0;31m# but, range doesn't work with floats!\u001b[0m\u001b[0;34m\u001b[0m\u001b[0;34m\u001b[0m\u001b[0m\n\u001b[1;32m      5\u001b[0m \u001b[0;34m\u001b[0m\u001b[0m\n\u001b[0;32m----> 6\u001b[0;31m \u001b[0mrange\u001b[0m\u001b[0;34m(\u001b[0m\u001b[0;36m0\u001b[0m\u001b[0;34m,\u001b[0m\u001b[0;36m1\u001b[0m\u001b[0;34m,\u001b[0m\u001b[0;36m.1\u001b[0m\u001b[0;34m)\u001b[0m\u001b[0;34m\u001b[0m\u001b[0m\n\u001b[0m",
      "\u001b[0;31mTypeError\u001b[0m: 'float' object cannot be interpreted as an integer"
     ]
    }
   ],
   "source": [
    "# let's try to figure out why 'int' doesn't work by plotting \n",
    "\n",
    "# to plot a function, we need to generate a list of x values...\n",
    "# but, range doesn't work with floats!\n",
    "\n",
    "range(0,1,.1)"
   ]
  },
  {
   "cell_type": "code",
   "execution_count": 100,
   "metadata": {
    "collapsed": false
   },
   "outputs": [
    {
     "data": {
      "text/plain": [
       "[0.0,\n",
       " 0.1,\n",
       " 0.2,\n",
       " 0.30000000000000004,\n",
       " 0.4,\n",
       " 0.5,\n",
       " 0.6000000000000001,\n",
       " 0.7000000000000001,\n",
       " 0.8,\n",
       " 0.9]"
      ]
     },
     "execution_count": 100,
     "metadata": {},
     "output_type": "execute_result"
    }
   ],
   "source": [
    "# make a float version of range\n",
    "\n",
    "def frange(start, end, n):\n",
    "    inc = (end - start)/float(n)\n",
    "    return [start+j*inc for j in range(n)]\n",
    "\n",
    "frange(0,1,10)"
   ]
  },
  {
   "cell_type": "code",
   "execution_count": 101,
   "metadata": {
    "collapsed": true
   },
   "outputs": [],
   "source": [
    "def plotf(func):\n",
    "    # arg is function to plot\n",
    "    # make a set of x vals\n",
    "    x = frange(-3,3,50)\n",
    "    # eval the func on the x vals\n",
    "    y = [func(xv) for xv in x]\n",
    "    plt.plot(x, y, 'r', linewidth=10)\n",
    "    plt.grid(True)"
   ]
  },
  {
   "cell_type": "code",
   "execution_count": 102,
   "metadata": {
    "collapsed": false
   },
   "outputs": [
    {
     "data": {
      "image/png": "[encoded data removed]",
      "text/plain": [
       "<matplotlib.figure.Figure at 0x10fe026a0>"
      ]
     },
     "metadata": {},
     "output_type": "display_data"
    }
   ],
   "source": [
    "# test\n",
    "\n",
    "plotf(math.sin)"
   ]
  },
  {
   "cell_type": "code",
   "execution_count": 103,
   "metadata": {
    "collapsed": false
   },
   "outputs": [
    {
     "data": {
      "image/png": "[encoded data removed]",
      "text/plain": [
       "<matplotlib.figure.Figure at 0x11360b5f8>"
      ]
     },
     "metadata": {},
     "output_type": "display_data"
    }
   ],
   "source": [
    "# now we see the problem - int is making the middle \n",
    "# bucket twice as wide as the other buckets\n",
    "\n",
    "plotf(int)"
   ]
  },
  {
   "cell_type": "code",
   "execution_count": 104,
   "metadata": {
    "collapsed": false
   },
   "outputs": [
    {
     "data": {
      "image/png": "[encoded data removed]",
      "text/plain": [
       "<matplotlib.figure.Figure at 0x1100ce2b0>"
      ]
     },
     "metadata": {},
     "output_type": "display_data"
    }
   ],
   "source": [
    "# math.floor does the right thing\n",
    "\n",
    "plotf(math.floor)"
   ]
  },
  {
   "cell_type": "markdown",
   "metadata": {},
   "source": [
    "# Fix\n",
    "in code above, change \n",
    "\n",
    "bins = [int((d /.2)) for d in gd]\n",
    "\n",
    "to\n",
    "\n",
    "bins = [math.floor((d /.2)) for d in gd]\n",
    "\n",
    "and run again"
   ]
  },
  {
   "cell_type": "markdown",
   "metadata": {},
   "source": [
    "# 7 segment display\n",
    "- cheap displays\n",
    "    - clock radios\n",
    "    - elevators\n",
    "- [wiki article](https://en.wikipedia.org/wiki/Seven-segment_display)\n"
   ]
  },
  {
   "cell_type": "code",
   "execution_count": null,
   "metadata": {
    "collapsed": false
   },
   "outputs": [],
   "source": [
    "from IPython.display import Image\n",
    "\n",
    "Image('https://upload.wikimedia.org/wikipedia/commons/thumb/0/02/7_segment_display_labeled.svg/300px-7_segment_display_labeled.svg.png')"
   ]
  },
  {
   "cell_type": "code",
   "execution_count": null,
   "metadata": {
    "collapsed": true
   },
   "outputs": [],
   "source": [
    "# a '1' means turn on the corresponding segment\n",
    "# each tuple is (a,b,c,d,e,f,g)\n",
    "\n",
    "segs = {' ':(0,0,0,0,0,0,0),\n",
    "    '0':(1,1,1,1,1,1,0),\n",
    "    '1':(0,1,1,0,0,0,0),\n",
    "    '2':(1,1,0,1,1,0,1),\n",
    "    '3':(1,1,1,1,0,0,1),\n",
    "    '4':(0,1,1,0,0,1,1),\n",
    "    '5':(1,0,1,1,0,1,1),\n",
    "    '6':(1,0,1,1,1,1,1),\n",
    "    '7':(1,1,1,0,0,0,0),\n",
    "    '8':(1,1,1,1,1,1,1),\n",
    "    '9':(1,1,1,1,0,1,1)}"
   ]
  },
  {
   "cell_type": "code",
   "execution_count": 108,
   "metadata": {
    "collapsed": false
   },
   "outputs": [],
   "source": [
    "# each segment is 1 long\n",
    "# origin is at lower left\n",
    "\n",
    "def seven(digit):\n",
    "    # n or 'n' as arg\n",
    "    a,b,c,d,e,f,g = segs[str(digit)]\n",
    "    if a:\n",
    "    # define line with two points\n",
    "        pts = [[0,2], [1,2]]\n",
    "        draw(pts)\n",
    "    if b:\n",
    "        pts = [[1,1], [1,2]]\n",
    "        draw(pts)\n",
    "    if c:\n",
    "        pts = [[1,0], [1,1]]\n",
    "        draw(pts)\n",
    "    if d:\n",
    "        pts = [[0,0], [1,0]]\n",
    "        draw(pts)\n",
    "    if e:\n",
    "        pts = [[0,0],[0,1]]\n",
    "        draw(pts)\n",
    "    if f:\n",
    "        pts = [[0,1],[0,2]]\n",
    "        draw(pts)\n",
    "    if g:\n",
    "        pts = [[0,1],[1,1]]\n",
    "        draw(pts)\n",
    "\n",
    "    # trick to fix aspect ratio\n",
    "    plt.plot([1,1], [0,1])\n",
    "    \n",
    "def draw(pts):\n",
    "    pt1,pt2 = pts\n",
    "    x = [pt1[0]*.5, pt2[0]*.5]\n",
    "    y = [pt1[1], pt2[1]]\n",
    "    plt.plot(x, y, linewidth=40, color='r')"
   ]
  },
  {
   "cell_type": "code",
   "execution_count": 109,
   "metadata": {
    "collapsed": false
   },
   "outputs": [
    {
     "data": {
      "image/png": "[encoded data removed]",
      "text/plain": [
       "<matplotlib.figure.Figure at 0x1136469b0>"
      ]
     },
     "metadata": {},
     "output_type": "display_data"
    }
   ],
   "source": [
    "seven(3)"
   ]
  },
  {
   "cell_type": "code",
   "execution_count": 110,
   "metadata": {
    "collapsed": false
   },
   "outputs": [
    {
     "data": {
      "text/plain": [
       "{' ': [],\n",
       " '0': ['a', 'b', 'c', 'd', 'e', 'f'],\n",
       " '1': ['b', 'c'],\n",
       " '2': ['a', 'b', 'd', 'e', 'g'],\n",
       " '3': ['a', 'b', 'c', 'd', 'g'],\n",
       " '4': ['b', 'c', 'f', 'g'],\n",
       " '5': ['a', 'c', 'd', 'f', 'g'],\n",
       " '6': ['a', 'c', 'd', 'e', 'f', 'g'],\n",
       " '7': ['a', 'b', 'c'],\n",
       " '8': ['a', 'b', 'c', 'd', 'e', 'f', 'g'],\n",
       " '9': ['a', 'b', 'c', 'd', 'f', 'g']}"
      ]
     },
     "execution_count": 110,
     "metadata": {},
     "output_type": "execute_result"
    }
   ],
   "source": [
    "# i don't like the above representation, find it hard to read\n",
    "# so, i will convert to something i find more user friendly\n",
    "# now i can easily see which segments to turn on\n",
    "\n",
    "import string\n",
    "   \n",
    "alpha = {}\n",
    "\n",
    "for key in segs.keys():\n",
    "    val = segs[key]\n",
    "    seglist = [a for a,n in zip(string.ascii_lowercase, val) if n]\n",
    "    alpha[key] = seglist\n",
    "        \n",
    "alpha"
   ]
  },
  {
   "cell_type": "code",
   "execution_count": 111,
   "metadata": {
    "collapsed": false
   },
   "outputs": [
    {
     "data": {
      "text/plain": [
       "{' ': (0, 0, 0, 0, 0, 0, 0),\n",
       " '0': (1, 1, 1, 1, 1, 1, 0),\n",
       " '1': (0, 1, 1, 0, 0, 0, 0),\n",
       " '2': (1, 1, 0, 1, 1, 0, 1),\n",
       " '3': (1, 1, 1, 1, 0, 0, 1),\n",
       " '4': (0, 1, 1, 0, 0, 1, 1),\n",
       " '5': (1, 0, 1, 1, 0, 1, 1),\n",
       " '6': (1, 0, 1, 1, 1, 1, 1),\n",
       " '7': (1, 1, 1, 0, 0, 0, 0),\n",
       " '8': (1, 1, 1, 1, 1, 1, 1),\n",
       " '9': (1, 1, 1, 1, 0, 1, 1)}"
      ]
     },
     "execution_count": 111,
     "metadata": {},
     "output_type": "execute_result"
    }
   ],
   "source": [
    "segs"
   ]
  },
  {
   "cell_type": "code",
   "execution_count": null,
   "metadata": {
    "collapsed": false
   },
   "outputs": [],
   "source": [
    "from IPython.display import Image\n",
    "\n",
    "Image('https://upload.wikimedia.org/wikipedia/commons/thumb/0/02/7_segment_display_labeled.svg/300px-7_segment_display_labeled.svg.png')"
   ]
  },
  {
   "cell_type": "code",
   "execution_count": null,
   "metadata": {
    "collapsed": false
   },
   "outputs": [],
   "source": [
    "# each segment is 1 long\n",
    "# origin is at lower left\n",
    "\n",
    "def seven2(digit):\n",
    "    digit = str(digit)\n",
    "    for seg in alpha[digit]:\n",
    "        # optimize if's?\n",
    "        if seg == 'a':\n",
    "            # define line with two points\n",
    "            pts = [[0,2], [1,2]]\n",
    "        if seg == 'b':\n",
    "            pts = [[1,1], [1,2]]\n",
    "        if seg == 'c':\n",
    "            pts = [[1,0], [1,1]]\n",
    "        if seg == 'd':\n",
    "            pts = [[0,0], [1,0]]\n",
    "        if seg == 'e':\n",
    "            pts = [[0,0],[0,1]]\n",
    "        if seg == 'f':\n",
    "            pts = [[0,1],[0,2]]\n",
    "        if seg == 'g':\n",
    "            pts = [[0,1],[1,1]]\n",
    "        pt1,pt2 = pts\n",
    "        x = [pt1[0]*.5, pt2[0]*.5]\n",
    "        y = [pt1[1], pt2[1]]\n",
    "        plt.plot(x, y, linewidth=40, color='r')\n",
    "    # trick to fix aspect ratio\n",
    "    plt.plot([1,1], [0,1])"
   ]
  },
  {
   "cell_type": "code",
   "execution_count": null,
   "metadata": {
    "collapsed": false
   },
   "outputs": [],
   "source": [
    "seven2(3)"
   ]
  },
  {
   "cell_type": "code",
   "execution_count": null,
   "metadata": {
    "collapsed": true
   },
   "outputs": [],
   "source": [
    "# each segment is 1 long\n",
    "# origin is at lower left\n",
    "\n",
    "ptsd = dict()\n",
    "ptsd['a'] = [[0,2], [1,2]]\n",
    "ptsd['b'] = [[1,1], [1,2]]\n",
    "ptsd['c'] = [[1,0], [1,1]]\n",
    "ptsd['d'] = [[0,0], [1,0]]\n",
    "ptsd['e'] = [[0,0],[0,1]]\n",
    "ptsd['f'] = [[0,1],[0,2]]\n",
    "ptsd['g'] = [[0,1],[1,1]]\n",
    "\n",
    "def seven3(digit):\n",
    "    digit = str(digit)\n",
    "    for seg in alpha[digit]:\n",
    "        pts = ptsd[seg]\n",
    "        pt1,pt2 = pts\n",
    "        x = [pt1[0]*.5, pt2[0]*.5]\n",
    "        y = [pt1[1], pt2[1]]\n",
    "        plt.plot(x, y, linewidth=40, color='r')\n",
    "    # trick to fix aspect ratio\n",
    "    plt.plot([1,1], [0,1])"
   ]
  },
  {
   "cell_type": "code",
   "execution_count": null,
   "metadata": {
    "collapsed": false
   },
   "outputs": [],
   "source": [
    "seven3(2)"
   ]
  },
  {
   "cell_type": "code",
   "execution_count": null,
   "metadata": {
    "collapsed": false
   },
   "outputs": [],
   "source": [
    "seven3(3)"
   ]
  },
  {
   "cell_type": "code",
   "execution_count": null,
   "metadata": {
    "collapsed": false
   },
   "outputs": [],
   "source": [
    "seven3(5)"
   ]
  },
  {
   "cell_type": "markdown",
   "metadata": {},
   "source": [
    "# Change of a dollar"
   ]
  },
  {
   "cell_type": "code",
   "execution_count": null,
   "metadata": {
    "collapsed": true
   },
   "outputs": [],
   "source": [
    "# saving state in globals - ok for small/informal programs,\n",
    "# but later we will see how to make a class\n",
    "# note coins is a tuple, since the value of each \n",
    "# coin type never changes\n",
    "\n",
    "coins = (25, 10, 5, 1)\n",
    "coinInventory = [2, 3, 10, 7]\n",
    "\n",
    "def change(price):\n",
    "    owe = 100 - price\n",
    "    ans = [0]*len(coins)\n",
    "    for j in range(len(coins)):\n",
    "        cval = coins[j]\n",
    "        cinv = coinInventory[j]\n",
    "        cnt = owe // cval \n",
    "        cnt = min(cnt, cinv)\n",
    "        ans[j] = cnt\n",
    "        coinInventory[j] -= cnt\n",
    "        owe -= cnt * cval\n",
    "        if owe == 0:\n",
    "            break\n",
    "    # return amount still owed, if any\n",
    "    # coins returned\n",
    "    # coins left in inventory\n",
    "    return [owe,ans,coinInventory]\n",
    "    \n",
    " "
   ]
  },
  {
   "cell_type": "code",
   "execution_count": null,
   "metadata": {
    "collapsed": false
   },
   "outputs": [],
   "source": [
    "change(74)"
   ]
  },
  {
   "cell_type": "code",
   "execution_count": null,
   "metadata": {
    "collapsed": false
   },
   "outputs": [],
   "source": [
    "change(74)"
   ]
  },
  {
   "cell_type": "code",
   "execution_count": null,
   "metadata": {
    "collapsed": false
   },
   "outputs": [],
   "source": [
    "change(74)"
   ]
  },
  {
   "cell_type": "code",
   "execution_count": null,
   "metadata": {
    "collapsed": false
   },
   "outputs": [],
   "source": [
    "change(74)"
   ]
  },
  {
   "cell_type": "code",
   "execution_count": null,
   "metadata": {
    "collapsed": false
   },
   "outputs": [],
   "source": [
    "change(74)"
   ]
  },
  {
   "cell_type": "code",
   "execution_count": null,
   "metadata": {
    "collapsed": false
   },
   "outputs": [],
   "source": [
    "# ran out of coins\n",
    "\n",
    "change(74)"
   ]
  },
  {
   "cell_type": "code",
   "execution_count": null,
   "metadata": {
    "collapsed": true
   },
   "outputs": [],
   "source": []
  }
 ],
 "metadata": {
  "anaconda-cloud": {},
  "kernelspec": {
   "display_name": "Python [conda root]",
   "language": "python",
   "name": "conda-root-py"
  },
  "language_info": {
   "codemirror_mode": {
    "name": "ipython",
    "version": 3
   },
   "file_extension": ".py",
   "mimetype": "text/x-python",
   "name": "python",
   "nbconvert_exporter": "python",
   "pygments_lexer": "ipython3",
   "version": "3.5.2"
  }
 },
 "nbformat": 4,
 "nbformat_minor": 0
}
