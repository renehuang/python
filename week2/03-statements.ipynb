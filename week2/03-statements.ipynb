{
 "cells": [
  {
   "cell_type": "markdown",
   "metadata": {},
   "source": [
    "# Python Statements and Predicates\n",
    "\n",
    "# Assignment\n",
    "+ variables hold arbitrary object references\n",
    "+ objects have a type, variables do not\n",
    "- in languages like Java/C++, variables are 'created' by declaring them\n",
    "- in Python, variables are created by assignment\n",
    "- value(right hand side) is not printed by the read-eval-print loop"
   ]
  },
  {
   "cell_type": "code",
   "execution_count": 1,
   "metadata": {
    "collapsed": false
   },
   "outputs": [],
   "source": [
    "# x gets a reference to the object generated \n",
    "# by the expression on the right hand side\n",
    "# value of x is not printed\n",
    "\n",
    "x = list(range(5))"
   ]
  },
  {
   "cell_type": "code",
   "execution_count": 2,
   "metadata": {
    "collapsed": false
   },
   "outputs": [
    {
     "data": {
      "text/plain": [
       "[0, 1, 2, 3, 4]"
      ]
     },
     "execution_count": 2,
     "metadata": {},
     "output_type": "execute_result"
    }
   ],
   "source": [
    "# have to 'eval' x to see what object it refers to\n",
    "\n",
    "x"
   ]
  },
  {
   "cell_type": "code",
   "execution_count": 6,
   "metadata": {
    "collapsed": true
   },
   "outputs": [],
   "source": [
    "# y gets a reference to the object that x refers to\n",
    "\n",
    "y = x"
   ]
  },
  {
   "cell_type": "code",
   "execution_count": 7,
   "metadata": {
    "collapsed": false
   },
   "outputs": [
    {
     "data": {
      "text/plain": [
       "[[0, 1, 2, 3, 4], [0, 1, 2, 3, 4], True, True]"
      ]
     },
     "execution_count": 7,
     "metadata": {},
     "output_type": "execute_result"
    }
   ],
   "source": [
    "# 'x is y ' predicate - are x & y refering to the same object?\n",
    "# 'x == y'  predicate - are x & y 'equivalent'?\n",
    "\n",
    "[x, y, x is y, x == y]"
   ]
  },
  {
   "cell_type": "code",
   "execution_count": 8,
   "metadata": {
    "collapsed": false
   },
   "outputs": [
    {
     "data": {
      "text/plain": [
       "[0, 1, 2, 3, 4]"
      ]
     },
     "execution_count": 8,
     "metadata": {},
     "output_type": "execute_result"
    }
   ],
   "source": [
    "# y gets a new list object\n",
    "\n",
    "y = list(range(5))\n",
    "y"
   ]
  },
  {
   "cell_type": "code",
   "execution_count": 9,
   "metadata": {
    "collapsed": false
   },
   "outputs": [
    {
     "data": {
      "text/plain": [
       "[[0, 1, 2, 3, 4], [0, 1, 2, 3, 4], False, True]"
      ]
     },
     "execution_count": 9,
     "metadata": {},
     "output_type": "execute_result"
    }
   ],
   "source": [
    "# now x and y point to different objects that are equivalent\n",
    "\n",
    "[x,y, x is y, x == y]"
   ]
  },
  {
   "cell_type": "markdown",
   "metadata": {},
   "source": [
    "## Unpacking"
   ]
  },
  {
   "cell_type": "code",
   "execution_count": 10,
   "metadata": {
    "collapsed": false
   },
   "outputs": [
    {
     "data": {
      "text/plain": [
       "[1, 2, 3]"
      ]
     },
     "execution_count": 10,
     "metadata": {},
     "output_type": "execute_result"
    }
   ],
   "source": [
    "# can do several assignments in one statement\n",
    "\n",
    "x, y, z = 1, 2, 3\n",
    "[x, y, z]"
   ]
  },
  {
   "cell_type": "code",
   "execution_count": 11,
   "metadata": {
    "collapsed": false
   },
   "outputs": [
    {
     "data": {
      "text/plain": [
       "[4, 5, 6]"
      ]
     },
     "execution_count": 11,
     "metadata": {},
     "output_type": "execute_result"
    }
   ],
   "source": [
    "# same as above \n",
    "\n",
    "(x,y,z) = (4,5,6)\n",
    "[x,y,z]"
   ]
  },
  {
   "cell_type": "code",
   "execution_count": 12,
   "metadata": {
    "collapsed": false
   },
   "outputs": [
    {
     "data": {
      "text/plain": [
       "[7, 8, 9]"
      ]
     },
     "execution_count": 12,
     "metadata": {},
     "output_type": "execute_result"
    }
   ],
   "source": [
    "# works with lists as well\n",
    "\n",
    "[x, [y, z]] = [7,[8,9]]\n",
    "\n",
    "[x, y, z]"
   ]
  },
  {
   "cell_type": "code",
   "execution_count": 13,
   "metadata": {
    "collapsed": false
   },
   "outputs": [
    {
     "data": {
      "text/plain": [
       "[8, 7]"
      ]
     },
     "execution_count": 13,
     "metadata": {},
     "output_type": "execute_result"
    }
   ],
   "source": [
    "# unpacking happens 'in parallel' \n",
    "# don't need tmps to do 'swaps'\n",
    "\n",
    "y, x = x, y\n",
    "[x, y]"
   ]
  },
  {
   "cell_type": "code",
   "execution_count": 14,
   "metadata": {
    "collapsed": false
   },
   "outputs": [
    {
     "ename": "ValueError",
     "evalue": "too many values to unpack (expected 2)",
     "output_type": "error",
     "traceback": [
      "\u001b[0;31m---------------------------------------------------------------------------\u001b[0m",
      "\u001b[0;31mValueError\u001b[0m                                Traceback (most recent call last)",
      "\u001b[0;32m<ipython-input-14-45569d1bc41f>\u001b[0m in \u001b[0;36m<module>\u001b[0;34m()\u001b[0m\n\u001b[1;32m      1\u001b[0m \u001b[0;31m# if left and right side don't match, will get an error\u001b[0m\u001b[0;34m\u001b[0m\u001b[0;34m\u001b[0m\u001b[0m\n\u001b[1;32m      2\u001b[0m \u001b[0;34m\u001b[0m\u001b[0m\n\u001b[0;32m----> 3\u001b[0;31m \u001b[0mx\u001b[0m\u001b[0;34m,\u001b[0m\u001b[0my\u001b[0m \u001b[0;34m=\u001b[0m \u001b[0;36m1\u001b[0m\u001b[0;34m,\u001b[0m\u001b[0;36m2\u001b[0m\u001b[0;34m,\u001b[0m\u001b[0;36m3\u001b[0m\u001b[0;34m\u001b[0m\u001b[0m\n\u001b[0m",
      "\u001b[0;31mValueError\u001b[0m: too many values to unpack (expected 2)"
     ]
    }
   ],
   "source": [
    "# if left and right side don't match, will get an error\n",
    "\n",
    "x,y = 1,2,3"
   ]
  },
  {
   "cell_type": "code",
   "execution_count": 15,
   "metadata": {
    "collapsed": false
   },
   "outputs": [
    {
     "data": {
      "text/plain": [
       "[1, [2, 3, 4]]"
      ]
     },
     "execution_count": 15,
     "metadata": {},
     "output_type": "execute_result"
    }
   ],
   "source": [
    "# *var will match an arbitrary number of elements, including zero\n",
    "\n",
    "head, *tail = [1,2,3,4]\n",
    "[head, tail]"
   ]
  },
  {
   "cell_type": "code",
   "execution_count": 16,
   "metadata": {
    "collapsed": false
   },
   "outputs": [
    {
     "data": {
      "text/plain": [
       "[1, [2]]"
      ]
     },
     "execution_count": 16,
     "metadata": {},
     "output_type": "execute_result"
    }
   ],
   "source": [
    "head, *tail = [1,2]\n",
    "[head, tail]"
   ]
  },
  {
   "cell_type": "code",
   "execution_count": 17,
   "metadata": {
    "collapsed": false
   },
   "outputs": [
    {
     "data": {
      "text/plain": [
       "[1, [2, 3, 4], 5]"
      ]
     },
     "execution_count": 17,
     "metadata": {},
     "output_type": "execute_result"
    }
   ],
   "source": [
    "x, *y, z = [1,2,3,4,5]\n",
    "[x,y,z]"
   ]
  },
  {
   "cell_type": "markdown",
   "metadata": {},
   "source": [
    "# Statement Blocks\n",
    "+ some statements, like 'if', 'for', 'while' and 'def', 'class', 'try' end with a ':' to mark a new block\n",
    "+ subsequent statements in the block must be indented\n",
    "+ the block ends when the indenting reverts to the previous level\n",
    "- in other words, python demarcates \"statement blocks\" by indentation. Java/C++ uses '{' '}'\n",
    "- indentation must be correct, or program will either be incorrect, or not run at all"
   ]
  },
  {
   "cell_type": "markdown",
   "metadata": {},
   "source": [
    "# if\n",
    "+ unlike C++/Java, Python doesn't require parens around the predicate\n",
    "- elif, else claues are optional\n",
    "- elif is used to \"chain\" if's (no switch statement in Python)\n",
    "- else clause is executed if all predicates fail\n",
    "- Python doesn't have a 'switch' statement - use if like example below"
   ]
  },
  {
   "cell_type": "code",
   "execution_count": 18,
   "metadata": {
    "collapsed": false
   },
   "outputs": [
    {
     "name": "stdout",
     "output_type": "stream",
     "text": [
      "flag == 1\n",
      "end of indent ends if statement\n"
     ]
    }
   ],
   "source": [
    "# note \":\" at end of if, elif, else\n",
    "# note identing of print statements\n",
    "\n",
    "flag = 1\n",
    "\n",
    "if flag == 1:\n",
    "    # this clause will be executed\n",
    "    print('flag == 1')\n",
    "elif flag == 2:\n",
    "    print('flag == 2')\n",
    "elif flag == 3:\n",
    "    print('flag == 3')\n",
    "else:\n",
    "    print(\"flag didn't == 1 or 2 or 3\")\n",
    "print('end of indent ends if statement')"
   ]
  },
  {
   "cell_type": "code",
   "execution_count": 19,
   "metadata": {
    "collapsed": false
   },
   "outputs": [
    {
     "name": "stdout",
     "output_type": "stream",
     "text": [
      "flag == 2\n",
      "end of indent ends if statement\n"
     ]
    }
   ],
   "source": [
    "flag = 2\n",
    "\n",
    "if flag == 1:\n",
    "    print('flag == 1')\n",
    "elif flag == 2:\n",
    "    # this clause will be executed\n",
    "    print('flag == 2')\n",
    "elif flag == 3:\n",
    "    print('flag == 3')\n",
    "else:\n",
    "    print(\"flag didn't == 1 or 2 or 3\")\n",
    "print('end of indent ends if statement')"
   ]
  },
  {
   "cell_type": "code",
   "execution_count": 20,
   "metadata": {
    "collapsed": false
   },
   "outputs": [
    {
     "name": "stdout",
     "output_type": "stream",
     "text": [
      "flag didn't == 1 or 2 or 3\n",
      "end of indent ends if statement\n"
     ]
    }
   ],
   "source": [
    "flag = 134\n",
    "\n",
    "if flag == 1:\n",
    "    print('flag == 1')\n",
    "elif flag == 2:\n",
    "    print('flag == 2')\n",
    "elif flag == 3:\n",
    "    print('flag == 3')\n",
    "else:\n",
    "    # this 'default clause' will be executed\n",
    "    print(\"flag didn't == 1 or 2 or 3\")\n",
    "print('end of indent ends if statement')"
   ]
  },
  {
   "cell_type": "markdown",
   "metadata": {},
   "source": [
    "# Example: decrypt\n"
   ]
  },
  {
   "cell_type": "code",
   "execution_count": 21,
   "metadata": {
    "collapsed": true
   },
   "outputs": [],
   "source": [
    "# this version uses 'if' statement\n",
    "\n",
    "def decrypt(s):\n",
    "    words = []\n",
    "    for j in range(len(s)):\n",
    "        if s[j].isdigit():\n",
    "            wlen = int(s[j])\n",
    "            words.append(s[j+1:j+1+wlen])\n",
    "    return words  "
   ]
  },
  {
   "cell_type": "code",
   "execution_count": 22,
   "metadata": {
    "collapsed": false
   },
   "outputs": [
    {
     "data": {
      "text/plain": [
       "['Python', 'is', 'really', 'great!']"
      ]
     },
     "execution_count": 22,
     "metadata": {},
     "output_type": "execute_result"
    }
   ],
   "source": [
    "e = '{SVIu6Python-)dKct@\\\\JK)2is:y:=;;~6reallyMZ-&Bk`*6great!NB!|Krj##'\n",
    "decrypt(e)"
   ]
  },
  {
   "cell_type": "markdown",
   "metadata": {},
   "source": [
    "# Ternary if\n",
    "- very useful\n",
    "- unlike normal if, it is an expression, not a statement, so it returns a value\n",
    "- like 'pred ? TrueVal : FalseVal' in Java/C/C++\n",
    "- peculiar syntax"
   ]
  },
  {
   "cell_type": "code",
   "execution_count": 23,
   "metadata": {
    "collapsed": false
   },
   "outputs": [
    {
     "data": {
      "text/plain": [
       "'true val'"
      ]
     },
     "execution_count": 23,
     "metadata": {},
     "output_type": "execute_result"
    }
   ],
   "source": [
    "predicate = True\n",
    "\n",
    "val = 'true val' if predicate else 'false val'\n",
    "val"
   ]
  },
  {
   "cell_type": "code",
   "execution_count": 24,
   "metadata": {
    "collapsed": false
   },
   "outputs": [
    {
     "data": {
      "text/plain": [
       "'false val'"
      ]
     },
     "execution_count": 24,
     "metadata": {},
     "output_type": "execute_result"
    }
   ],
   "source": [
    "predicate = False\n",
    "\n",
    "val = 'true val' if predicate  else 'false val'\n",
    "val"
   ]
  },
  {
   "cell_type": "markdown",
   "metadata": {},
   "source": [
    "# for\n",
    "- basic way to iterate, but not always the best\n",
    "- iterates over the elements of a list\n",
    "- later we will learn about the \"iteration protocol\"\n",
    "- note \":\" and indentation"
   ]
  },
  {
   "cell_type": "code",
   "execution_count": 25,
   "metadata": {
    "collapsed": false
   },
   "outputs": [
    {
     "name": "stdout",
     "output_type": "stream",
     "text": [
      "3\n",
      "13\n",
      "6\n",
      "16\n",
      "7\n",
      "17\n",
      "2\n",
      "12\n"
     ]
    }
   ],
   "source": [
    "for x in [3,6,7,2]:\n",
    "    # body of the for \n",
    "    print(x)\n",
    "    print(x+10)"
   ]
  },
  {
   "cell_type": "markdown",
   "metadata": {},
   "source": [
    "# 'for' helper functions\n",
    "- 'range'\n",
    "- 'enumerate'\n",
    "- 'zip'"
   ]
  },
  {
   "cell_type": "code",
   "execution_count": 26,
   "metadata": {
    "collapsed": false
   },
   "outputs": [
    {
     "name": "stdout",
     "output_type": "stream",
     "text": [
      "element 2\n",
      "element 4\n",
      "element 6\n",
      "sum 12\n"
     ]
    }
   ],
   "source": [
    "# range - 'for' will iterate over list specified by range\n",
    "\n",
    "sum = 0\n",
    "\n",
    "for n in range(2, 7, 2):\n",
    "    print('element', n)\n",
    "    sum += n\n",
    "\n",
    "print('sum',sum)\n"
   ]
  },
  {
   "cell_type": "code",
   "execution_count": 27,
   "metadata": {
    "collapsed": false
   },
   "outputs": [
    {
     "data": {
      "text/plain": [
       "<enumerate at 0x106cdf990>"
      ]
     },
     "execution_count": 27,
     "metadata": {},
     "output_type": "execute_result"
    }
   ],
   "source": [
    "# if you are iterating over an arbitrary list, \n",
    "# as opposed to a range, there is no index\n",
    "# 'enumerate' adds an index \n",
    "\n",
    "x = ['mudd', 'shapiro', 'butler']\n",
    "enumerate(x)"
   ]
  },
  {
   "cell_type": "code",
   "execution_count": 28,
   "metadata": {
    "collapsed": false
   },
   "outputs": [
    {
     "data": {
      "text/plain": [
       "[(0, 'mudd'), (1, 'shapiro'), (2, 'butler')]"
      ]
     },
     "execution_count": 28,
     "metadata": {},
     "output_type": "execute_result"
    }
   ],
   "source": [
    "# enumerate is lazy! \n",
    "# use list to force evaluation\n",
    "# get a length 3 list where each element is a length 2 tuple\n",
    "\n",
    "list(enumerate(x))"
   ]
  },
  {
   "cell_type": "code",
   "execution_count": 29,
   "metadata": {
    "collapsed": false
   },
   "outputs": [
    {
     "name": "stdout",
     "output_type": "stream",
     "text": [
      "0 mudd\n",
      "1 shapiro\n",
      "2 butler\n"
     ]
    }
   ],
   "source": [
    "# note 'j, b' - destructures the length 2 tuples\n",
    "\n",
    "for j, b in enumerate(x):\n",
    "    print(j, b)"
   ]
  },
  {
   "cell_type": "code",
   "execution_count": 30,
   "metadata": {
    "collapsed": false
   },
   "outputs": [
    {
     "data": {
      "text/plain": [
       "['mudd', 'shapiro', 'butler']"
      ]
     },
     "execution_count": 30,
     "metadata": {},
     "output_type": "execute_result"
    }
   ],
   "source": [
    "x"
   ]
  },
  {
   "cell_type": "code",
   "execution_count": 31,
   "metadata": {
    "collapsed": false
   },
   "outputs": [
    {
     "data": {
      "text/plain": [
       "[(0, 'mudd', 'engineering'),\n",
       " (1, 'shapiro', 'compsci'),\n",
       " (2, 'butler', 'library')]"
      ]
     },
     "execution_count": 31,
     "metadata": {},
     "output_type": "execute_result"
    }
   ],
   "source": [
    "# sometimes you want to iterate thru two or more lists simultaneously\n",
    "# 'zip' - threads lists together. 'zip' is lazy\n",
    "# another list of tuples\n",
    "\n",
    "r = range(3)\n",
    "y = ['engineering', 'compsci', 'library']\n",
    "list(zip(r, x, y))"
   ]
  },
  {
   "cell_type": "code",
   "execution_count": 32,
   "metadata": {
    "collapsed": false
   },
   "outputs": [
    {
     "name": "stdout",
     "output_type": "stream",
     "text": [
      "0 mudd engineering\n",
      "1 shapiro compsci\n",
      "2 butler library\n"
     ]
    }
   ],
   "source": [
    "# index, name, func destructures the tuples\n",
    "\n",
    "for index, name, func in zip(r, x, y):\n",
    "    print(index, name, func)"
   ]
  },
  {
   "cell_type": "code",
   "execution_count": 33,
   "metadata": {
    "collapsed": false
   },
   "outputs": [
    {
     "data": {
      "text/plain": [
       "[(0, ('mudd', 'engineering')),\n",
       " (1, ('shapiro', 'compsci')),\n",
       " (2, ('butler', 'library'))]"
      ]
     },
     "execution_count": 33,
     "metadata": {},
     "output_type": "execute_result"
    }
   ],
   "source": [
    "# mix it up\n",
    "\n",
    "list(enumerate(zip(x, y)))"
   ]
  },
  {
   "cell_type": "code",
   "execution_count": 34,
   "metadata": {
    "collapsed": false
   },
   "outputs": [
    {
     "name": "stdout",
     "output_type": "stream",
     "text": [
      "0 ('mudd', 'engineering')\n",
      "1 ('shapiro', 'compsci')\n",
      "2 ('butler', 'library')\n"
     ]
    }
   ],
   "source": [
    "# 'p' is bound to the 2 element tuple from the zip\n",
    "\n",
    "for j, p in enumerate(zip(x, y)):\n",
    "    print(j, p)"
   ]
  },
  {
   "cell_type": "code",
   "execution_count": 35,
   "metadata": {
    "collapsed": false
   },
   "outputs": [
    {
     "name": "stdout",
     "output_type": "stream",
     "text": [
      "0 mudd engineering\n",
      "1 shapiro compsci\n",
      "2 butler library\n"
     ]
    }
   ],
   "source": [
    "# directly match the structure\n",
    "\n",
    "for j,[a,b] in enumerate(zip(x, y)):\n",
    "    print(j, a, b )"
   ]
  },
  {
   "cell_type": "markdown",
   "metadata": {},
   "source": [
    "# Set Comprehensions"
   ]
  },
  {
   "cell_type": "code",
   "execution_count": 36,
   "metadata": {
    "collapsed": false
   },
   "outputs": [
    {
     "data": {
      "text/plain": [
       "{110, 140}"
      ]
     },
     "execution_count": 36,
     "metadata": {},
     "output_type": "execute_result"
    }
   ],
   "source": [
    "# accumulate to a set\n",
    "# 'add' to a set, not 'append'\n",
    "# duplicates eliminated\n",
    "\n",
    "result = set()\n",
    "for x in [3,11,2,3,11,14]:\n",
    "    if x > 10:\n",
    "        result.add(x*10)\n",
    "result"
   ]
  },
  {
   "cell_type": "code",
   "execution_count": 37,
   "metadata": {
    "collapsed": false
   },
   "outputs": [
    {
     "data": {
      "text/plain": [
       "[{110, 140}, set]"
      ]
     },
     "execution_count": 37,
     "metadata": {},
     "output_type": "execute_result"
    }
   ],
   "source": [
    "# better - use a 'set comprehension'\n",
    "\n",
    "s = {x*10 for x in [3,11,2,3,11,14] if x>10}\n",
    "[s, type(s)]"
   ]
  },
  {
   "cell_type": "markdown",
   "metadata": {},
   "source": [
    "# Dict comprehensions"
   ]
  },
  {
   "cell_type": "code",
   "execution_count": 38,
   "metadata": {
    "collapsed": false
   },
   "outputs": [
    {
     "data": {
      "text/plain": [
       "{0: 10, 1: 11, 2: 12, 3: 13, 4: 14}"
      ]
     },
     "execution_count": 38,
     "metadata": {},
     "output_type": "execute_result"
    }
   ],
   "source": [
    "d = {}\n",
    "\n",
    "for x in range(5):\n",
    "    d[x] = x+10\n",
    "\n",
    "d"
   ]
  },
  {
   "cell_type": "code",
   "execution_count": 39,
   "metadata": {
    "collapsed": false
   },
   "outputs": [
    {
     "data": {
      "text/plain": [
       "{0: 10, 1: 11, 2: 12, 3: 13, 4: 14}"
      ]
     },
     "execution_count": 39,
     "metadata": {},
     "output_type": "execute_result"
    }
   ],
   "source": [
    "# dict comprehension\n",
    "\n",
    "{x:x+10 for x in range(5)}"
   ]
  },
  {
   "cell_type": "markdown",
   "metadata": {},
   "source": [
    "# while\n",
    "+ used for more complex loops that\n",
    "depend on arbitrary conditions to \n",
    "terminate\n",
    "- 'break' and 'continue' work in for/while loops\n",
    "-  Python does not have var++, ++var, var--, --var"
   ]
  },
  {
   "cell_type": "code",
   "execution_count": 40,
   "metadata": {
    "collapsed": false
   },
   "outputs": [
    {
     "name": "stdout",
     "output_type": "stream",
     "text": [
      "0\n",
      "1\n",
      "2\n",
      "3\n",
      "4\n",
      "5\n",
      "6\n"
     ]
    }
   ],
   "source": [
    "n = 0\n",
    "while n < 7:\n",
    "    print(n)\n",
    "    n += 1"
   ]
  },
  {
   "cell_type": "code",
   "execution_count": 41,
   "metadata": {
    "collapsed": false
   },
   "outputs": [
    {
     "name": "stdout",
     "output_type": "stream",
     "text": [
      "1\n",
      "3\n",
      "4\n",
      "5\n"
     ]
    }
   ],
   "source": [
    "n = 0\n",
    "while n < 7:\n",
    "    n += 1\n",
    "    if n == 2:\n",
    "        continue\n",
    "    print(n)\n",
    "    if n > 4:\n",
    "        break"
   ]
  },
  {
   "cell_type": "code",
   "execution_count": 42,
   "metadata": {
    "collapsed": true
   },
   "outputs": [],
   "source": [
    "# proposed in 1937 \n",
    "# conjecture is the sequence always \n",
    "# terminates in 1, but nobody has \n",
    "# been able to prove it\n",
    "\n",
    "def collatz(n):\n",
    "    seq = [n]\n",
    "    # keep looping until we get 1\n",
    "    while n != 1:\n",
    "        if n % 2 == 0:\n",
    "            n = n//2\n",
    "        else:\n",
    "            n = 3*n + 1\n",
    "        seq.append(n)\n",
    "    return seq\n"
   ]
  },
  {
   "cell_type": "code",
   "execution_count": 43,
   "metadata": {
    "collapsed": false
   },
   "outputs": [
    {
     "data": {
      "text/plain": [
       "[6, 3, 10, 5, 16, 8, 4, 2, 1]"
      ]
     },
     "execution_count": 43,
     "metadata": {},
     "output_type": "execute_result"
    }
   ],
   "source": [
    "collatz(6)"
   ]
  },
  {
   "cell_type": "code",
   "execution_count": 44,
   "metadata": {
    "collapsed": false
   },
   "outputs": [
    {
     "data": {
      "text/plain": [
       "[19, 58, 29, 88, 44, 22, 11, 34, 17, 52, 26, 13, 40, 20, 10, 5, 16, 8, 4, 2, 1]"
      ]
     },
     "execution_count": 44,
     "metadata": {},
     "output_type": "execute_result"
    }
   ],
   "source": [
    "collatz(19)"
   ]
  },
  {
   "cell_type": "code",
   "execution_count": 45,
   "metadata": {
    "collapsed": false
   },
   "outputs": [
    {
     "name": "stdout",
     "output_type": "stream",
     "text": [
      "[27, 82, 41, 124, 62, 31, 94, 47, 142, 71, 214, 107, 322, 161, 484, 242, 121, 364, 182, 91, 274, 137, 412, 206, 103, 310, 155, 466, 233, 700, 350, 175, 526, 263, 790, 395, 1186, 593, 1780, 890, 445, 1336, 668, 334, 167, 502, 251, 754, 377, 1132, 566, 283, 850, 425, 1276, 638, 319, 958, 479, 1438, 719, 2158, 1079, 3238, 1619, 4858, 2429, 7288, 3644, 1822, 911, 2734, 1367, 4102, 2051, 6154, 3077, 9232, 4616, 2308, 1154, 577, 1732, 866, 433, 1300, 650, 325, 976, 488, 244, 122, 61, 184, 92, 46, 23, 70, 35, 106, 53, 160, 80, 40, 20, 10, 5, 16, 8, 4, 2, 1]\n"
     ]
    }
   ],
   "source": [
    "print(collatz(27))"
   ]
  },
  {
   "cell_type": "markdown",
   "metadata": {},
   "source": [
    "# del\n",
    "- used to 'delete' various things"
   ]
  },
  {
   "cell_type": "code",
   "execution_count": 46,
   "metadata": {
    "collapsed": false
   },
   "outputs": [
    {
     "data": {
      "text/plain": [
       "'foo'"
      ]
     },
     "execution_count": 46,
     "metadata": {},
     "output_type": "execute_result"
    }
   ],
   "source": [
    "# will remove a variable binding...\n",
    "\n",
    "x = 'foo'\n",
    "y = x\n",
    "x"
   ]
  },
  {
   "cell_type": "code",
   "execution_count": 47,
   "metadata": {
    "collapsed": false
   },
   "outputs": [
    {
     "ename": "NameError",
     "evalue": "name 'x' is not defined",
     "output_type": "error",
     "traceback": [
      "\u001b[0;31m---------------------------------------------------------------------------\u001b[0m",
      "\u001b[0;31mNameError\u001b[0m                                 Traceback (most recent call last)",
      "\u001b[0;32m<ipython-input-47-83adaf4e6389>\u001b[0m in \u001b[0;36m<module>\u001b[0;34m()\u001b[0m\n\u001b[1;32m      1\u001b[0m \u001b[0;32mdel\u001b[0m \u001b[0mx\u001b[0m\u001b[0;34m\u001b[0m\u001b[0m\n\u001b[1;32m      2\u001b[0m \u001b[0;34m\u001b[0m\u001b[0m\n\u001b[0;32m----> 3\u001b[0;31m \u001b[0mx\u001b[0m\u001b[0;34m\u001b[0m\u001b[0m\n\u001b[0m",
      "\u001b[0;31mNameError\u001b[0m: name 'x' is not defined"
     ]
    }
   ],
   "source": [
    "del x\n",
    "\n",
    "x"
   ]
  },
  {
   "cell_type": "code",
   "execution_count": 48,
   "metadata": {
    "collapsed": false
   },
   "outputs": [
    {
     "data": {
      "text/plain": [
       "'foo'"
      ]
     },
     "execution_count": 48,
     "metadata": {},
     "output_type": "execute_result"
    }
   ],
   "source": [
    "# but 'del' does NOT remove the object\n",
    "\n",
    "y"
   ]
  },
  {
   "cell_type": "code",
   "execution_count": 49,
   "metadata": {
    "collapsed": false
   },
   "outputs": [
    {
     "data": {
      "text/plain": [
       "{3: 33, 4: 44}"
      ]
     },
     "execution_count": 49,
     "metadata": {},
     "output_type": "execute_result"
    }
   ],
   "source": [
    "d = dict()\n",
    "d[3] = 33\n",
    "d[4] = 44\n",
    "d"
   ]
  },
  {
   "cell_type": "code",
   "execution_count": 50,
   "metadata": {
    "collapsed": false
   },
   "outputs": [
    {
     "data": {
      "text/plain": [
       "{4: 44}"
      ]
     },
     "execution_count": 50,
     "metadata": {},
     "output_type": "execute_result"
    }
   ],
   "source": [
    "# delete a key/value pair\n",
    "\n",
    "del d[3]\n",
    "d"
   ]
  },
  {
   "cell_type": "code",
   "execution_count": 51,
   "metadata": {
    "collapsed": false
   },
   "outputs": [
    {
     "data": {
      "text/plain": [
       "[0, 1, 2, 3, 4, 5, 6, 7, 8, 9]"
      ]
     },
     "execution_count": 51,
     "metadata": {},
     "output_type": "execute_result"
    }
   ],
   "source": [
    "x = list(range(10))\n",
    "x"
   ]
  },
  {
   "cell_type": "code",
   "execution_count": 52,
   "metadata": {
    "collapsed": false
   },
   "outputs": [
    {
     "data": {
      "text/plain": [
       "[0, 1, 2, 7, 8, 9]"
      ]
     },
     "execution_count": 52,
     "metadata": {},
     "output_type": "execute_result"
    }
   ],
   "source": [
    "# delete a slice from a list\n",
    "\n",
    "del x[3:7]\n",
    "x"
   ]
  },
  {
   "cell_type": "markdown",
   "metadata": {},
   "source": [
    "# pass\n",
    "- just a statement placeholder - does absolutely nothing"
   ]
  },
  {
   "cell_type": "code",
   "execution_count": 53,
   "metadata": {
    "collapsed": false
   },
   "outputs": [
    {
     "name": "stdout",
     "output_type": "stream",
     "text": [
      "got here\n"
     ]
    }
   ],
   "source": [
    "if True:\n",
    "    pass\n",
    "\n",
    "print('got here')"
   ]
  },
  {
   "cell_type": "markdown",
   "metadata": {},
   "source": [
    "# import\n",
    "- a module is a set of one or more files of python code\n",
    "- 'importing' a module loads that code into Python and makes that functionality available\n",
    "- similar to the Java package system\n",
    "- several types of imports\n",
    "- executable statement - not a declaration"
   ]
  },
  {
   "cell_type": "code",
   "execution_count": null,
   "metadata": {
    "collapsed": false
   },
   "outputs": [],
   "source": [
    "# 'choice' is a function in the 'random' module\n",
    "# but choice is not available, \n",
    "# because the module isn't loaded\n",
    "\n",
    "random.choice"
   ]
  },
  {
   "cell_type": "code",
   "execution_count": null,
   "metadata": {
    "collapsed": false
   },
   "outputs": [],
   "source": [
    "# this makes names in random available, but the names\n",
    "# must prefixed with 'random.'\n",
    "\n",
    "import random\n",
    "[random.choice, random.shuffle, random.sample]"
   ]
  },
  {
   "cell_type": "code",
   "execution_count": null,
   "metadata": {
    "collapsed": false
   },
   "outputs": [],
   "source": [
    "# choice still not defined without qualification\n",
    "\n",
    "choice"
   ]
  },
  {
   "cell_type": "code",
   "execution_count": null,
   "metadata": {
    "collapsed": false
   },
   "outputs": [],
   "source": [
    "# this makes in random available \n",
    "# using a shorter'nickname'\n",
    "\n",
    "import random as ran\n",
    "\n",
    "[ran.choice, ran.sample, ran.shuffle]"
   ]
  },
  {
   "cell_type": "code",
   "execution_count": null,
   "metadata": {
    "collapsed": false
   },
   "outputs": [],
   "source": [
    "# choice still is not defined at top level\n",
    "\n",
    "choice"
   ]
  },
  {
   "cell_type": "markdown",
   "metadata": {},
   "source": [
    "# from \n",
    "- imports names to top level"
   ]
  },
  {
   "cell_type": "code",
   "execution_count": null,
   "metadata": {
    "collapsed": false
   },
   "outputs": [],
   "source": [
    "# now don't need to say 'random.choice', just 'choice'\n",
    "\n",
    "from random import choice\n",
    "choice"
   ]
  },
  {
   "cell_type": "code",
   "execution_count": null,
   "metadata": {
    "collapsed": false
   },
   "outputs": [],
   "source": [
    "# another function name in random, still not defined\n",
    "# at top level\n",
    "\n",
    "shuffle"
   ]
  },
  {
   "cell_type": "code",
   "execution_count": null,
   "metadata": {
    "collapsed": false
   },
   "outputs": [],
   "source": [
    "# this puts all the names in random at top level\n",
    "\n",
    "from random import *\n",
    "[shuffle, choice, sample]"
   ]
  },
  {
   "cell_type": "markdown",
   "metadata": {},
   "source": [
    "# Generalized booleans\n",
    "- it is convenient to generalize what is considered to be True and False\n",
    "- None, 0, and empty collections(strings, lists, tuples, dictionaries, sets), are equivalent to False\n",
    "- Any other object is equivalent to True"
   ]
  },
  {
   "cell_type": "code",
   "execution_count": null,
   "metadata": {
    "collapsed": false
   },
   "outputs": [],
   "source": [
    "# list of things to try \n",
    "\n",
    "x = [0, 1, \"\", \"stuff\", {}, {3:5}, {3,5}, (), (1,2), None]\n",
    "\n",
    "for e in x:\n",
    "    # ternary if is an expression, \n",
    "    # so can be an arg to print\n",
    "    print(e, True if e else False)"
   ]
  },
  {
   "cell_type": "markdown",
   "metadata": {},
   "source": [
    "# short circuit evaluation of booleans\n",
    "- 'and' and 'or' do 'short circuit' evaluation\n",
    "- evaluation stops as soon as True/False value is known\n",
    "- note result is NOT always True or False"
   ]
  },
  {
   "cell_type": "code",
   "execution_count": null,
   "metadata": {
    "collapsed": false
   },
   "outputs": [],
   "source": [
    "# 'or' eval stops at first True value and returns it\n",
    "\n",
    "False or 0 or [] or 6 or 7"
   ]
  },
  {
   "cell_type": "code",
   "execution_count": null,
   "metadata": {
    "collapsed": false
   },
   "outputs": [],
   "source": [
    "# 'and' eval stops at first False value and returns it\n",
    "\n",
    "True and 5 and [3,4] and {} and 34 and 200"
   ]
  },
  {
   "cell_type": "markdown",
   "metadata": {
    "collapsed": true
   },
   "source": [
    "# Example: Filtering and modifying a list\n",
    "- dir returns a list of methods for a type\n",
    "- want to get rid of methods with a '__' in the name\n",
    "- want to capitalize remaining names"
   ]
  },
  {
   "cell_type": "code",
   "execution_count": null,
   "metadata": {
    "collapsed": false
   },
   "outputs": [],
   "source": [
    "# dir lists methods of a type. want to get rid of methods with a '__'(they are 'special')\n",
    "\n",
    "dir(list)"
   ]
  },
  {
   "cell_type": "code",
   "execution_count": null,
   "metadata": {
    "collapsed": false
   },
   "outputs": [],
   "source": [
    "# can filter and capitalize with single list comprehension\n",
    "\n",
    "[s.capitalize() for s in dir(list) if '_' not in s]"
   ]
  }
 ],
 "metadata": {
  "anaconda-cloud": {},
  "kernelspec": {
   "display_name": "Python [conda root]",
   "language": "python",
   "name": "conda-root-py"
  },
  "language_info": {
   "codemirror_mode": {
    "name": "ipython",
    "version": 3
   },
   "file_extension": ".py",
   "mimetype": "text/x-python",
   "name": "python",
   "nbconvert_exporter": "python",
   "pygments_lexer": "ipython3",
   "version": "3.5.2"
  }
 },
 "nbformat": 4,
 "nbformat_minor": 0
}
