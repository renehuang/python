{
 "cells": [
  {
   "cell_type": "code",
   "execution_count": 1,
   "metadata": {
    "collapsed": false
   },
   "outputs": [
    {
     "ename": "ImportError",
     "evalue": "No module named 'svgwrite'",
     "output_type": "error",
     "traceback": [
      "\u001b[0;31m---------------------------------------------------------------------------\u001b[0m",
      "\u001b[0;31mImportError\u001b[0m                               Traceback (most recent call last)",
      "\u001b[0;32m<ipython-input-1-90827a9f8d3b>\u001b[0m in \u001b[0;36m<module>\u001b[0;34m()\u001b[0m\n\u001b[1;32m      1\u001b[0m \u001b[1;31m# Ignore the code in this cell!!\u001b[0m\u001b[1;33m\u001b[0m\u001b[1;33m\u001b[0m\u001b[0m\n\u001b[1;32m      2\u001b[0m \u001b[1;33m\u001b[0m\u001b[0m\n\u001b[0;32m----> 3\u001b[0;31m \u001b[1;32mimport\u001b[0m \u001b[0msvgwrite\u001b[0m\u001b[1;33m\u001b[0m\u001b[0m\n\u001b[0m\u001b[1;32m      4\u001b[0m \u001b[1;32mimport\u001b[0m \u001b[0mcollections\u001b[0m\u001b[1;33m\u001b[0m\u001b[0m\n\u001b[1;32m      5\u001b[0m \u001b[1;33m\u001b[0m\u001b[0m\n",
      "\u001b[0;31mImportError\u001b[0m: No module named 'svgwrite'"
     ]
    }
   ],
   "source": [
    "# Ignore the code in this cell!!\n",
    "\n",
    "import svgwrite\n",
    "import collections\n",
    "\n",
    "nobinding = \"nobinding\"\n",
    "\n",
    "def binding(var):\n",
    "    try:\n",
    "        return eval(var)\n",
    "    except NameError:\n",
    "        return nobinding\n",
    "    \n",
    "class listis:\n",
    "    def __init__(self):\n",
    "        self.lis = []\n",
    "    def get(self, key):\n",
    "        for k,v in self.lis:\n",
    "            if key is k:\n",
    "                return v\n",
    "    def put(self, key, val):\n",
    "        new = True\n",
    "        for pair in self.lis:\n",
    "            if pair[0] is key:\n",
    "                pair[1].append(val)\n",
    "                new = False\n",
    "        if new:\n",
    "            self.lis.append([key, [val]])\n",
    "    def keys(self):\n",
    "        return [k for k,v in self.lis]\n",
    "\n",
    "class memgraph:\n",
    "    def __init__(self, vars):\n",
    "        self.vars = sorted(vars)\n",
    "        \n",
    "    def _repr_svg_(self):\n",
    "        d = svgwrite.Drawing(size=(800,200))\n",
    "\n",
    "        left = 100\n",
    "        right = 260\n",
    "        dy = 30\n",
    "        vv = listis()\n",
    "        ais = listis()\n",
    "        \n",
    "        for var in self.vars:\n",
    "            val = binding(var)\n",
    "            if val != nobinding:\n",
    "                vv.put(val,var)\n",
    "                ais.put(val, val)\n",
    "\n",
    "        vals = ais.keys()\n",
    "        vary = dict()\n",
    "        \n",
    "        y = dy\n",
    "        d.add(d.text(\"Variables\", insert=(left, y), text_anchor=\"end\", fill='blue'))\n",
    "        y += dy\n",
    "        \n",
    "        for var in self.vars:\n",
    "            d.add(d.text(var, insert=(left, y), text_anchor=\"end\", fill='black'))\n",
    "            vary[var] = y\n",
    "            y += dy\n",
    "\n",
    "        y = dy\n",
    "        d.add(d.text(\"Objects(in the Heap)\", insert=(right, y), fill='blue'))\n",
    "        y += dy\n",
    "        \n",
    "        for val in vals:\n",
    "            d.add(d.text(str(val), insert=(right, y), fill='black'))\n",
    "\n",
    "            for var in vv.get(val):\n",
    "                ly = vary[var]\n",
    "                d.add(d.line((left, ly ), (right, y),  stroke=svgwrite.rgb(90, 10, 16, '%')))\n",
    "            y += dy\n",
    "            \n",
    "        return d.tostring()\n",
    "\n",
    "    def svg(self):\n",
    "        return self._repr_svg_()\n",
    "\n"
   ]
  },
  {
   "cell_type": "markdown",
   "metadata": {},
   "source": [
    "# Class\n",
    "- classes define \"templates or blueprints\" for building objects\n",
    "- once a class is defined, any number of objects can be \"constructed\", or \"instantiated\"\n",
    "- everything in Python is an 'object'\n",
    "    - not true in Java/C++\n",
    "- all python objects 'live' in the 'heap'\n",
    "- each object has a fixed 'type', which can be accessed via the 'type' function\n",
    "- objects have attributes, which are \"named objects\"\n",
    "- a 'method' is an attribute holding a function object, which can access and modify the object attributes\n",
    "- class methods are invoked by functions, operators, and the \".\" syntax. examples below in 'List'"
   ]
  },
  {
   "cell_type": "markdown",
   "metadata": {},
   "source": [
    "# Numbers\n",
    "- int - arbitrary precision\n",
    "- float - 64 bits\n",
    "- complex\n"
   ]
  },
  {
   "cell_type": "code",
   "execution_count": 2,
   "metadata": {
    "collapsed": false
   },
   "outputs": [
    {
     "data": {
      "text/plain": [
       "1234"
      ]
     },
     "execution_count": 2,
     "metadata": {},
     "output_type": "execute_result"
    }
   ],
   "source": [
    "# numbers evaluate to themselves\n",
    "\n",
    "1234 # anything after a '#\" is a comment and ignored by Python"
   ]
  },
  {
   "cell_type": "code",
   "execution_count": 3,
   "metadata": {
    "collapsed": false
   },
   "outputs": [
    {
     "data": {
      "text/plain": [
       "4"
      ]
     },
     "execution_count": 3,
     "metadata": {},
     "output_type": "execute_result"
    }
   ],
   "source": [
    "# Python has the usual arithmetic operators\n",
    "\n",
    "3*4 - 2**3"
   ]
  },
  {
   "cell_type": "code",
   "execution_count": 4,
   "metadata": {
    "collapsed": false
   },
   "outputs": [
    {
     "data": {
      "text/plain": [
       "2.810413160023719"
      ]
     },
     "execution_count": 4,
     "metadata": {},
     "output_type": "execute_result"
    }
   ],
   "source": [
    "# a float \"contaminates\" an expression and \n",
    "# makes it a float\n",
    "\n",
    "3*4 - 2**3.2"
   ]
  },
  {
   "cell_type": "code",
   "execution_count": 149,
   "metadata": {
    "collapsed": false
   },
   "outputs": [
    {
     "data": {
      "text/plain": [
       "1809251394333065553493296640760748560207343510400633813116524750123642650624"
      ]
     },
     "execution_count": 149,
     "metadata": {},
     "output_type": "execute_result"
    }
   ],
   "source": [
    "# arbitrary precision integers\n",
    "# integer size limited only by available memory\n",
    "\n",
    "2**250"
   ]
  },
  {
   "cell_type": "code",
   "execution_count": 150,
   "metadata": {
    "collapsed": false
   },
   "outputs": [
    {
     "data": {
      "text/plain": [
       "int"
      ]
     },
     "execution_count": 150,
     "metadata": {},
     "output_type": "execute_result"
    }
   ],
   "source": [
    "# 'type' returns the type or class name of an object\n",
    "\n",
    "type(2**100)"
   ]
  },
  {
   "cell_type": "markdown",
   "metadata": {},
   "source": [
    "### Division operators \n",
    "- slightly different from most languages\n",
    "- with integers\n",
    "\n"
   ]
  },
  {
   "cell_type": "code",
   "execution_count": 151,
   "metadata": {
    "collapsed": false
   },
   "outputs": [
    {
     "data": {
      "text/plain": [
       "3.5"
      ]
     },
     "execution_count": 151,
     "metadata": {},
     "output_type": "execute_result"
    }
   ],
   "source": [
    "# in most languages this would int 2, but in Python, it is a float\n",
    "\n",
    "7/2"
   ]
  },
  {
   "cell_type": "code",
   "execution_count": 152,
   "metadata": {
    "collapsed": false
   },
   "outputs": [
    {
     "data": {
      "text/plain": [
       "3"
      ]
     },
     "execution_count": 152,
     "metadata": {},
     "output_type": "execute_result"
    }
   ],
   "source": [
    "# // is integer divide\n",
    "\n",
    "7//2\n"
   ]
  },
  {
   "cell_type": "code",
   "execution_count": 153,
   "metadata": {
    "collapsed": false
   },
   "outputs": [
    {
     "data": {
      "text/plain": [
       "1"
      ]
     },
     "execution_count": 153,
     "metadata": {},
     "output_type": "execute_result"
    }
   ],
   "source": [
    "# mod or remainder\n",
    "\n",
    "7%2"
   ]
  },
  {
   "cell_type": "markdown",
   "metadata": {},
   "source": [
    "### Division operators \n",
    "- with floats\n"
   ]
  },
  {
   "cell_type": "code",
   "execution_count": 154,
   "metadata": {
    "collapsed": false
   },
   "outputs": [
    {
     "data": {
      "text/plain": [
       "3.5"
      ]
     },
     "execution_count": 154,
     "metadata": {},
     "output_type": "execute_result"
    }
   ],
   "source": [
    "7.0 / 2.0"
   ]
  },
  {
   "cell_type": "code",
   "execution_count": 155,
   "metadata": {
    "collapsed": false
   },
   "outputs": [
    {
     "data": {
      "text/plain": [
       "3.0"
      ]
     },
     "execution_count": 155,
     "metadata": {},
     "output_type": "execute_result"
    }
   ],
   "source": [
    "7.0 // 2.0"
   ]
  },
  {
   "cell_type": "code",
   "execution_count": 156,
   "metadata": {
    "collapsed": false
   },
   "outputs": [
    {
     "data": {
      "text/plain": [
       "1.0"
      ]
     },
     "execution_count": 156,
     "metadata": {},
     "output_type": "execute_result"
    }
   ],
   "source": [
    "7.0 % 2.0"
   ]
  },
  {
   "cell_type": "code",
   "execution_count": 157,
   "metadata": {
    "collapsed": false
   },
   "outputs": [
    {
     "data": {
      "text/plain": [
       "3000.0"
      ]
     },
     "execution_count": 157,
     "metadata": {},
     "output_type": "execute_result"
    }
   ],
   "source": [
    "# XeY is X*10^Y\n",
    "\n",
    "3e3"
   ]
  },
  {
   "cell_type": "code",
   "execution_count": 158,
   "metadata": {
    "collapsed": false
   },
   "outputs": [
    {
     "data": {
      "text/plain": [
       "6899.999999999999"
      ]
     },
     "execution_count": 158,
     "metadata": {},
     "output_type": "execute_result"
    }
   ],
   "source": [
    "2.3 * 3e3"
   ]
  },
  {
   "cell_type": "markdown",
   "metadata": {},
   "source": [
    "### Complex numbers "
   ]
  },
  {
   "cell_type": "code",
   "execution_count": 159,
   "metadata": {
    "collapsed": false
   },
   "outputs": [
    {
     "data": {
      "text/plain": [
       "[(25+0j), complex]"
      ]
     },
     "execution_count": 159,
     "metadata": {},
     "output_type": "execute_result"
    }
   ],
   "source": [
    "# a complex number times its conjagate is real \n",
    "# j is the square root of -1\n",
    "# type name is 'complex'\n",
    "\n",
    "[(3+4j)*(3-4j), type(3+4j)]"
   ]
  },
  {
   "cell_type": "code",
   "execution_count": 160,
   "metadata": {
    "collapsed": false
   },
   "outputs": [
    {
     "data": {
      "text/plain": [
       "2345"
      ]
     },
     "execution_count": 160,
     "metadata": {},
     "output_type": "execute_result"
    }
   ],
   "source": [
    "# int function tries to convert arg to an int\n",
    "\n",
    "int('2345')"
   ]
  },
  {
   "cell_type": "code",
   "execution_count": 161,
   "metadata": {
    "collapsed": false
   },
   "outputs": [
    {
     "data": {
      "text/plain": [
       "3"
      ]
     },
     "execution_count": 161,
     "metadata": {},
     "output_type": "execute_result"
    }
   ],
   "source": [
    "int(3.45)"
   ]
  },
  {
   "cell_type": "code",
   "execution_count": 162,
   "metadata": {
    "collapsed": false
   },
   "outputs": [
    {
     "data": {
      "text/plain": [
       "3.45"
      ]
     },
     "execution_count": 162,
     "metadata": {},
     "output_type": "execute_result"
    }
   ],
   "source": [
    "# likewise for float\n",
    "\n",
    "float('3.45')"
   ]
  },
  {
   "cell_type": "code",
   "execution_count": 163,
   "metadata": {
    "collapsed": false
   },
   "outputs": [
    {
     "data": {
      "text/plain": [
       "3.0"
      ]
     },
     "execution_count": 163,
     "metadata": {},
     "output_type": "execute_result"
    }
   ],
   "source": [
    "float(3)"
   ]
  },
  {
   "cell_type": "markdown",
   "metadata": {},
   "source": [
    "# Object references and variables\n",
    "- variables hold 'references' to objects. \n",
    "- variables do not have or enforce any notion of type\n",
    "- a given object can have any number of references to it\n",
    "- there are TWO notions of equality in Python\n",
    "    - the 'is' operator is true if the two references are to the same object\n",
    "    - the '==' operator is true if\n",
    "        - the two references are to the same object, or two different objects \"print the same way\"(vague!! we will refine later)"
   ]
  },
  {
   "cell_type": "code",
   "execution_count": 164,
   "metadata": {
    "collapsed": false
   },
   "outputs": [
    {
     "data": {
      "image/svg+xml": [
       "<svg baseProfile=\"full\" height=\"200\" version=\"1.1\" width=\"800\" xmlns=\"http://www.w3.org/2000/svg\" xmlns:ev=\"http://www.w3.org/2001/xml-events\" xmlns:xlink=\"http://www.w3.org/1999/xlink\"><defs /><text fill=\"blue\" text-anchor=\"end\" x=\"100\" y=\"30\">Variables</text><text fill=\"black\" text-anchor=\"end\" x=\"100\" y=\"60\">x</text><text fill=\"black\" text-anchor=\"end\" x=\"100\" y=\"90\">y</text><text fill=\"black\" text-anchor=\"end\" x=\"100\" y=\"120\">z</text><text fill=\"blue\" x=\"260\" y=\"30\">Objects(in the Heap)</text><text fill=\"black\" x=\"260\" y=\"60\">123456</text><line stroke=\"rgb(90%,10%,16%)\" x1=\"100\" x2=\"260\" y1=\"60\" y2=\"60\" /><text fill=\"black\" x=\"260\" y=\"90\">123456</text><line stroke=\"rgb(90%,10%,16%)\" x1=\"100\" x2=\"260\" y1=\"90\" y2=\"90\" /><line stroke=\"rgb(90%,10%,16%)\" x1=\"100\" x2=\"260\" y1=\"120\" y2=\"90\" /></svg>"
      ],
      "text/plain": [
       "<__main__.memgraph at 0x106ff2358>"
      ]
     },
     "execution_count": 164,
     "metadata": {},
     "output_type": "execute_result"
    }
   ],
   "source": [
    "x = 123456\n",
    "y = 123456\n",
    "z = y\n",
    "\n",
    "# graph memory\n",
    "\n",
    "memgraph(['x', 'y','z'])\n"
   ]
  },
  {
   "cell_type": "code",
   "execution_count": 165,
   "metadata": {
    "collapsed": false
   },
   "outputs": [
    {
     "data": {
      "text/plain": [
       "False"
      ]
     },
     "execution_count": 165,
     "metadata": {},
     "output_type": "execute_result"
    }
   ],
   "source": [
    "# are x & y references to the same object?\n",
    "\n",
    "x is y"
   ]
  },
  {
   "cell_type": "code",
   "execution_count": 166,
   "metadata": {
    "collapsed": false
   },
   "outputs": [
    {
     "data": {
      "text/plain": [
       "True"
      ]
     },
     "execution_count": 166,
     "metadata": {},
     "output_type": "execute_result"
    }
   ],
   "source": [
    "# are y & z references to the same object?\n",
    "\n",
    "y is z"
   ]
  },
  {
   "cell_type": "code",
   "execution_count": 167,
   "metadata": {
    "collapsed": false
   },
   "outputs": [
    {
     "data": {
      "text/plain": [
       "True"
      ]
     },
     "execution_count": 167,
     "metadata": {},
     "output_type": "execute_result"
    }
   ],
   "source": [
    "# y is z => y == z\n",
    "\n",
    "y == z"
   ]
  },
  {
   "cell_type": "code",
   "execution_count": 168,
   "metadata": {
    "collapsed": false
   },
   "outputs": [
    {
     "data": {
      "text/plain": [
       "True"
      ]
     },
     "execution_count": 168,
     "metadata": {},
     "output_type": "execute_result"
    }
   ],
   "source": [
    "# are x & y 'equivalent' in some sense?\n",
    "# yes - x & y are different objects, but they represent the same integer\n",
    "\n",
    "x == y"
   ]
  },
  {
   "cell_type": "code",
   "execution_count": 169,
   "metadata": {
    "collapsed": false
   },
   "outputs": [
    {
     "data": {
      "image/svg+xml": [
       "<svg baseProfile=\"full\" height=\"200\" version=\"1.1\" width=\"800\" xmlns=\"http://www.w3.org/2000/svg\" xmlns:ev=\"http://www.w3.org/2001/xml-events\" xmlns:xlink=\"http://www.w3.org/1999/xlink\"><defs /><text fill=\"blue\" text-anchor=\"end\" x=\"100\" y=\"30\">Variables</text><text fill=\"black\" text-anchor=\"end\" x=\"100\" y=\"60\">a</text><text fill=\"black\" text-anchor=\"end\" x=\"100\" y=\"90\">b</text><text fill=\"black\" text-anchor=\"end\" x=\"100\" y=\"120\">c</text><text fill=\"black\" text-anchor=\"end\" x=\"100\" y=\"150\">d</text><text fill=\"black\" text-anchor=\"end\" x=\"100\" y=\"180\">e</text><text fill=\"blue\" x=\"260\" y=\"30\">Objects(in the Heap)</text><text fill=\"black\" x=\"260\" y=\"60\">4</text><line stroke=\"rgb(90%,10%,16%)\" x1=\"100\" x2=\"260\" y1=\"60\" y2=\"60\" /><line stroke=\"rgb(90%,10%,16%)\" x1=\"100\" x2=\"260\" y1=\"90\" y2=\"60\" /><line stroke=\"rgb(90%,10%,16%)\" x1=\"100\" x2=\"260\" y1=\"120\" y2=\"60\" /><line stroke=\"rgb(90%,10%,16%)\" x1=\"100\" x2=\"260\" y1=\"150\" y2=\"60\" /><line stroke=\"rgb(90%,10%,16%)\" x1=\"100\" x2=\"260\" y1=\"180\" y2=\"60\" /></svg>"
      ],
      "text/plain": [
       "<__main__.memgraph at 0x106ff2908>"
      ]
     },
     "execution_count": 169,
     "metadata": {},
     "output_type": "execute_result"
    }
   ],
   "source": [
    "# if we try a small int, like 4, instead of 123456, \n",
    "# we get a different result!\n",
    "\n",
    "# small ints are singletons(interned) for efficiency reasons.\n",
    "# so, no matter how you compute a '4', you'll get the same '4'\n",
    "# object\n",
    "\n",
    "a = 4\n",
    "b = 4\n",
    "c = 6 - 2\n",
    "d = 2*2\n",
    "e = 2**2\n",
    "memgraph(['a','b','c','d','e'])"
   ]
  },
  {
   "cell_type": "markdown",
   "metadata": {},
   "source": [
    "# Automatic memory Management\n",
    "- when an object has no references to it, it becomes eligible for 'garbage collection'. the storage it uses is recycled\n",
    "    - Python uses reference counting\n",
    "- the user does not have to manage allocating and freeing memory, like Java, unlike C++"
   ]
  },
  {
   "cell_type": "markdown",
   "metadata": {},
   "source": [
    "# None\n",
    "- Like 'null' in other languages\n",
    "- Means failure or absence of a value\n",
    "- is a singleton(there is only one object of class None)\n",
    "- does not print at top level"
   ]
  },
  {
   "cell_type": "code",
   "execution_count": 170,
   "metadata": {
    "collapsed": false
   },
   "outputs": [],
   "source": [
    "# no output\n",
    "\n",
    "None"
   ]
  },
  {
   "cell_type": "code",
   "execution_count": 171,
   "metadata": {
    "collapsed": false
   },
   "outputs": [
    {
     "name": "stdout",
     "output_type": "stream",
     "text": [
      "None\n"
     ]
    }
   ],
   "source": [
    "# explicit print will show it\n",
    "\n",
    "print(None)"
   ]
  },
  {
   "cell_type": "code",
   "execution_count": 172,
   "metadata": {
    "collapsed": false
   },
   "outputs": [
    {
     "data": {
      "image/svg+xml": [
       "<svg baseProfile=\"full\" height=\"200\" version=\"1.1\" width=\"800\" xmlns=\"http://www.w3.org/2000/svg\" xmlns:ev=\"http://www.w3.org/2001/xml-events\" xmlns:xlink=\"http://www.w3.org/1999/xlink\"><defs /><text fill=\"blue\" text-anchor=\"end\" x=\"100\" y=\"30\">Variables</text><text fill=\"black\" text-anchor=\"end\" x=\"100\" y=\"60\">x</text><text fill=\"black\" text-anchor=\"end\" x=\"100\" y=\"90\">y</text><text fill=\"blue\" x=\"260\" y=\"30\">Objects(in the Heap)</text><text fill=\"black\" x=\"260\" y=\"60\">None</text><line stroke=\"rgb(90%,10%,16%)\" x1=\"100\" x2=\"260\" y1=\"60\" y2=\"60\" /><line stroke=\"rgb(90%,10%,16%)\" x1=\"100\" x2=\"260\" y1=\"90\" y2=\"60\" /></svg>"
      ],
      "text/plain": [
       "<__main__.memgraph at 0x106ff2588>"
      ]
     },
     "execution_count": 172,
     "metadata": {},
     "output_type": "execute_result"
    }
   ],
   "source": [
    "x = None\n",
    "y = None\n",
    "\n",
    "memgraph(['x', 'y'])"
   ]
  },
  {
   "cell_type": "markdown",
   "metadata": {},
   "source": [
    "# Boolean\n",
    "+ Objects: False, True(both singletons)\n",
    "+ Operators: 'not', 'and', 'or'\n",
    "- <.<=, etc\n",
    "- unlike many languages, &, &&, |, ||, ~, are not boolean operators"
   ]
  },
  {
   "cell_type": "code",
   "execution_count": 173,
   "metadata": {
    "collapsed": false
   },
   "outputs": [
    {
     "data": {
      "text/plain": [
       "False"
      ]
     },
     "execution_count": 173,
     "metadata": {},
     "output_type": "execute_result"
    }
   ],
   "source": [
    "not(True and (True or False))"
   ]
  },
  {
   "cell_type": "code",
   "execution_count": 174,
   "metadata": {
    "collapsed": false
   },
   "outputs": [
    {
     "data": {
      "text/plain": [
       "True"
      ]
     },
     "execution_count": 174,
     "metadata": {},
     "output_type": "execute_result"
    }
   ],
   "source": [
    "1234<=1234"
   ]
  },
  {
   "cell_type": "code",
   "execution_count": 175,
   "metadata": {
    "collapsed": false
   },
   "outputs": [
    {
     "data": {
      "text/plain": [
       "True"
      ]
     },
     "execution_count": 175,
     "metadata": {},
     "output_type": "execute_result"
    }
   ],
   "source": [
    "123<345"
   ]
  },
  {
   "cell_type": "markdown",
   "metadata": {},
   "source": [
    "# Immutable vs Mutable Objects\n",
    "- Immutable objects, once created, can never be modified\n",
    "- Mutable objects can be modified at any time"
   ]
  },
  {
   "cell_type": "markdown",
   "metadata": {},
   "source": [
    "# Functions\n",
    "- functions are \"first class\" objects in Python - they can be assigned as variables, passed as args\n",
    "- functions are (mostly) immutable objects\n",
    "- by default, functions return 'None' - you must use the 'return' statement to return a value\n",
    "- note the ':' at the end of the first line, and the indenting of the function body. this is how you define a 'statement block' in python\n",
    "- Java/C++ uses '{...}' for statement blocks\n",
    "- much more about functions later"
   ]
  },
  {
   "cell_type": "code",
   "execution_count": 176,
   "metadata": {
    "collapsed": false
   },
   "outputs": [
    {
     "name": "stdout",
     "output_type": "stream",
     "text": [
      "None\n"
     ]
    }
   ],
   "source": [
    "# returns 'None'\n",
    "\n",
    "def add2(x):\n",
    "    x + 2\n",
    "\n",
    "print(add2(4))"
   ]
  },
  {
   "cell_type": "code",
   "execution_count": 177,
   "metadata": {
    "collapsed": false
   },
   "outputs": [
    {
     "data": {
      "text/plain": [
       "5"
      ]
     },
     "execution_count": 177,
     "metadata": {},
     "output_type": "execute_result"
    }
   ],
   "source": [
    "# must use return\n",
    "\n",
    "def add2(x):\n",
    "    return x + 2\n",
    "\n",
    "add2(3)"
   ]
  },
  {
   "cell_type": "code",
   "execution_count": 178,
   "metadata": {
    "collapsed": false
   },
   "outputs": [
    {
     "data": {
      "text/plain": [
       "[12, 8]"
      ]
     },
     "execution_count": 178,
     "metadata": {},
     "output_type": "execute_result"
    }
   ],
   "source": [
    "# can return multiple values by returning a list(or other data structures)\n",
    "\n",
    "def addsub2(x):\n",
    "    return [x+2, x-2]\n",
    "\n",
    "addsub2(10)"
   ]
  },
  {
   "cell_type": "markdown",
   "metadata": {},
   "source": [
    "# Collection Types \n",
    "+ hold multiple objects in various configurations\n",
    "+ several kinds are built into the language\n",
    "+ can write \"collection literals\"\n",
    "- very easy to use\n",
    "\n",
    "# list\n",
    "- the heart of Python\n",
    "- much of the \"art\" of Python involves getting good at manipulating lists\n",
    "- a list holds a ordered sequence of objects\n",
    "- duplicates are allowed\n",
    "- list objects do not have to be the same type\n",
    "- lists are zero origin - index of first element is 0\n",
    "- lists are mutable\n",
    "- some methods, like 'index' and 'count', have no 'side effects' - they don't modify the list\n",
    "- others, like reverse, modify the list\n",
    "- methods that modify the list typically return 'None'\n",
    "- type name is 'list'"
   ]
  },
  {
   "cell_type": "code",
   "execution_count": 179,
   "metadata": {
    "collapsed": false
   },
   "outputs": [
    {
     "data": {
      "text/plain": [
       "[1, 2, 3]"
      ]
     },
     "execution_count": 179,
     "metadata": {},
     "output_type": "execute_result"
    }
   ],
   "source": [
    "# can make a list by just typing it in\n",
    "\n",
    "[1,2,3]"
   ]
  },
  {
   "cell_type": "code",
   "execution_count": 180,
   "metadata": {
    "collapsed": false
   },
   "outputs": [
    {
     "data": {
      "text/plain": [
       "list"
      ]
     },
     "execution_count": 180,
     "metadata": {},
     "output_type": "execute_result"
    }
   ],
   "source": [
    "type([2,3,4])"
   ]
  },
  {
   "cell_type": "markdown",
   "metadata": {},
   "source": [
    "# range \n",
    "- the 'range' form is often used to specify a list of numbers \n",
    "- often used for iteration purposes\n",
    "- range evaluates to itself\n",
    "- range is our first example of \"lazy evaluation\"\n",
    "    - major theme in Python 3.X"
   ]
  },
  {
   "cell_type": "code",
   "execution_count": 181,
   "metadata": {
    "collapsed": false
   },
   "outputs": [
    {
     "data": {
      "text/plain": [
       "range(0, 10)"
      ]
     },
     "execution_count": 181,
     "metadata": {},
     "output_type": "execute_result"
    }
   ],
   "source": [
    "range(0, 10)"
   ]
  },
  {
   "cell_type": "code",
   "execution_count": 182,
   "metadata": {
    "collapsed": false
   },
   "outputs": [
    {
     "data": {
      "text/plain": [
       "[0, 1, 2, 3, 4, 5, 6, 7, 8, 9]"
      ]
     },
     "execution_count": 182,
     "metadata": {},
     "output_type": "execute_result"
    }
   ],
   "source": [
    "# to see the corresponding list, use the list function\n",
    "# note range arguments are inclusive/exclusive - there's no 10 in the list\n",
    "\n",
    "list(range(0, 10))"
   ]
  },
  {
   "cell_type": "code",
   "execution_count": 183,
   "metadata": {
    "collapsed": false
   },
   "outputs": [
    {
     "data": {
      "text/plain": [
       "[0, 1, 2, 3, 4, 5, 6, 7, 8, 9]"
      ]
     },
     "execution_count": 183,
     "metadata": {},
     "output_type": "execute_result"
    }
   ],
   "source": [
    "# same as above, assume 0 start\n",
    "\n",
    "list(range(10))"
   ]
  },
  {
   "cell_type": "code",
   "execution_count": 184,
   "metadata": {
    "collapsed": false
   },
   "outputs": [
    {
     "data": {
      "text/plain": [
       "[0, 2, 4, 6, 8]"
      ]
     },
     "execution_count": 184,
     "metadata": {},
     "output_type": "execute_result"
    }
   ],
   "source": [
    "# 3rd arg is increment\n",
    "\n",
    "list(range(0, 10, 2))"
   ]
  },
  {
   "cell_type": "code",
   "execution_count": 185,
   "metadata": {
    "collapsed": false
   },
   "outputs": [
    {
     "data": {
      "text/plain": [
       "[12, 9, 6, 3]"
      ]
     },
     "execution_count": 185,
     "metadata": {},
     "output_type": "execute_result"
    }
   ],
   "source": [
    "# can go backwards too - note no 0 in list\n",
    "\n",
    "list(range(12, 0, -3))"
   ]
  },
  {
   "cell_type": "code",
   "execution_count": 186,
   "metadata": {
    "collapsed": false
   },
   "outputs": [
    {
     "data": {
      "text/plain": [
       "4"
      ]
     },
     "execution_count": 186,
     "metadata": {},
     "output_type": "execute_result"
    }
   ],
   "source": [
    "# 'len' forces evaluation, \n",
    "# and returns the \"length\" of a collection object\n",
    "\n",
    "len(range(12,0, -3))"
   ]
  },
  {
   "cell_type": "code",
   "execution_count": 187,
   "metadata": {
    "collapsed": false
   },
   "outputs": [
    {
     "data": {
      "text/plain": [
       "False"
      ]
     },
     "execution_count": 187,
     "metadata": {},
     "output_type": "execute_result"
    }
   ],
   "source": [
    "# order matters for lists\n",
    "\n",
    "[1,2,3] == [2,1,3]"
   ]
  },
  {
   "cell_type": "code",
   "execution_count": 188,
   "metadata": {
    "collapsed": false
   },
   "outputs": [
    {
     "data": {
      "text/plain": [
       "True"
      ]
     },
     "execution_count": 188,
     "metadata": {},
     "output_type": "execute_result"
    }
   ],
   "source": [
    "[2,1,3] == [2,1,3]"
   ]
  },
  {
   "cell_type": "code",
   "execution_count": 189,
   "metadata": {
    "collapsed": false
   },
   "outputs": [
    {
     "data": {
      "text/plain": [
       "[1, 1, 2, 3]"
      ]
     },
     "execution_count": 189,
     "metadata": {},
     "output_type": "execute_result"
    }
   ],
   "source": [
    "# duplicates are ok in a list\n",
    "\n",
    "[1,1,2,3]"
   ]
  },
  {
   "cell_type": "code",
   "execution_count": 190,
   "metadata": {
    "collapsed": false
   },
   "outputs": [
    {
     "data": {
      "text/plain": [
       "[0, 111.111, 'zap', True, None]"
      ]
     },
     "execution_count": 190,
     "metadata": {},
     "output_type": "execute_result"
    }
   ],
   "source": [
    "# in languages like Java/C++ would have to select a \n",
    "# 'collection' type, instantiate it, and somehow\n",
    "# 'stuff' the values in. \n",
    "\n",
    "# in python, can just directly \"write\" a list\n",
    "# the assigment statement does not print the right hand side value\n",
    "\n",
    "x = [0, 111.111, \"zap\", True, None]\n",
    "y = x\n",
    "x"
   ]
  },
  {
   "cell_type": "code",
   "execution_count": 191,
   "metadata": {
    "collapsed": false
   },
   "outputs": [
    {
     "data": {
      "text/plain": [
       "[0, 111.111, 'zap', True, None]"
      ]
     },
     "execution_count": 191,
     "metadata": {},
     "output_type": "execute_result"
    }
   ],
   "source": [
    "# variable by itself prints its value\n",
    "\n",
    "x"
   ]
  },
  {
   "cell_type": "code",
   "execution_count": 192,
   "metadata": {
    "collapsed": false
   },
   "outputs": [
    {
     "data": {
      "text/plain": [
       "5"
      ]
     },
     "execution_count": 192,
     "metadata": {},
     "output_type": "execute_result"
    }
   ],
   "source": [
    "# len returns the length of a list\n",
    "\n",
    "len(x)"
   ]
  },
  {
   "cell_type": "code",
   "execution_count": 193,
   "metadata": {
    "collapsed": false
   },
   "outputs": [
    {
     "data": {
      "text/plain": [
       "0"
      ]
     },
     "execution_count": 193,
     "metadata": {},
     "output_type": "execute_result"
    }
   ],
   "source": [
    "# 'count' method returns a value, does not modify the list\n",
    "# count the number of 'True's\n",
    "# here the 'dot syntax' is used to invoke the list 'count method' \n",
    "\n",
    "x.count(2343)"
   ]
  },
  {
   "cell_type": "code",
   "execution_count": 194,
   "metadata": {
    "collapsed": true
   },
   "outputs": [],
   "source": [
    "# reverse returns None - a hint that it modifies the list\n",
    "# the 'reverse method' on the list class is invoked\n",
    "\n",
    "x.reverse()"
   ]
  },
  {
   "cell_type": "code",
   "execution_count": 195,
   "metadata": {
    "collapsed": false
   },
   "outputs": [
    {
     "data": {
      "text/plain": [
       "[None, True, 'zap', 111.111, 0]"
      ]
     },
     "execution_count": 195,
     "metadata": {},
     "output_type": "execute_result"
    }
   ],
   "source": [
    "x"
   ]
  },
  {
   "cell_type": "code",
   "execution_count": 196,
   "metadata": {
    "collapsed": false
   },
   "outputs": [
    {
     "data": {
      "text/plain": [
       "[None, True, 'zap', 111.111, 0]"
      ]
     },
     "execution_count": 196,
     "metadata": {},
     "output_type": "execute_result"
    }
   ],
   "source": [
    "# what happened to y?\n",
    "# we didn't explicitly do anything to y, but\n",
    "# since y references the same object as x,\n",
    "# it 'sees' the reverse that x.reverse() did\n",
    "\n",
    "y"
   ]
  },
  {
   "cell_type": "code",
   "execution_count": 197,
   "metadata": {
    "collapsed": false
   },
   "outputs": [
    {
     "name": "stdout",
     "output_type": "stream",
     "text": [
      "None\n"
     ]
    }
   ],
   "source": [
    "# common mistake \n",
    "# reverse does NOT return the reversed list\n",
    "# if you do this, you just lost your list\n",
    "\n",
    "z = [1,2,3,4,5,6]\n",
    "z = z.reverse()\n",
    "print(z)"
   ]
  },
  {
   "cell_type": "code",
   "execution_count": 198,
   "metadata": {
    "collapsed": false
   },
   "outputs": [
    {
     "data": {
      "text/plain": [
       "<function list.reverse>"
      ]
     },
     "execution_count": 198,
     "metadata": {},
     "output_type": "execute_result"
    }
   ],
   "source": [
    "# Another mistake \n",
    "# leaving off the '()' just \n",
    "# returns the function object\n",
    "# the function does NOT run\n",
    "\n",
    "z = [1,2,3,4,5,6]\n",
    "z.reverse"
   ]
  },
  {
   "cell_type": "code",
   "execution_count": 199,
   "metadata": {
    "collapsed": false
   },
   "outputs": [
    {
     "data": {
      "text/plain": [
       "[1, 2, 3, 4, 5, 6]"
      ]
     },
     "execution_count": 199,
     "metadata": {},
     "output_type": "execute_result"
    }
   ],
   "source": [
    "# so no change to z\n",
    "\n",
    "z"
   ]
  },
  {
   "cell_type": "code",
   "execution_count": 200,
   "metadata": {
    "collapsed": false
   },
   "outputs": [
    {
     "data": {
      "text/plain": [
       "[None, True, 'zap', 111.111, 0]"
      ]
     },
     "execution_count": 200,
     "metadata": {},
     "output_type": "execute_result"
    }
   ],
   "source": [
    "x"
   ]
  },
  {
   "cell_type": "code",
   "execution_count": 201,
   "metadata": {
    "collapsed": false
   },
   "outputs": [
    {
     "data": {
      "text/plain": [
       "'zap'"
      ]
     },
     "execution_count": 201,
     "metadata": {},
     "output_type": "execute_result"
    }
   ],
   "source": [
    "# Python has very convenient techniques for accessing \n",
    "# and modifying list elements \n",
    "# can index into the list like an array, \n",
    "# and retrieve one element\n",
    "\n",
    "x[2]"
   ]
  },
  {
   "cell_type": "code",
   "execution_count": 202,
   "metadata": {
    "collapsed": false
   },
   "outputs": [
    {
     "data": {
      "text/plain": [
       "0"
      ]
     },
     "execution_count": 202,
     "metadata": {},
     "output_type": "execute_result"
    }
   ],
   "source": [
    "# negative index starts from the last list element\n",
    "\n",
    "x[-1]"
   ]
  },
  {
   "cell_type": "code",
   "execution_count": 203,
   "metadata": {
    "collapsed": false
   },
   "outputs": [
    {
     "data": {
      "text/plain": [
       "[None, True]"
      ]
     },
     "execution_count": 203,
     "metadata": {},
     "output_type": "execute_result"
    }
   ],
   "source": [
    "# can take a subsequences (slice) of the list\n",
    "# like range, inclusive/exclusive\n",
    "# slices always COPY the original list\n",
    "\n",
    "x[0:2]"
   ]
  },
  {
   "cell_type": "code",
   "execution_count": 204,
   "metadata": {
    "collapsed": false
   },
   "outputs": [
    {
     "data": {
      "text/plain": [
       "[111.111, 0]"
      ]
     },
     "execution_count": 204,
     "metadata": {},
     "output_type": "execute_result"
    }
   ],
   "source": [
    "# missing second index means continue slice to the end of the list\n",
    "\n",
    "x[3:]"
   ]
  },
  {
   "cell_type": "code",
   "execution_count": 205,
   "metadata": {
    "collapsed": false
   },
   "outputs": [
    {
     "data": {
      "text/plain": [
       "[None, True]"
      ]
     },
     "execution_count": 205,
     "metadata": {},
     "output_type": "execute_result"
    }
   ],
   "source": [
    "# missing first index means start slice at begining  of the list\n",
    "\n",
    "x[:2]"
   ]
  },
  {
   "cell_type": "code",
   "execution_count": 206,
   "metadata": {
    "collapsed": false
   },
   "outputs": [
    {
     "data": {
      "text/plain": [
       "[None, 'zap', 0]"
      ]
     },
     "execution_count": 206,
     "metadata": {},
     "output_type": "execute_result"
    }
   ],
   "source": [
    "# can add a index increment to a slice\n",
    "\n",
    "x[0:8:2]"
   ]
  },
  {
   "cell_type": "code",
   "execution_count": 207,
   "metadata": {
    "collapsed": false
   },
   "outputs": [
    {
     "name": "stdout",
     "output_type": "stream",
     "text": [
      "[None, True, 'zap', 111.111, 0]\n",
      "None\n",
      "[0, 111.111, 'zap', True, None]\n",
      "[None, True, 'zap', 111.111, 0]\n"
     ]
    }
   ],
   "source": [
    "# index missing on both sides of \":\" - slice \n",
    "# is the whole list. \n",
    "# common python shorthand for copying\n",
    "# an entire list\n",
    "\n",
    "x2 = x[:]\n",
    "\n",
    "# reverse modifies x2, but x will not be changed, because\n",
    "# x and x2 are referencing different objects\n",
    "# reverse() returns 'None'\n",
    "\n",
    "print(x2)\n",
    "print(x2.reverse())\n",
    "print(x2)\n",
    "print(x)"
   ]
  },
  {
   "cell_type": "code",
   "execution_count": 208,
   "metadata": {
    "collapsed": false
   },
   "outputs": [
    {
     "data": {
      "text/plain": [
       "[-1, True, 'zap', 111.111, 0]"
      ]
     },
     "execution_count": 208,
     "metadata": {},
     "output_type": "execute_result"
    }
   ],
   "source": [
    "# can set list elements\n",
    "\n",
    "x[0] = -1\n",
    "x"
   ]
  },
  {
   "cell_type": "code",
   "execution_count": 209,
   "metadata": {
    "collapsed": false
   },
   "outputs": [
    {
     "data": {
      "text/plain": [
       "[-1, True, 'zap', 256, False]"
      ]
     },
     "execution_count": 209,
     "metadata": {},
     "output_type": "execute_result"
    }
   ],
   "source": [
    "# can set slices\n",
    "\n",
    "x[3:5] = [2**8, False]\n",
    "x"
   ]
  },
  {
   "cell_type": "code",
   "execution_count": 210,
   "metadata": {
    "collapsed": false
   },
   "outputs": [
    {
     "data": {
      "text/plain": [
       "[True, False]"
      ]
     },
     "execution_count": 210,
     "metadata": {},
     "output_type": "execute_result"
    }
   ],
   "source": [
    "#  'in' operator - is an element in the list somewhere?\n",
    "# uses == to test\n",
    "\n",
    "['zap' in x, 55 in x]"
   ]
  },
  {
   "cell_type": "code",
   "execution_count": 211,
   "metadata": {
    "collapsed": false
   },
   "outputs": [
    {
     "data": {
      "text/plain": [
       "2"
      ]
     },
     "execution_count": 211,
     "metadata": {},
     "output_type": "execute_result"
    }
   ],
   "source": [
    "# where is the element?\n",
    "# 'index' is a 'method' on the list class\n",
    "\n",
    "x.index('zap')"
   ]
  },
  {
   "cell_type": "code",
   "execution_count": 212,
   "metadata": {
    "collapsed": false
   },
   "outputs": [
    {
     "ename": "ValueError",
     "evalue": "'not in there' is not in list",
     "output_type": "error",
     "traceback": [
      "\u001b[0;31m---------------------------------------------------------------------------\u001b[0m",
      "\u001b[0;31mValueError\u001b[0m                                Traceback (most recent call last)",
      "\u001b[0;32m<ipython-input-212-83c8fd21a8b8>\u001b[0m in \u001b[0;36m<module>\u001b[0;34m()\u001b[0m\n\u001b[1;32m      2\u001b[0m \u001b[0;31m# we will learn more about errors later\u001b[0m\u001b[0;34m\u001b[0m\u001b[0;34m\u001b[0m\u001b[0m\n\u001b[1;32m      3\u001b[0m \u001b[0;34m\u001b[0m\u001b[0m\n\u001b[0;32m----> 4\u001b[0;31m \u001b[0mx\u001b[0m\u001b[0;34m.\u001b[0m\u001b[0mindex\u001b[0m\u001b[0;34m(\u001b[0m\u001b[0;34m\"not in there\"\u001b[0m\u001b[0;34m)\u001b[0m\u001b[0;34m\u001b[0m\u001b[0m\n\u001b[0m",
      "\u001b[0;31mValueError\u001b[0m: 'not in there' is not in list"
     ]
    }
   ],
   "source": [
    "# index throws an error if it doesn't find anything\n",
    "# we will learn more about errors later\n",
    "\n",
    "x.index(\"not in there\")"
   ]
  },
  {
   "cell_type": "code",
   "execution_count": 213,
   "metadata": {
    "collapsed": false
   },
   "outputs": [
    {
     "data": {
      "text/plain": [
       "[0, 1, 2, 3, 4, 0, 1, 2, 3, 4]"
      ]
     },
     "execution_count": 213,
     "metadata": {},
     "output_type": "execute_result"
    }
   ],
   "source": [
    "# + concatenates lists\n",
    "# note: what '+' actually does depends on the type of its arguments\n",
    "\n",
    "x = list(range(5))\n",
    "x + x"
   ]
  },
  {
   "cell_type": "code",
   "execution_count": 214,
   "metadata": {
    "collapsed": false
   },
   "outputs": [
    {
     "data": {
      "text/plain": [
       "[0, 1, 2, 3, 4]"
      ]
     },
     "execution_count": 214,
     "metadata": {},
     "output_type": "execute_result"
    }
   ],
   "source": [
    "x"
   ]
  },
  {
   "cell_type": "code",
   "execution_count": 215,
   "metadata": {
    "collapsed": false
   },
   "outputs": [
    {
     "data": {
      "text/plain": [
       "[0, 1, 2, 3, 4, [22, 33]]"
      ]
     },
     "execution_count": 215,
     "metadata": {},
     "output_type": "execute_result"
    }
   ],
   "source": [
    "# add one element at the end\n",
    "\n",
    "x.append([22,33])\n",
    "x"
   ]
  },
  {
   "cell_type": "code",
   "execution_count": 216,
   "metadata": {
    "collapsed": false
   },
   "outputs": [
    {
     "data": {
      "text/plain": [
       "[0, 1, 2, 3, 4, [22, 33], 22, 33]"
      ]
     },
     "execution_count": 216,
     "metadata": {},
     "output_type": "execute_result"
    }
   ],
   "source": [
    "# add N elements at the end\n",
    "\n",
    "x.extend([22,33])\n",
    "x"
   ]
  },
  {
   "cell_type": "code",
   "execution_count": 217,
   "metadata": {
    "collapsed": false
   },
   "outputs": [
    {
     "data": {
      "text/plain": [
       "[0, 1, 5, 2, 3, 4, [22, 33], 22, 33]"
      ]
     },
     "execution_count": 217,
     "metadata": {},
     "output_type": "execute_result"
    }
   ],
   "source": [
    "# add one element anywhere\n",
    "\n",
    "x.insert(2, 5)\n",
    "x"
   ]
  },
  {
   "cell_type": "code",
   "execution_count": 218,
   "metadata": {
    "collapsed": false
   },
   "outputs": [
    {
     "name": "stdout",
     "output_type": "stream",
     "text": [
      "33\n",
      "[0, 1, 5, 2, 3, 4, [22, 33], 22]\n"
     ]
    }
   ],
   "source": [
    "# pop method removes and returns a \n",
    "# list element, by default the last element\n",
    "\n",
    "print(x.pop())\n",
    "print(x)"
   ]
  },
  {
   "cell_type": "code",
   "execution_count": 219,
   "metadata": {
    "collapsed": false
   },
   "outputs": [
    {
     "name": "stdout",
     "output_type": "stream",
     "text": [
      "5\n",
      "[0, 1, 2, 3, 4, [22, 33], 22]\n"
     ]
    }
   ],
   "source": [
    "# but can specify which element to pop\n",
    "\n",
    "print(x.pop(2))\n",
    "print(x)"
   ]
  },
  {
   "cell_type": "code",
   "execution_count": 220,
   "metadata": {
    "collapsed": false
   },
   "outputs": [
    {
     "name": "stdout",
     "output_type": "stream",
     "text": [
      "[0, 1, 2, 3, [22, 33], 22]\n"
     ]
    }
   ],
   "source": [
    "# remove first 4 found\n",
    "\n",
    "x.remove(4)\n",
    "print(x)"
   ]
  },
  {
   "cell_type": "code",
   "execution_count": 221,
   "metadata": {
    "collapsed": false
   },
   "outputs": [
    {
     "data": {
      "text/plain": [
       "[3, 5, 22, 34]"
      ]
     },
     "execution_count": 221,
     "metadata": {},
     "output_type": "execute_result"
    }
   ],
   "source": [
    "# sort modifies the list\n",
    "\n",
    "x = [34,3,5,22]\n",
    "x.sort()\n",
    "x"
   ]
  },
  {
   "cell_type": "code",
   "execution_count": 222,
   "metadata": {
    "collapsed": false
   },
   "outputs": [
    {
     "data": {
      "text/plain": [
       "[[34, 3, 5, 22], [3, 5, 22, 34]]"
      ]
     },
     "execution_count": 222,
     "metadata": {},
     "output_type": "execute_result"
    }
   ],
   "source": [
    "# can preserve original list by using 'sorted'\n",
    "# sorted makes a copy of the input list\n",
    "\n",
    "x = [34,3,5,22]\n",
    "y = sorted(x)\n",
    "[x, y]"
   ]
  },
  {
   "cell_type": "code",
   "execution_count": 223,
   "metadata": {
    "collapsed": false
   },
   "outputs": [
    {
     "data": {
      "text/plain": [
       "['__add__',\n",
       " '__class__',\n",
       " '__contains__',\n",
       " '__delattr__',\n",
       " '__delitem__',\n",
       " '__dir__',\n",
       " '__doc__',\n",
       " '__eq__',\n",
       " '__format__',\n",
       " '__ge__',\n",
       " '__getattribute__',\n",
       " '__getitem__',\n",
       " '__gt__',\n",
       " '__hash__',\n",
       " '__iadd__',\n",
       " '__imul__',\n",
       " '__init__',\n",
       " '__iter__',\n",
       " '__le__',\n",
       " '__len__',\n",
       " '__lt__',\n",
       " '__mul__',\n",
       " '__ne__',\n",
       " '__new__',\n",
       " '__reduce__',\n",
       " '__reduce_ex__',\n",
       " '__repr__',\n",
       " '__reversed__',\n",
       " '__rmul__',\n",
       " '__setattr__',\n",
       " '__setitem__',\n",
       " '__sizeof__',\n",
       " '__str__',\n",
       " '__subclasshook__',\n",
       " 'append',\n",
       " 'clear',\n",
       " 'copy',\n",
       " 'count',\n",
       " 'extend',\n",
       " 'index',\n",
       " 'insert',\n",
       " 'pop',\n",
       " 'remove',\n",
       " 'reverse',\n",
       " 'sort']"
      ]
     },
     "execution_count": 223,
     "metadata": {},
     "output_type": "execute_result"
    }
   ],
   "source": [
    "# dir shows the methods defined on a class\n",
    "# __XYZ__ are \"special\" methods - ignore them for now\n",
    "\n",
    "dir(list)"
   ]
  },
  {
   "cell_type": "markdown",
   "metadata": {},
   "source": [
    "# Iterating over Lists\n",
    "- Many ways to iterate, we'll look at the\n",
    "two most important here, 'for' and 'list comprehensions'\n",
    "- Python does NOT have C++/Java style loops, like:\n",
    "\n",
    "\n",
    "for(int j = 0; j<5; j++)\n",
    "{\n",
    "}"
   ]
  },
  {
   "cell_type": "markdown",
   "metadata": {},
   "source": [
    "# for loop\n",
    "- Python version of C++/Java loop above\n",
    "- Python loops are simpler\n",
    "- note trailing ':', and indented print statements - defines a statement block\n",
    "- Python uses idents and ':' to define blocks, unlike C/Java, which uses '{}'"
   ]
  },
  {
   "cell_type": "code",
   "execution_count": 224,
   "metadata": {
    "collapsed": false
   },
   "outputs": [
    {
     "name": "stdout",
     "output_type": "stream",
     "text": [
      "10\n",
      "20\n",
      "11\n",
      "21\n",
      "12\n",
      "22\n",
      "13\n",
      "23\n",
      "14\n",
      "24\n",
      "loop finished\n"
     ]
    }
   ],
   "source": [
    "for j in range(10,15):\n",
    "    print(j)\n",
    "    print(j+10)\n",
    "print('loop finished')"
   ]
  },
  {
   "cell_type": "code",
   "execution_count": 225,
   "metadata": {
    "collapsed": false
   },
   "outputs": [
    {
     "data": {
      "text/plain": [
       "10"
      ]
     },
     "execution_count": 225,
     "metadata": {},
     "output_type": "execute_result"
    }
   ],
   "source": [
    "# to sum up a list of numbers\n",
    "# use zn 'acculumation variable'\n",
    "\n",
    "sum = 0\n",
    "\n",
    "for j in range(5):\n",
    "    sum += j\n",
    "\n",
    "sum"
   ]
  },
  {
   "cell_type": "code",
   "execution_count": 226,
   "metadata": {
    "collapsed": false
   },
   "outputs": [
    {
     "data": {
      "text/plain": [
       "[10, 11, 12, 13, 14]"
      ]
     },
     "execution_count": 226,
     "metadata": {},
     "output_type": "execute_result"
    }
   ],
   "source": [
    "# add 10 to every element of a list\n",
    "# use list acculumation variable\n",
    "\n",
    "a10 = []\n",
    "\n",
    "for j in range(5):\n",
    "    a10.append(10+j)\n",
    "\n",
    "a10"
   ]
  },
  {
   "cell_type": "markdown",
   "metadata": {},
   "source": [
    "# list comprehension\n",
    "- above technique is not conidered 'pythonic'\n",
    "- syntax is a little odd at first glance\n",
    "- no accum var needed\n",
    "- can optionally do filtering"
   ]
  },
  {
   "cell_type": "code",
   "execution_count": 227,
   "metadata": {
    "collapsed": false
   },
   "outputs": [
    {
     "data": {
      "text/plain": [
       "[10, 11, 12, 13, 14]"
      ]
     },
     "execution_count": 227,
     "metadata": {},
     "output_type": "execute_result"
    }
   ],
   "source": [
    "# add 10 again\n",
    "\n",
    "[j+10 for j in range(5)]"
   ]
  },
  {
   "cell_type": "code",
   "execution_count": 228,
   "metadata": {
    "collapsed": false
   },
   "outputs": [
    {
     "data": {
      "text/plain": [
       "[10, 12, 14]"
      ]
     },
     "execution_count": 228,
     "metadata": {},
     "output_type": "execute_result"
    }
   ],
   "source": [
    "# filter - add 10 only to even ints\n",
    "# '%' is mod operator\n",
    "\n",
    "[j+10 for j in range(5) if j % 2 == 0]"
   ]
  },
  {
   "cell_type": "markdown",
   "metadata": {},
   "source": [
    "# Tuples\n",
    "- like lists, but immutable - can't be modified after creation\n",
    "    - however, objects that the tuple refers to can still be modified\n",
    "- useful for functional programming\n",
    "- 'tuple' is the type name"
   ]
  },
  {
   "cell_type": "code",
   "execution_count": 232,
   "metadata": {
    "collapsed": false
   },
   "outputs": [
    {
     "data": {
      "text/plain": [
       "[(1, [5, 6], 4), 3, tuple]"
      ]
     },
     "execution_count": 232,
     "metadata": {},
     "output_type": "execute_result"
    }
   ],
   "source": [
    "# len returns length of top level elements\n",
    "\n",
    "t = (1,[5,6],4)\n",
    "[t , len(t), type(t)]"
   ]
  },
  {
   "cell_type": "code",
   "execution_count": 233,
   "metadata": {
    "collapsed": false
   },
   "outputs": [
    {
     "data": {
      "text/plain": [
       "3"
      ]
     },
     "execution_count": 233,
     "metadata": {},
     "output_type": "execute_result"
    }
   ],
   "source": [
    "len(t)"
   ]
  },
  {
   "cell_type": "code",
   "execution_count": 234,
   "metadata": {
    "collapsed": false
   },
   "outputs": [
    {
     "data": {
      "text/plain": [
       "1"
      ]
     },
     "execution_count": 234,
     "metadata": {},
     "output_type": "execute_result"
    }
   ],
   "source": [
    "# can retrieve\n",
    "\n",
    "t[0]"
   ]
  },
  {
   "cell_type": "code",
   "execution_count": 235,
   "metadata": {
    "collapsed": false
   },
   "outputs": [
    {
     "ename": "TypeError",
     "evalue": "'tuple' object does not support item assignment",
     "output_type": "error",
     "traceback": [
      "\u001b[0;31m---------------------------------------------------------------------------\u001b[0m",
      "\u001b[0;31mTypeError\u001b[0m                                 Traceback (most recent call last)",
      "\u001b[0;32m<ipython-input-235-5ac5b4647ba0>\u001b[0m in \u001b[0;36m<module>\u001b[0;34m()\u001b[0m\n\u001b[1;32m      1\u001b[0m \u001b[0;31m# but can't modify\u001b[0m\u001b[0;34m\u001b[0m\u001b[0;34m\u001b[0m\u001b[0m\n\u001b[1;32m      2\u001b[0m \u001b[0;34m\u001b[0m\u001b[0m\n\u001b[0;32m----> 3\u001b[0;31m \u001b[0mt\u001b[0m\u001b[0;34m[\u001b[0m\u001b[0;36m0\u001b[0m\u001b[0;34m]\u001b[0m \u001b[0;34m=\u001b[0m \u001b[0;36m3\u001b[0m\u001b[0;34m\u001b[0m\u001b[0m\n\u001b[0m",
      "\u001b[0;31mTypeError\u001b[0m: 'tuple' object does not support item assignment"
     ]
    }
   ],
   "source": [
    "# but can't modify\n",
    "\n",
    "t[0] = 3"
   ]
  },
  {
   "cell_type": "code",
   "execution_count": 236,
   "metadata": {
    "collapsed": false
   },
   "outputs": [
    {
     "data": {
      "text/plain": [
       "(1, [5, 6], 4)"
      ]
     },
     "execution_count": 236,
     "metadata": {},
     "output_type": "execute_result"
    }
   ],
   "source": [
    "t"
   ]
  },
  {
   "cell_type": "code",
   "execution_count": 237,
   "metadata": {
    "collapsed": false
   },
   "outputs": [
    {
     "data": {
      "text/plain": [
       "(1, [45, 6], 4)"
      ]
     },
     "execution_count": 237,
     "metadata": {},
     "output_type": "execute_result"
    }
   ],
   "source": [
    "# but - objects the tuple refers to are NOT made immutable\n",
    "\n",
    "t[1][0] = 45\n",
    "t"
   ]
  },
  {
   "cell_type": "code",
   "execution_count": 238,
   "metadata": {
    "collapsed": false
   },
   "outputs": [
    {
     "name": "stdout",
     "output_type": "stream",
     "text": [
      "1\n",
      "2\n",
      "3\n"
     ]
    }
   ],
   "source": [
    "# tuples loop like lists\n",
    "\n",
    "for x in (1,2,3):\n",
    "    print(x)"
   ]
  },
  {
   "cell_type": "markdown",
   "metadata": {},
   "source": [
    "# Iterables\n",
    "- 'iterables' are objects you can iterate over\n",
    "- lists and tuples are iterables"
   ]
  },
  {
   "cell_type": "markdown",
   "metadata": {},
   "source": [
    "# Strings\n",
    "+ immutable - once created, cannot be modified\n",
    "- in Python version 3.X, strings are unicode\n",
    "- many useful methods\n",
    "- the 're' module provides regular expression pattern matching\n",
    "- three types of string literals 'foo', \"foo\", and '''foo'''\n",
    "- triple quotes can include multiple lines\n",
    "- unlike other languages, there is no 'character' type\n",
    "- a Python 'character' is just a length 1 string\n",
    "- 'str' is the type name"
   ]
  },
  {
   "cell_type": "code",
   "execution_count": 239,
   "metadata": {
    "collapsed": false
   },
   "outputs": [
    {
     "data": {
      "text/plain": [
       "['foobar', 'foo\"bar', str, 6]"
      ]
     },
     "execution_count": 239,
     "metadata": {},
     "output_type": "execute_result"
    }
   ],
   "source": [
    "# len returns number of characters\n",
    "\n",
    "['foobar', 'foo\"bar', type('foobar'), len('foobar')]"
   ]
  },
  {
   "cell_type": "code",
   "execution_count": 240,
   "metadata": {
    "collapsed": false
   },
   "outputs": [
    {
     "data": {
      "text/plain": [
       "['foo\"bar', \"foo'bar\", \"foo'bar\"]"
      ]
     },
     "execution_count": 240,
     "metadata": {},
     "output_type": "execute_result"
    }
   ],
   "source": [
    "# various ways to embed quotes\n",
    "\n",
    "['foo\"bar', \"foo'bar\", 'foo\\'bar']"
   ]
  },
  {
   "cell_type": "code",
   "execution_count": 241,
   "metadata": {
    "collapsed": false
   },
   "outputs": [
    {
     "data": {
      "text/plain": [
       "'\\nfoo\\'\\nbar\"\\n'"
      ]
     },
     "execution_count": 241,
     "metadata": {},
     "output_type": "execute_result"
    }
   ],
   "source": [
    "# use triple quotes to define multi-line strings\n",
    "\n",
    "'''\n",
    "foo'\n",
    "bar\"\n",
    "'''"
   ]
  },
  {
   "cell_type": "code",
   "execution_count": 242,
   "metadata": {
    "collapsed": false
   },
   "outputs": [
    {
     "name": "stdout",
     "output_type": "stream",
     "text": [
      "F\n",
      "o\n",
      "o\n",
      "B\n",
      "a\n",
      "r\n"
     ]
    }
   ],
   "source": [
    "# Strings are iterables\n",
    "\n",
    "for s in 'FooBar':\n",
    "    print(s)"
   ]
  },
  {
   "cell_type": "code",
   "execution_count": 243,
   "metadata": {
    "collapsed": false
   },
   "outputs": [],
   "source": [
    "# string methods that return a string always return a NEW string. \n",
    "# the original string is NEVER modified\n",
    "\n",
    "s = 'FooBar'\n",
    "ls = [s, s.lower(), s.upper(), s.replace('o','X'), s.swapcase()]\n"
   ]
  },
  {
   "cell_type": "code",
   "execution_count": 244,
   "metadata": {
    "collapsed": false
   },
   "outputs": [
    {
     "data": {
      "text/plain": [
       "['FooBar', 'foobar', 'FOOBAR', 'FXXBar', 'fOObAR']"
      ]
     },
     "execution_count": 244,
     "metadata": {},
     "output_type": "execute_result"
    }
   ],
   "source": [
    "# first element of list is the original 'FooBar' - has not\n",
    "# been modified by any of the methods run above\n",
    "# rest of list contains 4 NEW string objects, derived from the\n",
    "# original 'FooBar'\n",
    "\n",
    "ls"
   ]
  },
  {
   "cell_type": "code",
   "execution_count": 245,
   "metadata": {
    "collapsed": false
   },
   "outputs": [
    {
     "data": {
      "text/plain": [
       "['FooBar,foobar,FOOBAR,FXXBar,fOObAR',\n",
       " 'FooBar|foobar|FOOBAR|FXXBar|fOObAR',\n",
       " 'FooBar---foobar---FOOBAR---FXXBar---fOObAR']"
      ]
     },
     "execution_count": 245,
     "metadata": {},
     "output_type": "execute_result"
    }
   ],
   "source": [
    "# join is a very handy method\n",
    "\n",
    "[','.join(ls), '|'.join(ls), '---'.join(ls)]"
   ]
  },
  {
   "cell_type": "code",
   "execution_count": 246,
   "metadata": {
    "collapsed": false
   },
   "outputs": [
    {
     "data": {
      "text/plain": [
       "['foo', 'bar', '34', 'zap']"
      ]
     },
     "execution_count": 246,
     "metadata": {},
     "output_type": "execute_result"
    }
   ],
   "source": [
    "# the inverse, split, creates a list of tokens\n",
    "\n",
    "s = \"foo,bar,34,zap\"\n",
    "s.split(\",\")"
   ]
  },
  {
   "cell_type": "code",
   "execution_count": 247,
   "metadata": {
    "collapsed": false
   },
   "outputs": [
    {
     "data": {
      "text/plain": [
       "['fooXbar', 'fooXbarXXX', 'XXfooXbar']"
      ]
     },
     "execution_count": 247,
     "metadata": {},
     "output_type": "execute_result"
    }
   ],
   "source": [
    "# strip can remove chars at the begining(left) and/or end(right) of a string\n",
    "# Note middle 'X' is not removed\n",
    "# Most commonly used to remove new lines from a string\n",
    "\n",
    "s = 'XXfooXbarXXX'\n",
    "[s.strip('X'), s.lstrip('X'), s.rstrip('X')]"
   ]
  },
  {
   "cell_type": "code",
   "execution_count": 248,
   "metadata": {
    "collapsed": false
   },
   "outputs": [
    {
     "data": {
      "text/plain": [
       "'XXfooXbarXXXXXfooXbarXXX'"
      ]
     },
     "execution_count": 248,
     "metadata": {},
     "output_type": "execute_result"
    }
   ],
   "source": [
    "# '+' concatenates strings as well as lists\n",
    "# the operation '+' performs depends on the type of the arguments\n",
    "\n",
    "s + s"
   ]
  },
  {
   "cell_type": "code",
   "execution_count": 249,
   "metadata": {
    "collapsed": false
   },
   "outputs": [
    {
     "data": {
      "text/plain": [
       "['abcabc', 'xyzxyzxyzxyz']"
      ]
     },
     "execution_count": 249,
     "metadata": {},
     "output_type": "execute_result"
    }
   ],
   "source": [
    "# can repeat strings\n",
    "\n",
    "[2*\"abc\", \"xyz\"*4]"
   ]
  },
  {
   "cell_type": "code",
   "execution_count": 250,
   "metadata": {
    "collapsed": false
   },
   "outputs": [
    {
     "data": {
      "text/plain": [
       "[True, False, 2, 1]"
      ]
     },
     "execution_count": 250,
     "metadata": {},
     "output_type": "execute_result"
    }
   ],
   "source": [
    "# 'in' looks for substrings\n",
    "# case sensitive compares\n",
    "\n",
    "s = 'zappa'\n",
    "['pa' in s, 'Za' in s, s.count('p'), s.count('ap')]"
   ]
  },
  {
   "cell_type": "code",
   "execution_count": 251,
   "metadata": {
    "collapsed": false
   },
   "outputs": [
    {
     "data": {
      "text/plain": [
       "[3, 3]"
      ]
     },
     "execution_count": 251,
     "metadata": {},
     "output_type": "execute_result"
    }
   ],
   "source": [
    "# search for a substring with 'find' or 'index'\n",
    "\n",
    "[s.find('pa'), s.index('pa')]"
   ]
  },
  {
   "cell_type": "code",
   "execution_count": 252,
   "metadata": {
    "collapsed": false
   },
   "outputs": [
    {
     "data": {
      "text/plain": [
       "-1"
      ]
     },
     "execution_count": 252,
     "metadata": {},
     "output_type": "execute_result"
    }
   ],
   "source": [
    "# on a miss, 'find' returns -1\n",
    "\n",
    "s.find('32')"
   ]
  },
  {
   "cell_type": "code",
   "execution_count": 253,
   "metadata": {
    "collapsed": false
   },
   "outputs": [
    {
     "ename": "ValueError",
     "evalue": "substring not found",
     "output_type": "error",
     "traceback": [
      "\u001b[0;31m---------------------------------------------------------------------------\u001b[0m",
      "\u001b[0;31mValueError\u001b[0m                                Traceback (most recent call last)",
      "\u001b[0;32m<ipython-input-253-ca1c8ab7d822>\u001b[0m in \u001b[0;36m<module>\u001b[0;34m()\u001b[0m\n\u001b[1;32m      1\u001b[0m \u001b[0;31m# but index throws an error\u001b[0m\u001b[0;34m\u001b[0m\u001b[0;34m\u001b[0m\u001b[0m\n\u001b[1;32m      2\u001b[0m \u001b[0;34m\u001b[0m\u001b[0m\n\u001b[0;32m----> 3\u001b[0;31m \u001b[0ms\u001b[0m\u001b[0;34m.\u001b[0m\u001b[0mindex\u001b[0m\u001b[0;34m(\u001b[0m\u001b[0;34m'32'\u001b[0m\u001b[0;34m)\u001b[0m\u001b[0;34m\u001b[0m\u001b[0m\n\u001b[0m",
      "\u001b[0;31mValueError\u001b[0m: substring not found"
     ]
    }
   ],
   "source": [
    "# but index throws an error\n",
    "\n",
    "s.index('32')"
   ]
  },
  {
   "cell_type": "code",
   "execution_count": 254,
   "metadata": {
    "collapsed": false
   },
   "outputs": [
    {
     "data": {
      "text/plain": [
       "[65, 'A']"
      ]
     },
     "execution_count": 254,
     "metadata": {},
     "output_type": "execute_result"
    }
   ],
   "source": [
    "# 'ord' and 'chr' do character-number conversions\n",
    "\n",
    "[ord('A'), chr(65)]"
   ]
  },
  {
   "cell_type": "code",
   "execution_count": 255,
   "metadata": {
    "collapsed": false
   },
   "outputs": [
    {
     "data": {
      "text/plain": [
       "'abcdefghijklmnopqrstuvwxyz'"
      ]
     },
     "execution_count": 255,
     "metadata": {},
     "output_type": "execute_result"
    }
   ],
   "source": [
    "# make the lower case chars, a-z\n",
    "# somewhat terse one liner - \n",
    "# in Python you can do alot with a little code, \n",
    "# but can be hard to read\n",
    "\n",
    "lc= ''.join([chr(c) for c in range(ord('a'), ord('z')+1)])\n",
    "lc"
   ]
  },
  {
   "cell_type": "code",
   "execution_count": 256,
   "metadata": {
    "collapsed": false
   },
   "outputs": [
    {
     "data": {
      "text/plain": [
       "[97, 122]"
      ]
     },
     "execution_count": 256,
     "metadata": {},
     "output_type": "execute_result"
    }
   ],
   "source": [
    "# let's break it into separate steps:\n",
    "# get the ascii codes for 'a' and 'z'\n",
    "\n",
    "a = ord('a')\n",
    "z = ord('z')\n",
    "[a,z]"
   ]
  },
  {
   "cell_type": "code",
   "execution_count": 257,
   "metadata": {
    "collapsed": false
   },
   "outputs": [
    {
     "name": "stdout",
     "output_type": "stream",
     "text": [
      "[97, 98, 99, 100, 101, 102, 103, 104, 105, 106, 107, 108, 109, 110, 111, 112, 113, 114, 115, 116, 117, 118, 119, 120, 121, 122]\n"
     ]
    }
   ],
   "source": [
    "# now we have all the codes for 'a' to 'z'\n",
    "# note the z+1 - need the +1 to get the z code\n",
    "\n",
    "codes = [c for c in range(a,z+1)]\n",
    "print(codes)"
   ]
  },
  {
   "cell_type": "code",
   "execution_count": 258,
   "metadata": {
    "collapsed": false
   },
   "outputs": [
    {
     "name": "stdout",
     "output_type": "stream",
     "text": [
      "['a', 'b', 'c', 'd', 'e', 'f', 'g', 'h', 'i', 'j', 'k', 'l', 'm', 'n', 'o', 'p', 'q', 'r', 's', 't', 'u', 'v', 'w', 'x', 'y', 'z']\n"
     ]
    }
   ],
   "source": [
    "# now we have a list of the lower case characters\n",
    "\n",
    "chars = [chr(c) for c in codes]\n",
    "print(chars)"
   ]
  },
  {
   "cell_type": "code",
   "execution_count": 259,
   "metadata": {
    "collapsed": false
   },
   "outputs": [
    {
     "data": {
      "text/plain": [
       "'abcdefghijklmnopqrstuvwxyz'"
      ]
     },
     "execution_count": 259,
     "metadata": {},
     "output_type": "execute_result"
    }
   ],
   "source": [
    "# last step - using the 'join' method on string, \n",
    "# merge the chars into one string\n",
    "\n",
    "''.join(chars)"
   ]
  },
  {
   "cell_type": "code",
   "execution_count": 260,
   "metadata": {
    "collapsed": false
   },
   "outputs": [
    {
     "data": {
      "text/plain": [
       "'abcdefghijklmnopqrstuvwxyz'"
      ]
     },
     "execution_count": 260,
     "metadata": {},
     "output_type": "execute_result"
    }
   ],
   "source": [
    "# now that we have suffered, there is an easier way\n",
    "# string package has useful constants\n",
    "\n",
    "import string\n",
    "string.ascii_lowercase"
   ]
  },
  {
   "cell_type": "code",
   "execution_count": 261,
   "metadata": {
    "collapsed": false
   },
   "outputs": [
    {
     "data": {
      "text/plain": [
       "[26, 'klmnopqrst', 'kmoqs', 'k']"
      ]
     },
     "execution_count": 261,
     "metadata": {},
     "output_type": "execute_result"
    }
   ],
   "source": [
    "# can slice strings too\n",
    "\n",
    "[len(lc), lc[10:20], lc[10:20:2], lc[10:11]]"
   ]
  },
  {
   "cell_type": "code",
   "execution_count": 262,
   "metadata": {
    "collapsed": false
   },
   "outputs": [
    {
     "ename": "TypeError",
     "evalue": "'str' object does not support item assignment",
     "output_type": "error",
     "traceback": [
      "\u001b[0;31m---------------------------------------------------------------------------\u001b[0m",
      "\u001b[0;31mTypeError\u001b[0m                                 Traceback (most recent call last)",
      "\u001b[0;32m<ipython-input-262-28c99246d7b8>\u001b[0m in \u001b[0;36m<module>\u001b[0;34m()\u001b[0m\n\u001b[1;32m      2\u001b[0m \u001b[0;34m\u001b[0m\u001b[0m\n\u001b[1;32m      3\u001b[0m \u001b[0ms\u001b[0m \u001b[0;34m=\u001b[0m \u001b[0;34m'foobar'\u001b[0m\u001b[0;34m\u001b[0m\u001b[0m\n\u001b[0;32m----> 4\u001b[0;31m \u001b[0ms\u001b[0m\u001b[0;34m[\u001b[0m\u001b[0;36m0\u001b[0m\u001b[0;34m]\u001b[0m \u001b[0;34m=\u001b[0m \u001b[0;34m't'\u001b[0m\u001b[0;34m\u001b[0m\u001b[0m\n\u001b[0m",
      "\u001b[0;31mTypeError\u001b[0m: 'str' object does not support item assignment"
     ]
    }
   ],
   "source": [
    "# unlike a list, a string is immutable - you can't change anything\n",
    "\n",
    "s = 'foobar'\n",
    "s[0] = 't'"
   ]
  },
  {
   "cell_type": "code",
   "execution_count": 263,
   "metadata": {
    "collapsed": false
   },
   "outputs": [
    {
     "data": {
      "text/plain": [
       "['4321', [4, 3, 2, 1]]"
      ]
     },
     "execution_count": 263,
     "metadata": {},
     "output_type": "execute_result"
    }
   ],
   "source": [
    "# unlike list objects, string objects don't have a reverse method\n",
    "# but you can reverse with a slice\n",
    "# works with lists as well\n",
    "\n",
    "s = '1234'\n",
    "z = [1,2,3,4]\n",
    "[s[::-1], z[::-1]]"
   ]
  },
  {
   "cell_type": "code",
   "execution_count": 264,
   "metadata": {
    "collapsed": false
   },
   "outputs": [
    {
     "data": {
      "text/plain": [
       "[True, True, False]"
      ]
     },
     "execution_count": 264,
     "metadata": {},
     "output_type": "execute_result"
    }
   ],
   "source": [
    "# startswith, endwith string methods are sometimes \n",
    "# convenient alternatives to regular expressions\n",
    "\n",
    "a = \"foo.txt\"\n",
    "\n",
    "[a.startswith('foo'), a.endswith('txt'), a.endswith('txt2')]"
   ]
  },
  {
   "cell_type": "code",
   "execution_count": 265,
   "metadata": {
    "collapsed": false
   },
   "outputs": [
    {
     "data": {
      "text/plain": [
       "['234', '3.34', '[1, 2, 3]']"
      ]
     },
     "execution_count": 265,
     "metadata": {},
     "output_type": "execute_result"
    }
   ],
   "source": [
    "# 'str' converts objects to strings\n",
    "\n",
    "[str(234), str(3.34), str([1,2,3])]"
   ]
  },
  {
   "cell_type": "code",
   "execution_count": 266,
   "metadata": {
    "collapsed": false
   },
   "outputs": [
    {
     "data": {
      "text/plain": [
       "['f', 'o', 'o', 'b', 'a', 'r']"
      ]
     },
     "execution_count": 266,
     "metadata": {},
     "output_type": "execute_result"
    }
   ],
   "source": [
    "# 'list' converts a string into a list of \n",
    "# characters(length one strings)\n",
    "\n",
    "list('foobar')"
   ]
  },
  {
   "cell_type": "markdown",
   "metadata": {},
   "source": [
    "# 'printf' style string formatting - old way\n",
    "    - still works, but deprecated"
   ]
  },
  {
   "cell_type": "code",
   "execution_count": 267,
   "metadata": {
    "collapsed": false
   },
   "outputs": [
    {
     "data": {
      "text/plain": [
       "'int 3 float 5.500000 string printf'"
      ]
     },
     "execution_count": 267,
     "metadata": {},
     "output_type": "execute_result"
    }
   ],
   "source": [
    "'int %d float %f string %s' % (3, 5.5, 'printf')"
   ]
  },
  {
   "cell_type": "markdown",
   "metadata": {},
   "source": [
    "# 'printf' style string formatting - new way\n",
    "- preferred method\n",
    "- looks at the type of the arg, so don't have to specify type in control string\n",
    "- [details](https://docs.python.org/3.5/library/string.html#custom-string-formatting)"
   ]
  },
  {
   "cell_type": "code",
   "execution_count": 268,
   "metadata": {
    "collapsed": false
   },
   "outputs": [
    {
     "data": {
      "text/plain": [
       "'int 3 float 5.5 string printf'"
      ]
     },
     "execution_count": 268,
     "metadata": {},
     "output_type": "execute_result"
    }
   ],
   "source": [
    "'int {} float {} string {}'.format(3, 5.5, 'printf')"
   ]
  },
  {
   "cell_type": "code",
   "execution_count": 269,
   "metadata": {
    "collapsed": false
   },
   "outputs": [
    {
     "data": {
      "text/plain": [
       "['__add__',\n",
       " '__class__',\n",
       " '__contains__',\n",
       " '__delattr__',\n",
       " '__dir__',\n",
       " '__doc__',\n",
       " '__eq__',\n",
       " '__format__',\n",
       " '__ge__',\n",
       " '__getattribute__',\n",
       " '__getitem__',\n",
       " '__getnewargs__',\n",
       " '__gt__',\n",
       " '__hash__',\n",
       " '__init__',\n",
       " '__iter__',\n",
       " '__le__',\n",
       " '__len__',\n",
       " '__lt__',\n",
       " '__mod__',\n",
       " '__mul__',\n",
       " '__ne__',\n",
       " '__new__',\n",
       " '__reduce__',\n",
       " '__reduce_ex__',\n",
       " '__repr__',\n",
       " '__rmod__',\n",
       " '__rmul__',\n",
       " '__setattr__',\n",
       " '__sizeof__',\n",
       " '__str__',\n",
       " '__subclasshook__',\n",
       " 'capitalize',\n",
       " 'casefold',\n",
       " 'center',\n",
       " 'count',\n",
       " 'encode',\n",
       " 'endswith',\n",
       " 'expandtabs',\n",
       " 'find',\n",
       " 'format',\n",
       " 'format_map',\n",
       " 'index',\n",
       " 'isalnum',\n",
       " 'isalpha',\n",
       " 'isdecimal',\n",
       " 'isdigit',\n",
       " 'isidentifier',\n",
       " 'islower',\n",
       " 'isnumeric',\n",
       " 'isprintable',\n",
       " 'isspace',\n",
       " 'istitle',\n",
       " 'isupper',\n",
       " 'join',\n",
       " 'ljust',\n",
       " 'lower',\n",
       " 'lstrip',\n",
       " 'maketrans',\n",
       " 'partition',\n",
       " 'replace',\n",
       " 'rfind',\n",
       " 'rindex',\n",
       " 'rjust',\n",
       " 'rpartition',\n",
       " 'rsplit',\n",
       " 'rstrip',\n",
       " 'split',\n",
       " 'splitlines',\n",
       " 'startswith',\n",
       " 'strip',\n",
       " 'swapcase',\n",
       " 'title',\n",
       " 'translate',\n",
       " 'upper',\n",
       " 'zfill']"
      ]
     },
     "execution_count": 269,
     "metadata": {},
     "output_type": "execute_result"
    }
   ],
   "source": [
    "# lots of methods on strings\n",
    "\n",
    "dir(str)"
   ]
  }
 ],
 "metadata": {
  "anaconda-cloud": {},
  "kernelspec": {
   "display_name": "Python [conda root]",
   "language": "python",
   "name": "conda-root-py"
  },
  "language_info": {
   "codemirror_mode": {
    "name": "ipython",
    "version": 3
   },
   "file_extension": ".py",
   "mimetype": "text/x-python",
   "name": "python",
   "nbconvert_exporter": "python",
   "pygments_lexer": "ipython3",
   "version": "3.5.2"
  }
 },
 "nbformat": 4,
 "nbformat_minor": 0
}
