{
 "cells": [
  {
   "cell_type": "code",
   "execution_count": 47,
   "metadata": {
    "collapsed": false
   },
   "outputs": [],
   "source": [
    "def countcircle(inp2):\n",
    "    inp=[]\n",
    "    for item in inp2:\n",
    "        inp.append(list(item))\n",
    "    \n",
    "    \n",
    "    #first use BFS to search ,start from the first people, and search through all the other people connect with the first one\n",
    "    n=len(inp)\n",
    "    visit=[0]*n\n",
    "    #initially check from node 0\n",
    "    bfs=[0]\n",
    "    visit[0]=1\n",
    "    i=0\n",
    "    count=1\n",
    "    \n",
    "    while(len(bfs)!=0):\n",
    "        start=bfs[0]\n",
    "        for elem in range(n):\n",
    "            if(inp[start][elem]=='Y') and (start!=elem):\n",
    "                print('find friendship')\n",
    "                print([start,elem])\n",
    "                inp[start][elem]=inp[elem][start]='N';\n",
    "                \n",
    "                if not(visit[elem]):\n",
    "                    visit[elem]=1\n",
    "                    bfs.append(elem)\n",
    "                    \n",
    "                    print('after append bfs: ') \n",
    "                    print(bfs)\n",
    "                    \n",
    "        del bfs[0]\n",
    "        print('after del bfs:')\n",
    "        print(bfs)\n",
    "        \n",
    "        \n",
    "        if(len(bfs)==0):\n",
    "            while(i<n):\n",
    "                if not(visit[i]):\n",
    "                    break\n",
    "                i+=1\n",
    "            if(i<n):\n",
    "                bfs.append(i)\n",
    "                visit[i]=1\n",
    "                count+=1\n",
    "        \n",
    "    return count\n"
   ]
  },
  {
   "cell_type": "code",
   "execution_count": 50,
   "metadata": {
    "collapsed": false
   },
   "outputs": [
    {
     "name": "stdout",
     "output_type": "stream",
     "text": [
      "find friendship\n",
      "[0, 2]\n",
      "after append bfs: \n",
      "[0, 2]\n",
      "find friendship\n",
      "[0, 3]\n",
      "after append bfs: \n",
      "[0, 2, 3]\n",
      "after del bfs:\n",
      "[2, 3]\n",
      "find friendship\n",
      "[2, 1]\n",
      "after append bfs: \n",
      "[2, 3, 1]\n",
      "after del bfs:\n",
      "[3, 1]\n",
      "after del bfs:\n",
      "[1]\n",
      "after del bfs:\n",
      "[]\n"
     ]
    },
    {
     "data": {
      "text/plain": [
       "1"
      ]
     },
     "execution_count": 50,
     "metadata": {},
     "output_type": "execute_result"
    }
   ],
   "source": [
    "inp=['YNYY','NYYN','YYYN','YNNY']\n",
    "countcircle(inp)"
   ]
  },
  {
   "cell_type": "code",
   "execution_count": 53,
   "metadata": {
    "collapsed": false
   },
   "outputs": [
    {
     "name": "stdout",
     "output_type": "stream",
     "text": [
      "find friendship\n",
      "[0, 1]\n",
      "after append bfs: \n",
      "[0, 1]\n",
      "after del bfs:\n",
      "[1]\n",
      "find friendship\n",
      "[1, 2]\n",
      "after append bfs: \n",
      "[1, 2]\n",
      "after del bfs:\n",
      "[2]\n",
      "after del bfs:\n",
      "[]\n",
      "after del bfs:\n",
      "[]\n"
     ]
    },
    {
     "data": {
      "text/plain": [
       "2"
      ]
     },
     "execution_count": 53,
     "metadata": {},
     "output_type": "execute_result"
    }
   ],
   "source": [
    "inp2=['YYNN','YYYN','NYYN','NNNY']\n",
    "countcircle(inp2)"
   ]
  },
  {
   "cell_type": "code",
   "execution_count": 52,
   "metadata": {
    "collapsed": false
   },
   "outputs": [
    {
     "name": "stdout",
     "output_type": "stream",
     "text": [
      "after del bfs:\n",
      "[]\n"
     ]
    },
    {
     "data": {
      "text/plain": [
       "1"
      ]
     },
     "execution_count": 52,
     "metadata": {},
     "output_type": "execute_result"
    }
   ],
   "source": [
    "inp3={'Y'}\n",
    "countcircle(inp3)"
   ]
  },
  {
   "cell_type": "code",
   "execution_count": null,
   "metadata": {
    "collapsed": true
   },
   "outputs": [],
   "source": []
  }
 ],
 "metadata": {
  "anaconda-cloud": {},
  "kernelspec": {
   "display_name": "Python [conda root]",
   "language": "python",
   "name": "conda-root-py"
  },
  "language_info": {
   "codemirror_mode": {
    "name": "ipython",
    "version": 3
   },
   "file_extension": ".py",
   "mimetype": "text/x-python",
   "name": "python",
   "nbconvert_exporter": "python",
   "pygments_lexer": "ipython3",
   "version": "3.5.2"
  }
 },
 "nbformat": 4,
 "nbformat_minor": 1
}
