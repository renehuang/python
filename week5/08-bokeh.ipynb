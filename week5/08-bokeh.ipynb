{
 "cells": [
  {
   "cell_type": "markdown",
   "metadata": {},
   "source": [
    "# bokeh module\n",
    "- interactive graphics in the browser\n",
    "- [doc](http://bokeh.pydata.org/en/latest/)"
   ]
  },
  {
   "cell_type": "code",
   "execution_count": null,
   "metadata": {
    "collapsed": false
   },
   "outputs": [],
   "source": [
    "from bokeh.charts import BoxPlot, output_notebook, show\n",
    "from bokeh.sampledata.autompg import autompg as df\n",
    "\n",
    "# origin = the source of the data that makes up the autompg dataset\n",
    "title = \"MPG by Cylinders and Data Source, Colored by Cylinders\"\n",
    "\n",
    "output_notebook(\"boxplot_single.html\")# title=\"boxplot_single.py example\")\n",
    "\n",
    "# color by one dimension and label by two dimensions\n",
    "# coloring by one of the columns visually groups them together\n",
    "box_plot = BoxPlot(df, label=['cyl', 'origin'], values='mpg',\n",
    "                   color='cyl', title=title)\n",
    "\n",
    "\n",
    "\n",
    "show(box_plot)"
   ]
  },
  {
   "cell_type": "code",
   "execution_count": null,
   "metadata": {
    "collapsed": true
   },
   "outputs": [],
   "source": [
    "from bokeh.models import HoverTool, ColumnDataSource\n",
    "from bokeh.plotting import figure, show\n",
    "from bokeh.sampledata.periodic_table import elements\n",
    "\n",
    "romans = [\"I\", \"II\", \"III\", \"IV\", \"V\", \"VI\", \"VII\"]\n",
    "\n",
    "elements = elements.copy()\n",
    "elements[\"atomic mass\"] = elements[\"atomic mass\"].astype(str)\n",
    "\n",
    "elements[\"period\"] = [romans[x-1] for x in elements.period]\n",
    "elements = elements[elements.group != \"-\"]\n",
    "\n",
    "group_range = [str(x) for x in range(1, 19)]\n",
    "\n",
    "colormap = {\n",
    "    \"alkali metal\"         : \"#a6cee3\",\n",
    "    \"alkaline earth metal\" : \"#1f78b4\",\n",
    "    \"halogen\"              : \"#fdbf6f\",\n",
    "    \"metal\"                : \"#b2df8a\",\n",
    "    \"metalloid\"            : \"#33a02c\",\n",
    "    \"noble gas\"            : \"#bbbb88\",\n",
    "    \"nonmetal\"             : \"#baa2a6\",\n",
    "    \"transition metal\"     : \"#e08e79\",\n",
    "}\n",
    "\n",
    "source = ColumnDataSource(\n",
    "    data=dict(\n",
    "        group=[str(x) for x in elements[\"group\"]],\n",
    "        period=[str(y) for y in elements[\"period\"]],\n",
    "        symx=[str(x)+\":0.1\" for x in elements[\"group\"]],\n",
    "        numbery=[str(x)+\":0.8\" for x in elements[\"period\"]],\n",
    "        massy=[str(x)+\":0.15\" for x in elements[\"period\"]],\n",
    "        namey=[str(x)+\":0.3\" for x in elements[\"period\"]],\n",
    "        sym=elements[\"symbol\"],\n",
    "        name=elements[\"name\"],\n",
    "        cpk=elements[\"CPK\"],\n",
    "        atomic_number=elements[\"atomic number\"],\n",
    "        electronic=elements[\"electronic configuration\"],\n",
    "        mass=elements[\"atomic mass\"],\n",
    "        type=elements[\"metal\"],\n",
    "        type_color=[colormap[x] for x in elements[\"metal\"]],\n",
    "    )\n",
    ")\n",
    "\n",
    "p = figure(title=\"Periodic Table\", tools=\"hover,save\",\n",
    "           x_range=group_range, y_range=list(reversed(romans)))\n",
    "p.plot_width = 1200\n",
    "p.toolbar_location = None\n",
    "p.outline_line_color = None\n",
    "\n",
    "p.rect(\"group\", \"period\", 0.9, 0.9, source=source,\n",
    "       fill_alpha=0.6, color=\"type_color\")\n",
    "\n",
    "text_props = {\n",
    "    \"source\": source,\n",
    "    \"angle\": 0,\n",
    "    \"color\": \"black\",\n",
    "    \"text_align\": \"left\",\n",
    "    \"text_baseline\": \"middle\"\n",
    "}\n",
    "\n",
    "p.text(x=\"symx\", y=\"period\", text=\"sym\",\n",
    "       text_font_style=\"bold\", text_font_size=\"15pt\", **text_props)\n",
    "\n",
    "p.text(x=\"symx\", y=\"numbery\", text=\"atomic_number\",\n",
    "       text_font_size=\"9pt\", **text_props)\n",
    "\n",
    "p.text(x=\"symx\", y=\"namey\", text=\"name\",\n",
    "       text_font_size=\"6pt\", **text_props)\n",
    "\n",
    "p.text(x=\"symx\", y=\"massy\", text=\"mass\",\n",
    "       text_font_size=\"5pt\", **text_props)\n",
    "\n",
    "p.grid.grid_line_color = None\n",
    "\n",
    "p.select_one(HoverTool).tooltips = [\n",
    "    (\"name\", \"@name\"),\n",
    "    (\"atomic number\", \"@atomic_number\"),\n",
    "    (\"type\", \"@type\"),\n",
    "    (\"atomic mass\", \"@mass\"),\n",
    "    (\"CPK color\", \"$color[hex, swatch]:cpk\"),\n",
    "    (\"electronic configuration\", \"@electronic\"),\n",
    "]\n",
    "\n",
    "show(p)  # Change to save(p) to save but not show the HTML file"
   ]
  },
  {
   "cell_type": "code",
   "execution_count": null,
   "metadata": {
    "collapsed": true
   },
   "outputs": [],
   "source": [
    "import numpy as np\n",
    "from bokeh.plotting import *\n",
    "from bokeh.models import ColumnDataSource\n",
    "\n",
    "# prepare some date\n",
    "N = 300\n",
    "x = np.linspace(0, 4*np.pi, N)\n",
    "y0 = np.sin(x)\n",
    "y1 = np.cos(x)\n",
    "\n",
    "# output to static HTML file\n",
    "output_file(\"linked_brushing.html\")\n",
    "\n",
    "# NEW: create a column data source for the plots to share\n",
    "source = ColumnDataSource(data=dict(x=x, y0=y0, y1=y1))\n",
    "\n",
    "TOOLS = \"pan,wheel_zoom,box_zoom,reset,save,box_select,lasso_select\"\n",
    "\n",
    "# create a new plot and add a renderer\n",
    "left = figure(tools=TOOLS, width=350, height=350, title=None)\n",
    "left.circle('x', 'y0', source=source)\n",
    "\n",
    "# create another new plot and add a renderer\n",
    "right = figure(tools=TOOLS, width=350, height=350, title=None)\n",
    "right.circle('x', 'y1', source=source)\n",
    "\n",
    "# put the subplots in a gridplot\n",
    "p = gridplot([[left, right]])\n",
    "\n",
    "# show the results\n",
    "show(p)"
   ]
  },
  {
   "cell_type": "code",
   "execution_count": null,
   "metadata": {
    "collapsed": false
   },
   "outputs": [],
   "source": [
    "from ipywidgets import interact\n",
    "import numpy as np\n",
    "\n",
    "from bokeh.io import push_notebook, show, output_notebook\n",
    "from bokeh.plotting import figure\n",
    "output_notebook()"
   ]
  },
  {
   "cell_type": "code",
   "execution_count": null,
   "metadata": {
    "collapsed": true
   },
   "outputs": [],
   "source": [
    "x = np.linspace(0, 2*np.pi, 2000)\n",
    "y = np.sin(x)\n",
    "\n",
    "p = figure(title=\"simple line example\", plot_height=300, plot_width=600, y_range=(-5,5))\n",
    "r = p.line(x, y, color=\"#2222aa\", line_width=3)\n",
    "\n",
    "def update(f, w=1, A=1, phi=0):\n",
    "    if   f == \"sin\": func = np.sin\n",
    "    elif f == \"cos\": func = np.cos\n",
    "    elif f == \"tan\": func = np.tan\n",
    "    r.data_source.data['y'] = A * func(w * x + phi)\n",
    "    push_notebook()\n",
    "    "
   ]
  },
  {
   "cell_type": "code",
   "execution_count": null,
   "metadata": {
    "collapsed": false
   },
   "outputs": [],
   "source": [
    "show(p, notebook_handle=True)"
   ]
  },
  {
   "cell_type": "code",
   "execution_count": null,
   "metadata": {
    "collapsed": false
   },
   "outputs": [],
   "source": [
    "interact(update, f=[\"sin\", \"cos\", \"tan\"], w=(0,100), A=(1,5), phi=(0, 20, 0.1))"
   ]
  },
  {
   "cell_type": "code",
   "execution_count": null,
   "metadata": {
    "collapsed": true
   },
   "outputs": [],
   "source": []
  }
 ],
 "metadata": {
  "kernelspec": {
   "display_name": "Python [conda root]",
   "language": "python",
   "name": "conda-root-py"
  },
  "language_info": {
   "codemirror_mode": {
    "name": "ipython",
    "version": 3
   },
   "file_extension": ".py",
   "mimetype": "text/x-python",
   "name": "python",
   "nbconvert_exporter": "python",
   "pygments_lexer": "ipython3",
   "version": "3.5.2"
  },
  "widgets": {
   "state": {
    "d4958ffd31f64c3b9e51ea00f01ff5f1": {
     "views": [
      {
       "cell_index": 5
      }
     ]
    }
   },
   "version": "1.2.0"
  }
 },
 "nbformat": 4,
 "nbformat_minor": 2
}
