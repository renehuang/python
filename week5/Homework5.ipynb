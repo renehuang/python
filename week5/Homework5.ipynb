{
 "cells": [
  {
   "cell_type": "markdown",
   "metadata": {},
   "source": [
    "# Introduction to Python\n",
    "# Homework #5\n",
    "# Due Thursday Noon 3/2 in Courseworks\n",
    "- You MUST submit on Courseworks before it closes\n",
    "- Email submissions are NOT accepted"
   ]
  },
  {
   "cell_type": "markdown",
   "metadata": {},
   "source": [
    "# Academic Honesty\n",
    "* The computer science department has strict polices. Check\n",
    "the department [web page](http://www.cs.columbia.edu/education/honesty) for details. \n",
    "- Do not look at anybody else's source code. Do not show anybody\n",
    "your source, or leave your source where somebody could see it.\n",
    "You MUST write your own code.\n",
    "- For this class, feel free to discuss issues with other people, but suggest waiting an hour or two after a discussion, before writing your code.\n",
    "-  Cases of non original source will be refered to the Judical Committee.\n",
    "\n"
   ]
  },
  {
   "cell_type": "markdown",
   "metadata": {},
   "source": [
    "# Problem 1 - Plot Bessel Functions\n",
    "- plot 'j0' bessel function \n",
    "    - [doc](https://docs.scipy.org/doc/scipy/reference/generated/scipy.special.j0.html#scipy.special.j0)\n",
    "- use 'jn_zeros' to find the zeros(where function plot crosses x axis) of 'j0' \n",
    "    - [doc](https://docs.scipy.org/doc/scipy/reference/generated/scipy.special.jn_zeros.html#scipy.special.jn_zeros)\n",
    "    - first arg must be 0\n",
    "- start the plot at x = 0 on the left\n",
    "- go as far right as needed to display the requested number of zeros\n",
    "- for a smooth plot, evaluate j0 at .1 increments(x = .0, .1, .2,...)\n",
    "    - can use np.arange to generate the x values\n",
    "    - [doc](https://docs.scipy.org/doc/numpy/reference/generated/numpy.arange.html)\n",
    "- return the list of j0 zeros\n",
    "- 04a-examples has simple function plotting examples\n"
   ]
  },
  {
   "cell_type": "code",
   "execution_count": 49,
   "metadata": {
    "collapsed": false
   },
   "outputs": [
    {
     "data": {
      "text/plain": [
       "[0.76519768655796649, 0.22389077914123562]"
      ]
     },
     "execution_count": 49,
     "metadata": {},
     "output_type": "execute_result"
    }
   ],
   "source": [
    "import numpy as np\n",
    "import scipy.special\n",
    "import matplotlib.pyplot as plt\n",
    "\n",
    "# make plots render in the notebook\n",
    "%matplotlib inline\n",
    "\n",
    "[scipy.special.j0(1), scipy.special.j0(2)]"
   ]
  },
  {
   "cell_type": "code",
   "execution_count": 50,
   "metadata": {
    "collapsed": false
   },
   "outputs": [
    {
     "data": {
      "text/plain": [
       "array([ 1.        ,  0.76519769])"
      ]
     },
     "execution_count": 50,
     "metadata": {},
     "output_type": "execute_result"
    }
   ],
   "source": [
    "# note j0() takes lists...\n",
    "\n",
    "scipy.special.j0([0,1])"
   ]
  },
  {
   "cell_type": "code",
   "execution_count": 51,
   "metadata": {
    "collapsed": false
   },
   "outputs": [
    {
     "data": {
      "text/plain": [
       "array([ 1.        ,  0.76519769])"
      ]
     },
     "execution_count": 51,
     "metadata": {},
     "output_type": "execute_result"
    }
   ],
   "source": [
    "# ...and arrays as args \n",
    "# returns an array of the evaluations\n",
    "\n",
    "scipy.special.j0(np.array([0,1]))"
   ]
  },
  {
   "cell_type": "code",
   "execution_count": 52,
   "metadata": {
    "collapsed": false
   },
   "outputs": [
    {
     "data": {
      "text/plain": [
       "array([ 2.40482556,  5.52007811,  8.65372791])"
      ]
     },
     "execution_count": 52,
     "metadata": {},
     "output_type": "execute_result"
    }
   ],
   "source": [
    "# first arg to jn_zeros must be 0\n",
    "\n",
    "# first three zeros of j0\n",
    "\n",
    "scipy.special.jn_zeros(0, 3)\n"
   ]
  },
  {
   "cell_type": "code",
   "execution_count": 58,
   "metadata": {
    "collapsed": false
   },
   "outputs": [
    {
     "data": {
      "text/plain": [
       "array([ -9.58688255e-17,  -1.64951298e-17,  -8.75148280e-17])"
      ]
     },
     "execution_count": 58,
     "metadata": {},
     "output_type": "execute_result"
    }
   ],
   "source": [
    "# check the zeros\n",
    "\n",
    "scipy.special.j0(scipy.special.jn_zeros(0, 3))"
   ]
  },
  {
   "cell_type": "code",
   "execution_count": 74,
   "metadata": {
    "collapsed": false
   },
   "outputs": [
    {
     "data": {
      "text/plain": [
       "array([ 2.40482556,  5.52007811])"
      ]
     },
     "execution_count": 74,
     "metadata": {},
     "output_type": "execute_result"
    },
    {
     "data": {
      "image/png": "[encoded data removed]",
      "text/plain": [
       "<matplotlib.figure.Figure at 0x10703d358>"
      ]
     },
     "metadata": {},
     "output_type": "display_data"
    }
   ],
   "source": [
    "bessel(2)"
   ]
  },
  {
   "cell_type": "code",
   "execution_count": 61,
   "metadata": {
    "collapsed": false
   },
   "outputs": [
    {
     "data": {
      "text/plain": [
       "array([  2.40482556,   5.52007811,   8.65372791,  11.79153444,  14.93091771])"
      ]
     },
     "execution_count": 61,
     "metadata": {},
     "output_type": "execute_result"
    },
    {
     "data": {
      "image/png": "[encoded data removed]",
      "text/plain": [
       "<matplotlib.figure.Figure at 0x10559b8d0>"
      ]
     },
     "metadata": {},
     "output_type": "display_data"
    }
   ],
   "source": [
    "bessel(5)"
   ]
  },
  {
   "cell_type": "code",
   "execution_count": 62,
   "metadata": {
    "collapsed": false
   },
   "outputs": [
    {
     "data": {
      "text/plain": [
       "array([  2.40482556,   5.52007811,   8.65372791,  11.79153444,\n",
       "        14.93091771,  18.07106397,  21.21163663,  24.35247153,\n",
       "        27.49347913,  30.63460647])"
      ]
     },
     "execution_count": 62,
     "metadata": {},
     "output_type": "execute_result"
    },
    {
     "data": {
      "image/png": "[encoded data removed]",
      "text/plain": [
       "<matplotlib.figure.Figure at 0x1055c0780>"
      ]
     },
     "metadata": {},
     "output_type": "display_data"
    }
   ],
   "source": [
    "bessel(10)"
   ]
  },
  {
   "cell_type": "code",
   "execution_count": 63,
   "metadata": {
    "collapsed": false
   },
   "outputs": [
    {
     "data": {
      "text/plain": [
       "array([  2.40482556,   5.52007811,   8.65372791,  11.79153444,\n",
       "        14.93091771,  18.07106397,  21.21163663,  24.35247153,\n",
       "        27.49347913,  30.63460647,  33.77582021,  36.91709835,\n",
       "        40.05842576,  43.19979171,  46.34118837,  49.4826099 ,\n",
       "        52.62405184,  55.76551076,  58.90698393,  62.04846919,\n",
       "        65.1899648 ,  68.33146933,  71.4729816 ,  74.61450064,\n",
       "        77.75602563,  80.89755587,  84.03909078,  87.18062984,\n",
       "        90.32217264,  93.46371878])"
      ]
     },
     "execution_count": 63,
     "metadata": {},
     "output_type": "execute_result"
    },
    {
     "data": {
      "image/png": "[encoded data removed]",
      "text/plain": [
       "<matplotlib.figure.Figure at 0x1075cb780>"
      ]
     },
     "metadata": {},
     "output_type": "display_data"
    }
   ],
   "source": [
    "bessel(30)"
   ]
  },
  {
   "cell_type": "markdown",
   "metadata": {},
   "source": [
    "# Problems 2 & 3\n",
    "- in class, we discussed two different ways to represent a polynomial\n",
    "    - polylist, a 'dense' represenation, that hold the coefficients in a list\n",
    "    - polydict, a 'sparse' representation, that holds (exponent, coefficent) pairs in a dict\n",
    "- add a method, 'topolydict()' to class 'polylist', that converts the polylist into a polydict\n",
    "- add a method, 'topolylist()' to class 'polydict', that converts the polydict into a polylist\n",
    "- add a method, ```__mul__``` to class 'polydict', which implements the '*' operator\n",
    "    - see examples below\n",
    "- note that polylist->polydict will always work, but polydict->polylist can fail, because a polylist cannot represent negative exponents. in this case, raise a ValueError\n",
    "- just to tell them apart, polylist prints with a leading '+'"
   ]
  },
  {
   "cell_type": "code",
   "execution_count": null,
   "metadata": {
    "collapsed": true
   },
   "outputs": [],
   "source": [
    "import functools\n",
    "\n",
    "class polylist: \n",
    "    ''' \n",
    "    list poly representation\n",
    "    coe[n] is the coefficient of the X**n term\n",
    "        \n",
    "    [1,2,3] <=> + 3*X**2 + 2*X + 1\n",
    "    '''\n",
    "    def __init__(self, coe):\n",
    "        self.coe = coe\n",
    "\n",
    "    def termString(self, c , e):\n",
    "        cs = str(c)\n",
    "        if c > 0:\n",
    "            cs = '+ ' + cs\n",
    "        if (e == 0):\n",
    "            return(cs)\n",
    "        if (e == 1):\n",
    "            return('%s*X' % cs)    \n",
    "        return('%s*X**%d' % (cs,e))\n",
    "        \n",
    "    def __str__(self):\n",
    "        # print math style\n",
    "        if self.coe == []:\n",
    "            return('0')\n",
    "        terms = [self.termString(c,e) \n",
    "            for e,c in enumerate(self.coe) \n",
    "            if c != 0]\n",
    "        terms.reverse()\n",
    "        s = (' '.join(terms))\n",
    "        # get rid of leading + \n",
    "        return(s)\n",
    "        \n",
    "    def __repr__(self):\n",
    "        return(self.__str__())\n",
    "\n",
    "    def __len__(self):\n",
    "        # number of non zero terms\n",
    "        # 0 len => bool false\n",
    "        return(len(self.coe) - self.coe.count(0))\n",
    "\n",
    "    def __add__(self, p2):\n",
    "        p1len = len(self.coe)\n",
    "        p2len = len(p2.coe)\n",
    "        pad = p2len - p1len\n",
    "        c1 = self.coe\n",
    "        c2 = p2.coe\n",
    "        \n",
    "        if pad < 0:\n",
    "            c1, c2 = c2, c1\n",
    "            pad = -pad\n",
    "    \n",
    "        c1 = c1[:]\n",
    "        \n",
    "        c1.extend([0]*pad)\n",
    "    \n",
    "        return(polylist([t1+t2 for t1,t2 in zip(c1,c2)]))\n",
    "    \n",
    "    # don't allow a hash\n",
    "    __hash__ = None    \n",
    "    \n",
    "    def evaluate(self, n):\n",
    "        sum = 0\n",
    "        for e,c in enumerate(self.coe):\n",
    "            sum += c*n**e\n",
    "        return(sum)\n",
    "\n",
    "    def differentiate(self):\n",
    "        return(polylist([e*c for e,c in enumerate(self.coe)][1:]))\n",
    "    \n",
    "    def integrate(self):\n",
    "        pi = [c/(e+1.) for e,c in enumerate(self.coe)]\n",
    "        pi.insert(0,0)\n",
    "        return(polylist(pi))\n",
    "    \n",
    "    def __mul__(self, p2):\n",
    "        sums = []\n",
    "        for e1,c1 in enumerate(self.coe):\n",
    "            prod = [c1 * c2 for c2 in p2.coe]\n",
    "            for rpt in range(e1):\n",
    "                prod.insert(0, 0)\n",
    "            sums.append(polylist(prod))\n",
    "        return(functools.reduce(polylist.__add__, sums))\n",
    "   "
   ]
  },
  {
   "cell_type": "code",
   "execution_count": null,
   "metadata": {
    "collapsed": true
   },
   "outputs": [],
   "source": [
    "class polydict:\n",
    "    '''sparse poly representation using a dict\n",
    "        sparse is {exponent:coefficient, ...}\n",
    "        only non-zero terms appear in the dict\n",
    "        \n",
    "        {2:3, 1:2, 0:1} <=> 3*X**2 + 2*X + 1\n",
    "    '''\n",
    "    def __init__(self, d={}):\n",
    "\n",
    "        # why the copy??\n",
    "        self.sparse = d.copy()\n",
    "\n",
    "    def printTerm(self, c ,e):\n",
    "        cs = str(c)\n",
    "        if c > 0:\n",
    "            cs = '+ ' + cs\n",
    "        if (e == 0):\n",
    "            return(cs)\n",
    "        if (e == 1):\n",
    "            return('%s*X' % cs)    \n",
    "        return('%s*X**%d' % (cs,e))   \n",
    "        \n",
    "    def __str__(self):\n",
    "        if len(self.sparse) == 0:\n",
    "            return('0')\n",
    "        terms = [self.printTerm(self.sparse[e],e) \n",
    "                for e in sorted(self.sparse.keys(), \n",
    "                                reverse=True) \n",
    "                    if self.sparse[e] != 0]\n",
    "        s = ' '.join(terms)\n",
    "        if '+ ' == s[0:2]:\n",
    "            s = s[2:]\n",
    "        return (s)\n",
    "    \n",
    "    def __repr__(self):\n",
    "        return(self.__str__())\n",
    "\n",
    "    # don't allow a hash\n",
    "    __hash__ = None  \n",
    "    \n",
    "    def __len__(self):\n",
    "        return(len(self.sparse))\n",
    "\n",
    "    # can explicity define bool\n",
    "    def __bool__(self):\n",
    "        return(False if len(self.sparse)==0 else True)\n",
    "        \n",
    "    def __iter__(self):\n",
    "        # return a generator function that will\n",
    "        # iterate thru (exp, coe) pairs\n",
    "        return( (i for i in self.sparse.items() ))\n",
    "\n",
    "    # should check types\n",
    "    def __eq__(self, other):\n",
    "        return(self.sparse == other.sparse)\n",
    "        \n",
    "    def __ne__(self, other):\n",
    "        return(self.sparse != other.sparse)\n",
    "        \n",
    "    # define comparsion to be value of poly at 1\n",
    "    def __lt__(self, other):\n",
    "        return(self.evaluate(1) < other.evaluate(1))\n",
    "        \n",
    "    def __le__(self, other):\n",
    "        return(self.evaluate(1) <= other.evaluate(1))\n",
    "        \n",
    "    # does poly 'contain' an exponent?\n",
    "    def __contains__(self, e):\n",
    "        return(e in self.sparse)\n",
    "                \n",
    "    def evaluate(self, n):\n",
    "        '''eval poly at x=n'''\n",
    "        sum = 0\n",
    "        for e in self.sparse.keys():\n",
    "            sum += self.sparse[e]*n**e\n",
    "        return(sum)\n",
    "            \n",
    "    def __add__(self, p2):\n",
    "        '''add two polys'''\n",
    "        n = self.sparse.copy()\n",
    "        for k,v in p2.sparse.items():\n",
    "            if None == n.get(k):\n",
    "                n[k] = v\n",
    "            else:\n",
    "                n[k] += v\n",
    "        return(polydict(n))\n",
    "        \n",
    "    def __getitem__(self, index):\n",
    "        '''pull out terms of the poly\n",
    "           p[2], p[2:5]\n",
    "           '''\n",
    "        keys = sorted(self.sparse.keys(), reverse=True)\n",
    "        if isinstance(index, int):\n",
    "            # if asked for a single term, p[n], index will\n",
    "            # be an int\n",
    "            inds = [index]\n",
    "        if isinstance(index, slice):\n",
    "            # if asked for a slice, p[n:m], index will be\n",
    "            # a 'slice' object\n",
    "            inds = range(*index.indices(len(keys)))\n",
    "        d = {}\n",
    "        for i in inds:\n",
    "            e = keys[i]\n",
    "            d[e] = self.sparse[e]\n",
    "        return(polydict(d))\n",
    "        \n",
    "    def __rmul__(self, p2):\n",
    "        ''' multiple by a scalar on the right\n",
    "            5*p1\n",
    "            '''\n",
    "        if isinstance(p2, int):\n",
    "            nd = {}\n",
    "            for e,c in self.sparse.items():\n",
    "                nd[e] = c * p2 \n",
    "            return(polydict(nd))\n",
    "        \n",
    "    def differentiate(self):\n",
    "        d = {}\n",
    "        for e,c in self.sparse.items():\n",
    "            if e != 0:\n",
    "                d[e-1] = c * e\n",
    "        return(polydict(d))\n",
    "    \n",
    "    def integrate(self):\n",
    "        d = {}\n",
    "        for e,c in self.sparse.items():\n",
    "            d[e+1] = c /(e+1.)\n",
    "        return(polydict(d))\n",
    "\n"
   ]
  },
  {
   "cell_type": "code",
   "execution_count": null,
   "metadata": {
    "collapsed": false
   },
   "outputs": [],
   "source": [
    "# test polys\n",
    "\n",
    "pl1 = polylist([1, 2, 3])\n",
    "pl2 = polylist([0, 10, 5])\n",
    "pd1 = polydict({2:3, 1:2, 0:1})\n",
    "pd2 = polydict({1:10, 2:5})\n",
    "pd3 = polydict({-1:10, 2:5})\n",
    "\n",
    "[pl1, pl2, pd1, pd2, pd3]"
   ]
  },
  {
   "cell_type": "code",
   "execution_count": null,
   "metadata": {
    "collapsed": false
   },
   "outputs": [],
   "source": [
    "[pl1.topolydict(), pl2.topolydict(), pd1.topolylist(), pd2.topolylist()]"
   ]
  },
  {
   "cell_type": "code",
   "execution_count": null,
   "metadata": {
    "collapsed": false
   },
   "outputs": [],
   "source": [
    "# can't convert negative exponents in a polydict to polylist\n",
    "\n",
    "pd3.topolylist()"
   ]
  },
  {
   "cell_type": "code",
   "execution_count": null,
   "metadata": {
    "collapsed": false
   },
   "outputs": [],
   "source": [
    "# multiply method examples\n",
    "\n",
    "[pd1, pd2, pd3, pd1 * pd2, pd1 * pd3, pd2 * pd3]"
   ]
  },
  {
   "cell_type": "markdown",
   "metadata": {},
   "source": [
    "# Problem 4 & 5 \n",
    "- Extract data directly from a zipfile without unpacking it\n",
    "- use zipfile module [doc](https://docs.python.org/3.5/library/zipfile.html#zipfile.ZipInfo). \n",
    "- in part, this problem is an exercise in reading Python documentation\n",
    "- only need to use three methods:\n",
    "    - zipfile.ZipFile(path)\n",
    "        - 'open' the zip file and read from it\n",
    "        - like 'open', should use 'with' to manage it\n",
    "    - zipfile.namelist()\n",
    "        - returns list of the files in zip archive\n",
    "    - zipfile.open()\n",
    "        - opens a file in the zip for reading\n",
    "        - use 'with'\n"
   ]
  },
  {
   "cell_type": "markdown",
   "metadata": {},
   "source": [
    "# write 'phelp' class\n",
    "- extract info from python's help documentation\n",
    "- download 'python-docs.zip' from CourseWorks\n",
    "- write four methods:\n",
    "    - ```__init__()``` method should read in all the help files and save\n",
    "them in the help object. remember to convert to unicode, and remove the newline chars.\n",
    "    - fileHits() method - print hits/file\n",
    "    - totalHits() method - checks all file lines for match, and print hit count\n",
    "    - grep() method - print file name, line number, and line of each match\n",
    "\n",
    "- note that like the linux 'grep' command, multiple appearances of the search string in a single line is considered ONE hit - we are counting the lines that have a hit(s). \n",
    "- decode using 'utf-8'"
   ]
  },
  {
   "cell_type": "code",
   "execution_count": 2,
   "metadata": {
    "collapsed": false
   },
   "outputs": [
    {
     "ename": "FileNotFoundError",
     "evalue": "file asdf does not exist",
     "output_type": "error",
     "traceback": [
      "\u001b[0;31m---------------------------------------------------------------------------\u001b[0m",
      "\u001b[0;31mFileNotFoundError\u001b[0m                         Traceback (most recent call last)",
      "\u001b[0;32m<ipython-input-2-6cfb4a5cfec2>\u001b[0m in \u001b[0;36m<module>\u001b[0;34m()\u001b[0m\n\u001b[0;32m----> 1\u001b[0;31m \u001b[0mphelp\u001b[0m\u001b[0;34m(\u001b[0m\u001b[0;34m'asdf'\u001b[0m\u001b[0;34m)\u001b[0m\u001b[0;34m\u001b[0m\u001b[0m\n\u001b[0m",
      "\u001b[0;32m<ipython-input-1-91b0c4c9ab91>\u001b[0m in \u001b[0;36m__init__\u001b[0;34m(self, zpath)\u001b[0m\n\u001b[1;32m      6\u001b[0m     \u001b[0;32mdef\u001b[0m \u001b[0m__init__\u001b[0m\u001b[0;34m(\u001b[0m\u001b[0mself\u001b[0m\u001b[0;34m,\u001b[0m \u001b[0mzpath\u001b[0m\u001b[0;34m)\u001b[0m\u001b[0;34m:\u001b[0m\u001b[0;34m\u001b[0m\u001b[0m\n\u001b[1;32m      7\u001b[0m         \u001b[0;32mif\u001b[0m \u001b[0;32mnot\u001b[0m \u001b[0mos\u001b[0m\u001b[0;34m.\u001b[0m\u001b[0mpath\u001b[0m\u001b[0;34m.\u001b[0m\u001b[0mexists\u001b[0m\u001b[0;34m(\u001b[0m\u001b[0mzpath\u001b[0m\u001b[0;34m)\u001b[0m\u001b[0;34m:\u001b[0m\u001b[0;34m\u001b[0m\u001b[0m\n\u001b[0;32m----> 8\u001b[0;31m             \u001b[0;32mraise\u001b[0m \u001b[0mFileNotFoundError\u001b[0m\u001b[0;34m(\u001b[0m\u001b[0;34m'file '\u001b[0m \u001b[0;34m+\u001b[0m \u001b[0mzpath\u001b[0m \u001b[0;34m+\u001b[0m \u001b[0;34m' does not exist'\u001b[0m\u001b[0;34m)\u001b[0m\u001b[0;34m\u001b[0m\u001b[0m\n\u001b[0m\u001b[1;32m      9\u001b[0m         \u001b[0;32mif\u001b[0m \u001b[0;32mnot\u001b[0m \u001b[0mzpath\u001b[0m\u001b[0;34m.\u001b[0m\u001b[0mendswith\u001b[0m\u001b[0;34m(\u001b[0m\u001b[0;34m'.zip'\u001b[0m\u001b[0;34m)\u001b[0m\u001b[0;34m:\u001b[0m\u001b[0;34m\u001b[0m\u001b[0m\n\u001b[1;32m     10\u001b[0m             \u001b[0;32mraise\u001b[0m \u001b[0mValueError\u001b[0m\u001b[0;34m(\u001b[0m\u001b[0;34m'file '\u001b[0m \u001b[0;34m+\u001b[0m \u001b[0mzpath\u001b[0m \u001b[0;34m+\u001b[0m \u001b[0;34m' is not a zip file'\u001b[0m\u001b[0;34m)\u001b[0m\u001b[0;34m\u001b[0m\u001b[0m\n",
      "\u001b[0;31mFileNotFoundError\u001b[0m: file asdf does not exist"
     ]
    }
   ],
   "source": [
    "phelp('asdf')"
   ]
  },
  {
   "cell_type": "code",
   "execution_count": 44,
   "metadata": {
    "collapsed": false
   },
   "outputs": [
    {
     "name": "stdout",
     "output_type": "stream",
     "text": [
      "reading 479 files\n"
     ]
    }
   ],
   "source": [
    "# set to where ever you place the python docs zip file\n",
    "\n",
    "zfile = 'python-docs.zip'\n",
    "\n",
    "p = phelp(zfile)"
   ]
  },
  {
   "cell_type": "code",
   "execution_count": 45,
   "metadata": {
    "collapsed": false
   },
   "outputs": [
    {
     "name": "stdout",
     "output_type": "stream",
     "text": [
      "1 python-3.6.0-docs-text/whatsnew/3.2.txt\n",
      "1 python-3.6.0-docs-text/reference/import.txt\n",
      "3 python-3.6.0-docs-text/using/cmdline.txt\n",
      "1 python-3.6.0-docs-text/distutils/apiref.txt\n",
      "1 python-3.6.0-docs-text/library/warnings.txt\n"
     ]
    }
   ],
   "source": [
    "p.fileHits('zipfiles')"
   ]
  },
  {
   "cell_type": "code",
   "execution_count": 46,
   "metadata": {
    "collapsed": false
   },
   "outputs": [
    {
     "name": "stdout",
     "output_type": "stream",
     "text": [
      "11\n",
      "42\n",
      "59\n",
      "1172\n",
      "99\n",
      "7\n"
     ]
    },
    {
     "data": {
      "text/plain": [
       "[None, None, None, None, None, None]"
      ]
     },
     "execution_count": 46,
     "metadata": {},
     "output_type": "execute_result"
    }
   ],
   "source": [
    "[p.totalHits(w) for w in ['rpartition', 'linux','universal', 'mode', 'zipfile', 'zipfiles']]"
   ]
  },
  {
   "cell_type": "code",
   "execution_count": 47,
   "metadata": {
    "collapsed": false
   },
   "outputs": [
    {
     "name": "stdout",
     "output_type": "stream",
     "text": [
      "python-3.6.0-docs-text/whatsnew/2.5.txt:976: \"rpartition(sep)\" methods that simplify a common use case.\n",
      "python-3.6.0-docs-text/whatsnew/2.5.txt:985: \"rpartition(sep)\" also returns a 3-tuple but starts searching from\n",
      "python-3.6.0-docs-text/whatsnew/2.5.txt:996: >>> 'www.python.org'.rpartition('.')\n",
      "python-3.6.0-docs-text/whatsnew/2.5.txt:998: >>> 'www.python.org'.rpartition(':')\n",
      "python-3.6.0-docs-text/whatsnew/3.2.txt:2383: extension = name.rpartition('.')[2]\n",
      "python-3.6.0-docs-text/whatsnew/3.2.txt:2424: also used by \"rfind()\", \"rindex()\", \"rsplit()\" and \"rpartition()\".\n",
      "python-3.6.0-docs-text/whatsnew/2.7.txt:917: * The \"split()\", \"replace()\", \"rindex()\", \"rpartition()\", and\n",
      "python-3.6.0-docs-text/library/importlib.txt:1434: parent_name, _, child_name = absolute_name.rpartition('.')\n",
      "python-3.6.0-docs-text/library/stdtypes.txt:1527: str.rpartition(sep)\n",
      "python-3.6.0-docs-text/library/stdtypes.txt:2281: bytes.rpartition(sep)\n",
      "python-3.6.0-docs-text/library/stdtypes.txt:2282: bytearray.rpartition(sep)\n"
     ]
    }
   ],
   "source": [
    "p.grep('rpartition')"
   ]
  },
  {
   "cell_type": "code",
   "execution_count": 48,
   "metadata": {
    "collapsed": false
   },
   "outputs": [
    {
     "name": "stdout",
     "output_type": "stream",
     "text": [
      "python-3.6.0-docs-text/library/warnings.txt:328: used to support displaying source for modules found in zipfiles or\n",
      "python-3.6.0-docs-text/whatsnew/3.2.txt:1545: zipfiles, uncompressed tarfiles, gzipped tarfiles, and bzipped\n",
      "python-3.6.0-docs-text/distutils/apiref.txt:794: as tarballs or zipfiles.\n",
      "python-3.6.0-docs-text/using/cmdline.txt:83: and zipfiles that are passed to the interpreter as the script\n",
      "python-3.6.0-docs-text/using/cmdline.txt:442: may refer to zipfiles containing pure Python modules (in either\n",
      "python-3.6.0-docs-text/using/cmdline.txt:444: zipfiles.\n",
      "python-3.6.0-docs-text/reference/import.txt:662: libraries) from zipfiles.\n"
     ]
    }
   ],
   "source": [
    "p.grep('zipfiles')"
   ]
  },
  {
   "cell_type": "markdown",
   "metadata": {},
   "source": [
    "# put your phelp class in a command line script\n",
    "- call your script 'phelp'\n",
    "- use argparse module to process command line args\n",
    "- if the path for the zip file is invalid, return an exit value of 1\n",
    "    - this means you have to handle an error that the phelp constructor may raise\n",
    "- not the most efficient command, as it re-reads the zip file each time it runs"
   ]
  },
  {
   "cell_type": "code",
   "execution_count": null,
   "metadata": {
    "collapsed": true
   },
   "outputs": [],
   "source": [
    "```\n",
    "# to save you a little grief, here's how you want to define\n",
    "# your command line args to argparse\n",
    "\n",
    "\n",
    "# required positional arg\n",
    "parser.add_argument(\"search\", type=str,\n",
    "                    help=\"search string\")\n",
    "\n",
    "\n",
    "# optional arg\n",
    "parser.add_argument(\"-t\", \"--totalhits\", help=\"show total number of hits in all files\",\n",
    "\t\t\t action='store_true')\n",
    "\n",
    "# optional arg\n",
    "parser.add_argument(\"-g\", \"--grep\", help=\"show matching hit lines\",\n",
    "\t\t\t action='store_true')\n",
    "\n",
    "# optional arg\n",
    "parser.add_argument(\"-f\", \"--filehits\", help=\"show number of hits in files\",\n",
    "\t\t\t action='store_true')\n",
    "\n",
    "# optional arg with required zippath value\n",
    "parser.add_argument(\"-z\", \"--zippath\", help=\"path of python zip file\",\n",
    "\t\t\t action='store')\n",
    "\n",
    "\n",
    "```\n"
   ]
  },
  {
   "cell_type": "code",
   "execution_count": null,
   "metadata": {
    "collapsed": true
   },
   "outputs": [],
   "source": [
    "```\n",
    "# sample session\n",
    "\n",
    "\n",
    "week5@larrys-MBP$ phelp\n",
    "usage: phelp [-h] [-t] [-g] [-f] [-z ZIPPATH] search\n",
    "phelp: error: the following arguments are required: search\n",
    "            \n",
    "week5@larrys-MBP$ phelp -h\n",
    "usage: phelp [-h] [-t] [-g] [-f] [-z ZIPPATH] search\n",
    "\n",
    "positional arguments:\n",
    "  search                search string\n",
    "\n",
    "optional arguments:\n",
    "  -h, --help            show this help message and exit\n",
    "  -t, --totalhits       show total number of hits in all files\n",
    "  -g, --grep            show matching hit lines\n",
    "  -f, --filehits        show number of hits in files\n",
    "  -z ZIPPATH, --zippath ZIPPATH\n",
    "                        path of python zip file\n",
    "    \n",
    "week5@larrys-MBP$ phelp -f zipfiles\n",
    "1 python-3.6.0-docs-text/library/warnings.txt\n",
    "3 python-3.6.0-docs-text/using/cmdline.txt\n",
    "1 python-3.6.0-docs-text/distutils/apiref.txt\n",
    "1 python-3.6.0-docs-text/whatsnew/3.2.txt\n",
    "1 python-3.6.0-docs-text/reference/import.txt\n",
    "\n",
    "week5@larrys-MBP$ phelp -t zipfiles\n",
    "7\n",
    "\n",
    "week5@larrys-MBP$ phelp -g zipfiles\n",
    "python-3.6.0-docs-text/whatsnew/3.2.txt:1545: zipfiles, uncompressed tarfiles, gzipped tarfiles, and bzipped\n",
    "python-3.6.0-docs-text/distutils/apiref.txt:794: as tarballs or zipfiles.\n",
    "python-3.6.0-docs-text/library/warnings.txt:328: used to support displaying source for modules found in zipfiles or\n",
    "python-3.6.0-docs-text/reference/import.txt:662: libraries) from zipfiles.\n",
    "python-3.6.0-docs-text/using/cmdline.txt:83: and zipfiles that are passed to the interpreter as the script\n",
    "python-3.6.0-docs-text/using/cmdline.txt:442: may refer to zipfiles containing pure Python modules (in either\n",
    "python-3.6.0-docs-text/using/cmdline.txt:444: zipfiles.\n",
    "                                                                                        \n",
    "\n",
    "week5@larrys-MBP$ phelp -t zipfiles -z badzippath\n",
    "file badzippath does not exist\n",
    "week5@larrys-MBP$ echo $?\n",
    "1\n",
    "                                                                                                    \n",
    "week5@larrys-MBP$ phelp -t zipfiles -z python-docs.zip \n",
    "7\n",
    "week5@larrys-MBP$ echo $?\n",
    "0\n",
    "                                                                                                    \n",
    "                                                                                                    \n",
    "```"
   ]
  }
 ],
 "metadata": {
  "anaconda-cloud": {},
  "kernelspec": {
   "display_name": "Python [conda root]",
   "language": "python",
   "name": "conda-root-py"
  },
  "language_info": {
   "codemirror_mode": {
    "name": "ipython",
    "version": 3
   },
   "file_extension": ".py",
   "mimetype": "text/x-python",
   "name": "python",
   "nbconvert_exporter": "python",
   "pygments_lexer": "ipython3",
   "version": "3.5.2"
  },
  "name": "_merged_merged"
 },
 "nbformat": 4,
 "nbformat_minor": 0
}
