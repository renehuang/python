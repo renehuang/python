{
 "cells": [
  {
   "cell_type": "markdown",
   "metadata": {},
   "source": [
    "# sys module\n",
    "- random low level system info\n",
    "- various utilities \n",
    "    - will see some later\n",
    "- [doc](https://docs.python.org/3.5/library/sys.html)\n",
    "\n",
    "# implementation info"
   ]
  },
  {
   "cell_type": "code",
   "execution_count": 1,
   "metadata": {
    "collapsed": false
   },
   "outputs": [
    {
     "data": {
      "text/plain": [
       "['3.5.2 |Anaconda 4.2.0 (64-bit)| (default, Jul  5 2016, 11:41:13) [MSC v.1900 64 bit (AMD64)]',\n",
       " sys.version_info(major=3, minor=5, micro=2, releaselevel='final', serial=0),\n",
       " 'win32',\n",
       " 'little',\n",
       " 'C:\\\\Users\\\\reneh\\\\Anaconda3']"
      ]
     },
     "execution_count": 1,
     "metadata": {},
     "output_type": "execute_result"
    }
   ],
   "source": [
    "import sys\n",
    "\n",
    "[sys.version, sys.version_info, \n",
    " sys.platform, sys.byteorder, \n",
    "  sys.prefix]"
   ]
  },
  {
   "cell_type": "markdown",
   "metadata": {},
   "source": [
    "# sys.path \n",
    "- search path for modules"
   ]
  },
  {
   "cell_type": "code",
   "execution_count": 5,
   "metadata": {
    "collapsed": false
   },
   "outputs": [
    {
     "data": {
      "text/plain": [
       "['',\n",
       " '/Users/lstead/me/settings/python/lib',\n",
       " '/Users/lstead/anaconda/lib/python35.zip',\n",
       " '/Users/lstead/anaconda/lib/python3.5',\n",
       " '/Users/lstead/anaconda/lib/python3.5/plat-darwin',\n",
       " '/Users/lstead/anaconda/lib/python3.5/lib-dynload',\n",
       " '/Users/lstead/anaconda/lib/python3.5/site-packages',\n",
       " '/Users/lstead/anaconda/lib/python3.5/site-packages/Sphinx-1.4.1-py3.5.egg',\n",
       " '/Users/lstead/anaconda/lib/python3.5/site-packages/aeosa',\n",
       " '/Users/lstead/anaconda/lib/python3.5/site-packages/setuptools-23.0.0-py3.5.egg',\n",
       " '/Users/lstead/anaconda/lib/python3.5/site-packages/IPython/extensions',\n",
       " '/Users/lstead/.ipython']"
      ]
     },
     "execution_count": 5,
     "metadata": {},
     "output_type": "execute_result"
    }
   ],
   "source": [
    "# when 'import foo' is executed, python will try to find 'foo'\n",
    "# in the sys.path list of directories\n",
    "\n",
    "sys.path"
   ]
  },
  {
   "cell_type": "markdown",
   "metadata": {},
   "source": [
    "# sys.modules \n",
    "- dictionary of loaded modules"
   ]
  },
  {
   "cell_type": "code",
   "execution_count": 6,
   "metadata": {
    "collapsed": false
   },
   "outputs": [
    {
     "data": {
      "text/plain": [
       "['IPython.core.magics',\n",
       " 'ptyprocess.ptyprocess',\n",
       " 'IPython.utils.decorators',\n",
       " 'zmq.backend.cython.constants',\n",
       " 'ipykernel',\n",
       " 'faulthandler',\n",
       " 'IPython.core.interactiveshell',\n",
       " 'ipython_genutils.text',\n",
       " 'base64',\n",
       " 'importlib.util']"
      ]
     },
     "execution_count": 6,
     "metadata": {},
     "output_type": "execute_result"
    }
   ],
   "source": [
    "# dict of modules\n",
    "list(sys.modules.keys())[:10]"
   ]
  },
  {
   "cell_type": "code",
   "execution_count": 12,
   "metadata": {
    "collapsed": false
   },
   "outputs": [
    {
     "data": {
      "text/plain": [
       "sys.int_info(bits_per_digit=30, sizeof_digit=4)"
      ]
     },
     "execution_count": 12,
     "metadata": {},
     "output_type": "execute_result"
    }
   ],
   "source": [
    "sys.int_info"
   ]
  },
  {
   "cell_type": "code",
   "execution_count": 11,
   "metadata": {
    "collapsed": false
   },
   "outputs": [
    {
     "data": {
      "text/plain": [
       "sys.float_info(max=1.7976931348623157e+308, max_exp=1024, max_10_exp=308, min=2.2250738585072014e-308, min_exp=-1021, min_10_exp=-307, dig=15, mant_dig=53, epsilon=2.220446049250313e-16, radix=2, rounds=1)"
      ]
     },
     "execution_count": 11,
     "metadata": {},
     "output_type": "execute_result"
    }
   ],
   "source": [
    "sys.float_info"
   ]
  },
  {
   "cell_type": "markdown",
   "metadata": {},
   "source": [
    "# platform module\n",
    "- info about the platform you're running on\n",
    "- has specific calls for Windows, Mac, Linux\n",
    "- [doc](https://docs.python.org/3.5/library/platform.html)"
   ]
  },
  {
   "cell_type": "code",
   "execution_count": 9,
   "metadata": {
    "collapsed": false
   },
   "outputs": [
    {
     "data": {
      "text/plain": [
       "['x86_64',\n",
       " 'Darwin-16.4.0-x86_64-i386-64bit',\n",
       " 'i386',\n",
       " ('default', 'Jul  2 2016 17:52:12'),\n",
       " '3.5.2',\n",
       " '16.4.0',\n",
       " 'Darwin']"
      ]
     },
     "execution_count": 9,
     "metadata": {},
     "output_type": "execute_result"
    }
   ],
   "source": [
    "from platform import *\n",
    "\n",
    "[machine(), platform(), processor(), python_build(), python_version(),\n",
    " release(), system()]\n"
   ]
  }
 ],
 "metadata": {
  "anaconda-cloud": {},
  "kernelspec": {
   "display_name": "Python [conda root]",
   "language": "python",
   "name": "conda-root-py"
  },
  "language_info": {
   "codemirror_mode": {
    "name": "ipython",
    "version": 3
   },
   "file_extension": ".py",
   "mimetype": "text/x-python",
   "name": "python",
   "nbconvert_exporter": "python",
   "pygments_lexer": "ipython3",
   "version": "3.5.2"
  }
 },
 "nbformat": 4,
 "nbformat_minor": 0
}
