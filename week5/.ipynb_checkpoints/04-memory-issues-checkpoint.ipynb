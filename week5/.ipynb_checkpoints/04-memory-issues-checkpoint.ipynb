{
 "cells": [
  {
   "cell_type": "markdown",
   "metadata": {},
   "source": [
    "# Automatic memory management\n",
    "- do not have to 'free' objects\n",
    "- implemented with 'reference counting'\n",
    "- each object keeps a count of how many references to it exist\n",
    "- when count == 0, object can be reclaimed"
   ]
  },
  {
   "cell_type": "code",
   "execution_count": 1,
   "metadata": {
    "collapsed": false
   },
   "outputs": [
    {
     "data": {
      "text/plain": [
       "2"
      ]
     },
     "execution_count": 1,
     "metadata": {},
     "output_type": "execute_result"
    }
   ],
   "source": [
    "# python uses reference counting for memory management\n",
    "# each object must hold a reference count\n",
    "# why is count = 2?\n",
    "\n",
    "import sys\n",
    "\n",
    "l = [1,2,3]\n",
    "sys.getrefcount(l)"
   ]
  },
  {
   "cell_type": "code",
   "execution_count": 2,
   "metadata": {
    "collapsed": true
   },
   "outputs": [],
   "source": [
    "l2 = [l,l]"
   ]
  },
  {
   "cell_type": "code",
   "execution_count": 3,
   "metadata": {
    "collapsed": false
   },
   "outputs": [
    {
     "data": {
      "text/plain": [
       "4"
      ]
     },
     "execution_count": 3,
     "metadata": {},
     "output_type": "execute_result"
    }
   ],
   "source": [
    "# 3 + 1\n",
    "\n",
    "sys.getrefcount(l)"
   ]
  },
  {
   "cell_type": "code",
   "execution_count": 4,
   "metadata": {
    "collapsed": false
   },
   "outputs": [
    {
     "data": {
      "text/plain": [
       "2"
      ]
     },
     "execution_count": 4,
     "metadata": {},
     "output_type": "execute_result"
    }
   ],
   "source": [
    "l2 = None\n",
    "sys.getrefcount(l)"
   ]
  },
  {
   "cell_type": "markdown",
   "metadata": {},
   "source": [
    "# Boxed and Unboxed Data\n",
    "- 'unboxed' refers to the the data itself\n",
    "- 'float x' in C reserves 8 bytes for x\n",
    "    - no overhead\n",
    "- 'boxed' refers to all the memory associated with the object\n",
    "- a float in Python is an OBJECT.\n",
    "- a '5.5' float object has other fields aside from the '5.5' value\n",
    "    - attributes dict \n",
    "    - type info \n",
    "    - reference count\n",
    "    - substantial overhead"
   ]
  },
  {
   "cell_type": "code",
   "execution_count": 5,
   "metadata": {
    "collapsed": false
   },
   "outputs": [
    {
     "data": {
      "text/plain": [
       "[24, 28, 64, 49, 288, 48]"
      ]
     },
     "execution_count": 5,
     "metadata": {},
     "output_type": "execute_result"
    }
   ],
   "source": [
    "# float object 3X bigger! lot of overhead\n",
    "# note an int takes even more bytes - perhaps because of arbitrary precesion \n",
    "# empty list, string, dict, set - pretty big\n",
    "\n",
    "list(map(sys.getsizeof, [5.4, 6, [], '', {}, ()]))"
   ]
  },
  {
   "cell_type": "markdown",
   "metadata": {},
   "source": [
    "# Arrays\n",
    "- in C, 'float x[N];' will reserve N*8 bytes - 8 bytes for x[0], 8 bytes for x[1], ...\n",
    "    - 'unboxed', no overhead\n",
    "- closest thing to an array in python is a list"
   ]
  },
  {
   "cell_type": "code",
   "execution_count": 10,
   "metadata": {
    "collapsed": false
   },
   "outputs": [
    {
     "name": "stdout",
     "output_type": "stream",
     "text": [
      "96\n",
      "96\n",
      "96\n",
      "96\n",
      "128\n",
      "128\n",
      "128\n",
      "128\n",
      "192\n",
      "192\n",
      "192\n",
      "192\n",
      "192\n",
      "192\n",
      "192\n",
      "192\n"
     ]
    },
    {
     "data": {
      "text/plain": [
       "[2.2,\n",
       " 3.2,\n",
       " 4.2,\n",
       " 5.2,\n",
       " 6.2,\n",
       " 7.2,\n",
       " 8.2,\n",
       " 9.2,\n",
       " 10.2,\n",
       " 11.2,\n",
       " 12.2,\n",
       " 13.2,\n",
       " 14.2,\n",
       " 15.2,\n",
       " 16.2,\n",
       " 17.2]"
      ]
     },
     "execution_count": 10,
     "metadata": {},
     "output_type": "execute_result"
    }
   ],
   "source": [
    "# in C, 'float x[16] will use 8*16 = 128 bytes\n",
    "\n",
    "x = []\n",
    "f = 1.2\n",
    "for e in range(16):\n",
    "    f += 1\n",
    "    x.append(f)\n",
    "    print(sys.getsizeof(x))\n",
    "x"
   ]
  },
  {
   "cell_type": "code",
   "execution_count": 11,
   "metadata": {
    "collapsed": false
   },
   "outputs": [
    {
     "data": {
      "text/plain": [
       "576"
      ]
     },
     "execution_count": 11,
     "metadata": {},
     "output_type": "execute_result"
    }
   ],
   "source": [
    "# bytes for floats + bytes for list\n",
    "\n",
    "16*24+192"
   ]
  },
  {
   "cell_type": "code",
   "execution_count": 12,
   "metadata": {
    "collapsed": false
   },
   "outputs": [
    {
     "data": {
      "text/plain": [
       "4.5"
      ]
     },
     "execution_count": 12,
     "metadata": {},
     "output_type": "execute_result"
    }
   ],
   "source": [
    "# python/C - almost 5X use of storage!!\n",
    "\n",
    "576/128."
   ]
  },
  {
   "cell_type": "markdown",
   "metadata": {},
   "source": [
    "# memory access patterns\n",
    "- get best performance when accessing memory sequentially\n",
    "    - caches can make a huge difference\n",
    "- lists hold 'references', not objects\n",
    "- suppose you have a million floats in a list, and want to sum the list\n",
    "- to access each float in the list, an pointer indirection must be followed. looping thru such a list will typically break caches, which hurts performance\n"
   ]
  }
 ],
 "metadata": {
  "anaconda-cloud": {},
  "kernelspec": {
   "display_name": "Python [conda root]",
   "language": "python",
   "name": "conda-root-py"
  },
  "language_info": {
   "codemirror_mode": {
    "name": "ipython",
    "version": 3
   },
   "file_extension": ".py",
   "mimetype": "text/x-python",
   "name": "python",
   "nbconvert_exporter": "python",
   "pygments_lexer": "ipython3",
   "version": "3.5.2"
  }
 },
 "nbformat": 4,
 "nbformat_minor": 0
}
