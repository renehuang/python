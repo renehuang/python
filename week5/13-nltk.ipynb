{
 "cells": [
  {
   "cell_type": "markdown",
   "metadata": {},
   "source": [
    "# NLTK \n",
    "- natural language toolkit \n",
    "- very popular, easy to use\n",
    "- excellent example of integrating functionality into python\n",
    "- [doc](http://www.nltk.org/book/)"
   ]
  },
  {
   "cell_type": "code",
   "execution_count": null,
   "metadata": {
    "collapsed": false
   },
   "outputs": [],
   "source": [
    "import nltk\n"
   ]
  },
  {
   "cell_type": "code",
   "execution_count": 2,
   "metadata": {
    "collapsed": false
   },
   "outputs": [
    {
     "name": "stdout",
     "output_type": "stream",
     "text": [
      "showing info https://raw.githubusercontent.com/nltk/nltk_data/gh-pages/index.xml\n"
     ]
    },
    {
     "data": {
      "text/plain": [
       "True"
      ]
     },
     "execution_count": 2,
     "metadata": {},
     "output_type": "execute_result"
    }
   ],
   "source": [
    "# gui that downloads data - comes up in separate window\n",
    "# have to search for the window!\n",
    "# can just grab files for book, \n",
    "# or everything if you want - several gigs\n",
    "\n",
    "\n",
    "nltk.download()"
   ]
  },
  {
   "cell_type": "code",
   "execution_count": 3,
   "metadata": {
    "collapsed": false
   },
   "outputs": [
    {
     "name": "stdout",
     "output_type": "stream",
     "text": [
      "*** Introductory Examples for the NLTK Book ***\n",
      "Loading text1, ..., text9 and sent1, ..., sent9\n",
      "Type the name of the text or sentence to view it.\n",
      "Type: 'texts()' or 'sents()' to list the materials.\n",
      "text1: Moby Dick by Herman Melville 1851\n",
      "text2: Sense and Sensibility by Jane Austen 1811\n",
      "text3: The Book of Genesis\n",
      "text4: Inaugural Address Corpus\n",
      "text5: Chat Corpus\n",
      "text6: Monty Python and the Holy Grail\n",
      "text7: Wall Street Journal\n",
      "text8: Personals Corpus\n",
      "text9: The Man Who Was Thursday by G . K . Chesterton 1908\n"
     ]
    }
   ],
   "source": [
    "from nltk.book import *"
   ]
  },
  {
   "cell_type": "code",
   "execution_count": 4,
   "metadata": {
    "collapsed": false
   },
   "outputs": [],
   "source": [
    "sense = text2\n",
    "inaug = text4\n",
    "chat = text5\n",
    "monty = text6\n",
    "wsj = text7\n",
    "personals = text8"
   ]
  },
  {
   "cell_type": "code",
   "execution_count": 5,
   "metadata": {
    "collapsed": false
   },
   "outputs": [
    {
     "name": "stdout",
     "output_type": "stream",
     "text": [
      "Displaying 14 of 14 matches:\n",
      " and awful presentiments which the greatness of the charge and the weakness of \n",
      "ated confidence in our country ' s greatness which tends to a disregard of the \n",
      "d our councils and marred our true greatness as a nation . The triumph of the p\n",
      "nation , forced by the fact of its greatness into relations with the other nati\n",
      " before every nation that rises to greatness . Power invariably means both resp\n",
      " have no promise from God that our greatness will endure . We have been allowed\n",
      "e have been allowed by Him to seek greatness with the sweat of our hands and th\n",
      "r mankind . This is our summons to greatness . I believe the American people ar\n",
      "ness , decency , love , kindness . Greatness comes in simple trappings . The si\n",
      "ry . A man of humility who came to greatness reluctantly . He led America out o\n",
      "we had to look to our past for the greatness and glory . But we , the present -\n",
      "itizens , our Nation is poised for greatness . We must do what we know is right\n",
      " of happiness . In reaffirming the greatness of our nation , we understand that\n",
      "of our nation , we understand that greatness is never a given . It must be earn\n"
     ]
    }
   ],
   "source": [
    "# shows matches with some context\n",
    "\n",
    "inaug.concordance('greatness')"
   ]
  },
  {
   "cell_type": "code",
   "execution_count": 6,
   "metadata": {
    "collapsed": false
   },
   "outputs": [
    {
     "name": "stdout",
     "output_type": "stream",
     "text": [
      "Displaying 25 of 79 matches:\n",
      ", however , and , as a mark of his affection for the three girls , he left them\n",
      "t . It was very well known that no affection was ever supposed to exist between\n",
      "deration of politeness or maternal affection on the side of the former , the tw\n",
      "d the suspicion -- the hope of his affection for me may warrant , without impru\n",
      "hich forbade the indulgence of his affection . She knew that his mother neither\n",
      "rd she gave one with still greater affection . Though her late conversation wit\n",
      " can never hope to feel or inspire affection again , and if her home be uncomfo\n",
      "m of the sense , elegance , mutual affection , and domestic comfort of the fami\n",
      ", and which recommended him to her affection beyond every thing else . His soci\n",
      "ween the parties might forward the affection of Mr . Willoughby , an equally st\n",
      " the most pointed assurance of her affection . Elinor could not be surprised at\n",
      "he natural consequence of a strong affection in a young and ardent mind . This \n",
      " opinion . But by an appeal to her affection for her mother , by representing t\n",
      " every alteration of a place which affection had established as perfect with hi\n",
      "e will always have one claim of my affection , which no other can possibly shar\n",
      "f the evening declared at once his affection and happiness . \" Shall we see you\n",
      "ause he took leave of us with less affection than his usual behaviour has shewn\n",
      "ness .\" \" I want no proof of their affection ,\" said Elinor ; \" but of their en\n",
      "onths , without telling her of his affection ;-- that they should part without \n",
      "ould be the natural result of your affection for her . She used to be all unres\n",
      "distinguished Elinor by no mark of affection . Marianne saw and listened with i\n",
      "th no inclination for expense , no affection for strangers , no profession , an\n",
      "till distinguished her by the same affection which once she had felt no doubt o\n",
      "al of her confidence in Edward ' s affection , to the remembrance of every mark\n",
      " was made ? Had he never owned his affection to yourself ?\" \" Oh , no ; but if \n"
     ]
    }
   ],
   "source": [
    "sense.concordance('affection')"
   ]
  },
  {
   "cell_type": "code",
   "execution_count": 7,
   "metadata": {
    "collapsed": false
   },
   "outputs": [
    {
     "name": "stdout",
     "output_type": "stream",
     "text": [
      "attention time regard love mother heart kindness marianne sister\n",
      "opinion wishes arrival wife elinor friends mind engagement family eyes\n",
      "side\n"
     ]
    }
   ],
   "source": [
    "sense.similar('affection')"
   ]
  },
  {
   "cell_type": "code",
   "execution_count": 8,
   "metadata": {
    "collapsed": false
   },
   "outputs": [
    {
     "data": {
      "text/plain": [
       "79"
      ]
     },
     "execution_count": 8,
     "metadata": {},
     "output_type": "execute_result"
    }
   ],
   "source": [
    "sense.count('affection')"
   ]
  },
  {
   "cell_type": "code",
   "execution_count": 9,
   "metadata": {
    "collapsed": false
   },
   "outputs": [
    {
     "data": {
      "image/png": "[encoded data removed]",
      "text/plain": [
       "<matplotlib.figure.Figure at 0x120f0e438>"
      ]
     },
     "metadata": {},
     "output_type": "display_data"
    }
   ],
   "source": [
    "%matplotlib inline\n",
    "\n",
    "inaug.dispersion_plot([\"citizens\", \"democracy\", \"freedom\", \"duties\", \"America\"])"
   ]
  },
  {
   "cell_type": "code",
   "execution_count": 10,
   "metadata": {
    "collapsed": false
   },
   "outputs": [
    {
     "data": {
      "text/plain": [
       "[100676, nltk.text.Text]"
      ]
     },
     "execution_count": 10,
     "metadata": {},
     "output_type": "execute_result"
    }
   ],
   "source": [
    "# total word count\n",
    "# defined __len__ to be # of words\n",
    "\n",
    "[len(wsj), type(wsj)]"
   ]
  },
  {
   "cell_type": "code",
   "execution_count": 11,
   "metadata": {
    "collapsed": false
   },
   "outputs": [
    {
     "data": {
      "text/plain": [
       "12408"
      ]
     },
     "execution_count": 11,
     "metadata": {},
     "output_type": "execute_result"
    }
   ],
   "source": [
    "# unique word count - no dups in a set\n",
    "\n",
    "len(set(wsj))"
   ]
  },
  {
   "cell_type": "code",
   "execution_count": 12,
   "metadata": {
    "collapsed": false
   },
   "outputs": [
    {
     "data": {
      "text/plain": [
       "['statement',\n",
       " '*T*-151',\n",
       " 'dozens',\n",
       " 'leash',\n",
       " 'ADRs',\n",
       " 'Dutch',\n",
       " 'execs',\n",
       " 'violence',\n",
       " 'interactions',\n",
       " 'Simon',\n",
       " '*?*',\n",
       " '6,500',\n",
       " 'relationship',\n",
       " 'steps',\n",
       " 'Ginnie',\n",
       " 'Aslacton',\n",
       " 'walk',\n",
       " 'plagued',\n",
       " 'Claire',\n",
       " 'Money']"
      ]
     },
     "execution_count": 12,
     "metadata": {},
     "output_type": "execute_result"
    }
   ],
   "source": [
    "# last 20 random(because sets are unordered) words\n",
    "\n",
    "list(set(wsj))[:20]"
   ]
  },
  {
   "cell_type": "code",
   "execution_count": 13,
   "metadata": {
    "collapsed": false
   },
   "outputs": [
    {
     "data": {
      "text/plain": [
       "['announce',\n",
       " 'announced',\n",
       " 'announcement',\n",
       " 'announcer',\n",
       " 'annoyed',\n",
       " 'annual',\n",
       " 'annualized',\n",
       " 'annually',\n",
       " 'another',\n",
       " 'answer']"
      ]
     },
     "execution_count": 13,
     "metadata": {},
     "output_type": "execute_result"
    }
   ],
   "source": [
    "# sort, then take a subset\n",
    "\n",
    "list(sorted(set(wsj)))[5000:5010]"
   ]
  },
  {
   "cell_type": "code",
   "execution_count": 14,
   "metadata": {
    "collapsed": false
   },
   "outputs": [
    {
     "data": {
      "text/plain": [
       "[76, 46, 6]"
      ]
     },
     "execution_count": 14,
     "metadata": {},
     "output_type": "execute_result"
    }
   ],
   "source": [
    "# can ask how often certain words appear\n",
    "\n",
    "[wsj.count(t) for t in ['business', 'debt', 'inflation']]"
   ]
  },
  {
   "cell_type": "code",
   "execution_count": 15,
   "metadata": {
    "collapsed": false
   },
   "outputs": [
    {
     "data": {
      "text/plain": [
       "[(',', 4885),\n",
       " ('the', 4045),\n",
       " ('.', 3828),\n",
       " ('of', 2319),\n",
       " ('to', 2164),\n",
       " ('a', 1878),\n",
       " ('in', 1572),\n",
       " ('and', 1511),\n",
       " ('*-1', 1123),\n",
       " ('0', 1099),\n",
       " ('*', 965),\n",
       " (\"'s\", 864),\n",
       " ('for', 817),\n",
       " ('that', 807),\n",
       " ('*T*-1', 806),\n",
       " ('*U*', 744),\n",
       " ('$', 718),\n",
       " ('The', 717),\n",
       " ('``', 702),\n",
       " (\"''\", 684),\n",
       " ('is', 671),\n",
       " ('said', 628),\n",
       " ('on', 490),\n",
       " ('it', 476),\n",
       " ('%', 446),\n",
       " ('by', 429),\n",
       " ('at', 402),\n",
       " ('with', 387),\n",
       " ('from', 386),\n",
       " ('as', 385)]"
      ]
     },
     "execution_count": 15,
     "metadata": {},
     "output_type": "execute_result"
    }
   ],
   "source": [
    "# get a word frequency distribution\n",
    "\n",
    "fd=FreqDist(wsj)\n",
    "fd.most_common(30)\n"
   ]
  },
  {
   "cell_type": "code",
   "execution_count": 16,
   "metadata": {
    "collapsed": false
   },
   "outputs": [
    {
     "data": {
      "text/plain": [
       "[385, 2, 1, 105, 105]"
      ]
     },
     "execution_count": 16,
     "metadata": {},
     "output_type": "execute_result"
    }
   ],
   "source": [
    "# can query the frequency distribution like a dictionary\n",
    "\n",
    "[fd['as'], fd['apartment'], fd['apart'], fd['any'], wsj.count('any')]"
   ]
  },
  {
   "cell_type": "code",
   "execution_count": 17,
   "metadata": {
    "collapsed": false
   },
   "outputs": [
    {
     "data": {
      "image/png": "[encoded data removed]",
      "text/plain": [
       "<matplotlib.figure.Figure at 0x1057e10f0>"
      ]
     },
     "metadata": {},
     "output_type": "display_data"
    }
   ],
   "source": [
    "fd.plot(50, cumulative=True)"
   ]
  },
  {
   "cell_type": "code",
   "execution_count": 18,
   "metadata": {
    "collapsed": false
   },
   "outputs": [
    {
     "data": {
      "text/plain": [
       "0.12324685128531129"
      ]
     },
     "execution_count": 18,
     "metadata": {},
     "output_type": "execute_result"
    }
   ],
   "source": [
    "# on average, each word used 8 times\n",
    "\n",
    "len(set(wsj)) /len(wsj)"
   ]
  },
  {
   "cell_type": "code",
   "execution_count": 19,
   "metadata": {
    "collapsed": false
   },
   "outputs": [
    {
     "name": "stdout",
     "output_type": "stream",
     "text": [
      "15 0 []\n",
      "14 0 []\n",
      "13 1 ['third-quarter']\n",
      "12 1 ['Constitution']\n",
      "11 2 ['enforcement', 'speculation']\n",
      "10 5 ['difference', 'previously', 'introduced', 'businesses', 'retirement']\n",
      "9 13 ['Meanwhile', 'portfolio', 'relations', 'benchmark', 'treatment', 'remaining', 'advantage', 'elaborate', 'purchases', 'suspended', 'involving', 'Americans', 'standards']\n"
     ]
    }
   ],
   "source": [
    "# find long words, used as many times as the number of \n",
    "# characters in the word\n",
    "\n",
    "for wlen in range(15, 8, -1):\n",
    "    words = [w for w in set(wsj) if len(w) == wlen and wlen == fd[w]]\n",
    "    print(wlen, len(words), words)"
   ]
  },
  {
   "cell_type": "code",
   "execution_count": 20,
   "metadata": {
    "collapsed": false
   },
   "outputs": [
    {
     "data": {
      "text/plain": [
       "[13, 11, 10, 9]"
      ]
     },
     "execution_count": 20,
     "metadata": {},
     "output_type": "execute_result"
    }
   ],
   "source": [
    "[fd['third-quarter'], fd['enforcement'], fd['introduced'],fd['advantage']]"
   ]
  },
  {
   "cell_type": "code",
   "execution_count": 21,
   "metadata": {
    "collapsed": false
   },
   "outputs": [
    {
     "name": "stdout",
     "output_type": "stream",
     "text": [
      "4867\n",
      "would like; medium build; social drinker; quiet nights; non smoker;\n",
      "long term; age open; Would like; easy going; financially secure; fun\n",
      "times; similar interests; Age open; weekends away; poss rship; well\n",
      "presented; never married; single mum; permanent relationship; slim\n",
      "build\n"
     ]
    }
   ],
   "source": [
    "# collocations are word pairs that occur more likely than \n",
    "# indivigual word frequency would suggest\n",
    "# singles text...\n",
    "\n",
    "print(len(personals))\n",
    "personals.collocations()"
   ]
  },
  {
   "cell_type": "code",
   "execution_count": 22,
   "metadata": {
    "collapsed": false
   },
   "outputs": [
    {
     "name": "stdout",
     "output_type": "stream",
     "text": [
      "100676\n",
      "million *U*; New York; billion *U*; Wall Street; program trading; Mrs.\n",
      "Yeargin; vice president; Stock Exchange; Big Board; Georgia Gulf;\n",
      "chief executive; Dow Jones; S&P 500; says *T*-1; York Stock; last\n",
      "year; Sea Containers; South Korea; American Express; San Francisco\n"
     ]
    }
   ],
   "source": [
    "print(len(wsj))\n",
    "wsj.collocations()"
   ]
  },
  {
   "cell_type": "code",
   "execution_count": 23,
   "metadata": {
    "collapsed": false
   },
   "outputs": [
    {
     "data": {
      "text/plain": [
       "['Jack',\n",
       " 'always',\n",
       " 'gets',\n",
       " 'very',\n",
       " 'nervous',\n",
       " 'and',\n",
       " 'stressed',\n",
       " 'during',\n",
       " 'the',\n",
       " 'last',\n",
       " 'three',\n",
       " 'weeks',\n",
       " 'of',\n",
       " 'the',\n",
       " 'Columbia',\n",
       " 'term',\n",
       " ',',\n",
       " 'but',\n",
       " 'Jill',\n",
       " 'actually',\n",
       " 'enjoys',\n",
       " 'the',\n",
       " 'tension',\n",
       " 'and',\n",
       " 'deadlines',\n",
       " '!']"
      ]
     },
     "execution_count": 23,
     "metadata": {},
     "output_type": "execute_result"
    }
   ],
   "source": [
    "jj = nltk.word_tokenize('''Jack always gets very nervous and stressed \n",
    "during the last three weeks of the Columbia term, \n",
    "but Jill actually enjoys the tension and deadlines!''')\n",
    "jj"
   ]
  },
  {
   "cell_type": "code",
   "execution_count": 24,
   "metadata": {
    "collapsed": false
   },
   "outputs": [
    {
     "data": {
      "text/plain": [
       "[('Jack', 'NNP'),\n",
       " ('always', 'RB'),\n",
       " ('gets', 'VBZ'),\n",
       " ('very', 'RB'),\n",
       " ('nervous', 'JJ'),\n",
       " ('and', 'CC'),\n",
       " ('stressed', 'VBD'),\n",
       " ('during', 'IN'),\n",
       " ('the', 'DT'),\n",
       " ('last', 'JJ'),\n",
       " ('three', 'CD'),\n",
       " ('weeks', 'NNS'),\n",
       " ('of', 'IN'),\n",
       " ('the', 'DT'),\n",
       " ('Columbia', 'NNP'),\n",
       " ('term', 'NN'),\n",
       " (',', ','),\n",
       " ('but', 'CC'),\n",
       " ('Jill', 'NNP'),\n",
       " ('actually', 'RB'),\n",
       " ('enjoys', 'VBZ'),\n",
       " ('the', 'DT'),\n",
       " ('tension', 'NN'),\n",
       " ('and', 'CC'),\n",
       " ('deadlines', 'NNS'),\n",
       " ('!', '.')]"
      ]
     },
     "execution_count": 24,
     "metadata": {},
     "output_type": "execute_result"
    }
   ],
   "source": [
    "out = nltk.pos_tag(jj)\n",
    "out"
   ]
  },
  {
   "cell_type": "code",
   "execution_count": 25,
   "metadata": {
    "collapsed": false
   },
   "outputs": [
    {
     "name": "stdout",
     "output_type": "stream",
     "text": [
      ",: comma\n",
      "    ,\n",
      ".: sentence terminator\n",
      "    . ! ?\n",
      "CC: conjunction, coordinating\n",
      "    & 'n and both but either et for less minus neither nor or plus so\n",
      "    therefore times v. versus vs. whether yet\n",
      "CD: numeral, cardinal\n",
      "    mid-1890 nine-thirty forty-two one-tenth ten million 0.5 one forty-\n",
      "    seven 1987 twenty '79 zero two 78-degrees eighty-four IX '60s .025\n",
      "    fifteen 271,124 dozen quintillion DM2,000 ...\n",
      "DT: determiner\n",
      "    all an another any both del each either every half la many much nary\n",
      "    neither no some such that the them these this those\n",
      "IN: preposition or conjunction, subordinating\n",
      "    astride among uppon whether out inside pro despite on by throughout\n",
      "    below within for towards near behind atop around if like until below\n",
      "    next into if beside ...\n",
      "JJ: adjective or numeral, ordinal\n",
      "    third ill-mannered pre-war regrettable oiled calamitous first separable\n",
      "    ectoplasmic battery-powered participatory fourth still-to-be-named\n",
      "    multilingual multi-disciplinary ...\n",
      "NN: noun, common, singular or mass\n",
      "    common-carrier cabbage knuckle-duster Casino afghan shed thermostat\n",
      "    investment slide humour falloff slick wind hyena override subhumanity\n",
      "    machinist ...\n",
      "NNP: noun, proper, singular\n",
      "    Motown Venneboerger Czestochwa Ranzer Conchita Trumplane Christos\n",
      "    Oceanside Escobar Kreisler Sawyer Cougar Yvette Ervin ODI Darryl CTCA\n",
      "    Shannon A.K.C. Meltex Liverpool ...\n",
      "NNS: noun, common, plural\n",
      "    undergraduates scotches bric-a-brac products bodyguards facets coasts\n",
      "    divestitures storehouses designs clubs fragrances averages\n",
      "    subjectivists apprehensions muses factory-jobs ...\n",
      "RB: adverb\n",
      "    occasionally unabatingly maddeningly adventurously professedly\n",
      "    stirringly prominently technologically magisterially predominately\n",
      "    swiftly fiscally pitilessly ...\n",
      "VBD: verb, past tense\n",
      "    dipped pleaded swiped regummed soaked tidied convened halted registered\n",
      "    cushioned exacted snubbed strode aimed adopted belied figgered\n",
      "    speculated wore appreciated contemplated ...\n",
      "VBZ: verb, present tense, 3rd person singular\n",
      "    bases reconstructs marks mixes displeases seals carps weaves snatches\n",
      "    slumps stretches authorizes smolders pictures emerges stockpiles\n",
      "    seduces fizzes uses bolsters slaps speaks pleads ...\n"
     ]
    }
   ],
   "source": [
    "# can never remember what the tags means\n",
    "# extract the tags, make a set to get rid of dups, sort, and\n",
    "# get tag help\n",
    "\n",
    "for tag in sorted(set([tag for word, tag in out])):\n",
    "    nltk.help.upenn_tagset(tag)"
   ]
  },
  {
   "cell_type": "code",
   "execution_count": 26,
   "metadata": {
    "collapsed": false
   },
   "outputs": [
    {
     "data": {
      "text/plain": [
       "[1161192, 56057, 176, 1860]"
      ]
     },
     "execution_count": 26,
     "metadata": {},
     "output_type": "execute_result"
    }
   ],
   "source": [
    "# find anagrams and palindromes in a corpus\n",
    "\n",
    "import collections\n",
    "import random\n",
    "\n",
    "anas = collections.defaultdict(list)\n",
    "brownwords = nltk.corpus.brown.words()\n",
    "brownset = set(brownwords)\n",
    "pals = []\n",
    "\n",
    "# make anagram dict\n",
    "for w in brownset:\n",
    "    anas[''.join(sorted(w))].append(w)\n",
    "    if w == w[::-1]:\n",
    "        pals.append(w)\n",
    "        \n",
    "# get rid of all digit words,\n",
    "# and words with no anagrams\n",
    "bad = [k for k in anas if len(anas[k]) == 1 or k.isdigit()]\n",
    "for b in bad:\n",
    "    del anas[b]\n",
    "        \n",
    "keys = [k for k in anas]\n",
    "\n",
    "def find_anagram():\n",
    "    k = random.choice(keys)\n",
    "    return anas[k]\n",
    "\n",
    "[len(brownwords), len(brownset), len(pals), len(keys)]"
   ]
  },
  {
   "cell_type": "code",
   "execution_count": 27,
   "metadata": {
    "collapsed": false
   },
   "outputs": [
    {
     "data": {
      "text/plain": [
       "['civic',\n",
       " 'esse',\n",
       " '1991',\n",
       " 'uhhu',\n",
       " 'sees',\n",
       " \"ma'am\",\n",
       " 'sexes',\n",
       " '1881',\n",
       " 'refer',\n",
       " 'deed',\n",
       " 'yyyy',\n",
       " 'madam',\n",
       " 'redder',\n",
       " 'noon',\n",
       " '1001',\n",
       " 'solos',\n",
       " 'radar',\n",
       " 'rotor',\n",
       " 'xxxx',\n",
       " 'level',\n",
       " '1771']"
      ]
     },
     "execution_count": 27,
     "metadata": {},
     "output_type": "execute_result"
    }
   ],
   "source": [
    "[p for p in pals if len(p) > 3]"
   ]
  },
  {
   "cell_type": "code",
   "execution_count": 28,
   "metadata": {
    "collapsed": false
   },
   "outputs": [
    {
     "name": "stdout",
     "output_type": "stream",
     "text": [
      "['route', 'outer']\n",
      "['specie', 'pieces']\n",
      "['failed', 'afield']\n",
      "['guise', 'sigue']\n",
      "['Corne', 'Creon']\n",
      "['prai', 'pair']\n",
      "['6-5', '5-6']\n",
      "['57%', '75%']\n",
      "['none', 'neon']\n",
      "['seaside', 'disease']\n",
      "['renew', 'newer']\n",
      "['allows', 'sallow']\n",
      "['lemon', 'melon']\n",
      "['lamp', 'palm']\n",
      "['inter', 'inert']\n"
     ]
    }
   ],
   "source": [
    "for j in range(15):\n",
    "    print(find_anagram())"
   ]
  },
  {
   "cell_type": "code",
   "execution_count": 29,
   "metadata": {
    "collapsed": false
   },
   "outputs": [
    {
     "data": {
      "text/plain": [
       "['neg', 'pos']"
      ]
     },
     "execution_count": 29,
     "metadata": {},
     "output_type": "execute_result"
    }
   ],
   "source": [
    "# reviews are labeled positive or negative\n",
    "\n",
    "from nltk.corpus import movie_reviews\n",
    "\n",
    "movie_reviews.categories()"
   ]
  },
  {
   "cell_type": "code",
   "execution_count": 30,
   "metadata": {
    "collapsed": false
   },
   "outputs": [
    {
     "data": {
      "text/plain": [
       "2000"
      ]
     },
     "execution_count": 30,
     "metadata": {},
     "output_type": "execute_result"
    }
   ],
   "source": [
    "documents = [(list(movie_reviews.words(fileid)), category)\n",
    "              for category in movie_reviews.categories()\n",
    "              for fileid in movie_reviews.fileids(category)]\n",
    "random.shuffle(documents)\n",
    "\n",
    "len(documents)"
   ]
  },
  {
   "cell_type": "code",
   "execution_count": 31,
   "metadata": {
    "collapsed": false
   },
   "outputs": [],
   "source": [
    "#sw = set(stopwords.words('english'))\n",
    "#punctuation = set(string.punctuation)\n",
    "#junk = sw | punctuation\n",
    "allset = {w.lower() for w in movie_reviews.words()}\n",
    "\n",
    "all_words = nltk.FreqDist(allset)\n",
    "word_features = list(all_words)[:2000] \n",
    "\n",
    "def document_features(document):\n",
    "    document_words = set(document)\n",
    "    features = {}\n",
    "    for word in word_features:\n",
    "        features['contains({})'.format(word)] = (word in document_words)\n",
    "    return features\n",
    "\n",
    "#print(document_features(movie_reviews.words('pos/cv957_8737.txt')))"
   ]
  },
  {
   "cell_type": "code",
   "execution_count": 32,
   "metadata": {
    "collapsed": true
   },
   "outputs": [],
   "source": [
    "featuresets = [(document_features(d), c) for (d,c) in documents]\n",
    "train_set, test_set = featuresets[100:], featuresets[:100]\n",
    "classifier = nltk.NaiveBayesClassifier.train(train_set)"
   ]
  },
  {
   "cell_type": "code",
   "execution_count": 33,
   "metadata": {
    "collapsed": false
   },
   "outputs": [
    {
     "data": {
      "text/plain": [
       "1900"
      ]
     },
     "execution_count": 33,
     "metadata": {},
     "output_type": "execute_result"
    }
   ],
   "source": [
    "len(train_set)"
   ]
  },
  {
   "cell_type": "code",
   "execution_count": 34,
   "metadata": {
    "collapsed": false
   },
   "outputs": [
    {
     "data": {
      "text/plain": [
       "0.62"
      ]
     },
     "execution_count": 34,
     "metadata": {},
     "output_type": "execute_result"
    }
   ],
   "source": [
    "nltk.classify.accuracy(classifier, test_set)"
   ]
  },
  {
   "cell_type": "code",
   "execution_count": 35,
   "metadata": {
    "collapsed": false
   },
   "outputs": [
    {
     "name": "stdout",
     "output_type": "stream",
     "text": [
      "Most Informative Features\n",
      "   contains(fascination) = True              pos : neg    =     10.3 : 1.0\n",
      "      contains(thematic) = True              pos : neg    =      9.6 : 1.0\n",
      "   contains(silverstone) = True              neg : pos    =      7.7 : 1.0\n",
      "    contains(opposition) = True              pos : neg    =      7.7 : 1.0\n",
      "         contains(jules) = True              pos : neg    =      7.0 : 1.0\n"
     ]
    }
   ],
   "source": [
    "classifier.show_most_informative_features(5)"
   ]
  },
  {
   "cell_type": "code",
   "execution_count": null,
   "metadata": {
    "collapsed": true
   },
   "outputs": [],
   "source": []
  }
 ],
 "metadata": {
  "anaconda-cloud": {},
  "kernelspec": {
   "display_name": "Python [conda root]",
   "language": "python",
   "name": "conda-root-py"
  },
  "language_info": {
   "codemirror_mode": {
    "name": "ipython",
    "version": 3
   },
   "file_extension": ".py",
   "mimetype": "text/x-python",
   "name": "python",
   "nbconvert_exporter": "python",
   "pygments_lexer": "ipython3",
   "version": "3.5.2"
  }
 },
 "nbformat": 4,
 "nbformat_minor": 0
}
