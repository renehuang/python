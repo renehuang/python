{
 "cells": [
  {
   "cell_type": "markdown",
   "metadata": {},
   "source": [
    "# Object Oriented Programming\n",
    "\n",
    "# class\n",
    "- executable statement, like 'def', that defines a class\n",
    "- a class is like a blueprint. specifies how to make any number of object instances, and what their capabilites are\n",
    "- instances, or objects, hold state information in 'attributes', or 'variables'\n",
    "- instances have methods, which are functions that access and modify the object's internal state information\n",
    "    - methods with ```__``` in the name usually have special meaning to Python\n",
    "- 'class variables' can be defined on the class, accesible to all object instances\n",
    "- 'instance variables' are defined on each object instance\n",
    "- 'self' must ALWAYS be the first arg to a method\n",
    "    - attributes of the object, methods and variables, must be accessed thru the self variable\n",
    "- name of the class is the type, and is also a 'constructor' function that instantiates an object\n",
    "    -- __init__  method is called when the instance is created\n",
    "\n",
    "# Object oriented design\n",
    "- encapsulation\n",
    "    - define an external interface to the class\n",
    "    - do not expose the inner workings of the class\n",
    "    - enforce modularity\n",
    "- polymorphism\n",
    "    - define how operators act on a class\n",
    "- inheritance\n",
    "    - designing classes that are based on existing classes\n",
    "    - often an existing class 'almost' does what you want, so you 'reuse' that functionality by inheriting from it\n",
    "\n",
    "\n",
    "# OOP is a natural fit for many applications\n",
    " - simulation\n",
    " - window systems and GUI's\n",
    " - networking\n",
    " - operating systems\n",
    " - modeling a 'slice' of reality\n",
    "\n",
    "# Example: car class\n",
    "- API defined by object methods\n",
    "- class can be used in simultation, or by a real car\n",
    "- performance updates to the car don't change the API"
   ]
  },
  {
   "cell_type": "code",
   "execution_count": null,
   "metadata": {
    "collapsed": false
   },
   "outputs": [],
   "source": [
    "class car:\n",
    "    fuel = 12\n",
    "    # new car\n",
    "    odometer = 0\n",
    "    def getOdometer():\n",
    "        return odometer\n",
    "    def getFuel():\n",
    "        return fuel\n",
    "\n",
    "    def start():\n",
    "        pass\n",
    "    def setBrake(val):\n",
    "        pass\n",
    "    def setGas(val):\n",
    "        pass\n",
    "    def setSteering(angle):\n",
    "        pass\n",
    "    def setLights(onOff):\n",
    "        pass\n",
    "    def getRadarData():\n",
    "        pass\n",
    "        "
   ]
  },
  {
   "cell_type": "markdown",
   "metadata": {},
   "source": [
    "# Example - class Point\n",
    "- represent 2D points"
   ]
  },
  {
   "cell_type": "code",
   "execution_count": 1,
   "metadata": {
    "collapsed": false
   },
   "outputs": [],
   "source": [
    "import math\n",
    "\n",
    "# do not forget kwd self\n",
    "\n",
    "class Point:\n",
    "    \"docstring for the Point class\"\n",
    "    def __init__(self, x=0, y=0):\n",
    "        self.x = x\n",
    "        self.y = y\n",
    "    def __str__(self):\n",
    "        return 'Point({}, {})'.format(self.x, self.y)\n",
    "    def __repr__(self):\n",
    "        return str(self)\n",
    "    \n",
    "    def add(self, p):\n",
    "        return Point(self.x + p.x, self.y + p.y)\n",
    "    \n",
    "    def addTo(self, p):\n",
    "        \"docstring for addTo method\"\n",
    "        self.x += p.x\n",
    "        self.y += p.y\n",
    "        return self\n",
    "    \n",
    "    def distanceFrom(self, p):\n",
    "        return math.sqrt( (self.x - p.x)**2 + (self.y - p.y)**2)"
   ]
  },
  {
   "cell_type": "code",
   "execution_count": 2,
   "metadata": {
    "collapsed": false
   },
   "outputs": [
    {
     "data": {
      "text/plain": [
       "5.0"
      ]
     },
     "execution_count": 2,
     "metadata": {},
     "output_type": "execute_result"
    }
   ],
   "source": [
    "origin = Point()\n",
    "p1010 = Point(10, 10)\n",
    "p34 = Point(3,4)\n",
    "\n",
    "origin.distanceFrom(p34)"
   ]
  },
  {
   "cell_type": "code",
   "execution_count": 4,
   "metadata": {
    "collapsed": false
   },
   "outputs": [
    {
     "data": {
      "text/plain": [
       "[Point(13, 14), False, False]"
      ]
     },
     "execution_count": 4,
     "metadata": {},
     "output_type": "execute_result"
    }
   ],
   "source": [
    "a = p1010.add(p34)\n",
    "\n",
    "[a, a is p1010, a is p34]"
   ]
  },
  {
   "cell_type": "code",
   "execution_count": 5,
   "metadata": {
    "collapsed": false
   },
   "outputs": [
    {
     "data": {
      "text/plain": [
       "[Point(13, 14), True]"
      ]
     },
     "execution_count": 5,
     "metadata": {},
     "output_type": "execute_result"
    }
   ],
   "source": [
    "a = p1010.addTo(p34)\n",
    "[a, a is p1010]"
   ]
  },
  {
   "cell_type": "code",
   "execution_count": 6,
   "metadata": {
    "collapsed": false
   },
   "outputs": [
    {
     "data": {
      "text/plain": [
       "Polygon<4 points>"
      ]
     },
     "execution_count": 6,
     "metadata": {},
     "output_type": "execute_result"
    }
   ],
   "source": [
    "class Polygon:\n",
    "    def __init__(self, pts):\n",
    "        # represent vertexes of polygon\n",
    "        # copy the verts?\n",
    "        self.pts = pts\n",
    "    def __str__(self):\n",
    "        return '{}<{} points>'.format(self.printname(), len(self.pts))\n",
    "    def __repr__(self):\n",
    "        return str(self)\n",
    "    def printname(self):\n",
    "        return 'Polygon'\n",
    "    \n",
    "    def sides(self):\n",
    "        return len(self.pts)\n",
    "    \n",
    "    def addTo(self, a):\n",
    "        for p in self.pts:\n",
    "            p.addTo(a)\n",
    "    \n",
    "    def printVerts(self):\n",
    "        for j, p in enumerate(self.pts):\n",
    "            print(j, p)\n",
    "\n",
    "origin = Point()\n",
    "p1010 = Point(10, 10)\n",
    "p34 = Point(3,4)\n",
    "p78 = Point(7,8)\n",
    "\n",
    "p = Polygon([origin, p1010, p34, p78])\n",
    "p"
   ]
  },
  {
   "cell_type": "code",
   "execution_count": 7,
   "metadata": {
    "collapsed": false
   },
   "outputs": [
    {
     "name": "stdout",
     "output_type": "stream",
     "text": [
      "0 Point(0, 0)\n",
      "1 Point(10, 10)\n",
      "2 Point(3, 4)\n",
      "3 Point(7, 8)\n"
     ]
    }
   ],
   "source": [
    "p.printVerts()"
   ]
  },
  {
   "cell_type": "code",
   "execution_count": 8,
   "metadata": {
    "collapsed": false
   },
   "outputs": [
    {
     "data": {
      "text/plain": [
       "4"
      ]
     },
     "execution_count": 8,
     "metadata": {},
     "output_type": "execute_result"
    }
   ],
   "source": [
    "# roughly speaking, the p.sides() call \n",
    "# gets converted into sides(p)\n",
    "\n",
    "p.sides()"
   ]
  },
  {
   "cell_type": "code",
   "execution_count": 9,
   "metadata": {
    "collapsed": false
   },
   "outputs": [
    {
     "name": "stdout",
     "output_type": "stream",
     "text": [
      "0 Point(10, 20)\n",
      "1 Point(20, 30)\n",
      "2 Point(13, 24)\n",
      "3 Point(17, 28)\n"
     ]
    }
   ],
   "source": [
    "# Modify the polygon\n",
    "# p.addTo(at) => addTo(p, at)\n",
    "\n",
    "at = Point(10, 20)\n",
    "p.addTo(at)\n",
    "p.printVerts()"
   ]
  },
  {
   "cell_type": "markdown",
   "metadata": {},
   "source": [
    "# Example - class C\n",
    "- 'state information' maintained by 'C'\n",
    "    - 'cvar' is a 'class variable' - all instances of C can access it\n",
    "    - 'ivar' is an 'instance variable' - each instance of C has it's own copy\n",
    "- 'readCV', 'setCV', 'readIV', 'setIV', and 'noEffect' are 'methods' defined on\n",
    "'C'\n",
    "    - the first argument to a method must always be 'self', which refers to the instance itself (like 'this' in Java)\n",
    "    \n"
   ]
  },
  {
   "cell_type": "code",
   "execution_count": null,
   "metadata": {
    "collapsed": true
   },
   "outputs": [],
   "source": [
    "# note ':' - statement block\n",
    "class C:\n",
    "    \n",
    "    # initialize cvar\n",
    "    cvar = 33\n",
    "    \n",
    "    # called with create function args\n",
    "    # objects gets 'setup' here\n",
    "    def __init__(self, n):\n",
    "        # create instance variable 'iv' by assignment\n",
    "        self.ivar = n\n",
    "\n",
    "    # reads the class var \n",
    "    def readCV(self):\n",
    "        # note self is not used\n",
    "        return(C.cvar)\n",
    "    \n",
    "    # write the class var\n",
    "    def setCV(self, n):\n",
    "        C.cvar = n\n",
    "\n",
    "    # reads instance var - self is used\n",
    "    def readIV(self):\n",
    "        return(self.ivar)\n",
    "\n",
    "    # writes instance var - self is used\n",
    "    def setIV(self, n):\n",
    "        self.ivar = n\n",
    "\n",
    "    # call methods inside a method\n",
    "    def incr(self, n):\n",
    "        val = self.readIV()\n",
    "        val += n\n",
    "        self.setIV(val)\n",
    "    \n",
    "    # this method has no effect on the object\n",
    "    def noEffect(self, c, i):\n",
    "        # because C. and self. are not used\n",
    "        # below just defines two variables 'cvar' and 'ivar,\n",
    "        # local to method 'noEffect'\n",
    "        # they will be forgotten when noEffect exits\n",
    "        cvar = c\n",
    "        ivar = i\n"
   ]
  },
  {
   "cell_type": "code",
   "execution_count": null,
   "metadata": {
    "collapsed": false
   },
   "outputs": [],
   "source": [
    "# make two instances - they will 'share' 'cvar\n",
    "\n",
    "c1 = C(23)\n",
    "c2 = C(44)\n",
    "[isinstance(c1, C), type(c1), c1, c2]"
   ]
  },
  {
   "cell_type": "code",
   "execution_count": null,
   "metadata": {
    "collapsed": false
   },
   "outputs": [],
   "source": [
    "# both instances see the same value for the class var\n",
    "\n",
    "[c1.readCV(), c2.readCV()]"
   ]
  },
  {
   "cell_type": "code",
   "execution_count": null,
   "metadata": {
    "collapsed": true
   },
   "outputs": [],
   "source": [
    "# set 'cvar' via c1\n",
    "\n",
    "c1.setCV(10)"
   ]
  },
  {
   "cell_type": "code",
   "execution_count": null,
   "metadata": {
    "collapsed": false
   },
   "outputs": [],
   "source": [
    "# both instances still see the same value\n",
    "\n",
    "[c1.readCV(), c2.readCV()]"
   ]
  },
  {
   "cell_type": "code",
   "execution_count": null,
   "metadata": {
    "collapsed": false
   },
   "outputs": [],
   "source": [
    "# instances have different 'ivar' values from their __init__ methods\n",
    "\n",
    "[c1.readIV(), c2.readIV()]"
   ]
  },
  {
   "cell_type": "code",
   "execution_count": null,
   "metadata": {
    "collapsed": false
   },
   "outputs": [],
   "source": [
    "# still independent\n",
    "\n",
    "c1.setIV(100)\n",
    "c2.setIV(200)\n",
    "\n",
    "[c1.readIV(), c2.readIV()]"
   ]
  },
  {
   "cell_type": "code",
   "execution_count": null,
   "metadata": {
    "collapsed": false
   },
   "outputs": [],
   "source": [
    "# has no effect on the instance or class variables\n",
    "\n",
    "c1.noEffect(1,2)\n",
    "c2.noEffect(3,4)\n",
    "\n",
    "print([c1.readCV(), c2.readCV()])\n",
    "[c1.readIV(), c2.readIV()]"
   ]
  },
  {
   "cell_type": "code",
   "execution_count": null,
   "metadata": {
    "collapsed": false
   },
   "outputs": [],
   "source": [
    "# style above uses 'accessor functions'\n",
    "# can also refer to objects variables directly\n",
    "\n",
    "C.var = 2\n",
    "c1.ivar = 25\n",
    "c2.ivar = 30\n",
    "\n",
    "[C.cvar, c1.ivar, c2.ivar]"
   ]
  },
  {
   "cell_type": "code",
   "execution_count": null,
   "metadata": {
    "collapsed": false
   },
   "outputs": [],
   "source": [
    "c1.incr(100)\n",
    "c1.ivar"
   ]
  },
  {
   "cell_type": "code",
   "execution_count": null,
   "metadata": {
    "collapsed": false
   },
   "outputs": [],
   "source": [
    "# isinstance(obj, type) => true if obj is of type\n",
    "\n",
    "[isinstance(c1, C), isinstance(c1, int)]"
   ]
  },
  {
   "cell_type": "code",
   "execution_count": null,
   "metadata": {
    "collapsed": false
   },
   "outputs": [],
   "source": [
    "[type(c1), type(C), type(c1.noEffect)]"
   ]
  },
  {
   "cell_type": "markdown",
   "metadata": {},
   "source": [
    "# Generators vs Classes\n",
    "- both preserve 'state' information, in different ways\n",
    "    - generators save local variable bindings and program execution location\n",
    "    - automatically define an iterator\n",
    "    - classes save instance variable bindings\n",
    "   \n",
    "# fibonacci generator"
   ]
  },
  {
   "cell_type": "code",
   "execution_count": 10,
   "metadata": {
    "collapsed": false
   },
   "outputs": [
    {
     "data": {
      "text/plain": [
       "[1, 1, 2, 3, 5, 8, 13, 21, 34, 55]"
      ]
     },
     "execution_count": 10,
     "metadata": {},
     "output_type": "execute_result"
    }
   ],
   "source": [
    "# earlier, we defined fibonaaci as a generator\n",
    "\n",
    "def fibg():\n",
    "    # easy way to handle the first two ones\n",
    "    yield(1)\n",
    "    yield(1)\n",
    "    last = 1\n",
    "    last2 = 1\n",
    "    while True:\n",
    "        sum = last + last2\n",
    "        yield(sum)\n",
    "        last, last2 = sum, last\n",
    "\n",
    "fg = fibg()\n",
    "[next(fg) for x in range(10)]"
   ]
  },
  {
   "cell_type": "code",
   "execution_count": 11,
   "metadata": {
    "collapsed": false
   },
   "outputs": [
    {
     "data": {
      "text/plain": [
       "True"
      ]
     },
     "execution_count": 11,
     "metadata": {},
     "output_type": "execute_result"
    }
   ],
   "source": [
    "fg = fibg()\n",
    "fg2 = iter(fg)\n",
    "fg is fg2"
   ]
  },
  {
   "cell_type": "markdown",
   "metadata": {},
   "source": [
    "# fibonacci class\n",
    "- must explicitly define iteration with ```__iter__ and __next__ methods```\n",
    "- must explicity save state on instance variable\n"
   ]
  },
  {
   "cell_type": "code",
   "execution_count": 12,
   "metadata": {
    "collapsed": false
   },
   "outputs": [
    {
     "data": {
      "text/plain": [
       "[1, 1, 2, 3, 5, 8, 13, 21, 34, 55]"
      ]
     },
     "execution_count": 12,
     "metadata": {},
     "output_type": "execute_result"
    }
   ],
   "source": [
    "# here is a class implementation\n",
    "# note that the 'state' of the sequence must be\n",
    "# explicitly saved in the instance variables\n",
    "# in the generator, the state is saved automatically\n",
    "\n",
    "# here we see how to implement part of the iteration\n",
    "# protocol, using the `__iter__ and __next__' methods\n",
    "\n",
    "\n",
    "class fibc:\n",
    "    def __init__(self):\n",
    "        self.old = 1\n",
    "        self.older = 1\n",
    "    \n",
    "    # return the iterator for the obj, which is the object itself\n",
    "    def __iter__(self):\n",
    "        return self\n",
    "    \n",
    "    # returns the next element in the iteration\n",
    "    # since this sequence is infinite, we never \n",
    "    # throw the StopIteration error\n",
    "    def __next__(self):\n",
    "        (self.old, self.older, rtn) = (self.old + self.older, self.old, self.older)\n",
    "        return rtn\n",
    "\n",
    "\n",
    "fc = fibc()\n",
    "[next(fc) for x in range(10)]      "
   ]
  },
  {
   "cell_type": "markdown",
   "metadata": {},
   "source": [
    "# conclusion\n",
    "- for fibonaaci, the generator approach is much simpler\n",
    "- however, classes are more general and can be used in ways that generators do not support"
   ]
  }
 ],
 "metadata": {
  "anaconda-cloud": {},
  "kernelspec": {
   "display_name": "Python [conda root]",
   "language": "python",
   "name": "conda-root-py"
  },
  "language_info": {
   "codemirror_mode": {
    "name": "ipython",
    "version": 3
   },
   "file_extension": ".py",
   "mimetype": "text/x-python",
   "name": "python",
   "nbconvert_exporter": "python",
   "pygments_lexer": "ipython3",
   "version": "3.5.2"
  }
 },
 "nbformat": 4,
 "nbformat_minor": 0
}
