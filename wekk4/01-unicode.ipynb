{
 "cells": [
  {
   "cell_type": "markdown",
   "metadata": {},
   "source": [
    "# Character representation schemes"
   ]
  },
  {
   "cell_type": "markdown",
   "metadata": {},
   "source": [
    "# Ascii \n",
    "- each character represented by one byte\n",
    "- english characters and control characters(NL, CR, TAB...)\n",
    "- to see ascii encoding on mac or linux, in a shell window do:\n",
    "  - man ascii \n",
    "\n",
    "```\n",
    "       0 nul    1 soh    2 stx    3 etx    4 eot    5 enq    6 ack    7 bel\n",
    "       8 bs     9 ht    10 nl    11 vt    12 np    13 cr    14 so    15 si\n",
    "      16 dle   17 dc1   18 dc2   19 dc3   20 dc4   21 nak   22 syn   23 etb\n",
    "      24 can   25 em    26 sub   27 esc   28 fs    29 gs    30 rs    31 us\n",
    "      32 sp    33  !    34  \"    35  #    36  $    37  %    38  &    39  '\n",
    "      40  (    41  )    42  *    43  +    44  ,    45  -    46  .    47  /\n",
    "      48  0    49  1    50  2    51  3    52  4    53  5    54  6    55  7\n",
    "      56  8    57  9    58  :    59  ;    60  <    61  =    62  >    63  ?\n",
    "      64  @    65  A    66  B    67  C    68  D    69  E    70  F    71  G\n",
    "      72  H    73  I    74  J    75  K    76  L    77  M    78  N    79  O\n",
    "      80  P    81  Q    82  R    83  S    84  T    85  U    86  V    87  W\n",
    "      88  X    89  Y    90  Z    91  [    92  \\    93  ]    94  ^    95  _\n",
    "      96  `    97  a    98  b    99  c   100  d   101  e   102  f   103  g\n",
    "     104  h   105  i   106  j   107  k   108  l   109  m   110  n   111  o\n",
    "     112  p   113  q   114  r   115  s   116  t   117  u   118  v   119  w\n",
    "     120  x   121  y   122  z   123  {   124  |   125  }   126  ~   127 del\n",
    "```"
   ]
  },
  {
   "cell_type": "markdown",
   "metadata": {},
   "source": [
    "# type 'bytes' \n",
    "- stores a sequence of 8 bit bytes\n",
    "- prints bytes using ascii map\n",
    "- immutable\n"
   ]
  },
  {
   "cell_type": "code",
   "execution_count": 1,
   "metadata": {
    "collapsed": false
   },
   "outputs": [
    {
     "data": {
      "text/plain": [
       "[b'foobarAZ', 8, 98, 90, bytes, int]"
      ]
     },
     "execution_count": 1,
     "metadata": {},
     "output_type": "execute_result"
    }
   ],
   "source": [
    "# leading b' means bytes\n",
    "# last two characters written in hex\n",
    "# holds ints, not chars\n",
    "\n",
    "b = b'foobar\\x41\\x5a'\n",
    "\n",
    "[b, len(b), b[3], b[-1], type(b), type(b[0])]"
   ]
  },
  {
   "cell_type": "code",
   "execution_count": 2,
   "metadata": {
    "collapsed": false
   },
   "outputs": [
    {
     "ename": "TypeError",
     "evalue": "'bytes' object does not support item assignment",
     "output_type": "error",
     "traceback": [
      "\u001b[0;31m---------------------------------------------------------------------------\u001b[0m",
      "\u001b[0;31mTypeError\u001b[0m                                 Traceback (most recent call last)",
      "\u001b[0;32m<ipython-input-2-44d80f31bfa4>\u001b[0m in \u001b[0;36m<module>\u001b[0;34m()\u001b[0m\n\u001b[1;32m      1\u001b[0m \u001b[1;31m# 'bytes' are not mutable, like a string\u001b[0m\u001b[1;33m\u001b[0m\u001b[1;33m\u001b[0m\u001b[0m\n\u001b[1;32m      2\u001b[0m \u001b[1;33m\u001b[0m\u001b[0m\n\u001b[0;32m----> 3\u001b[0;31m \u001b[0mb\u001b[0m\u001b[1;33m[\u001b[0m\u001b[1;36m3\u001b[0m\u001b[1;33m]\u001b[0m \u001b[1;33m=\u001b[0m \u001b[1;36m33\u001b[0m\u001b[1;33m\u001b[0m\u001b[0m\n\u001b[0m",
      "\u001b[0;31mTypeError\u001b[0m: 'bytes' object does not support item assignment"
     ]
    }
   ],
   "source": [
    "# 'bytes' are not mutable, like a string\n",
    "\n",
    "b[3] = 33"
   ]
  },
  {
   "cell_type": "code",
   "execution_count": 3,
   "metadata": {
    "collapsed": false
   },
   "outputs": [
    {
     "data": {
      "text/plain": [
       "['capitalize',\n",
       " 'center',\n",
       " 'count',\n",
       " 'decode',\n",
       " 'endswith',\n",
       " 'expandtabs',\n",
       " 'find',\n",
       " 'fromhex',\n",
       " 'hex',\n",
       " 'index',\n",
       " 'isalnum',\n",
       " 'isalpha',\n",
       " 'isdigit',\n",
       " 'islower',\n",
       " 'isspace',\n",
       " 'istitle',\n",
       " 'isupper',\n",
       " 'join',\n",
       " 'ljust',\n",
       " 'lower',\n",
       " 'lstrip',\n",
       " 'maketrans',\n",
       " 'partition',\n",
       " 'replace',\n",
       " 'rfind',\n",
       " 'rindex',\n",
       " 'rjust',\n",
       " 'rpartition',\n",
       " 'rsplit',\n",
       " 'rstrip',\n",
       " 'split',\n",
       " 'splitlines',\n",
       " 'startswith',\n",
       " 'strip',\n",
       " 'swapcase',\n",
       " 'title',\n",
       " 'translate',\n",
       " 'upper',\n",
       " 'zfill']"
      ]
     },
     "execution_count": 3,
     "metadata": {},
     "output_type": "execute_result"
    }
   ],
   "source": [
    "# similar functionality to the 'str' type we have been using\n",
    "\n",
    "[a for a in dir(bytes) if not a.startswith('__')]"
   ]
  },
  {
   "cell_type": "markdown",
   "metadata": {},
   "source": [
    "# type 'bytearray'\n",
    "- mutable version of 'bytes'"
   ]
  },
  {
   "cell_type": "code",
   "execution_count": 88,
   "metadata": {
    "collapsed": false
   },
   "outputs": [
    {
     "data": {
      "text/plain": [
       "[bytearray(b'foobarAZ'), 8, 90, bytearray, int]"
      ]
     },
     "execution_count": 88,
     "metadata": {},
     "output_type": "execute_result"
    }
   ],
   "source": [
    "ba = bytearray(b)\n",
    "[ba, len(ba), ba[-1], type(ba), type(ba[0])]"
   ]
  },
  {
   "cell_type": "code",
   "execution_count": 89,
   "metadata": {
    "collapsed": false
   },
   "outputs": [
    {
     "data": {
      "text/plain": [
       "bytearray(b'FoobarAZ')"
      ]
     },
     "execution_count": 89,
     "metadata": {},
     "output_type": "execute_result"
    }
   ],
   "source": [
    "# mutable\n",
    "\n",
    "ba[0] = ord('F')\n",
    "ba"
   ]
  },
  {
   "cell_type": "code",
   "execution_count": 90,
   "metadata": {
    "collapsed": false
   },
   "outputs": [
    {
     "data": {
      "text/plain": [
       "[70, int]"
      ]
     },
     "execution_count": 90,
     "metadata": {},
     "output_type": "execute_result"
    }
   ],
   "source": [
    "# stores ints, NOT characters\n",
    "\n",
    "[ba[0], type(ba[0])]"
   ]
  },
  {
   "cell_type": "code",
   "execution_count": 91,
   "metadata": {
    "collapsed": false
   },
   "outputs": [],
   "source": [
    "ba[0] = 255"
   ]
  },
  {
   "cell_type": "code",
   "execution_count": 92,
   "metadata": {
    "collapsed": false
   },
   "outputs": [
    {
     "ename": "ValueError",
     "evalue": "byte must be in range(0, 256)",
     "output_type": "error",
     "traceback": [
      "\u001b[0;31m---------------------------------------------------------------------------\u001b[0m",
      "\u001b[0;31mValueError\u001b[0m                                Traceback (most recent call last)",
      "\u001b[0;32m<ipython-input-92-8b01ff856ecc>\u001b[0m in \u001b[0;36m<module>\u001b[0;34m()\u001b[0m\n\u001b[1;32m      1\u001b[0m \u001b[0;31m# in fact, only stores a subset of ints, 0-255\u001b[0m\u001b[0;34m\u001b[0m\u001b[0;34m\u001b[0m\u001b[0m\n\u001b[1;32m      2\u001b[0m \u001b[0;34m\u001b[0m\u001b[0m\n\u001b[0;32m----> 3\u001b[0;31m \u001b[0mba\u001b[0m\u001b[0;34m[\u001b[0m\u001b[0;36m0\u001b[0m\u001b[0;34m]\u001b[0m \u001b[0;34m=\u001b[0m \u001b[0;36m256\u001b[0m\u001b[0;34m\u001b[0m\u001b[0m\n\u001b[0m",
      "\u001b[0;31mValueError\u001b[0m: byte must be in range(0, 256)"
     ]
    }
   ],
   "source": [
    "# in fact, only stores a subset of ints, 0-255\n",
    "\n",
    "ba[0] = 256"
   ]
  },
  {
   "cell_type": "code",
   "execution_count": 86,
   "metadata": {
    "collapsed": false
   },
   "outputs": [
    {
     "data": {
      "text/plain": [
       "['append',\n",
       " 'capitalize',\n",
       " 'center',\n",
       " 'clear',\n",
       " 'copy',\n",
       " 'count',\n",
       " 'decode',\n",
       " 'endswith',\n",
       " 'expandtabs',\n",
       " 'extend',\n",
       " 'find',\n",
       " 'fromhex',\n",
       " 'hex',\n",
       " 'index',\n",
       " 'insert',\n",
       " 'isalnum',\n",
       " 'isalpha',\n",
       " 'isdigit',\n",
       " 'islower',\n",
       " 'isspace',\n",
       " 'istitle',\n",
       " 'isupper',\n",
       " 'join',\n",
       " 'ljust',\n",
       " 'lower',\n",
       " 'lstrip',\n",
       " 'maketrans',\n",
       " 'partition',\n",
       " 'pop',\n",
       " 'remove',\n",
       " 'replace',\n",
       " 'reverse',\n",
       " 'rfind',\n",
       " 'rindex',\n",
       " 'rjust',\n",
       " 'rpartition',\n",
       " 'rsplit',\n",
       " 'rstrip',\n",
       " 'split',\n",
       " 'splitlines',\n",
       " 'startswith',\n",
       " 'strip',\n",
       " 'swapcase',\n",
       " 'title',\n",
       " 'translate',\n",
       " 'upper',\n",
       " 'zfill']"
      ]
     },
     "execution_count": 86,
     "metadata": {},
     "output_type": "execute_result"
    }
   ],
   "source": [
    "[a for a in dir(bytearray) if not a.startswith('__')]"
   ]
  },
  {
   "cell_type": "markdown",
   "metadata": {},
   "source": [
    "# Limitations of Ascii\n",
    "- 1 bit was not used, leaving some room for extensions, but one byte is not enough to represent all the characters in the world\n",
    "\n",
    "\n",
    "\n",
    "# Unicode\n",
    "- \"universal character set\"\n",
    "- represents over a million different characters\n",
    "- every language on earth\n",
    "    - somebody tried to add Klingon, but it was rejected\n",
    "- each character represented by a unique integer\n",
    "- [code charts](http://www.unicode.org/charts/)\n",
    "\n",
    "# Python 'str' type \n",
    "- stores Unicode characters, not ascii\n",
    "\n",
    "# encodings\n",
    "- 'encoding' is converting a unicode string into a byte array or stream (in some encoding)\n",
    "- 'decoding' is converting a byte stream(in some encoding) into a unicode string\n",
    "- there are several different encoding/decoding schemes\n",
    "- java uses utf-16\n",
    "- english web pages often use utf-8\n",
    "- the utf-8 encoding has the special property that if the unicode string is just ascii characters, the utf-8 encoding\n",
    "is the same as the ascii encoding\n",
    "- when you move a unicode string OUT of python, you must ENCODE it into a sequence of bytes\n",
    "- when you move a unicode string INTO of python, you must DECODE it from a sequence of bytes\n"
   ]
  },
  {
   "cell_type": "code",
   "execution_count": 62,
   "metadata": {
    "collapsed": false
   },
   "outputs": [
    {
     "data": {
      "text/plain": [
       "[str, 'ℙƴ☂ℌøἤ', 6]"
      ]
     },
     "execution_count": 62,
     "metadata": {},
     "output_type": "execute_result"
    }
   ],
   "source": [
    "# 'Python' spelled in characters from different unicode character sets\n",
    "# len is 6, which is the numbers of characters, not the number bytes it takes to represent them\n",
    "\n",
    "uni = '\\u2119\\u01b4\\u2602\\u210c\\xf8\\u1f24'\n",
    "[type(uni), uni, len(uni)]"
   ]
  },
  {
   "cell_type": "markdown",
   "metadata": {},
   "source": [
    "# 'ord' maps a char into its unicode integer\n",
    "# 'chr' maps a unicode integer into a char"
   ]
  },
  {
   "cell_type": "code",
   "execution_count": 76,
   "metadata": {
    "collapsed": false
   },
   "outputs": [
    {
     "data": {
      "text/plain": [
       "[65, 'A', '✂']"
      ]
     },
     "execution_count": 76,
     "metadata": {},
     "output_type": "execute_result"
    }
   ],
   "source": [
    "# 3rd char is from 'dingbats'\n",
    "\n",
    "[ ord('A'), chr(65), chr(0x2702)]"
   ]
  },
  {
   "cell_type": "code",
   "execution_count": 4,
   "metadata": {
    "collapsed": true
   },
   "outputs": [],
   "source": [
    "# three different encodings of uni \n",
    "\n",
    "utf8, utf16, utf32 = [uni.encode(et) for et in ['utf-8', 'utf-16', 'utf-32']]"
   ]
  },
  {
   "cell_type": "code",
   "execution_count": 5,
   "metadata": {
    "collapsed": false
   },
   "outputs": [
    {
     "data": {
      "text/plain": [
       "[[16, bytes], [14, bytes], [28, bytes]]"
      ]
     },
     "execution_count": 5,
     "metadata": {},
     "output_type": "execute_result"
    }
   ],
   "source": [
    "# length of byte encoding varies with different encodings\n",
    "\n",
    "[[len(u), type(u)] for u in [utf8, utf16, utf32]]"
   ]
  },
  {
   "cell_type": "code",
   "execution_count": 6,
   "metadata": {
    "collapsed": false
   },
   "outputs": [
    {
     "data": {
      "text/plain": [
       "[str,\n",
       " bytes,\n",
       " b'\\xe2\\x84\\x99\\xc6\\xb4\\xe2\\x98\\x82\\xe2\\x84\\x8c\\xc3\\xb8\\xe1\\xbc\\xa4',\n",
       " b'\\xff\\xfe\\x19!\\xb4\\x01\\x02&\\x0c!\\xf8\\x00$\\x1f',\n",
       " b'\\xff\\xfe\\x00\\x00\\x19!\\x00\\x00\\xb4\\x01\\x00\\x00\\x02&\\x00\\x00\\x0c!\\x00\\x00\\xf8\\x00\\x00\\x00$\\x1f\\x00\\x00']"
      ]
     },
     "execution_count": 6,
     "metadata": {},
     "output_type": "execute_result"
    }
   ],
   "source": [
    "# utf8 is type 'bytes', not a str. \n",
    "# note b' prefix\n",
    "\n",
    "[type(uni), type(utf8), utf8, utf16, utf32]"
   ]
  },
  {
   "cell_type": "code",
   "execution_count": 7,
   "metadata": {
    "collapsed": false
   },
   "outputs": [
    {
     "data": {
      "text/plain": [
       "'ℙƴ☂ℌøἤ'"
      ]
     },
     "execution_count": 7,
     "metadata": {},
     "output_type": "execute_result"
    }
   ],
   "source": [
    "# decode converts bytes into unicode string\n",
    "\n",
    "utf32.decode('utf-32')"
   ]
  },
  {
   "cell_type": "code",
   "execution_count": 8,
   "metadata": {
    "collapsed": false
   },
   "outputs": [
    {
     "data": {
      "text/plain": [
       "'ℙƴ☂ℌøἤ'"
      ]
     },
     "execution_count": 8,
     "metadata": {},
     "output_type": "execute_result"
    }
   ],
   "source": [
    "utf8.decode('utf-8')"
   ]
  },
  {
   "cell_type": "code",
   "execution_count": 9,
   "metadata": {
    "collapsed": false
   },
   "outputs": [
    {
     "ename": "UnicodeDecodeError",
     "evalue": "'utf-8' codec can't decode byte 0xff in position 0: invalid start byte",
     "output_type": "error",
     "traceback": [
      "\u001b[0;31m---------------------------------------------------------------------------\u001b[0m",
      "\u001b[0;31mUnicodeDecodeError\u001b[0m                        Traceback (most recent call last)",
      "\u001b[0;32m<ipython-input-9-0fd0682bcce9>\u001b[0m in \u001b[0;36m<module>\u001b[0;34m()\u001b[0m\n\u001b[1;32m      3\u001b[0m \u001b[0;31m# sometimes you will just get a bogus string\u001b[0m\u001b[0;34m\u001b[0m\u001b[0;34m\u001b[0m\u001b[0m\n\u001b[1;32m      4\u001b[0m \u001b[0;34m\u001b[0m\u001b[0m\n\u001b[0;32m----> 5\u001b[0;31m \u001b[0mutf32\u001b[0m\u001b[0;34m.\u001b[0m\u001b[0mdecode\u001b[0m\u001b[0;34m(\u001b[0m\u001b[0;34m'utf-8'\u001b[0m\u001b[0;34m)\u001b[0m\u001b[0;34m\u001b[0m\u001b[0m\n\u001b[0m",
      "\u001b[0;31mUnicodeDecodeError\u001b[0m: 'utf-8' codec can't decode byte 0xff in position 0: invalid start byte"
     ]
    }
   ],
   "source": [
    "# to decode, must know the encoding type(key)\n",
    "# selecting the wrong decoder doesn't always generate an error\n",
    "# sometimes you will just get a bogus string\n",
    "\n",
    "utf32.decode('utf-8')"
   ]
  },
  {
   "cell_type": "markdown",
   "metadata": {},
   "source": [
    "# Can do I/O in unicode or binary\n",
    "- 'open' defaults to 'str' (unicode)\n",
    "- pass 'b' flag to 'open' for 'bytes'(binary)\n"
   ]
  },
  {
   "cell_type": "code",
   "execution_count": 64,
   "metadata": {
    "collapsed": false
   },
   "outputs": [
    {
     "ename": "TypeError",
     "evalue": "write() argument must be str, not bytes",
     "output_type": "error",
     "traceback": [
      "\u001b[0;31m---------------------------------------------------------------------------\u001b[0m",
      "\u001b[0;31mTypeError\u001b[0m                                 Traceback (most recent call last)",
      "\u001b[0;32m<ipython-input-64-a97108cb5473>\u001b[0m in \u001b[0;36m<module>\u001b[0;34m()\u001b[0m\n\u001b[1;32m      3\u001b[0m \u001b[0;34m\u001b[0m\u001b[0m\n\u001b[1;32m      4\u001b[0m \u001b[0;32mwith\u001b[0m \u001b[0mopen\u001b[0m\u001b[0;34m(\u001b[0m\u001b[0mpath\u001b[0m\u001b[0;34m,\u001b[0m \u001b[0;34m\"w\"\u001b[0m\u001b[0;34m)\u001b[0m \u001b[0;32mas\u001b[0m \u001b[0mf\u001b[0m\u001b[0;34m:\u001b[0m\u001b[0;34m\u001b[0m\u001b[0m\n\u001b[0;32m----> 5\u001b[0;31m     \u001b[0mf\u001b[0m\u001b[0;34m.\u001b[0m\u001b[0mwrite\u001b[0m\u001b[0;34m(\u001b[0m\u001b[0mutf8\u001b[0m\u001b[0;34m)\u001b[0m\u001b[0;34m\u001b[0m\u001b[0m\n\u001b[0m",
      "\u001b[0;31mTypeError\u001b[0m: write() argument must be str, not bytes"
     ]
    }
   ],
   "source": [
    "# won't work - file stream expects a 'str' by default, but utf8 is type 'bytes'\n",
    "import tempfile\n",
    "\n",
    "path = tempfile.NamedTemporaryFile().name\n",
    "\n",
    "with open(path, \"w\") as f:\n",
    "    f.write(utf8)"
   ]
  },
  {
   "cell_type": "code",
   "execution_count": 65,
   "metadata": {
    "collapsed": true
   },
   "outputs": [],
   "source": [
    "# make a binary stream by adding 'b' flag to 'open'\n",
    "\n",
    "with open(path, 'bw') as f:\n",
    "    f.write(utf32)"
   ]
  },
  {
   "cell_type": "code",
   "execution_count": 66,
   "metadata": {
    "collapsed": false
   },
   "outputs": [
    {
     "ename": "UnicodeDecodeError",
     "evalue": "'utf-8' codec can't decode byte 0xff in position 0: invalid start byte",
     "output_type": "error",
     "traceback": [
      "\u001b[0;31m---------------------------------------------------------------------------\u001b[0m",
      "\u001b[0;31mUnicodeDecodeError\u001b[0m                        Traceback (most recent call last)",
      "\u001b[0;32m<ipython-input-66-02506fe840e2>\u001b[0m in \u001b[0;36m<module>\u001b[0;34m()\u001b[0m\n\u001b[1;32m      3\u001b[0m \u001b[0;34m\u001b[0m\u001b[0m\n\u001b[1;32m      4\u001b[0m \u001b[0;32mwith\u001b[0m \u001b[0mopen\u001b[0m\u001b[0;34m(\u001b[0m\u001b[0munipath\u001b[0m\u001b[0;34m,\u001b[0m \u001b[0;34m\"r\"\u001b[0m\u001b[0;34m)\u001b[0m \u001b[0;32mas\u001b[0m \u001b[0mf\u001b[0m\u001b[0;34m:\u001b[0m\u001b[0;34m\u001b[0m\u001b[0m\n\u001b[0;32m----> 5\u001b[0;31m     \u001b[0mprint\u001b[0m\u001b[0;34m(\u001b[0m\u001b[0mf\u001b[0m\u001b[0;34m.\u001b[0m\u001b[0mread\u001b[0m\u001b[0;34m(\u001b[0m\u001b[0;34m)\u001b[0m\u001b[0;34m)\u001b[0m\u001b[0;34m\u001b[0m\u001b[0m\n\u001b[0m",
      "\u001b[0;32m/Users/lstead/anaconda/lib/python3.5/codecs.py\u001b[0m in \u001b[0;36mdecode\u001b[0;34m(self, input, final)\u001b[0m\n\u001b[1;32m    319\u001b[0m         \u001b[0;31m# decode input (taking the buffer into account)\u001b[0m\u001b[0;34m\u001b[0m\u001b[0;34m\u001b[0m\u001b[0m\n\u001b[1;32m    320\u001b[0m         \u001b[0mdata\u001b[0m \u001b[0;34m=\u001b[0m \u001b[0mself\u001b[0m\u001b[0;34m.\u001b[0m\u001b[0mbuffer\u001b[0m \u001b[0;34m+\u001b[0m \u001b[0minput\u001b[0m\u001b[0;34m\u001b[0m\u001b[0m\n\u001b[0;32m--> 321\u001b[0;31m         \u001b[0;34m(\u001b[0m\u001b[0mresult\u001b[0m\u001b[0;34m,\u001b[0m \u001b[0mconsumed\u001b[0m\u001b[0;34m)\u001b[0m \u001b[0;34m=\u001b[0m \u001b[0mself\u001b[0m\u001b[0;34m.\u001b[0m\u001b[0m_buffer_decode\u001b[0m\u001b[0;34m(\u001b[0m\u001b[0mdata\u001b[0m\u001b[0;34m,\u001b[0m \u001b[0mself\u001b[0m\u001b[0;34m.\u001b[0m\u001b[0merrors\u001b[0m\u001b[0;34m,\u001b[0m \u001b[0mfinal\u001b[0m\u001b[0;34m)\u001b[0m\u001b[0;34m\u001b[0m\u001b[0m\n\u001b[0m\u001b[1;32m    322\u001b[0m         \u001b[0;31m# keep undecoded input until the next call\u001b[0m\u001b[0;34m\u001b[0m\u001b[0;34m\u001b[0m\u001b[0m\n\u001b[1;32m    323\u001b[0m         \u001b[0mself\u001b[0m\u001b[0;34m.\u001b[0m\u001b[0mbuffer\u001b[0m \u001b[0;34m=\u001b[0m \u001b[0mdata\u001b[0m\u001b[0;34m[\u001b[0m\u001b[0mconsumed\u001b[0m\u001b[0;34m:\u001b[0m\u001b[0;34m]\u001b[0m\u001b[0;34m\u001b[0m\u001b[0m\n",
      "\u001b[0;31mUnicodeDecodeError\u001b[0m: 'utf-8' codec can't decode byte 0xff in position 0: invalid start byte"
     ]
    }
   ],
   "source": [
    "#  reading in 'str' mode defaults to utf-8, but the file we wrote is utf-32\n",
    "# so, this read fails\n",
    "\n",
    "# but, somethimes if you give open the wrong encoding, it will read\n",
    "# w/o error and give you garbage!\n",
    "\n",
    "with open(unipath, \"r\") as f:\n",
    "    print(f.read())"
   ]
  },
  {
   "cell_type": "code",
   "execution_count": 68,
   "metadata": {
    "collapsed": false
   },
   "outputs": [
    {
     "name": "stdout",
     "output_type": "stream",
     "text": [
      "ℙƴ☂ℌøἤ\n"
     ]
    }
   ],
   "source": [
    "# tell 'open' the right unicode encoding\n",
    "\n",
    "with open(path, \"r\" , encoding='utf-32') as f:\n",
    "    print(f.read())"
   ]
  },
  {
   "cell_type": "code",
   "execution_count": 69,
   "metadata": {
    "collapsed": false
   },
   "outputs": [
    {
     "data": {
      "text/plain": [
       "b'\\xff\\xfe\\x00\\x00\\x19!\\x00\\x00\\xb4\\x01\\x00\\x00\\x02&\\x00\\x00\\x0c!\\x00\\x00\\xf8\\x00\\x00\\x00$\\x1f\\x00\\x00'"
      ]
     },
     "execution_count": 69,
     "metadata": {},
     "output_type": "execute_result"
    }
   ],
   "source": [
    "# can read file bytes\n",
    "\n",
    "with open(path, \"rb\") as f:\n",
    "    b = f.read()\n",
    "b"
   ]
  },
  {
   "cell_type": "code",
   "execution_count": 70,
   "metadata": {
    "collapsed": false
   },
   "outputs": [
    {
     "data": {
      "text/plain": [
       "b'\\xff\\xfe\\x00\\x00\\x19!\\x00\\x00\\xb4\\x01\\x00\\x00\\x02&\\x00\\x00\\x0c!\\x00\\x00\\xf8\\x00\\x00\\x00$\\x1f\\x00\\x00'"
      ]
     },
     "execution_count": 70,
     "metadata": {},
     "output_type": "execute_result"
    }
   ],
   "source": [
    "utf32"
   ]
  },
  {
   "cell_type": "markdown",
   "metadata": {},
   "source": [
    "# ascii vs unicode\n",
    "- ascii is easy, because storage media and networks handle bytes, and ascii is just bytes\n",
    "- no byte order issues(big/little endian)\n",
    "- unicode is harder, because\n",
    "    - writing to the network or storage, the unicode string must be ENCODED into a byte stream, in some format like utf-8, utf-16, etc\n",
    "    - reading from the network or storage, the byte stream must be DECODED into a unicode stream. somehow the encoding used must be provided\n",
    "- given Python uses 'str' unicode, you are always\n",
    "    - encoding as strings leave your program\n",
    "    - decoding as strings enter your program\n",
    "- if all you are using are ascii characters, then everything just works, without any special effort\n",
    "- [standard text encoders](https://docs.python.org/3/library/codecs.html#standard-encodings)"
   ]
  }
 ],
 "metadata": {
  "anaconda-cloud": {},
  "kernelspec": {
   "display_name": "Python [conda root]",
   "language": "python",
   "name": "conda-root-py"
  },
  "language_info": {
   "codemirror_mode": {
    "name": "ipython",
    "version": 3
   },
   "file_extension": ".py",
   "mimetype": "text/x-python",
   "name": "python",
   "nbconvert_exporter": "python",
   "pygments_lexer": "ipython3",
   "version": "3.5.2"
  }
 },
 "nbformat": 4,
 "nbformat_minor": 0
}
