{
 "cells": [
  {
   "cell_type": "markdown",
   "metadata": {},
   "source": [
    "# Introduction to Python\n",
    "# Homework #4\n",
    "- Mengyu Huang\n",
    "- UNI mh3658"
   ]
  },
  {
   "cell_type": "markdown",
   "metadata": {
    "collapsed": true
   },
   "source": [
    "# Problem 1 - Constraints\n",
    "\n",
    "# define the 'setvar' method on the 'Constraint' class\n",
    "- 1st arg is a variable name\n",
    "    - raise a 'ValueError' if given a bad variable name\n",
    "- 2nd arg is the new variable value\n",
    "- if only one undefined variable is left, fire the 'constraint satisfaction'\n",
    "- otherwise just record the new variable value\n",
    "- do all internal computation in floating point"
   ]
  },
  {
   "cell_type": "code",
   "execution_count": 58,
   "metadata": {
    "collapsed": false
   },
   "outputs": [],
   "source": [
    "# regular dot product, except that if one or both values in a pair is 'None',\n",
    "# that term is defined to contribute 0 to the sum\n",
    "\n",
    "def dotnone(l1, l2):\n",
    "    '''yet another dot product variant'''\n",
    "    total = 0\n",
    "    for e1,e2 in zip(l1,l2):\n",
    "        if not (e1 is None or e2 is None):            \n",
    "            total += e1 * e2\n",
    "    return(total)\n",
    "\n",
    "\n",
    "\n",
    "\n",
    "\n",
    "\n",
    "class Constraint:\n",
    "    def __init__(self, varnames, coes, total):\n",
    "        self.varnames = varnames\n",
    "        self.coes= [float(c) for c in coes]\n",
    "        self.total = float(total)\n",
    "        self.varvals = [None] * len(coes)\n",
    "        \n",
    "    def __str__(self):\n",
    "        return self.__repr__()\n",
    "    \n",
    "    def __repr__(self):\n",
    "        # display the status of the constraint\n",
    "        # show which vars have values\n",
    "        x = ' + '.join(['{}*{}(={})'.format(coe, var, val) \n",
    "                        for coe,var,val in zip(self.coes, self.varnames, self.varvals)])\n",
    "        return 'Constraint({}={})'.format(self.total, x)\n",
    "    \n",
    "    def setvar(self, name, value):\n",
    "        if not name in self.varnames:\n",
    "            raise ValueError('name ' + varname + \" is not defined in \" + str(self.varnames))\n",
    "        \n",
    "        for i in range(len(self.varnames)):\n",
    "            if (self.varnames[i] == name):\n",
    "                self.varvals[i] = float(value)\n",
    "                \n",
    "        if(self.varvals.count(None)==1):\n",
    "            \n",
    "            \n",
    "            for i in range(len(self.varnames)):\n",
    "                if (self.varvals[i]==None):\n",
    "                    self.varvals[i]=self.total-dotnone(self.coes, self.varvals)\n",
    "                print ('{} = {}'.format(self.varnames[i],self.varvals[i]))\n",
    "            x= self.varvals\n",
    "            self.varvals = [None]*len(self.coes)\n",
    "            return x\n",
    "        else:\n",
    "            return self.__str__()\n",
    "        "
   ]
  },
  {
   "cell_type": "code",
   "execution_count": 59,
   "metadata": {
    "collapsed": false
   },
   "outputs": [
    {
     "data": {
      "text/plain": [
       "Constraint(-160.0=9.0*C(=None) + -5.0*F(=None))"
      ]
     },
     "execution_count": 59,
     "metadata": {},
     "output_type": "execute_result"
    }
   ],
   "source": [
    "c = Constraint(['C', 'F'], [9,-5], -5*32)\n",
    "c"
   ]
  },
  {
   "cell_type": "code",
   "execution_count": 60,
   "metadata": {
    "collapsed": false,
    "scrolled": true
   },
   "outputs": [
    {
     "name": "stdout",
     "output_type": "stream",
     "text": [
      "100\n",
      "[100.0, None]\n",
      "C = 100.0\n",
      "F = -1060.0\n"
     ]
    },
    {
     "data": {
      "text/plain": [
       "[100.0, -1060.0]"
      ]
     },
     "execution_count": 60,
     "metadata": {},
     "output_type": "execute_result"
    }
   ],
   "source": [
    "c.setvar('C', 100)"
   ]
  },
  {
   "cell_type": "code",
   "execution_count": 15,
   "metadata": {
    "collapsed": false
   },
   "outputs": [
    {
     "ename": "NameError",
     "evalue": "name 'varname' is not defined",
     "output_type": "error",
     "traceback": [
      "\u001b[0;31m---------------------------------------------------------------------------\u001b[0m",
      "\u001b[0;31mNameError\u001b[0m                                 Traceback (most recent call last)",
      "\u001b[0;32m<ipython-input-15-341c04f3a84d>\u001b[0m in \u001b[0;36m<module>\u001b[0;34m()\u001b[0m\n\u001b[1;32m      1\u001b[0m \u001b[1;31m# bad variable name - raise an error\u001b[0m\u001b[1;33m\u001b[0m\u001b[1;33m\u001b[0m\u001b[0m\n\u001b[1;32m      2\u001b[0m \u001b[1;33m\u001b[0m\u001b[0m\n\u001b[0;32m----> 3\u001b[0;31m \u001b[0mc\u001b[0m\u001b[1;33m.\u001b[0m\u001b[0msetvar\u001b[0m\u001b[1;33m(\u001b[0m\u001b[1;34m'foo'\u001b[0m\u001b[1;33m,\u001b[0m \u001b[1;36m0\u001b[0m\u001b[1;33m)\u001b[0m\u001b[1;33m\u001b[0m\u001b[0m\n\u001b[0m\u001b[1;32m      4\u001b[0m \u001b[0mc\u001b[0m\u001b[1;33m\u001b[0m\u001b[0m\n",
      "\u001b[0;32m<ipython-input-12-fc7f76499a0e>\u001b[0m in \u001b[0;36msetvar\u001b[0;34m(self, name, value)\u001b[0m\n\u001b[1;32m     34\u001b[0m     \u001b[1;32mdef\u001b[0m \u001b[0msetvar\u001b[0m\u001b[1;33m(\u001b[0m\u001b[0mself\u001b[0m\u001b[1;33m,\u001b[0m \u001b[0mname\u001b[0m\u001b[1;33m,\u001b[0m \u001b[0mvalue\u001b[0m\u001b[1;33m)\u001b[0m\u001b[1;33m:\u001b[0m\u001b[1;33m\u001b[0m\u001b[0m\n\u001b[1;32m     35\u001b[0m         \u001b[1;32mif\u001b[0m \u001b[1;32mnot\u001b[0m \u001b[0mname\u001b[0m \u001b[1;32min\u001b[0m \u001b[0mself\u001b[0m\u001b[1;33m.\u001b[0m\u001b[0mvarnames\u001b[0m\u001b[1;33m:\u001b[0m\u001b[1;33m\u001b[0m\u001b[0m\n\u001b[0;32m---> 36\u001b[0;31m             \u001b[1;32mraise\u001b[0m \u001b[0mValueError\u001b[0m\u001b[1;33m(\u001b[0m\u001b[1;34m'name '\u001b[0m \u001b[1;33m+\u001b[0m \u001b[0mvarname\u001b[0m \u001b[1;33m+\u001b[0m \u001b[1;34m\" is not defined in \"\u001b[0m \u001b[1;33m+\u001b[0m \u001b[0mstr\u001b[0m\u001b[1;33m(\u001b[0m\u001b[0mself\u001b[0m\u001b[1;33m.\u001b[0m\u001b[0mvarnames\u001b[0m\u001b[1;33m)\u001b[0m\u001b[1;33m)\u001b[0m\u001b[1;33m\u001b[0m\u001b[0m\n\u001b[0m\u001b[1;32m     37\u001b[0m         \u001b[1;32mfor\u001b[0m \u001b[0mnam\u001b[0m\u001b[1;33m,\u001b[0m \u001b[0mval\u001b[0m \u001b[1;32min\u001b[0m \u001b[0mzip\u001b[0m\u001b[1;33m(\u001b[0m\u001b[0mself\u001b[0m\u001b[1;33m.\u001b[0m\u001b[0mvarnames\u001b[0m\u001b[1;33m,\u001b[0m \u001b[0mself\u001b[0m\u001b[1;33m.\u001b[0m\u001b[0mvarvals\u001b[0m\u001b[1;33m)\u001b[0m\u001b[1;33m:\u001b[0m\u001b[1;33m\u001b[0m\u001b[0m\n\u001b[1;32m     38\u001b[0m             \u001b[1;32mif\u001b[0m \u001b[1;33m(\u001b[0m\u001b[0mnam\u001b[0m \u001b[1;33m==\u001b[0m \u001b[0marg\u001b[0m\u001b[1;33m)\u001b[0m\u001b[1;33m:\u001b[0m\u001b[1;33m\u001b[0m\u001b[0m\n",
      "\u001b[0;31mNameError\u001b[0m: name 'varname' is not defined"
     ]
    }
   ],
   "source": [
    "# bad variable name - raise an error\n",
    "\n",
    "c.setvar('foo', 0)\n",
    "c"
   ]
  },
  {
   "cell_type": "code",
   "execution_count": 47,
   "metadata": {
    "collapsed": false
   },
   "outputs": [
    {
     "name": "stdout",
     "output_type": "stream",
     "text": [
      "[0, 23]\n",
      "[0, 23]\n"
     ]
    }
   ],
   "source": [
    "x=[1,2]\n",
    "y=[1,23]\n",
    "for i in range(len(x)):\n",
    "    if (x[i] == 1):\n",
    "        y[i] = 0\n",
    "    print (y)"
   ]
  },
  {
   "cell_type": "code",
   "execution_count": null,
   "metadata": {
    "collapsed": true
   },
   "outputs": [],
   "source": []
  }
 ],
 "metadata": {
  "anaconda-cloud": {},
  "kernelspec": {
   "display_name": "Python [conda root]",
   "language": "python",
   "name": "conda-root-py"
  },
  "language_info": {
   "codemirror_mode": {
    "name": "ipython",
    "version": 3
   },
   "file_extension": ".py",
   "mimetype": "text/x-python",
   "name": "python",
   "nbconvert_exporter": "python",
   "pygments_lexer": "ipython3",
   "version": "3.5.2"
  }
 },
 "nbformat": 4,
 "nbformat_minor": 1
}
