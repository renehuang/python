{
 "cells": [
  {
   "cell_type": "markdown",
   "metadata": {},
   "source": [
    "# Introduction to Python\n",
    "# Homework #4\n",
    "- Mengyu Huang\n",
    "- UNI mh3658"
   ]
  },
  {
   "cell_type": "markdown",
   "metadata": {
    "collapsed": true
   },
   "source": [
    "# Problem 1 - Constraints\n",
    "\n",
    "# define the 'setvar' method on the 'Constraint' class\n",
    "- 1st arg is a variable name\n",
    "    - raise a 'ValueError' if given a bad variable name\n",
    "- 2nd arg is the new variable value\n",
    "- if only one undefined variable is left, fire the 'constraint satisfaction'\n",
    "- otherwise just record the new variable value\n",
    "- do all internal computation in floating point"
   ]
  },
  {
   "cell_type": "code",
   "execution_count": 4,
   "metadata": {
    "collapsed": false
   },
   "outputs": [],
   "source": [
    "# regular dot product, except that if one or both values in a pair is 'None',\n",
    "# that term is defined to contribute 0 to the sum\n",
    "\n",
    "def dotnone(l1, l2):\n",
    "    '''yet another dot product variant'''\n",
    "    total = 0\n",
    "    for e1,e2 in zip(l1,l2):\n",
    "        if not (e1 is None or e2 is None):            \n",
    "            total += e1 * e2\n",
    "    return(total)\n",
    "\n",
    "\n",
    "\n",
    "\n",
    "\n",
    "\n",
    "class Constraint:\n",
    "    def __init__(self, varnames, coes, total):\n",
    "        self.varnames = varnames\n",
    "        self.coes= [float(c) for c in coes]\n",
    "        self.total = float(total)\n",
    "        self.varvals = [None] * len(coes)\n",
    "        \n",
    "    def __str__(self):\n",
    "        return self.__repr__()\n",
    "    \n",
    "    def __repr__(self):\n",
    "        # display the status of the constraint\n",
    "        # show which vars have values\n",
    "        x = ' + '.join(['{}*{}(={})'.format(coe, var, val) \n",
    "                        for coe,var,val in zip(self.coes, self.varnames, self.varvals)])\n",
    "        return 'Constraint({}={})'.format(self.total, x)\n",
    "    \n",
    "    def setvar(self, name, value):\n",
    "        if not name in self.varnames:\n",
    "            raise ValueError('name ' + varname + \" is not defined in \" + str(self.varnames))\n",
    "        \n",
    "        for i in range(len(self.varnames)):\n",
    "            if (self.varnames[i] == name):\n",
    "                self.varvals[i] = float(value)\n",
    "                \n",
    "        if(self.varvals.count(None)==1):\n",
    "            for i in range(len(self.varnames)):\n",
    "                if (self.varvals[i]==None):\n",
    "                    self.varvals[i]=(self.total-dotnone(self.coes, self.varvals))/self.coes[i]\n",
    "                print ('{} = {}'.format(self.varnames[i],self.varvals[i]))\n",
    "            x= self.varvals\n",
    "            self.varvals = [None]*len(self.coes)\n",
    "            return x\n",
    "        else:\n",
    "            return self.__str__()\n",
    "        "
   ]
  },
  {
   "cell_type": "code",
   "execution_count": 5,
   "metadata": {
    "collapsed": false
   },
   "outputs": [
    {
     "data": {
      "text/plain": [
       "Constraint(-160.0=9.0*C(=None) + -5.0*F(=None))"
      ]
     },
     "execution_count": 5,
     "metadata": {},
     "output_type": "execute_result"
    }
   ],
   "source": [
    "c = Constraint(['C', 'F'], [9,-5], -5*32)\n",
    "c"
   ]
  },
  {
   "cell_type": "code",
   "execution_count": 6,
   "metadata": {
    "collapsed": false,
    "scrolled": true
   },
   "outputs": [
    {
     "name": "stdout",
     "output_type": "stream",
     "text": [
      "C = 100.0\n",
      "F = 212.0\n"
     ]
    },
    {
     "data": {
      "text/plain": [
       "[100.0, 212.0]"
      ]
     },
     "execution_count": 6,
     "metadata": {},
     "output_type": "execute_result"
    }
   ],
   "source": [
    "c.setvar('C', 100)"
   ]
  },
  {
   "cell_type": "code",
   "execution_count": 7,
   "metadata": {
    "collapsed": false
   },
   "outputs": [
    {
     "ename": "NameError",
     "evalue": "name 'varname' is not defined",
     "output_type": "error",
     "traceback": [
      "\u001b[0;31m---------------------------------------------------------------------------\u001b[0m",
      "\u001b[0;31mNameError\u001b[0m                                 Traceback (most recent call last)",
      "\u001b[0;32m<ipython-input-7-341c04f3a84d>\u001b[0m in \u001b[0;36m<module>\u001b[0;34m()\u001b[0m\n\u001b[1;32m      1\u001b[0m \u001b[1;31m# bad variable name - raise an error\u001b[0m\u001b[1;33m\u001b[0m\u001b[1;33m\u001b[0m\u001b[0m\n\u001b[1;32m      2\u001b[0m \u001b[1;33m\u001b[0m\u001b[0m\n\u001b[0;32m----> 3\u001b[0;31m \u001b[0mc\u001b[0m\u001b[1;33m.\u001b[0m\u001b[0msetvar\u001b[0m\u001b[1;33m(\u001b[0m\u001b[1;34m'foo'\u001b[0m\u001b[1;33m,\u001b[0m \u001b[1;36m0\u001b[0m\u001b[1;33m)\u001b[0m\u001b[1;33m\u001b[0m\u001b[0m\n\u001b[0m\u001b[1;32m      4\u001b[0m \u001b[0mc\u001b[0m\u001b[1;33m\u001b[0m\u001b[0m\n",
      "\u001b[0;32m<ipython-input-4-9ab2b041533f>\u001b[0m in \u001b[0;36msetvar\u001b[0;34m(self, name, value)\u001b[0m\n\u001b[1;32m     34\u001b[0m     \u001b[1;32mdef\u001b[0m \u001b[0msetvar\u001b[0m\u001b[1;33m(\u001b[0m\u001b[0mself\u001b[0m\u001b[1;33m,\u001b[0m \u001b[0mname\u001b[0m\u001b[1;33m,\u001b[0m \u001b[0mvalue\u001b[0m\u001b[1;33m)\u001b[0m\u001b[1;33m:\u001b[0m\u001b[1;33m\u001b[0m\u001b[0m\n\u001b[1;32m     35\u001b[0m         \u001b[1;32mif\u001b[0m \u001b[1;32mnot\u001b[0m \u001b[0mname\u001b[0m \u001b[1;32min\u001b[0m \u001b[0mself\u001b[0m\u001b[1;33m.\u001b[0m\u001b[0mvarnames\u001b[0m\u001b[1;33m:\u001b[0m\u001b[1;33m\u001b[0m\u001b[0m\n\u001b[0;32m---> 36\u001b[0;31m             \u001b[1;32mraise\u001b[0m \u001b[0mValueError\u001b[0m\u001b[1;33m(\u001b[0m\u001b[1;34m'name '\u001b[0m \u001b[1;33m+\u001b[0m \u001b[0mvarname\u001b[0m \u001b[1;33m+\u001b[0m \u001b[1;34m\" is not defined in \"\u001b[0m \u001b[1;33m+\u001b[0m \u001b[0mstr\u001b[0m\u001b[1;33m(\u001b[0m\u001b[0mself\u001b[0m\u001b[1;33m.\u001b[0m\u001b[0mvarnames\u001b[0m\u001b[1;33m)\u001b[0m\u001b[1;33m)\u001b[0m\u001b[1;33m\u001b[0m\u001b[0m\n\u001b[0m\u001b[1;32m     37\u001b[0m \u001b[1;33m\u001b[0m\u001b[0m\n\u001b[1;32m     38\u001b[0m         \u001b[1;32mfor\u001b[0m \u001b[0mi\u001b[0m \u001b[1;32min\u001b[0m \u001b[0mrange\u001b[0m\u001b[1;33m(\u001b[0m\u001b[0mlen\u001b[0m\u001b[1;33m(\u001b[0m\u001b[0mself\u001b[0m\u001b[1;33m.\u001b[0m\u001b[0mvarnames\u001b[0m\u001b[1;33m)\u001b[0m\u001b[1;33m)\u001b[0m\u001b[1;33m:\u001b[0m\u001b[1;33m\u001b[0m\u001b[0m\n",
      "\u001b[0;31mNameError\u001b[0m: name 'varname' is not defined"
     ]
    }
   ],
   "source": [
    "# bad variable name - raise an error\n",
    "\n",
    "c.setvar('foo', 0)\n",
    "c"
   ]
  },
  {
   "cell_type": "code",
   "execution_count": 8,
   "metadata": {
    "collapsed": false
   },
   "outputs": [
    {
     "name": "stdout",
     "output_type": "stream",
     "text": [
      "C = 100.0\n",
      "F = 212.0\n"
     ]
    },
    {
     "data": {
      "text/plain": [
       "[100.0, 212.0]"
      ]
     },
     "execution_count": 8,
     "metadata": {},
     "output_type": "execute_result"
    }
   ],
   "source": [
    "c.setvar('F', 212)"
   ]
  },
  {
   "cell_type": "code",
   "execution_count": 9,
   "metadata": {
    "collapsed": false
   },
   "outputs": [
    {
     "data": {
      "text/plain": [
       "Constraint(1.0=0.0*x0(=None) + 1.0*x1(=None) + 2.0*x2(=None) + 3.0*x3(=None) + 4.0*x4(=None))"
      ]
     },
     "execution_count": 9,
     "metadata": {},
     "output_type": "execute_result"
    }
   ],
   "source": [
    "c2 = Constraint(['x0', 'x1', 'x2', 'x3', 'x4'], range(5), 1)\n",
    "c2"
   ]
  },
  {
   "cell_type": "code",
   "execution_count": 10,
   "metadata": {
    "collapsed": false
   },
   "outputs": [
    {
     "data": {
      "text/plain": [
       "Constraint(1.0=0.0*x0(=None) + 1.0*x1(=10.0) + 2.0*x2(=None) + 3.0*x3(=None) + 4.0*x4(=None))"
      ]
     },
     "execution_count": 10,
     "metadata": {},
     "output_type": "execute_result"
    }
   ],
   "source": [
    "c2.setvar('x1', 10)\n",
    "c2"
   ]
  },
  {
   "cell_type": "code",
   "execution_count": 11,
   "metadata": {
    "collapsed": false
   },
   "outputs": [
    {
     "data": {
      "text/plain": [
       "Constraint(1.0=0.0*x0(=0.0) + 1.0*x1(=10.0) + 2.0*x2(=None) + 3.0*x3(=None) + 4.0*x4(=None))"
      ]
     },
     "execution_count": 11,
     "metadata": {},
     "output_type": "execute_result"
    }
   ],
   "source": [
    "c2.setvar('x0', 0)\n",
    "c2"
   ]
  },
  {
   "cell_type": "code",
   "execution_count": 12,
   "metadata": {
    "collapsed": false
   },
   "outputs": [
    {
     "data": {
      "text/plain": [
       "Constraint(1.0=0.0*x0(=0.0) + 1.0*x1(=10.0) + 2.0*x2(=20.0) + 3.0*x3(=None) + 4.0*x4(=None))"
      ]
     },
     "execution_count": 12,
     "metadata": {},
     "output_type": "execute_result"
    }
   ],
   "source": [
    "# x2\n",
    "\n",
    "c2.setvar('x2',20)\n",
    "c2"
   ]
  },
  {
   "cell_type": "code",
   "execution_count": 13,
   "metadata": {
    "collapsed": false
   },
   "outputs": [
    {
     "name": "stdout",
     "output_type": "stream",
     "text": [
      "x0 = 0.0\n",
      "x1 = 10.0\n",
      "x2 = 20.0\n",
      "x3 = -56.333333333333336\n",
      "x4 = 30.0\n"
     ]
    },
    {
     "data": {
      "text/plain": [
       "[0.0, 10.0, 20.0, -56.333333333333336, 30.0]"
      ]
     },
     "execution_count": 13,
     "metadata": {},
     "output_type": "execute_result"
    }
   ],
   "source": [
    "# only two unset vars left, so setting x3 or x4 \n",
    "# will fire the constraints\n",
    "\n",
    "c2.setvar('x4', 30)"
   ]
  },
  {
   "cell_type": "markdown",
   "metadata": {},
   "source": [
    "# Problem 2 - Hamlet\n",
    "- Python is very popular in 'Digital Humanities'\n",
    "- MIT has the complete works of Shakespeare in a simple [html](http://shakespeare.mit.edu) format\n",
    "- You will do a simple analysis of Hamlet by reading the html file, and doing pattern matching\n",
    "- The goal is to return a list of the line count, total number of 'speeches'(look at the file format), \n",
    "and a dict showing the number of 'speeches' each character gives\n",
    "- Your program should read directly from the url given below, but you may want to download\n",
    "a copy to examine the structure of the file. \n",
    "- remember that urllib.request returns 'byte arrays', not strings\n",
    "- there are at least three ways to do this - your choice\n",
    "    - use string methods like 'find'\n",
    "    - use regular expressions\n",
    "    - use Beautiful Soup(won't get a line count with this method)"
   ]
  },
  {
   "cell_type": "code",
   "execution_count": 3,
   "metadata": {
    "collapsed": true
   },
   "outputs": [],
   "source": [
    "# use this url for hamlet - do not hit MIT directly\n",
    "# break up long line\n",
    "\n",
    "import urllib.request\n",
    "import collections\n",
    "import re\n",
    "import bs4\n",
    "import lxml\n",
    "\n",
    "url = 'https://courseworks.columbia.edu/access/content/group/'\n",
    "url += 'COMSW3101_002_2015_3/data/hamlet.html'\n"
   ]
  },
  {
   "cell_type": "code",
   "execution_count": 7,
   "metadata": {
    "collapsed": false
   },
   "outputs": [],
   "source": [
    "from bs4 import BeautifulSoup\n",
    "\n",
    "\n",
    "def hamlet(url):\n",
    "    ham = urllib.request.urlopen(url)\n",
    "    sp = BeautifulSoup(ham, 'lxml', from_encoding='utf-8')\n",
    "    text= urllib.request.urlopen(url).read()\n",
    "    countlines=len(text.splitlines(True))\n",
    "    speech= sp.findAll('b')\n",
    "    speechname =[x.contents for x in speech if x != None]\n",
    "    countname = len(speechname)\n",
    "    dic={}\n",
    "    for i in speechname:\n",
    "        if i[0] not in dic.keys():\n",
    "            dic[i[0]]=1\n",
    "        else:\n",
    "            dic[i[0]]+=1\n",
    "    return [countlines,countname, dic]"
   ]
  },
  {
   "cell_type": "code",
   "execution_count": 8,
   "metadata": {
    "collapsed": false
   },
   "outputs": [
    {
     "data": {
      "text/plain": [
       "[8881,\n",
       " 1150,\n",
       " {'All': 4,\n",
       "  'BERNARDO': 23,\n",
       "  'CORNELIUS': 1,\n",
       "  'Captain': 7,\n",
       "  'Danes': 3,\n",
       "  'FRANCISCO': 8,\n",
       "  'First Ambassador': 1,\n",
       "  'First Clown': 33,\n",
       "  'First Player': 8,\n",
       "  'First Priest': 2,\n",
       "  'First Sailor': 2,\n",
       "  'GUILDENSTERN': 33,\n",
       "  'Gentleman': 3,\n",
       "  'Ghost': 14,\n",
       "  'HAMLET': 359,\n",
       "  'HORATIO': 112,\n",
       "  'KING CLAUDIUS': 102,\n",
       "  'LAERTES': 62,\n",
       "  'LORD POLONIUS': 86,\n",
       "  'LUCIANUS': 1,\n",
       "  'Lord': 3,\n",
       "  'MARCELLUS': 36,\n",
       "  'Messenger': 2,\n",
       "  'OPHELIA': 58,\n",
       "  'OSRIC': 25,\n",
       "  'PRINCE FORTINBRAS': 6,\n",
       "  'Player King': 4,\n",
       "  'Player Queen': 5,\n",
       "  'Prologue': 1,\n",
       "  'QUEEN GERTRUDE': 69,\n",
       "  'REYNALDO': 13,\n",
       "  'ROSENCRANTZ': 49,\n",
       "  'Second Clown': 12,\n",
       "  'Servant': 1,\n",
       "  'VOLTIMAND': 2}]"
      ]
     },
     "execution_count": 8,
     "metadata": {},
     "output_type": "execute_result"
    }
   ],
   "source": [
    "hamlet(url)"
   ]
  },
  {
   "cell_type": "markdown",
   "metadata": {},
   "source": [
    "# Problem 3 - Interval\n",
    "- implement a class 'Interval', that does 'interval arithmetic' and defines '+' and '*' operators\n",
    "- an interval consists of a min and max value. use instance variable names 'imin', 'imax' to avoid confusion with 'min' and 'max' functions\n",
    "- let 'i' and 'i2' be intervals\n",
    "- ```i + i2 represents a new interval, where the new imin and imax is the min and max of (x + x2), where i.imin <= x <= i.imax and i2.imin <= x2 <= i2.imax```\n",
    "    - define ```__add__``` method\n",
    "- ```i * i2 represents a new interval, where the new imin and imax is the min and max of (x * x2), where i.imin <= x <= i.imax and i2.imin <= x2 <= i2.imax```\n",
    "    - define ```__mul__``` method\n",
    "- adding intervals is easy \n",
    "- multiplying intervals - think for a second\n",
    "- should be able to add or multiply by a scalar(an integer) on the right, by checking the type of the argument to ```__add__ and __mul__```\n",
    "    - let i be an Interval, s a scalar(integer)\n",
    "        - ```i + s is the same as i + Interval(s, s)```\n",
    "        - ```i * s is the same as i * Interval(s, s)```\n",
    "- an interval should print as ```Interval<imin, imax>```\n",
    "- use only integers, no floats\n"
   ]
  },
  {
   "cell_type": "code",
   "execution_count": 60,
   "metadata": {
    "collapsed": true
   },
   "outputs": [],
   "source": [
    "class Interval:\n",
    "    def __init__(self, imin, imax):\n",
    "        self.imin= imin\n",
    "        self.imax= imax\n",
    "        \n",
    "        \n",
    "    def __repr__(self):\n",
    "        return 'Interval<{}, {}>'.format(self.imin, self.imax)\n",
    "        \n",
    "    def __str__(self):\n",
    "        return self.__repr__()\n",
    "    \n",
    "    def __add__(self,i2):\n",
    "        if isinstance(i2, int):\n",
    "            i2=Interval(i2,i2)\n",
    "        return Interval(self.imin+ i2.imin, self.imax+i2.imax)\n",
    "    \n",
    "    def __mul__(self,i2):\n",
    "        if isinstance(i2, int):\n",
    "            i2=Interval(i2,i2)\n",
    "        imin1= min(self.imin*i2.imin, self.imin*i2.imax, self.imax*i2.imin, 0)\n",
    "        imax1= max(self.imax*i2.imax, self.imin*i2.imax, self.imax*i2.imin, 0)\n",
    "        return Interval(imin1, imax1)\n"
   ]
  },
  {
   "cell_type": "code",
   "execution_count": 61,
   "metadata": {
    "collapsed": false
   },
   "outputs": [
    {
     "data": {
      "text/plain": [
       "[Interval<-1, 6>, Interval<5, 13>, Interval<10, 10>]"
      ]
     },
     "execution_count": 61,
     "metadata": {},
     "output_type": "execute_result"
    }
   ],
   "source": [
    "i = Interval(-1,6)\n",
    "i2 = Interval(5, 13)\n",
    "i3 = Interval(10,10)\n",
    "\n",
    "[i, i2, i3]"
   ]
  },
  {
   "cell_type": "code",
   "execution_count": 62,
   "metadata": {
    "collapsed": false
   },
   "outputs": [
    {
     "data": {
      "text/plain": [
       "Interval<9, 16>"
      ]
     },
     "execution_count": 62,
     "metadata": {},
     "output_type": "execute_result"
    }
   ],
   "source": [
    "i + 10"
   ]
  },
  {
   "cell_type": "code",
   "execution_count": 63,
   "metadata": {
    "collapsed": false
   },
   "outputs": [
    {
     "data": {
      "text/plain": [
       "Interval<4, 19>"
      ]
     },
     "execution_count": 63,
     "metadata": {},
     "output_type": "execute_result"
    }
   ],
   "source": [
    "i + i2"
   ]
  },
  {
   "cell_type": "code",
   "execution_count": 64,
   "metadata": {
    "collapsed": false
   },
   "outputs": [
    {
     "data": {
      "text/plain": [
       "Interval<9, 16>"
      ]
     },
     "execution_count": 64,
     "metadata": {},
     "output_type": "execute_result"
    }
   ],
   "source": [
    "i + i3"
   ]
  },
  {
   "cell_type": "code",
   "execution_count": 65,
   "metadata": {
    "collapsed": false
   },
   "outputs": [
    {
     "data": {
      "text/plain": [
       "Interval<-10, 60>"
      ]
     },
     "execution_count": 65,
     "metadata": {},
     "output_type": "execute_result"
    }
   ],
   "source": [
    "i * 10"
   ]
  },
  {
   "cell_type": "code",
   "execution_count": 66,
   "metadata": {
    "collapsed": false
   },
   "outputs": [
    {
     "data": {
      "text/plain": [
       "Interval<-13, 78>"
      ]
     },
     "execution_count": 66,
     "metadata": {},
     "output_type": "execute_result"
    }
   ],
   "source": [
    "i * i2"
   ]
  },
  {
   "cell_type": "code",
   "execution_count": 67,
   "metadata": {
    "collapsed": false
   },
   "outputs": [
    {
     "data": {
      "text/plain": [
       "Interval<-10, 60>"
      ]
     },
     "execution_count": 67,
     "metadata": {},
     "output_type": "execute_result"
    }
   ],
   "source": [
    "i * i3"
   ]
  },
  {
   "cell_type": "markdown",
   "metadata": {},
   "source": [
    "# Problem 4 & 5 - vending machine\n",
    "- use objects to simulate a vending machine\n",
    "- money is in units of cents"
   ]
  },
  {
   "cell_type": "markdown",
   "metadata": {},
   "source": [
    "# class venditem represents a type of item for sale\n",
    "- has three instance variables\n",
    "    - name, price, quantity\n",
    "- define four methods\n",
    "    - `method __init__` loads data into the instance variables\n",
    "        - def `__init__`(self, name, price, quantity):\n",
    "    - `method __repr__`(self)\n",
    "        - controls how venditem prints\n",
    "        - use string format method\n",
    "            - '{} {}'.format(arg, arg2)\n",
    "        - see examples below\n",
    "    - `method __str__`(self)\n",
    "        - just call `__repr__` for string to return\n",
    "    - method sale(self)\n",
    "        - decrement the quantity "
   ]
  },
  {
   "cell_type": "code",
   "execution_count": 3,
   "metadata": {
    "collapsed": false
   },
   "outputs": [],
   "source": [
    "class venditem:\n",
    "    def __init__(self, name, price, quantity):\n",
    "        self.name=name\n",
    "        self.price=price\n",
    "        self.quantity=quantity\n",
    "        \n",
    "            \n",
    "    def __repr__(self):\n",
    "        return \"venditem(name ='{}', price={}, quantity={})\".format(self.name, self.price, self.quantity)\n",
    "        \n",
    "    def __str__(self):\n",
    "        return self.__repr__()\n",
    "    \n",
    "    def sale(self):\n",
    "        self.quantity-=1\n",
    "    "
   ]
  },
  {
   "cell_type": "code",
   "execution_count": 4,
   "metadata": {
    "collapsed": false
   },
   "outputs": [
    {
     "data": {
      "text/plain": [
       "[venditem(name ='coke', price=95, quantity=3),\n",
       " venditem(name ='pepsi', price=110, quantity=1)]"
      ]
     },
     "execution_count": 4,
     "metadata": {},
     "output_type": "execute_result"
    }
   ],
   "source": [
    "# __repr__ method shows object status\n",
    "\n",
    "vi = venditem('coke', 95, 3)\n",
    "vi2 = venditem('pepsi', 110, 1)\n",
    "\n",
    "[vi, vi2]"
   ]
  },
  {
   "cell_type": "code",
   "execution_count": 5,
   "metadata": {
    "collapsed": false
   },
   "outputs": [
    {
     "data": {
      "text/plain": [
       "venditem(name ='coke', price=95, quantity=2)"
      ]
     },
     "execution_count": 5,
     "metadata": {},
     "output_type": "execute_result"
    }
   ],
   "source": [
    "# sale method decrements quantity instance variable\n",
    "\n",
    "vi.sale()\n",
    "vi"
   ]
  },
  {
   "cell_type": "code",
   "execution_count": 6,
   "metadata": {
    "collapsed": false
   },
   "outputs": [
    {
     "data": {
      "text/plain": [
       "['coke', 'pepsi', 95, 2, 1]"
      ]
     },
     "execution_count": 6,
     "metadata": {},
     "output_type": "execute_result"
    }
   ],
   "source": [
    "# note you can access instance variables directly:\n",
    "\n",
    "[vi.name, vi2.name, vi.price, vi.quantity, vi2.quantity]"
   ]
  },
  {
   "cell_type": "code",
   "execution_count": 7,
   "metadata": {
    "collapsed": false
   },
   "outputs": [
    {
     "data": {
      "text/plain": [
       "2"
      ]
     },
     "execution_count": 7,
     "metadata": {},
     "output_type": "execute_result"
    }
   ],
   "source": [
    "# can set same way\n",
    "\n",
    "vi.quantity = 2\n",
    "vi.quantity"
   ]
  },
  {
   "cell_type": "markdown",
   "metadata": {},
   "source": [
    "# class vendmachine \n",
    "- vendmachine has two instance variables\n",
    "    - 'cash' - the amount of money the machine has collected from item sales\n",
    "    - 'items' - a dictionary, where keys are the name of an item, and the values are the venditem object\n",
    "- define three methods(log method is done for you)\n",
    "    - `__init__`(self, stock)\n",
    "        - 1st arg - stock is a list of venditems, which represents what is loaded in the machine\n",
    "        - items dictionary should be constructed from stock\n",
    "        - cash should be initialized to 0\n",
    "    - buy(self, name, money) \n",
    "        - 'name' is 'coke', 'pepsi', etc\n",
    "        - money is how much money the customer deposited for the purchase\n",
    "        - four cases\n",
    "            - customer asks for an item not carried\n",
    "            - customer asks for an item whose quantity is 0 - out of stock\n",
    "            - customer doesn't put in enough money for the item\n",
    "            - everything ok, sell the item, decrement item quantity\n",
    "        - 'buy' return value should refund any money owed the customer \n",
    "            - money not applied to an item sale\n",
    "            - excess money deposited for an item sale\n",
    "        - log each buy case, using 'log' method below\n",
    "        - see examples below\n",
    "    - status(self)\n",
    "        - prints the amount of cash collected, and each of the items in stock\n",
    "    "
   ]
  },
  {
   "cell_type": "code",
   "execution_count": 66,
   "metadata": {
    "collapsed": false
   },
   "outputs": [],
   "source": [
    "import time\n",
    "\n",
    "class vendmachine:\n",
    "    \n",
    "    def __init__(self, stock):\n",
    "        self.items={}\n",
    "        for i in stock:\n",
    "            self.items[i.name]=i\n",
    "            \n",
    "        self.cash=0\n",
    "        \n",
    "    def log(self, msg, name):\n",
    "        t = time.strftime('%X %x %Z - ')\n",
    "        msg = t + msg + ': ' + name\n",
    "        print(msg)\n",
    "        \n",
    "    def buy(self, name, money):\n",
    "        if name not in self.items:\n",
    "            self.log('dont carry it', name)\n",
    "            return money\n",
    "        v=self.items[name]\n",
    "        if v.quantity==0:\n",
    "            self.log('out of stock', name)\n",
    "            return money\n",
    "        if money<v.price:\n",
    "            self.log('insufficient funds for', name)\n",
    "            return money\n",
    "        v.quantity-=1\n",
    "        self.log('sold', name)\n",
    "        self.cash+=self.items[name].price\n",
    "        return (money-self.items[name].price)\n",
    "    \n",
    "    def status(self):\n",
    "        print ('cash collected:{}'.format(self.cash))\n",
    "        for i in self.items:\n",
    "            print (self.items[i].__repr__())\n"
   ]
  },
  {
   "cell_type": "code",
   "execution_count": 67,
   "metadata": {
    "collapsed": false
   },
   "outputs": [
    {
     "name": "stdout",
     "output_type": "stream",
     "text": [
      "cash collected:0\n",
      "venditem(name ='pepsi', price=110, quantity=1)\n",
      "venditem(name ='peanut M&Ms', price=100, quantity=2)\n",
      "venditem(name ='coke', price=95, quantity=3)\n"
     ]
    }
   ],
   "source": [
    "\n",
    "vi = venditem('coke', 95, 3)\n",
    "vi2 = venditem('pepsi', 110, 1)\n",
    "vi3 = venditem('peanut M&Ms', 100, 2)\n",
    "stock = [vi, vi2, vi3]\n",
    "\n",
    "vm = vendmachine(stock)\n",
    "vm.status()"
   ]
  },
  {
   "cell_type": "code",
   "execution_count": 68,
   "metadata": {
    "collapsed": false
   },
   "outputs": [
    {
     "name": "stdout",
     "output_type": "stream",
     "text": [
      "12:05:01 02/20/17 Eastern Standard Time - insufficient funds for: coke\n"
     ]
    },
    {
     "data": {
      "text/plain": [
       "45"
      ]
     },
     "execution_count": 68,
     "metadata": {},
     "output_type": "execute_result"
    }
   ],
   "source": [
    "vm.buy('coke', 45)"
   ]
  },
  {
   "cell_type": "code",
   "execution_count": 69,
   "metadata": {
    "collapsed": false
   },
   "outputs": [
    {
     "name": "stdout",
     "output_type": "stream",
     "text": [
      "12:05:04 02/20/17 Eastern Standard Time - sold: pepsi\n"
     ]
    },
    {
     "data": {
      "text/plain": [
       "90"
      ]
     },
     "execution_count": 69,
     "metadata": {},
     "output_type": "execute_result"
    }
   ],
   "source": [
    "vm.buy('pepsi', 200)"
   ]
  },
  {
   "cell_type": "code",
   "execution_count": 71,
   "metadata": {
    "collapsed": false
   },
   "outputs": [
    {
     "name": "stdout",
     "output_type": "stream",
     "text": [
      "cash collected:110\n",
      "venditem(name ='pepsi', price=110, quantity=0)\n",
      "venditem(name ='peanut M&Ms', price=100, quantity=2)\n",
      "venditem(name ='coke', price=95, quantity=3)\n"
     ]
    }
   ],
   "source": [
    "vm.status()"
   ]
  },
  {
   "cell_type": "code",
   "execution_count": 72,
   "metadata": {
    "collapsed": false
   },
   "outputs": [
    {
     "name": "stdout",
     "output_type": "stream",
     "text": [
      "12:06:05 02/20/17 Eastern Standard Time - out of stock: pepsi\n"
     ]
    },
    {
     "data": {
      "text/plain": [
       "200"
      ]
     },
     "execution_count": 72,
     "metadata": {},
     "output_type": "execute_result"
    }
   ],
   "source": [
    "vm.buy('pepsi', 200)"
   ]
  },
  {
   "cell_type": "code",
   "execution_count": 73,
   "metadata": {
    "collapsed": false
   },
   "outputs": [
    {
     "name": "stdout",
     "output_type": "stream",
     "text": [
      "12:06:11 02/20/17 Eastern Standard Time - dont carry it: mountain dew\n"
     ]
    },
    {
     "data": {
      "text/plain": [
       "200"
      ]
     },
     "execution_count": 73,
     "metadata": {},
     "output_type": "execute_result"
    }
   ],
   "source": [
    "vm.buy('mountain dew', 200)"
   ]
  },
  {
   "cell_type": "code",
   "execution_count": 74,
   "metadata": {
    "collapsed": false
   },
   "outputs": [
    {
     "name": "stdout",
     "output_type": "stream",
     "text": [
      "12:06:14 02/20/17 Eastern Standard Time - sold: coke\n"
     ]
    },
    {
     "data": {
      "text/plain": [
       "5"
      ]
     },
     "execution_count": 74,
     "metadata": {},
     "output_type": "execute_result"
    }
   ],
   "source": [
    "vm.buy('coke', 100)"
   ]
  },
  {
   "cell_type": "code",
   "execution_count": 75,
   "metadata": {
    "collapsed": false
   },
   "outputs": [
    {
     "name": "stdout",
     "output_type": "stream",
     "text": [
      "cash collected:205\n",
      "venditem(name ='pepsi', price=110, quantity=0)\n",
      "venditem(name ='peanut M&Ms', price=100, quantity=2)\n",
      "venditem(name ='coke', price=95, quantity=2)\n"
     ]
    }
   ],
   "source": [
    "vm.status()"
   ]
  },
  {
   "cell_type": "code",
   "execution_count": null,
   "metadata": {
    "collapsed": true
   },
   "outputs": [],
   "source": []
  }
 ],
 "metadata": {
  "anaconda-cloud": {},
  "kernelspec": {
   "display_name": "Python [conda root]",
   "language": "python",
   "name": "conda-root-py"
  },
  "language_info": {
   "codemirror_mode": {
    "name": "ipython",
    "version": 3
   },
   "file_extension": ".py",
   "mimetype": "text/x-python",
   "name": "python",
   "nbconvert_exporter": "python",
   "pygments_lexer": "ipython3",
   "version": "3.5.2"
  }
 },
 "nbformat": 4,
 "nbformat_minor": 1
}
