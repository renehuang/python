{
 "cells": [
  {
   "cell_type": "markdown",
   "metadata": {},
   "source": [
    "\n",
    "# Networking\n",
    "- 'socket' module has low level networking\n",
    "  - unpleasant to use\n",
    "  - you will probably never need it, as almost everything is HTTP\n",
    "- 'urllib' will snarf HTTP content\n",
    "- 'urllib.urlopen' will return an object similar to a file, with a few extra methods, so can iterate over the lines, or grab entire page as one string\n",
    "- [doc](https://docs.python.org/3.5/library/urllib.request.html#module-urllib.request)"
   ]
  },
  {
   "cell_type": "code",
   "execution_count": null,
   "metadata": {
    "collapsed": false
   },
   "outputs": [],
   "source": [
    "import urllib.request\n",
    "\n",
    "cu = 'http://columbia.edu'\n",
    "\n",
    "# returns object that represents the connection - \n",
    "# similar to a file descriptor\n",
    "cur = urllib.request.urlopen(cu)"
   ]
  },
  {
   "cell_type": "code",
   "execution_count": null,
   "metadata": {
    "collapsed": false
   },
   "outputs": [],
   "source": [
    "# headers from the server\n",
    "\n",
    "list(cur.headers.items())"
   ]
  },
  {
   "cell_type": "code",
   "execution_count": null,
   "metadata": {
    "collapsed": false
   },
   "outputs": [],
   "source": [
    "# headers is a dictionary\n",
    "\n",
    "cur.headers['Server']"
   ]
  },
  {
   "cell_type": "code",
   "execution_count": null,
   "metadata": {
    "collapsed": false
   },
   "outputs": [],
   "source": [
    "# similar to a file descriptor - \n",
    "# the network connection itself is an iterator\n",
    "\n",
    "cur is iter(cur)"
   ]
  },
  {
   "cell_type": "code",
   "execution_count": null,
   "metadata": {
    "collapsed": false
   },
   "outputs": [],
   "source": [
    "# usual iteration protocol reads one line at a time\n",
    "# note the lines comming back are byte arrays(b'), not strings\n",
    "# urllib doesn't know or try to guess what encoding is being used\n",
    "# by the server\n",
    "\n",
    "[next(cur), next(cur)]"
   ]
  },
  {
   "cell_type": "code",
   "execution_count": null,
   "metadata": {
    "collapsed": false
   },
   "outputs": [],
   "source": [
    "# grab the rest of the lines with 'list'\n",
    "\n",
    "lines = list(cur)\n",
    "lines[10:20]"
   ]
  },
  {
   "cell_type": "code",
   "execution_count": null,
   "metadata": {
    "collapsed": false
   },
   "outputs": [],
   "source": [
    "# or read lines with a for loop\n",
    "\n",
    "cur = urllib.request.urlopen(cu)\n",
    "\n",
    "for line in cur:\n",
    "    print(line)\n"
   ]
  },
  {
   "cell_type": "code",
   "execution_count": null,
   "metadata": {
    "collapsed": false
   },
   "outputs": [],
   "source": [
    "# ...to get python unicode strings, must decode byte stream\n",
    "# web sites written in English mostly use utf-8 because it is efficient\n",
    "\n",
    "lines[10].decode('utf-8')"
   ]
  },
  {
   "cell_type": "markdown",
   "metadata": {},
   "source": [
    "# requests\n",
    "- alternative to urllib\n",
    "- may be easier for complex tasks\n",
    "- [doc](http://docs.python-requests.org/en/master/user/quickstart/#response-content)"
   ]
  },
  {
   "cell_type": "code",
   "execution_count": null,
   "metadata": {
    "collapsed": false
   },
   "outputs": [],
   "source": [
    "import requests\n",
    "\n",
    "r = requests.get(cu)\n",
    "print(r.status_code)\n",
    "print(r.headers)\n",
    "\n",
    "# requests tries to guess the charset and convert to unicode for you\n",
    "# but - got it wrong here\n",
    "print(r.encoding)\n",
    "# so fix it\n",
    "r.encoding = 'utf-8'\n",
    "\n",
    "# r.text is one string - split it into lines\n",
    "lines = r.text.split('\\n')\n",
    "lines[10:20]\n"
   ]
  },
  {
   "cell_type": "code",
   "execution_count": null,
   "metadata": {
    "collapsed": false
   },
   "outputs": [],
   "source": [
    "type(r.text)"
   ]
  },
  {
   "cell_type": "markdown",
   "metadata": {},
   "source": [
    "# Easy to make a simple web server"
   ]
  },
  {
   "cell_type": "code",
   "execution_count": null,
   "metadata": {
    "collapsed": false
   },
   "outputs": [],
   "source": [
    "# will serve files in the current directory\n",
    "\n",
    "import http.server\n",
    "import socketserver\n",
    "\n",
    "PORT = 8001\n",
    "\n",
    "Handler = http.server.SimpleHTTPRequestHandler\n",
    "\n",
    "httpd = socketserver.TCPServer((\"\", PORT), Handler)\n",
    "\n",
    "print(\"serving at port\", PORT)\n",
    "httpd.serve_forever()"
   ]
  },
  {
   "cell_type": "markdown",
   "metadata": {},
   "source": [
    "# 'Real' python web servers\n",
    "- two main ones are Flask and Django\n",
    "- Django [doc](https://www.djangoproject.com)\n",
    "- Flask [doc](http://flask.pocoo.org)"
   ]
  }
 ],
 "metadata": {
  "anaconda-cloud": {},
  "kernelspec": {
   "display_name": "Python [conda root]",
   "language": "python",
   "name": "conda-root-py"
  },
  "language_info": {
   "codemirror_mode": {
    "name": "ipython",
    "version": 3
   },
   "file_extension": ".py",
   "mimetype": "text/x-python",
   "name": "python",
   "nbconvert_exporter": "python",
   "pygments_lexer": "ipython3",
   "version": "3.5.2"
  }
 },
 "nbformat": 4,
 "nbformat_minor": 0
}
