{
 "cells": [
  {
   "cell_type": "markdown",
   "metadata": {},
   "source": [
    "# BeautifulSoup\n",
    "- great 'screen scraping' package\n",
    "- tons of interesting data on webpages designed for people, not programs\n",
    "- makes it easy to extract information from complex web pages and XML documents\n",
    "- often can figure out what to do by playing interactively\n",
    "- [doc](http://www.crummy.com/software/BeautifulSoup/)"
   ]
  },
  {
   "cell_type": "markdown",
   "metadata": {},
   "source": [
    "# Example\n",
    "# Want to find all the headlines on the front page of the [New York Times](http://nyt.com)\n",
    "- look at webpage source - html structure is quite complex\n",
    "- would be very difficult using with string.find() or regular expressions\n",
    "- soup reads in the page of interest, then you can query it"
   ]
  },
  {
   "cell_type": "code",
   "execution_count": 1,
   "metadata": {
    "collapsed": false
   },
   "outputs": [],
   "source": [
    "# 'lxml' is a XML parser(parses HTML too)\n",
    "# must tell soup what unicode decoding to use\n",
    "\n",
    "import urllib.request\n",
    "\n",
    "from bs4 import BeautifulSoup\n",
    "import lxml\n",
    "\n",
    "nf2 = urllib.request.urlopen('http://nyt.com')\n",
    "sp = BeautifulSoup(nf2, 'lxml', from_encoding='utf-8')"
   ]
  },
  {
   "cell_type": "code",
   "execution_count": 2,
   "metadata": {
    "collapsed": false
   },
   "outputs": [
    {
     "data": {
      "text/plain": [
       "[<h2 class=\"story-heading\"><a href=\"https://www.nytimes.com/2017/02/15/us/politics/leaks-donald-trump.html\">After His Election, Trump’s Love for Leaks Quickly Faded</a></h2>,\n",
       " <h2 class=\"story-heading\"><i class=\"icon\"></i><a href=\"https://www.nytimes.com/2017/02/16/us/politics/trump-russia-leaks-twitter.html\">Trump Denounces ‘Low-Life Leakers,’ Pledging to Hunt Them Down</a> <time class=\"timestamp\" data-eastern-timestamp=\"11:37 AM\" data-utc-timestamp=\"1487263060\" datetime=\"2017-02-16\">11:37 AM ET</time></h2>,\n",
       " <h2 class=\"story-heading\"><i class=\"icon\"></i><a href=\"https://www.nytimes.com/2017/02/16/us/politics/campaign-over-president-trump-will-hold-a-what-else-campaign-rally.html\">4 Weeks Into Term, Trump to Hold Campaign Rally</a> </h2>,\n",
       " <h2 class=\"story-heading\"><a href=\"https://www.nytimes.com/2017/02/15/world/middleeast/benjamin-netanyahu-israel-trump.html\">Peace in Mideast Doesn’t Demand 2 States, Trump Says</a></h2>,\n",
       " <h2 class=\"story-heading\">\n",
       "                                     Trump and Netanyahu on Israel’s Future                            </h2>,\n",
       " <h2 class=\"story-heading\"><i class=\"icon\"></i><a href=\"https://www.nytimes.com/2017/02/16/us/politics/david-friedman-trump-nominee-israel-envoy-apologizes.html\">Trump’s Nominee for Israel Envoy Apologizes for ‘Hurtful Words’</a> <time class=\"timestamp\" data-eastern-timestamp=\"12:20 PM\" data-utc-timestamp=\"1487265643\" datetime=\"2017-02-16\">12:20 PM ET</time></h2>,\n",
       " <h2 class=\"story-heading\"><i class=\"icon\"></i><a href=\"https://www.nytimes.com/2017/02/16/us/politics/mick-mulvaney-omb-confirmed.html\">Mick Mulvaney, Trump’s Pick for Budget Director, Is Confirmed</a> <time class=\"timestamp\" data-eastern-timestamp=\"11:13 AM\" data-utc-timestamp=\"1487261604\" datetime=\"2017-02-16\">11:13 AM ET</time></h2>,\n",
       " <h2 class=\"story-heading\"><i class=\"icon\"></i><a href=\"https://www.nytimes.com/2017/02/15/business/media/trump-journalism-media-competition.html\">A Punishing News Cycle Gives Journalists Renewed Mission</a> </h2>,\n",
       " <h2 class=\"story-heading\"><i class=\"icon\"></i><a href=\"https://www.nytimes.com/2017/02/15/us/politics/affordable-care-act-obamacare-trump.html\">White House Offers Rules to Steady Insurance Markets</a> </h2>,\n",
       " <h2 class=\"story-heading\">\n",
       "                                     The Bees That Give You Almonds                            </h2>]"
      ]
     },
     "execution_count": 2,
     "metadata": {},
     "output_type": "execute_result"
    }
   ],
   "source": [
    "# headlines seem to be contained in 'h2' elements\n",
    "\n",
    "sp.findAll('h2')[10:20]"
   ]
  },
  {
   "cell_type": "code",
   "execution_count": null,
   "metadata": {
    "collapsed": false
   },
   "outputs": [],
   "source": [
    "# first 'h2' element\n",
    "\n",
    "h2 = sp.h2\n",
    "h2"
   ]
  },
  {
   "cell_type": "code",
   "execution_count": null,
   "metadata": {
    "collapsed": false
   },
   "outputs": [],
   "source": [
    "# can pull 'a' element out of 'h2'\n",
    "# this 'a' element is a picture\n",
    "\n",
    "a=h2.find('a')\n",
    "a"
   ]
  },
  {
   "cell_type": "code",
   "execution_count": null,
   "metadata": {
    "collapsed": false
   },
   "outputs": [],
   "source": [
    "# try pulling the 'a' out of all 'h2' elements\n",
    "# looks like we get mostly headlines\n",
    "\n",
    "al=[h2.find('a') for h2 in sp.findAll(\"h2\")]\n",
    "al[:20]"
   ]
  },
  {
   "cell_type": "code",
   "execution_count": null,
   "metadata": {
    "collapsed": false
   },
   "outputs": [],
   "source": [
    "# pull out the 'a' link text \n",
    "\n",
    "[a.contents for a in al if a != None][:30]"
   ]
  },
  {
   "cell_type": "code",
   "execution_count": null,
   "metadata": {
    "collapsed": false
   },
   "outputs": [],
   "source": [
    "# filter out images\n",
    "\n",
    "[a.contents for a in al if a != None and len(a)==1][:30]"
   ]
  }
 ],
 "metadata": {
  "anaconda-cloud": {},
  "kernelspec": {
   "display_name": "Python [conda root]",
   "language": "python",
   "name": "conda-root-py"
  },
  "language_info": {
   "codemirror_mode": {
    "name": "ipython",
    "version": 3
   },
   "file_extension": ".py",
   "mimetype": "text/x-python",
   "name": "python",
   "nbconvert_exporter": "python",
   "pygments_lexer": "ipython3",
   "version": "3.5.2"
  }
 },
 "nbformat": 4,
 "nbformat_minor": 0
}
