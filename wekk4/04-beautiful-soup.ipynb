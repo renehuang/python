{
 "cells": [
  {
   "cell_type": "markdown",
   "metadata": {},
   "source": [
    "# BeautifulSoup\n",
    "- great 'screen scraping' package\n",
    "- tons of interesting data on webpages designed for people, not programs\n",
    "- makes it easy to extract information from complex web pages and XML documents\n",
    "- often can figure out what to do by playing interactively\n",
    "- [doc](http://www.crummy.com/software/BeautifulSoup/)"
   ]
  },
  {
   "cell_type": "markdown",
   "metadata": {},
   "source": [
    "# Example\n",
    "# Want to find all the headlines on the front page of the [New York Times](http://nyt.com)\n",
    "- look at webpage source - html structure is quite complex\n",
    "- would be very difficult using with string.find() or regular expressions\n",
    "- soup reads in the page of interest, then you can query it"
   ]
  },
  {
   "cell_type": "code",
   "execution_count": 2,
   "metadata": {
    "collapsed": false
   },
   "outputs": [],
   "source": [
    "# 'lxml' is a XML parser(parses HTML too)\n",
    "# must tell soup what unicode decoding to use\n",
    "\n",
    "import urllib.request\n",
    "\n",
    "from bs4 import BeautifulSoup\n",
    "import lxml\n",
    "\n",
    "nf2 = urllib.request.urlopen('http://nyt.com')\n",
    "sp = BeautifulSoup(nf2, 'lxml', from_encoding='utf-8')"
   ]
  },
  {
   "cell_type": "code",
   "execution_count": 3,
   "metadata": {
    "collapsed": false
   },
   "outputs": [
    {
     "data": {
      "text/plain": [
       "[<h2 class=\"story-heading\"><i class=\"icon\"></i><a href=\"https://www.nytimes.com/2017/02/20/world/middleeast/jim-mattis-iraq-oil-trump.html\">U.S. Defense Secretary Visits: ‘We’re Not in Iraq to Seize Anybody’s Oil’</a> </h2>,\n",
       " <h2 class=\"story-heading\"><a href=\"https://www.nytimes.com/2017/02/20/world/middleeast/talk-of-terror-listing-for-muslim-brotherhood-alarms-some-arab-allies.html\">Talk of Criminalizing Muslim Brotherhood Alarms Arab Allies</a></h2>,\n",
       " <h2 class=\"story-heading\"><a href=\"https://www.nytimes.com/2017/02/19/us/politics/john-mccain-donald-trump-critic.html\">McCain Becomes Critic in Chief of the White House</a></h2>,\n",
       " <h2 class=\"story-heading\"><a href=\"https://www.nytimes.com/2017/02/19/business/media/alex-jones-conspiracy-theories-donald-trump.html\">In Trump’s Volleys, Echoes of a Host’s Conspiracy Theories</a></h2>,\n",
       " <h2 class=\"story-heading\">\n",
       "                                     Rebuilding a Highway Through a Community                            </h2>,\n",
       " <h2>The New York Times offers several ways to get in touch with and provide materials to our journalists.     <a href=\"https://www.nytimes.com/tips\"><span class=\"contact\">Learn more</span></a>.</h2>,\n",
       " <h2 class=\"story-heading\"><a href=\"https://www.nytimes.com/2017/02/13/well/why-weight-loss-surgery-works-when-diets-dont.html\">Why Weight Loss Surgery Works When Diets Don’t</a></h2>,\n",
       " <h2 class=\"story-heading\"><a href=\"https://www.nytimes.com/2017/01/13/jobs/in-choosing-a-job-focus-on-the-fun.html\">In Choosing a Job, Focus on the Fun</a></h2>,\n",
       " <h2 class=\"story-heading\">\n",
       " <a href=\"https://www.nytimes.com/2017/02/09/books/review/lincoln-in-the-bardo-george-saunders.html\"></a>\n",
       " </h2>,\n",
       " <h2 class=\"story-heading\"><a href=\"https://www.nytimes.com/2017/02/19/nyregion/retirement-medicinal-marijuana.html\">When Retirement Comes With a Daily Dose of Cannabis</a></h2>]"
      ]
     },
     "execution_count": 3,
     "metadata": {},
     "output_type": "execute_result"
    }
   ],
   "source": [
    "# headlines seem to be contained in 'h2' elements\n",
    "\n",
    "sp.findAll('h2')[10:20]"
   ]
  },
  {
   "cell_type": "code",
   "execution_count": 4,
   "metadata": {
    "collapsed": false
   },
   "outputs": [
    {
     "data": {
      "text/plain": [
       "<h2 class=\"branding\"><a href=\"http://www.nytimes.com/\">\n",
       "<svg aria-label=\"The New York Times\" class=\"nyt-logo\" height=\"64\" role=\"img\" width=\"379\">\n",
       "<image alt=\"The New York Times\" border=\"0\" height=\"64\" src=\"https://a1.nyt.com/assets/homepage/20170201-155716/images/foundation/logos/nyt-logo-379x64.png\" width=\"379\" xlink:href=\"https://a1.nyt.com/assets/homepage/20170201-155716/images/foundation/logos/nyt-logo-379x64.svg\"></image>\n",
       "</svg>\n",
       "</a></h2>"
      ]
     },
     "execution_count": 4,
     "metadata": {},
     "output_type": "execute_result"
    }
   ],
   "source": [
    "# first 'h2' element\n",
    "\n",
    "h2 = sp.h2\n",
    "h2"
   ]
  },
  {
   "cell_type": "code",
   "execution_count": 5,
   "metadata": {
    "collapsed": false
   },
   "outputs": [
    {
     "data": {
      "text/plain": [
       "<a href=\"http://www.nytimes.com/\">\n",
       "<svg aria-label=\"The New York Times\" class=\"nyt-logo\" height=\"64\" role=\"img\" width=\"379\">\n",
       "<image alt=\"The New York Times\" border=\"0\" height=\"64\" src=\"https://a1.nyt.com/assets/homepage/20170201-155716/images/foundation/logos/nyt-logo-379x64.png\" width=\"379\" xlink:href=\"https://a1.nyt.com/assets/homepage/20170201-155716/images/foundation/logos/nyt-logo-379x64.svg\"></image>\n",
       "</svg>\n",
       "</a>"
      ]
     },
     "execution_count": 5,
     "metadata": {},
     "output_type": "execute_result"
    }
   ],
   "source": [
    "# can pull 'a' element out of 'h2'\n",
    "# this 'a' element is a picture\n",
    "\n",
    "a=h2.find('a')\n",
    "a"
   ]
  },
  {
   "cell_type": "code",
   "execution_count": 6,
   "metadata": {
    "collapsed": false,
    "scrolled": true
   },
   "outputs": [
    {
     "data": {
      "text/plain": [
       "[<a href=\"http://www.nytimes.com/\">\n",
       " <svg aria-label=\"The New York Times\" class=\"nyt-logo\" height=\"64\" role=\"img\" width=\"379\">\n",
       " <image alt=\"The New York Times\" border=\"0\" height=\"64\" src=\"https://a1.nyt.com/assets/homepage/20170201-155716/images/foundation/logos/nyt-logo-379x64.png\" width=\"379\" xlink:href=\"https://a1.nyt.com/assets/homepage/20170201-155716/images/foundation/logos/nyt-logo-379x64.svg\"></image>\n",
       " </svg>\n",
       " </a>,\n",
       " None,\n",
       " None,\n",
       " None,\n",
       " None,\n",
       " None,\n",
       " <a href=\"https://www.nytimes.com/2017/02/19/us/politics/donald-trump-ukraine-russia.html\">Trump Allies Quietly Push Plan for Russia and Ukraine</a>,\n",
       " <a href=\"https://www.nytimes.com/2017/02/20/world/europe/donald-trump-ukraine-russia.html\">Kremlin Denies Knowledge of Ukraine Plan Pushed by Trump Associates</a>,\n",
       " <a href=\"https://www.nytimes.com/2017/02/20/world/europe/pence-european-union-trump.html\">Pence Tells a Wary E.U. That It Has Trump’s Support</a>,\n",
       " <a href=\"https://www.nytimes.com/2017/02/20/world/europe/trump-pursues-his-attack-on-sweden-with-scant-evidence.html\">Trump Pursues His Attack on Sweden, With Scant Evidence</a>,\n",
       " <a href=\"https://www.nytimes.com/2017/02/20/world/middleeast/jim-mattis-iraq-oil-trump.html\">U.S. Defense Secretary Visits: ‘We’re Not in Iraq to Seize Anybody’s Oil’</a>,\n",
       " <a href=\"https://www.nytimes.com/2017/02/20/world/middleeast/talk-of-terror-listing-for-muslim-brotherhood-alarms-some-arab-allies.html\">Talk of Criminalizing Muslim Brotherhood Alarms Arab Allies</a>,\n",
       " <a href=\"https://www.nytimes.com/2017/02/19/us/politics/john-mccain-donald-trump-critic.html\">McCain Becomes Critic in Chief of the White House</a>,\n",
       " <a href=\"https://www.nytimes.com/2017/02/19/business/media/alex-jones-conspiracy-theories-donald-trump.html\">In Trump’s Volleys, Echoes of a Host’s Conspiracy Theories</a>,\n",
       " None,\n",
       " <a href=\"https://www.nytimes.com/tips\"><span class=\"contact\">Learn more</span></a>,\n",
       " <a href=\"https://www.nytimes.com/2017/02/13/well/why-weight-loss-surgery-works-when-diets-dont.html\">Why Weight Loss Surgery Works When Diets Don’t</a>,\n",
       " <a href=\"https://www.nytimes.com/2017/01/13/jobs/in-choosing-a-job-focus-on-the-fun.html\">In Choosing a Job, Focus on the Fun</a>,\n",
       " <a href=\"https://www.nytimes.com/2017/02/09/books/review/lincoln-in-the-bardo-george-saunders.html\"></a>,\n",
       " <a href=\"https://www.nytimes.com/2017/02/19/nyregion/retirement-medicinal-marijuana.html\">When Retirement Comes With a Daily Dose of Cannabis</a>]"
      ]
     },
     "execution_count": 6,
     "metadata": {},
     "output_type": "execute_result"
    }
   ],
   "source": [
    "# try pulling the 'a' out of all 'h2' elements\n",
    "# looks like we get mostly headlines\n",
    "\n",
    "al=[h2.find('a') for h2 in sp.findAll(\"h2\")]\n",
    "al[:20]"
   ]
  },
  {
   "cell_type": "code",
   "execution_count": 7,
   "metadata": {
    "collapsed": false
   },
   "outputs": [
    {
     "data": {
      "text/plain": [
       "[['\\n',\n",
       "  <svg aria-label=\"The New York Times\" class=\"nyt-logo\" height=\"64\" role=\"img\" width=\"379\">\n",
       "  <image alt=\"The New York Times\" border=\"0\" height=\"64\" src=\"https://a1.nyt.com/assets/homepage/20170201-155716/images/foundation/logos/nyt-logo-379x64.png\" width=\"379\" xlink:href=\"https://a1.nyt.com/assets/homepage/20170201-155716/images/foundation/logos/nyt-logo-379x64.svg\"></image>\n",
       "  </svg>,\n",
       "  '\\n'],\n",
       " ['Trump Allies Quietly Push Plan for Russia and Ukraine'],\n",
       " ['Kremlin Denies Knowledge of Ukraine Plan Pushed by Trump Associates'],\n",
       " ['Pence Tells a Wary E.U. That It Has Trump’s Support'],\n",
       " ['Trump Pursues His Attack on Sweden, With Scant Evidence'],\n",
       " ['U.S. Defense Secretary Visits: ‘We’re Not in Iraq to Seize Anybody’s Oil’'],\n",
       " ['Talk of Criminalizing Muslim Brotherhood Alarms Arab Allies'],\n",
       " ['McCain Becomes Critic in Chief of the White House'],\n",
       " ['In Trump’s Volleys, Echoes of a Host’s Conspiracy Theories'],\n",
       " [<span class=\"contact\">Learn more</span>],\n",
       " ['Why Weight Loss Surgery Works When Diets Don’t'],\n",
       " ['In Choosing a Job, Focus on the Fun'],\n",
       " [],\n",
       " ['When Retirement Comes With a Daily Dose of Cannabis'],\n",
       " ['In a Lost Walt Whitman Novel, Clues to ‘Leaves of Grass’'],\n",
       " ['The First Chapter of ‘Life and Adventures of Jack Engle’'],\n",
       " ['Comedian Considers Bid for Governor of New Jersey'],\n",
       " ['California Braces for More Rain. How Bad Can It Get?'],\n",
       " ['Millions in South Sudan Need Food, U.N. Says'],\n",
       " ['Ex-Officer Says He Led Death Squad in Philippines'],\n",
       " ['South Korea Calls Kim Relative’s Killing ‘Terrorist Act’'],\n",
       " ['‘Homeland’'],\n",
       " ['The Interpreter'],\n",
       " ['Inside the Brutal World of Comedy Open Mikes'],\n",
       " ['The Cat Named Morphine '],\n",
       " ['Kevin Durant, Silicon Valley’s Hottest Start-up'],\n",
       " ['The Opinion Pages'],\n",
       " ['North Korea, the Ultimate Challenge for a Dealmaker'],\n",
       " ['Editorial: You Can Pay More for Less With Ryancare!'],\n",
       " ['Blow: Harry and Sidney, Soul Brothers']]"
      ]
     },
     "execution_count": 7,
     "metadata": {},
     "output_type": "execute_result"
    }
   ],
   "source": [
    "# pull out the 'a' link text \n",
    "\n",
    "[a.contents for a in al if a != None][:30]"
   ]
  },
  {
   "cell_type": "code",
   "execution_count": 7,
   "metadata": {
    "collapsed": false
   },
   "outputs": [
    {
     "data": {
      "text/plain": [
       "[['Republican Congress, Stuck at Starting Line, Jogs in Place'],\n",
       " ['Trump to Announce His New Labor Pick'],\n",
       " ['Trump Plans to Have an Ally Review the U.S. Spy Agencies'],\n",
       " ['After His Election, Trump’s Love for Leaks Quickly Faded'],\n",
       " ['Trump Denounces ‘Low-Life Leakers,’ Pledging to Hunt Them Down'],\n",
       " ['4 Weeks Into Term, Trump to Hold Campaign Rally'],\n",
       " ['Peace in Mideast Doesn’t Demand 2 States, Trump Says'],\n",
       " ['Trump’s Nominee for Israel Envoy Apologizes for ‘Hurtful Words’'],\n",
       " ['Mick Mulvaney, Trump’s Pick for Budget Director, Is Confirmed'],\n",
       " ['A Punishing News Cycle Gives Journalists Renewed Mission'],\n",
       " ['White House Offers Rules to Steady Insurance Markets'],\n",
       " ['A Bee Mogul Confronts the Crisis in His Field'],\n",
       " [<span class=\"contact\">Learn more</span>],\n",
       " ['Your Thursday Briefing'],\n",
       " ['California Today: Supporting Trump on Deep Blue Coast'],\n",
       " ['\\r\\n      Listen to ‘The Daily’\\r\\n    '],\n",
       " ['Why You Should Get Around to Writing Your Will'],\n",
       " ['How to Navigate a Museum While Traveling'],\n",
       " ['Boeing Workers in South Carolina Reject a Union'],\n",
       " ['Kim Jong-nam, the Hunted Heir to a Dictator'],\n",
       " ['2 More Arrested in Killing, Malaysia Says'],\n",
       " ['A Sea Change: Tenement Puts Boiler Room on the Roof'],\n",
       " ['Investors Look Past Headlines as Market Roars Ahead'],\n",
       " ['The Upshot: While We Were Distracted, an Expansion Took Off'],\n",
       " ['The Best Show of the Week (and It Wasn’t Kanye’s)'],\n",
       " ['Designers Scramble Ideas of Gender'],\n",
       " ['City Girds for Brawl Over Looming Speaker Vacancy'],\n",
       " ['Doctor’s Tendency to Prescribe Opioids Is Tied to Dependency'],\n",
       " ['Fox News’s Harassment Payments Said to Be Under Investigation'],\n",
       " ['U.S. Traffic Deaths Rise for a Second Straight Year']]"
      ]
     },
     "execution_count": 7,
     "metadata": {},
     "output_type": "execute_result"
    }
   ],
   "source": [
    "# filter out images\n",
    "\n",
    "[a.contents for a in al if a != None and len(a)==1][:30]"
   ]
  },
  {
   "cell_type": "code",
   "execution_count": null,
   "metadata": {
    "collapsed": true
   },
   "outputs": [],
   "source": []
  }
 ],
 "metadata": {
  "anaconda-cloud": {},
  "kernelspec": {
   "display_name": "Python [conda root]",
   "language": "python",
   "name": "conda-root-py"
  },
  "language_info": {
   "codemirror_mode": {
    "name": "ipython",
    "version": 3
   },
   "file_extension": ".py",
   "mimetype": "text/x-python",
   "name": "python",
   "nbconvert_exporter": "python",
   "pygments_lexer": "ipython3",
   "version": "3.5.2"
  }
 },
 "nbformat": 4,
 "nbformat_minor": 0
}
