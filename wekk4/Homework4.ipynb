{
 "cells": [
  {
   "cell_type": "markdown",
   "metadata": {},
   "source": [
    "# Introduction to Python\n",
    "# Homework #4\n",
    "# Due Thursday Noon 2/23 in Courseworks\n",
    "- You MUST submit on Courseworks before it closes\n",
    "- Email submissions are NOT accepted"
   ]
  },
  {
   "cell_type": "markdown",
   "metadata": {},
   "source": [
    "# Academic Honesty\n",
    "* The computer science department has strict polices. Check\n",
    "the department [web page](http://www.cs.columbia.edu/education/honesty) for details. \n",
    "- Do not look at anybody else's source code. Do not show anybody\n",
    "your source, or leave your source where somebody could see it.\n",
    "You MUST write your own code.\n",
    "- For this class, feel free to discuss issues with other people, but suggest waiting an hour or two after a discussion, before writing your code.\n",
    "-  Cases of non original source will be refered to the Judical Committee.\n",
    "\n"
   ]
  },
  {
   "cell_type": "markdown",
   "metadata": {},
   "source": [
    "# tips\n",
    "- 'self' must be the first arg to every method\n",
    "- use the 'self.' prefix to refer to instance variables or other methods inside a method "
   ]
  },
  {
   "cell_type": "markdown",
   "metadata": {},
   "source": [
    "# Problem 1 - Constraints\n",
    "- suppose we want to convert between C(Celsius) and F(Fahrenheit), using the equation 9*C = 5*(F-32)\n",
    "- could write functions 'c2f' and 'f2c'\n"
   ]
  },
  {
   "cell_type": "code",
   "execution_count": 1,
   "metadata": {
    "collapsed": true
   },
   "outputs": [],
   "source": [
    "def c2f(c):\n",
    "    return( (9.*c + 5. * 32.)/5. )\n",
    "\n",
    "def f2c(f):\n",
    "    return( 5.*(f  - 32)/9. )"
   ]
  },
  {
   "cell_type": "code",
   "execution_count": 2,
   "metadata": {
    "collapsed": false
   },
   "outputs": [
    {
     "data": {
      "text/plain": [
       "[32.0, 212.0, 0.0, 100.0]"
      ]
     },
     "execution_count": 2,
     "metadata": {},
     "output_type": "execute_result"
    }
   ],
   "source": [
    "[c2f(0), c2f(100), f2c(32), f2c(212)]"
   ]
  },
  {
   "cell_type": "markdown",
   "metadata": {},
   "source": [
    "- to write f2c, we solved the equation for C, and made a function out of the other side of the equation\n",
    "- to write c2f, we solved for F, ...\n",
    "- there is another way to think about this \n",
    "- rearrange the equation into a symmetric form\n",
    "\n",
    "```\n",
    "9*C - 5*F = -32*5\n",
    "```\n",
    "\n",
    "- you can think of the equation above as a \"constraint\" between F and C. if you specify one variable, \n",
    "the other's value is determined by the equation. in general, if we have\n",
    "\n",
    "```\n",
    "c0*x0 + c1*x1 + ... cN*xN = total\n",
    "```\n",
    "\n",
    "- cI are fixed coefficients\n",
    "- specifying any N of the (N+1) x's will determine the remaining x variable\n"
   ]
  },
  {
   "cell_type": "markdown",
   "metadata": {},
   "source": [
    "# define the 'setvar' method on the 'Constraint' class\n",
    "- 1st arg is a variable name\n",
    "    - raise a 'ValueError' if given a bad variable name\n",
    "- 2nd arg is the new variable value\n",
    "- if only one undefined variable is left, fire the 'constraint satisfaction'\n",
    "- otherwise just record the new variable value\n",
    "- do all internal computation in floating point"
   ]
  },
  {
   "cell_type": "code",
   "execution_count": 3,
   "metadata": {
    "collapsed": false
   },
   "outputs": [],
   "source": [
    "class Constraint:\n",
    "    def __init__(self, varnames, coes, total):\n",
    "        self.varnames = varnames\n",
    "        self.coes= [float(c) for c in coes]\n",
    "        self.total = float(total)\n",
    "        self.varvals = [None] * len(coes)\n",
    "        \n",
    "    def __str__(self):\n",
    "        return self.__repr__()\n",
    "    \n",
    "    def __repr__(self):\n",
    "        # display the status of the constraint\n",
    "        # show which vars have values\n",
    "        x = ' + '.join(['{}*{}(={})'.format(coe, var, val) \n",
    "                        for coe,var,val in zip(self.coes, self.varnames, self.varvals)])\n",
    "        return 'Constraint({}={})'.format(self.total, x)\n",
    "    \n"
   ]
  },
  {
   "cell_type": "markdown",
   "metadata": {},
   "source": [
    "# tip - you may find 'dotnone' to be helpful"
   ]
  },
  {
   "cell_type": "code",
   "execution_count": 4,
   "metadata": {
    "collapsed": true
   },
   "outputs": [],
   "source": [
    "# regular dot product, except that if one or both values in a pair is 'None',\n",
    "# that term is defined to contribute 0 to the sum\n",
    "\n",
    "def dotnone(l1, l2):\n",
    "    '''yet another dot product variant'''\n",
    "    sum = 0\n",
    "    for e1,e2 in zip(l1,l2):\n",
    "        if not (e1 is None or e2 is None):            \n",
    "            sum += e1 * e2\n",
    "    return(sum)"
   ]
  },
  {
   "cell_type": "code",
   "execution_count": 5,
   "metadata": {
    "collapsed": false
   },
   "outputs": [
    {
     "data": {
      "text/plain": [
       "[32, 22, 0]"
      ]
     },
     "execution_count": 5,
     "metadata": {},
     "output_type": "execute_result"
    }
   ],
   "source": [
    "[dotnone([1,2,3], [4,5,6]), dotnone([1,None,3], [4,5,6]), dotnone([None,1], [2,None])]"
   ]
  },
  {
   "cell_type": "markdown",
   "metadata": {},
   "source": [
    "# Example - setup C & F constraint\n",
    "- 1st init method arg is a list of the variable names, \n",
    "- 2nd arg is list of coefficients for the variables\n",
    "- 3rd arg is the constant total\n",
    "- so, given equation 9*C - 5*F = -32*5, we can setup a constraint like this:\n",
    "- string computed by repr method shows C & F initially have no values(=None)"
   ]
  },
  {
   "cell_type": "code",
   "execution_count": 6,
   "metadata": {
    "collapsed": false
   },
   "outputs": [
    {
     "data": {
      "text/plain": [
       "Constraint(-160.0=9.0*C(=None) + -5.0*F(=None))"
      ]
     },
     "execution_count": 6,
     "metadata": {},
     "output_type": "execute_result"
    }
   ],
   "source": [
    "c = Constraint(['C', 'F'], [9,-5], -5*32)\n",
    "c"
   ]
  },
  {
   "cell_type": "markdown",
   "metadata": {},
   "source": [
    "# setvar method\n",
    "- 1st arg - variable name\n",
    "    - raise ValueError on a bad variable name\n",
    "- 2nd arg - variable value\n",
    "- setvar will fire when there is one unset variable remaining. setvar will:\n",
    "    - print the variable values\n",
    "    - return them in a list\n",
    "    - clear all variable values"
   ]
  },
  {
   "cell_type": "code",
   "execution_count": 7,
   "metadata": {
    "collapsed": false
   },
   "outputs": [
    {
     "name": "stdout",
     "output_type": "stream",
     "text": [
      "C = 100.0\n",
      "F = 212.0\n"
     ]
    },
    {
     "data": {
      "text/plain": [
       "[100.0, 212.0]"
      ]
     },
     "execution_count": 7,
     "metadata": {},
     "output_type": "execute_result"
    }
   ],
   "source": [
    "c.setvar('C', 100)"
   ]
  },
  {
   "cell_type": "code",
   "execution_count": 8,
   "metadata": {
    "collapsed": false
   },
   "outputs": [
    {
     "ename": "ValueError",
     "evalue": "varname foo is not defined in ['C', 'F']",
     "output_type": "error",
     "traceback": [
      "\u001b[0;31m---------------------------------------------------------------------------\u001b[0m",
      "\u001b[0;31mValueError\u001b[0m                                Traceback (most recent call last)",
      "\u001b[0;32m<ipython-input-8-341c04f3a84d>\u001b[0m in \u001b[0;36m<module>\u001b[0;34m()\u001b[0m\n\u001b[1;32m      1\u001b[0m \u001b[0;31m# bad variable name - raise an error\u001b[0m\u001b[0;34m\u001b[0m\u001b[0;34m\u001b[0m\u001b[0m\n\u001b[1;32m      2\u001b[0m \u001b[0;34m\u001b[0m\u001b[0m\n\u001b[0;32m----> 3\u001b[0;31m \u001b[0mc\u001b[0m\u001b[0;34m.\u001b[0m\u001b[0msetvar\u001b[0m\u001b[0;34m(\u001b[0m\u001b[0;34m'foo'\u001b[0m\u001b[0;34m,\u001b[0m \u001b[0;36m0\u001b[0m\u001b[0;34m)\u001b[0m\u001b[0;34m\u001b[0m\u001b[0m\n\u001b[0m\u001b[1;32m      4\u001b[0m \u001b[0mc\u001b[0m\u001b[0;34m\u001b[0m\u001b[0m\n",
      "\u001b[0;32m<ipython-input-3-dc4c6ee0189c>\u001b[0m in \u001b[0;36msetvar\u001b[0;34m(self, varname, val)\u001b[0m\n\u001b[1;32m     18\u001b[0m     \u001b[0;32mdef\u001b[0m \u001b[0msetvar\u001b[0m\u001b[0;34m(\u001b[0m\u001b[0mself\u001b[0m\u001b[0;34m,\u001b[0m \u001b[0mvarname\u001b[0m\u001b[0;34m,\u001b[0m \u001b[0mval\u001b[0m\u001b[0;34m)\u001b[0m\u001b[0;34m:\u001b[0m\u001b[0;34m\u001b[0m\u001b[0m\n\u001b[1;32m     19\u001b[0m         \u001b[0;32mif\u001b[0m \u001b[0;32mnot\u001b[0m \u001b[0mvarname\u001b[0m \u001b[0;32min\u001b[0m \u001b[0mself\u001b[0m\u001b[0;34m.\u001b[0m\u001b[0mvarnames\u001b[0m\u001b[0;34m:\u001b[0m\u001b[0;34m\u001b[0m\u001b[0m\n\u001b[0;32m---> 20\u001b[0;31m             \u001b[0;32mraise\u001b[0m \u001b[0mValueError\u001b[0m\u001b[0;34m(\u001b[0m\u001b[0;34m'varname '\u001b[0m \u001b[0;34m+\u001b[0m \u001b[0mvarname\u001b[0m \u001b[0;34m+\u001b[0m \u001b[0;34m\" is not defined in \"\u001b[0m \u001b[0;34m+\u001b[0m \u001b[0mstr\u001b[0m\u001b[0;34m(\u001b[0m\u001b[0mself\u001b[0m\u001b[0;34m.\u001b[0m\u001b[0mvarnames\u001b[0m\u001b[0;34m)\u001b[0m\u001b[0;34m)\u001b[0m\u001b[0;34m\u001b[0m\u001b[0m\n\u001b[0m\u001b[1;32m     21\u001b[0m         \u001b[0mn\u001b[0m \u001b[0;34m=\u001b[0m \u001b[0mself\u001b[0m\u001b[0;34m.\u001b[0m\u001b[0mvarnames\u001b[0m\u001b[0;34m.\u001b[0m\u001b[0mindex\u001b[0m\u001b[0;34m(\u001b[0m\u001b[0mvarname\u001b[0m\u001b[0;34m)\u001b[0m\u001b[0;34m\u001b[0m\u001b[0m\n\u001b[1;32m     22\u001b[0m         \u001b[0mself\u001b[0m\u001b[0;34m.\u001b[0m\u001b[0mvarvals\u001b[0m\u001b[0;34m[\u001b[0m\u001b[0mn\u001b[0m\u001b[0;34m]\u001b[0m \u001b[0;34m=\u001b[0m \u001b[0mfloat\u001b[0m\u001b[0;34m(\u001b[0m\u001b[0mval\u001b[0m\u001b[0;34m)\u001b[0m\u001b[0;34m\u001b[0m\u001b[0m\n",
      "\u001b[0;31mValueError\u001b[0m: varname foo is not defined in ['C', 'F']"
     ]
    }
   ],
   "source": [
    "# bad variable name - raise an error\n",
    "\n",
    "c.setvar('foo', 0)\n",
    "c"
   ]
  },
  {
   "cell_type": "code",
   "execution_count": 9,
   "metadata": {
    "collapsed": false
   },
   "outputs": [
    {
     "name": "stdout",
     "output_type": "stream",
     "text": [
      "C = 100.0\n",
      "F = 212.0\n"
     ]
    },
    {
     "data": {
      "text/plain": [
       "[100.0, 212.0]"
      ]
     },
     "execution_count": 9,
     "metadata": {},
     "output_type": "execute_result"
    }
   ],
   "source": [
    "c.setvar('F', 212)"
   ]
  },
  {
   "cell_type": "markdown",
   "metadata": {},
   "source": [
    "# more complex example\n",
    "- 5 constraint variables"
   ]
  },
  {
   "cell_type": "code",
   "execution_count": 10,
   "metadata": {
    "collapsed": false
   },
   "outputs": [
    {
     "data": {
      "text/plain": [
       "Constraint(1.0=0.0*x0(=None) + 1.0*x1(=None) + 2.0*x2(=None) + 3.0*x3(=None) + 4.0*x4(=None))"
      ]
     },
     "execution_count": 10,
     "metadata": {},
     "output_type": "execute_result"
    }
   ],
   "source": [
    "c2 = Constraint(['x0', 'x1', 'x2', 'x3', 'x4'], range(5), 1)\n",
    "c2"
   ]
  },
  {
   "cell_type": "code",
   "execution_count": 11,
   "metadata": {
    "collapsed": false
   },
   "outputs": [
    {
     "data": {
      "text/plain": [
       "Constraint(1.0=0.0*x0(=None) + 1.0*x1(=10.0) + 2.0*x2(=None) + 3.0*x3(=None) + 4.0*x4(=None))"
      ]
     },
     "execution_count": 11,
     "metadata": {},
     "output_type": "execute_result"
    }
   ],
   "source": [
    "c2.setvar('x1', 10)\n",
    "c2"
   ]
  },
  {
   "cell_type": "code",
   "execution_count": 12,
   "metadata": {
    "collapsed": false
   },
   "outputs": [
    {
     "data": {
      "text/plain": [
       "Constraint(1.0=0.0*x0(=0.0) + 1.0*x1(=10.0) + 2.0*x2(=None) + 3.0*x3(=None) + 4.0*x4(=None))"
      ]
     },
     "execution_count": 12,
     "metadata": {},
     "output_type": "execute_result"
    }
   ],
   "source": [
    "c2.setvar('x0', 0)\n",
    "c2"
   ]
  },
  {
   "cell_type": "code",
   "execution_count": 13,
   "metadata": {
    "collapsed": false
   },
   "outputs": [
    {
     "data": {
      "text/plain": [
       "Constraint(1.0=0.0*x0(=0.0) + 1.0*x1(=10.0) + 2.0*x2(=20.0) + 3.0*x3(=None) + 4.0*x4(=None))"
      ]
     },
     "execution_count": 13,
     "metadata": {},
     "output_type": "execute_result"
    }
   ],
   "source": [
    "# x2\n",
    "\n",
    "c2.setvar('x2',20)\n",
    "c2"
   ]
  },
  {
   "cell_type": "code",
   "execution_count": 14,
   "metadata": {
    "collapsed": false
   },
   "outputs": [
    {
     "name": "stdout",
     "output_type": "stream",
     "text": [
      "x0 = 0.0\n",
      "x1 = 10.0\n",
      "x2 = 20.0\n",
      "x3 = -56.333333333333336\n",
      "x4 = 30.0\n"
     ]
    },
    {
     "data": {
      "text/plain": [
       "[0.0, 10.0, 20.0, -56.333333333333336, 30.0]"
      ]
     },
     "execution_count": 14,
     "metadata": {},
     "output_type": "execute_result"
    }
   ],
   "source": [
    "# only two unset vars left, so setting x3 or x4 \n",
    "# will fire the constraints\n",
    "\n",
    "c2.setvar('x4', 30)"
   ]
  },
  {
   "cell_type": "markdown",
   "metadata": {},
   "source": [
    "# sketchpad(1962)\n",
    "- IMHO, [sketchpad](https://en.wikipedia.org/wiki/Sketchpad) is the greatest CS Phd thesis ever. \n",
    "- among other things, Ivan Sutherland invented constraint systems, interactive computer graphics, CAD, object oriented programming, and visual programming\n",
    "- the computer he used had 33K of memory!\n",
    "- if you have a few minutes sometime, watch [sketchpad video from summer 1962](https://www.youtube.com/watch?v=495nCzxM9PI)"
   ]
  },
  {
   "cell_type": "markdown",
   "metadata": {},
   "source": [
    "# Problem 2 - Hamlet\n",
    "- Python is very popular in 'Digital Humanities'\n",
    "- MIT has the complete works of Shakespeare in a simple [html](http://shakespeare.mit.edu) format\n",
    "- You will do a simple analysis of Hamlet by reading the html file, and doing pattern matching\n",
    "- The goal is to return a list of the line count, total number of 'speeches'(look at the file format), \n",
    "and a dict showing the number of 'speeches' each character gives\n",
    "- Your program should read directly from the url given below, but you may want to download\n",
    "a copy to examine the structure of the file. \n",
    "- remember that urllib.request returns 'byte arrays', not strings\n",
    "- there are at least three ways to do this - your choice\n",
    "    - use string methods like 'find'\n",
    "    - use regular expressions\n",
    "    - use Beautiful Soup(won't get a line count with this method)\n",
    "- here's a short sample of the file\n",
    "\n",
    "```\n",
    "\n",
    "<A NAME=speech25><b>HORATIO</b></a>\n",
    "<blockquote>\n",
    "<A NAME=1.1.37>Tush, tush, 'twill not appear.</A><br>\n",
    "</blockquote>\n",
    "\n",
    "<A NAME=speech26><b>BERNARDO</b></a>\n",
    "<blockquote>\n",
    "<A NAME=1.1.38>Sit down awhile;</A><br>\n",
    "<A NAME=1.1.39>And let us once again assail your ears,</A><br>\n",
    "<A NAME=1.1.40>That are so fortified against our story</A><br>\n",
    "<A NAME=1.1.41>What we have two nights seen.</A><br>\n",
    "</blockquote>\n",
    "\n",
    "<A NAME=speech27><b>HORATIO</b></a>\n",
    "<blockquote>\n",
    "<A NAME=1.1.42>Well, sit we down,</A><br>\n",
    "<A NAME=1.1.43>And let us hear Bernardo speak of this.</A><br>\n",
    "</blockquote>\n",
    "\n",
    "<A NAME=speech28><b>BERNARDO</b></a>\n",
    "<blockquote>\n",
    "<A NAME=1.1.44>Last night of all,</A><br>\n",
    "<A NAME=1.1.45>When yond same star that's westward from the pole</A><br>\n",
    "<A NAME=1.1.46>Had made his course to illume that part of heaven</A><br>\n",
    "<A NAME=1.1.47>Where now it burns, Marcellus and myself,</A><br>\n",
    "<A NAME=1.1.48>The bell then beating one,--</A><br>\n",
    "<p><i>Enter Ghost</i></p>\n",
    "</blockquote>\n",
    "\n",
    "<A NAME=speech29><b>MARCELLUS</b></a>\n",
    "<blockquote>\n",
    "<A NAME=1.1.49>Peace, break thee off; look, where it comes again!</A><br>\n",
    "</blockquote>\n",
    "\n",
    "<A NAME=speech30><b>BERNARDO</b></a>\n",
    "<blockquote>\n",
    "<A NAME=1.1.50>In the same figure, like the king that's dead.</A><br>\n",
    "</blockquote>\n",
    "```\n",
    "\n"
   ]
  },
  {
   "cell_type": "code",
   "execution_count": 15,
   "metadata": {
    "collapsed": false
   },
   "outputs": [],
   "source": [
    "# use this url for hamlet - do not hit MIT directly\n",
    "# break up long line\n",
    "\n",
    "import urllib.request\n",
    "import collections\n",
    "import re\n",
    "import bs4\n",
    "import lxml\n",
    "\n",
    "url = 'https://courseworks.columbia.edu/access/content/group/'\n",
    "url += 'COMSW3101_002_2015_3/data/hamlet.html'\n"
   ]
  },
  {
   "cell_type": "code",
   "execution_count": 47,
   "metadata": {
    "collapsed": false
   },
   "outputs": [
    {
     "data": {
      "text/plain": [
       "[8881,\n",
       " 1150,\n",
       " defaultdict(int,\n",
       "             {'All': 4,\n",
       "              'BERNARDO': 23,\n",
       "              'CORNELIUS': 1,\n",
       "              'Captain': 7,\n",
       "              'Danes': 3,\n",
       "              'FRANCISCO': 8,\n",
       "              'First Ambassador': 1,\n",
       "              'First Clown': 33,\n",
       "              'First Player': 8,\n",
       "              'First Priest': 2,\n",
       "              'First Sailor': 2,\n",
       "              'GUILDENSTERN': 33,\n",
       "              'Gentleman': 3,\n",
       "              'Ghost': 14,\n",
       "              'HAMLET': 359,\n",
       "              'HORATIO': 112,\n",
       "              'KING CLAUDIUS': 102,\n",
       "              'LAERTES': 62,\n",
       "              'LORD POLONIUS': 86,\n",
       "              'LUCIANUS': 1,\n",
       "              'Lord': 3,\n",
       "              'MARCELLUS': 36,\n",
       "              'Messenger': 2,\n",
       "              'OPHELIA': 58,\n",
       "              'OSRIC': 25,\n",
       "              'PRINCE FORTINBRAS': 6,\n",
       "              'Player King': 4,\n",
       "              'Player Queen': 5,\n",
       "              'Prologue': 1,\n",
       "              'QUEEN GERTRUDE': 69,\n",
       "              'REYNALDO': 13,\n",
       "              'ROSENCRANTZ': 49,\n",
       "              'Second Clown': 12,\n",
       "              'Servant': 1,\n",
       "              'VOLTIMAND': 2})]"
      ]
     },
     "execution_count": 47,
     "metadata": {},
     "output_type": "execute_result"
    }
   ],
   "source": [
    "hamlet(url)"
   ]
  },
  {
   "cell_type": "markdown",
   "metadata": {},
   "source": [
    "# Problem 3 - Interval\n",
    "- implement a class 'Interval', that does 'interval arithmetic' and defines '+' and '*' operators\n",
    "- an interval consists of a min and max value. use instance variable names 'imin', 'imax' to avoid confusion with 'min' and 'max' functions\n",
    "- let 'i' and 'i2' be intervals\n",
    "- ```i + i2 represents a new interval, where the new imin and imax is the min and max of (x + x2), where i.imin <= x <= i.imax and i2.imin <= x2 <= i2.imax```\n",
    "    - define ```__add__``` method\n",
    "- ```i * i2 represents a new interval, where the new imin and imax is the min and max of (x * x2), where i.imin <= x <= i.imax and i2.imin <= x2 <= i2.imax```\n",
    "    - define ```__mul__``` method\n",
    "- adding intervals is easy \n",
    "- multiplying intervals - think for a second\n",
    "- should be able to add or multiply by a scalar(an integer) on the right, by checking the type of the argument to ```__add__ and __mul__```\n",
    "    - let i be an Interval, s a scalar(integer)\n",
    "        - ```i + s is the same as i + Interval(s, s)```\n",
    "        - ```i * s is the same as i * Interval(s, s)```\n",
    "- an interval should print as ```Interval<imin, imax>```\n",
    "- use only integers, no floats\n"
   ]
  },
  {
   "cell_type": "code",
   "execution_count": 29,
   "metadata": {
    "collapsed": false
   },
   "outputs": [
    {
     "data": {
      "text/plain": [
       "[Interval<-1, 6>, Interval<5, 13>, Interval<10, 10>]"
      ]
     },
     "execution_count": 29,
     "metadata": {},
     "output_type": "execute_result"
    }
   ],
   "source": [
    "i = Interval(-1,6)\n",
    "i2 = Interval(5, 13)\n",
    "i3 = Interval(10,10)\n",
    "\n",
    "[i, i2, i3]"
   ]
  },
  {
   "cell_type": "code",
   "execution_count": 23,
   "metadata": {
    "collapsed": false
   },
   "outputs": [
    {
     "data": {
      "text/plain": [
       "Interval<9, 16>"
      ]
     },
     "execution_count": 23,
     "metadata": {},
     "output_type": "execute_result"
    }
   ],
   "source": [
    "i + 10"
   ]
  },
  {
   "cell_type": "code",
   "execution_count": 24,
   "metadata": {
    "collapsed": false
   },
   "outputs": [
    {
     "data": {
      "text/plain": [
       "Interval<4, 19>"
      ]
     },
     "execution_count": 24,
     "metadata": {},
     "output_type": "execute_result"
    }
   ],
   "source": [
    "i + i2"
   ]
  },
  {
   "cell_type": "code",
   "execution_count": 25,
   "metadata": {
    "collapsed": false
   },
   "outputs": [
    {
     "data": {
      "text/plain": [
       "Interval<9, 16>"
      ]
     },
     "execution_count": 25,
     "metadata": {},
     "output_type": "execute_result"
    }
   ],
   "source": [
    "i + i3"
   ]
  },
  {
   "cell_type": "code",
   "execution_count": 26,
   "metadata": {
    "collapsed": false
   },
   "outputs": [
    {
     "data": {
      "text/plain": [
       "Interval<-10, 60>"
      ]
     },
     "execution_count": 26,
     "metadata": {},
     "output_type": "execute_result"
    }
   ],
   "source": [
    "i * 10"
   ]
  },
  {
   "cell_type": "code",
   "execution_count": 27,
   "metadata": {
    "collapsed": false
   },
   "outputs": [
    {
     "data": {
      "text/plain": [
       "Interval<-13, 78>"
      ]
     },
     "execution_count": 27,
     "metadata": {},
     "output_type": "execute_result"
    }
   ],
   "source": [
    "i * i2"
   ]
  },
  {
   "cell_type": "code",
   "execution_count": 28,
   "metadata": {
    "collapsed": false
   },
   "outputs": [
    {
     "data": {
      "text/plain": [
       "Interval<-10, 60>"
      ]
     },
     "execution_count": 28,
     "metadata": {},
     "output_type": "execute_result"
    }
   ],
   "source": [
    "i * i3"
   ]
  },
  {
   "cell_type": "markdown",
   "metadata": {},
   "source": [
    "# Problem 4 & 5 - vending machine\n",
    "- use objects to simulate a vending machine\n",
    "- money is in units of cents"
   ]
  },
  {
   "cell_type": "markdown",
   "metadata": {},
   "source": [
    "# class venditem represents a type of item for sale\n",
    "- has three instance variables\n",
    "    - name, price, quantity\n",
    "- define four methods\n",
    "    - `method __init__` loads data into the instance variables\n",
    "        - def `__init__`(self, name, price, quantity):\n",
    "    - `method __repr__`(self)\n",
    "        - controls how venditem prints\n",
    "        - use string format method\n",
    "            - '{} {}'.format(arg, arg2)\n",
    "        - see examples below\n",
    "    - `method __str__`(self)\n",
    "        - just call `__repr__` for string to return\n",
    "    - method sale(self)\n",
    "        - decrement the quantity "
   ]
  },
  {
   "cell_type": "code",
   "execution_count": 31,
   "metadata": {
    "collapsed": false
   },
   "outputs": [
    {
     "data": {
      "text/plain": [
       "[venditem(name='coke', price=95, quantity=3),\n",
       " venditem(name='pepsi', price=110, quantity=1)]"
      ]
     },
     "execution_count": 31,
     "metadata": {},
     "output_type": "execute_result"
    }
   ],
   "source": [
    "# __repr__ method shows object status\n",
    "\n",
    "vi = venditem('coke', 95, 3)\n",
    "vi2 = venditem('pepsi', 110, 1)\n",
    "\n",
    "[vi, vi2]"
   ]
  },
  {
   "cell_type": "code",
   "execution_count": 32,
   "metadata": {
    "collapsed": false
   },
   "outputs": [
    {
     "data": {
      "text/plain": [
       "venditem(name='coke', price=95, quantity=2)"
      ]
     },
     "execution_count": 32,
     "metadata": {},
     "output_type": "execute_result"
    }
   ],
   "source": [
    "# sale method decrements quantity instance variable\n",
    "\n",
    "vi.sale()\n",
    "vi"
   ]
  },
  {
   "cell_type": "code",
   "execution_count": 33,
   "metadata": {
    "collapsed": false
   },
   "outputs": [
    {
     "data": {
      "text/plain": [
       "['coke', 'pepsi', 95, 2, 1]"
      ]
     },
     "execution_count": 33,
     "metadata": {},
     "output_type": "execute_result"
    }
   ],
   "source": [
    "# note you can access instance variables directly:\n",
    "\n",
    "[vi.name, vi2.name, vi.price, vi.quantity, vi2.quantity]"
   ]
  },
  {
   "cell_type": "code",
   "execution_count": 34,
   "metadata": {
    "collapsed": false
   },
   "outputs": [
    {
     "data": {
      "text/plain": [
       "2"
      ]
     },
     "execution_count": 34,
     "metadata": {},
     "output_type": "execute_result"
    }
   ],
   "source": [
    "# can set same way\n",
    "\n",
    "vi.quantity = 2\n",
    "vi.quantity"
   ]
  },
  {
   "cell_type": "markdown",
   "metadata": {},
   "source": [
    "# class vendmachine \n",
    "- vendmachine has two instance variables\n",
    "    - 'cash' - the amount of money the machine has collected from item sales\n",
    "    - 'items' - a dictionary, where keys are the name of an item, and the values are the venditem object\n",
    "- define three methods(log method is done for you)\n",
    "    - `__init__`(self, stock)\n",
    "        - 1st arg - stock is a list of venditems, which represents what is loaded in the machine\n",
    "        - items dictionary should be constructed from stock\n",
    "        - cash should be initialized to 0\n",
    "    - buy(self, name, money) \n",
    "        - 'name' is 'coke', 'pepsi', etc\n",
    "        - money is how much money the customer deposited for the purchase\n",
    "        - four cases\n",
    "            - customer asks for an item not carried\n",
    "            - customer asks for an item whose quantity is 0 - out of stock\n",
    "            - customer doesn't put in enough money for the item\n",
    "            - everything ok, sell the item, decrement item quantity\n",
    "        - 'buy' return value should refund any money owed the customer \n",
    "            - money not applied to an item sale\n",
    "            - excess money deposited for an item sale\n",
    "        - log each buy case, using 'log' method below\n",
    "        - see examples below\n",
    "    - status(self)\n",
    "        - prints the amount of cash collected, and each of the items in stock\n",
    "    "
   ]
  },
  {
   "cell_type": "code",
   "execution_count": null,
   "metadata": {
    "collapsed": true
   },
   "outputs": [],
   "source": [
    "import time\n",
    "\n",
    "class vendmachine:\n",
    "    \n",
    "    def log(self, msg, name):\n",
    "        t = time.strftime('%X %x %Z - ')\n",
    "        msg = t + msg + ': ' + name\n",
    "        print(msg)\n",
    "    "
   ]
  },
  {
   "cell_type": "code",
   "execution_count": 38,
   "metadata": {
    "collapsed": false
   },
   "outputs": [
    {
     "name": "stdout",
     "output_type": "stream",
     "text": [
      "cash collected: 0\n",
      "venditem(name='peanut M&Ms', price=100, quantity=2)\n",
      "venditem(name='pepsi', price=110, quantity=1)\n",
      "venditem(name='coke', price=95, quantity=3)\n"
     ]
    }
   ],
   "source": [
    "# make stock for sale and load vendmachine\n",
    "\n",
    "vi = venditem('coke', 95, 3)\n",
    "vi2 = venditem('pepsi', 110, 1)\n",
    "vi3 = venditem('peanut M&Ms', 100, 2)\n",
    "stock = [vi, vi2, vi3]\n",
    "\n",
    "vm = vendmachine(stock)\n",
    "vm.status()"
   ]
  },
  {
   "cell_type": "code",
   "execution_count": 39,
   "metadata": {
    "collapsed": false
   },
   "outputs": [
    {
     "name": "stdout",
     "output_type": "stream",
     "text": [
      "10:34:53 02/17/17 EST - insufficient funds for: coke\n"
     ]
    },
    {
     "data": {
      "text/plain": [
       "45"
      ]
     },
     "execution_count": 39,
     "metadata": {},
     "output_type": "execute_result"
    }
   ],
   "source": [
    "vm.buy('coke', 45)"
   ]
  },
  {
   "cell_type": "code",
   "execution_count": 40,
   "metadata": {
    "collapsed": false
   },
   "outputs": [
    {
     "name": "stdout",
     "output_type": "stream",
     "text": [
      "10:34:55 02/17/17 EST - sold : pepsi\n"
     ]
    },
    {
     "data": {
      "text/plain": [
       "90"
      ]
     },
     "execution_count": 40,
     "metadata": {},
     "output_type": "execute_result"
    }
   ],
   "source": [
    "vm.buy('pepsi', 200)"
   ]
  },
  {
   "cell_type": "code",
   "execution_count": 41,
   "metadata": {
    "collapsed": false
   },
   "outputs": [
    {
     "name": "stdout",
     "output_type": "stream",
     "text": [
      "cash collected: 110\n",
      "venditem(name='peanut M&Ms', price=100, quantity=2)\n",
      "venditem(name='pepsi', price=110, quantity=0)\n",
      "venditem(name='coke', price=95, quantity=3)\n"
     ]
    }
   ],
   "source": [
    "vm.status()"
   ]
  },
  {
   "cell_type": "code",
   "execution_count": 42,
   "metadata": {
    "collapsed": false
   },
   "outputs": [
    {
     "name": "stdout",
     "output_type": "stream",
     "text": [
      "10:35:07 02/17/17 EST - out of stock: pepsi\n"
     ]
    },
    {
     "data": {
      "text/plain": [
       "200"
      ]
     },
     "execution_count": 42,
     "metadata": {},
     "output_type": "execute_result"
    }
   ],
   "source": [
    "vm.buy('pepsi', 200)"
   ]
  },
  {
   "cell_type": "code",
   "execution_count": 44,
   "metadata": {
    "collapsed": false
   },
   "outputs": [
    {
     "name": "stdout",
     "output_type": "stream",
     "text": [
      "10:35:33 02/17/17 EST - dont carry it: mountain dew\n"
     ]
    },
    {
     "data": {
      "text/plain": [
       "200"
      ]
     },
     "execution_count": 44,
     "metadata": {},
     "output_type": "execute_result"
    }
   ],
   "source": [
    "vm.buy('mountain dew', 200)"
   ]
  },
  {
   "cell_type": "code",
   "execution_count": 45,
   "metadata": {
    "collapsed": false
   },
   "outputs": [
    {
     "name": "stdout",
     "output_type": "stream",
     "text": [
      "10:35:37 02/17/17 EST - sold : coke\n"
     ]
    },
    {
     "data": {
      "text/plain": [
       "5"
      ]
     },
     "execution_count": 45,
     "metadata": {},
     "output_type": "execute_result"
    }
   ],
   "source": [
    "vm.buy('coke', 100)"
   ]
  },
  {
   "cell_type": "code",
   "execution_count": 46,
   "metadata": {
    "collapsed": false
   },
   "outputs": [
    {
     "name": "stdout",
     "output_type": "stream",
     "text": [
      "cash collected: 205\n",
      "venditem(name='peanut M&Ms', price=100, quantity=2)\n",
      "venditem(name='pepsi', price=110, quantity=0)\n",
      "venditem(name='coke', price=95, quantity=2)\n"
     ]
    }
   ],
   "source": [
    "vm.status()"
   ]
  }
 ],
 "metadata": {
  "anaconda-cloud": {},
  "kernelspec": {
   "display_name": "Python [conda root]",
   "language": "python",
   "name": "conda-root-py"
  },
  "language_info": {
   "codemirror_mode": {
    "name": "ipython",
    "version": 3
   },
   "file_extension": ".py",
   "mimetype": "text/x-python",
   "name": "python",
   "nbconvert_exporter": "python",
   "pygments_lexer": "ipython3",
   "version": "3.5.2"
  },
  "name": "_merged"
 },
 "nbformat": 4,
 "nbformat_minor": 0
}
