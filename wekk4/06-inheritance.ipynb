{
 "cells": [
  {
   "cell_type": "markdown",
   "metadata": {},
   "source": [
    "# Class Inheritance\n",
    "- classes can be defined to inherit from any existing class\n",
    "- promotes code reuse\n",
    "- classes inherit from class 'Object' by default\n"
   ]
  },
  {
   "cell_type": "code",
   "execution_count": null,
   "metadata": {
    "collapsed": false
   },
   "outputs": [],
   "source": [
    "# we saw Point and Polygon in notebook 'oop'\n",
    "\n",
    "import math\n",
    "\n",
    "class Point:\n",
    "    def __init__(self, x=0, y=0):\n",
    "        self.x = x\n",
    "        self.y = y\n",
    "    def __str__(self):\n",
    "        return 'Point({}, {})'.format(self.x, self.y)\n",
    "    def __repr__(self):\n",
    "        return str(self)\n",
    "    \n",
    "    def add(self, p):\n",
    "        return Point(self.x + p.x, self.y + p.y)\n",
    "    \n",
    "    def addTo(self, p):\n",
    "        self.x += p.x\n",
    "        self.y += p.y\n",
    "        return self\n",
    "    \n",
    "    def distanceFrom(self, p):\n",
    "        return math.sqrt( (self.x - p.x)**2 + (self.y - p.y)**2)\n",
    "\n",
    "class Polygon:\n",
    "    def __init__(self, pts):\n",
    "        # represent vertexes of polygon\n",
    "        self.pts = pts\n",
    "    def __str__(self):\n",
    "        return '{}<{} points>'.format(self.printname(), len(self.pts))\n",
    "    def __repr__(self):\n",
    "        return str(self)\n",
    "    \n",
    "    def printname(self):\n",
    "        return 'Polygon'\n",
    "    \n",
    "    def sides(self):\n",
    "        return len(self.pts)\n",
    "    \n",
    "    def addTo(self, a):\n",
    "        for p in self.pts:\n",
    "            p.addTo(a)\n",
    "    \n",
    "    def printVerts(self):\n",
    "        for j, p in enumerate(self.pts):\n",
    "            print(j, p)\n",
    "\n",
    "origin = Point()\n",
    "p1010 = Point(10, 10)\n",
    "p34 = Point(3,4)\n"
   ]
  },
  {
   "cell_type": "code",
   "execution_count": null,
   "metadata": {
    "collapsed": false
   },
   "outputs": [],
   "source": [
    "# Triangle inherits from Polygon\n",
    "\n",
    "class Triangle(Polygon):\n",
    "    def __init__(self, p1, p2, p3):\n",
    "        self.pts = [p1, p2, p3]\n",
    "\n",
    "    # overrides method on Polygon\n",
    "    def printname(self):\n",
    "        return 'Triangle'\n",
    "    \n",
    "    # overrides method on Polygon\n",
    "    # Polygon.sides method in this case would be fine, \n",
    "    # but suppose that was an expensive method \n",
    "    def sides(self):\n",
    "        return 3\n",
    "\n",
    "t = Triangle(origin, p1010, p34)\n",
    "t"
   ]
  },
  {
   "cell_type": "code",
   "execution_count": null,
   "metadata": {
    "collapsed": false
   },
   "outputs": [],
   "source": [
    "# runs the printname method on Triangle\n",
    "# 'overrides' the method on Polygon\n",
    "\n",
    "t.printname()"
   ]
  },
  {
   "cell_type": "code",
   "execution_count": null,
   "metadata": {
    "collapsed": false
   },
   "outputs": [],
   "source": [
    "# inherits the printVerts method on Polygon\n",
    "# and runs that\n",
    "\n",
    "t.printVerts()"
   ]
  },
  {
   "cell_type": "code",
   "execution_count": null,
   "metadata": {
    "collapsed": false
   },
   "outputs": [],
   "source": [
    "# a class that inherits is considered to have the same \n",
    "# type as the class it inherits from\n",
    "\n",
    "isinstance(t, (Polygon, Triangle))"
   ]
  },
  {
   "cell_type": "markdown",
   "metadata": {},
   "source": [
    "# Example - FlipDict\n",
    "- courtesy of Daniel Bauer\n",
    "- get all the functionality of 'dict', plus\n",
    "one extra method"
   ]
  },
  {
   "cell_type": "code",
   "execution_count": 1,
   "metadata": {
    "collapsed": true
   },
   "outputs": [],
   "source": [
    "# FlipDict inherits from dict, \n",
    "# plus has the additional 'flip' method\n",
    "\n",
    "class FlipDict(dict):\n",
    "    def flip(self):\n",
    "        res = {}\n",
    "        for k in self:\n",
    "            v = self[k]\n",
    "            if not v in res:\n",
    "                res[v] = set()\n",
    "            res[v].add(k)\n",
    "        return(res)\n"
   ]
  },
  {
   "cell_type": "code",
   "execution_count": 2,
   "metadata": {
    "collapsed": false
   },
   "outputs": [
    {
     "data": {
      "text/plain": [
       "{1: 'a', 2: 'b', 3: 'a'}"
      ]
     },
     "execution_count": 2,
     "metadata": {},
     "output_type": "execute_result"
    }
   ],
   "source": [
    "# dict constructor can take a list or tuple\n",
    "\n",
    "dt = [[1,'a'], [2, 'b'], [3, 'a']]\n",
    "\n",
    "dict(dt)\n"
   ]
  },
  {
   "cell_type": "code",
   "execution_count": 3,
   "metadata": {
    "collapsed": false
   },
   "outputs": [
    {
     "name": "stdout",
     "output_type": "stream",
     "text": [
      "{1: 'a', 2: 'b', 3: 'a'}\n",
      "a\n",
      "[1, 2, 3]\n"
     ]
    }
   ],
   "source": [
    "# FlipDict looks just like a dict...\n",
    "\n",
    "fd = FlipDict(dt)\n",
    "print(fd)\n",
    "print(fd[1])\n",
    "print(list(fd.keys()))"
   ]
  },
  {
   "cell_type": "code",
   "execution_count": 4,
   "metadata": {
    "collapsed": false
   },
   "outputs": [
    {
     "data": {
      "text/plain": [
       "{'a': {1, 3}, 'b': {2}}"
      ]
     },
     "execution_count": 4,
     "metadata": {},
     "output_type": "execute_result"
    }
   ],
   "source": [
    "# ...but also has this extra method, which\n",
    "# reverses the keys and values\n",
    "\n",
    "fd.flip()"
   ]
  },
  {
   "cell_type": "markdown",
   "metadata": {},
   "source": [
    "# Types of Inheritance\n",
    "- previous examples used \"single inheritance\"\n",
    "- Python also supports \"multiple inheritance\", as does C++\n",
    "- Java has \"single inheritance\", plus interfaces\n",
    "- strongly recommend only using \"single\"\n",
    "    - multiple inheritance is often difficult to design correctly\n",
    "    - difficult to read multiple inheritance code\n",
    "- error system(next topic) is an excellent example of single inheritance"
   ]
  }
 ],
 "metadata": {
  "anaconda-cloud": {},
  "kernelspec": {
   "display_name": "Python [conda root]",
   "language": "python",
   "name": "conda-root-py"
  },
  "language_info": {
   "codemirror_mode": {
    "name": "ipython",
    "version": 3
   },
   "file_extension": ".py",
   "mimetype": "text/x-python",
   "name": "python",
   "nbconvert_exporter": "python",
   "pygments_lexer": "ipython3",
   "version": "3.5.2"
  }
 },
 "nbformat": 4,
 "nbformat_minor": 0
}
