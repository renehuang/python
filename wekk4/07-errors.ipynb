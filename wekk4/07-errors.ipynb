{
 "cells": [
  {
   "cell_type": "markdown",
   "metadata": {},
   "source": [
    "# Object oriented error handling\n",
    "- Error are defined by classes\n",
    "- an error object is instantiated at error time\n",
    "    - the class used tells you something about the problem\n",
    "    - the error object may include specific information about the problem, like a file path that doesn't exist\n",
    "- Java - compilier DEMANDS you handle all kinds of potential errors\n",
    "- Python - hey whatever...\n",
    "- but, if you get an error, and there's no handler, you CRASH\n",
    "- [List of builtin errors]\n",
    "(https://docs.python.org/3/library/exceptions.html#exception-hierarchy)\n",
    "- error types form a hierarchy(formed by using single inheritance)"
   ]
  },
  {
   "cell_type": "markdown",
   "metadata": {},
   "source": [
    "# Iteration Protocol \n",
    "- signals end of iteration by throwing a StopIteration error"
   ]
  },
  {
   "cell_type": "code",
   "execution_count": null,
   "metadata": {
    "collapsed": true
   },
   "outputs": [],
   "source": [
    "def fw(i):\n",
    "    # iter gets the iterator for a sequence\n",
    "    i2 = iter(i)\n",
    "    # loop forever\n",
    "    while True:\n",
    "        e = next(i2)\n",
    "        print(e)"
   ]
  },
  {
   "cell_type": "code",
   "execution_count": null,
   "metadata": {
    "collapsed": false
   },
   "outputs": [],
   "source": [
    "# prints the list, then bombs with an error\n",
    "# not handling the error that the iteration protocol\n",
    "# throws when the iteration is exhausted\n",
    "\n",
    "fw([1,2,3])"
   ]
  },
  {
   "cell_type": "code",
   "execution_count": 1,
   "metadata": {
    "collapsed": false
   },
   "outputs": [
    {
     "name": "stdout",
     "output_type": "stream",
     "text": [
      "1\n",
      "2\n",
      "3\n",
      "caught finish\n",
      "loop terminated\n"
     ]
    }
   ],
   "source": [
    "# have to 'catch' the 'StopIteration' error\n",
    "# with 'try' 'except' statements\n",
    "# errors other than 'StopIteration' will NOT be caught\n",
    "\n",
    "def fw2(i):\n",
    "    i2 = iter(i)\n",
    "    while True:\n",
    "        try:\n",
    "            e = next(i2)\n",
    "            print(e)\n",
    "        # StopIteration is an error used to signal the\n",
    "        # end of the iteration. catch it, and\n",
    "        # break out of loop\n",
    "        except StopIteration:\n",
    "            print('caught finish')\n",
    "            break\n",
    "    print('loop terminated')\n",
    "   \n",
    "        \n",
    "fw2([1,2,3])\n"
   ]
  },
  {
   "cell_type": "code",
   "execution_count": 2,
   "metadata": {
    "collapsed": false
   },
   "outputs": [
    {
     "name": "stdout",
     "output_type": "stream",
     "text": [
      "1\n",
      "2\n",
      "3\n",
      "caught finish\n",
      "loop terminated\n"
     ]
    }
   ],
   "source": [
    "# becaues StopIteration is a subclass of Exception (StopIteration inherits from Exception)\n",
    "# the 'except Exception' clause will catch the error\n",
    "\n",
    "def fw3(i):\n",
    "    i2 = iter(i)\n",
    "    while True:\n",
    "        try:\n",
    "            e = next(i2)\n",
    "            print(e)\n",
    "        # StopIteration is an error used to signal the\n",
    "        # end of the iteration. catch it, and\n",
    "        # break out of loop\n",
    "        except Exception:\n",
    "            print('caught finish')\n",
    "            break\n",
    "    print('loop terminated')\n",
    "   \n",
    "        \n",
    "fw3([1,2,3])\n",
    "\n"
   ]
  },
  {
   "cell_type": "code",
   "execution_count": null,
   "metadata": {
    "collapsed": true
   },
   "outputs": [],
   "source": [
    "# ReverseIterList courtesy of Daniel Bauer\n",
    "\n",
    "# another example of inheritance, from 'list'\n",
    "# by implementing the iteration protocol,\n",
    "# we make a list that iterates backwards\n",
    "\n",
    "class ReverseIterList(list):\n",
    "    \n",
    "    # in this case the object itself is the iterator \n",
    "    def __iter__(self):\n",
    "        # create an instance variable 'index', \n",
    "        # and set to the length of the list\n",
    "        self.index = len(self)\n",
    "        return(self)\n",
    "    \n",
    "    # calling the 'next' function on an object \n",
    "    # ultimately calls the '__next__' method on \n",
    "    # the object\n",
    "    def __next__(self):\n",
    "        # are we done?\n",
    "        if self.index == 0:\n",
    "            raise StopIteration\n",
    "        else:\n",
    "            # decrement index to go backwards\n",
    "            self.index -= 1\n",
    "        # return the list element that index selects\n",
    "        return(self[self.index])"
   ]
  },
  {
   "cell_type": "code",
   "execution_count": null,
   "metadata": {
    "collapsed": false
   },
   "outputs": [],
   "source": [
    "# looks like a normal list\n",
    "\n",
    "rev = ReverseIterList(range(4))\n",
    "\n",
    "print(rev)\n",
    "print(rev[2])"
   ]
  },
  {
   "cell_type": "code",
   "execution_count": null,
   "metadata": {
    "collapsed": false
   },
   "outputs": [],
   "source": [
    "# for calls the __iter__ and __next__ methods on rev,\n",
    "# and we iterate backwards\n",
    "\n",
    "for x in rev:\n",
    "    print(x)"
   ]
  },
  {
   "cell_type": "markdown",
   "metadata": {},
   "source": [
    "# 'finally' clause is always executed, with or without error"
   ]
  },
  {
   "cell_type": "code",
   "execution_count": null,
   "metadata": {
    "collapsed": false
   },
   "outputs": [],
   "source": [
    "# even though the except clause does a break out of the loop, \n",
    "# the finally clause is still executed\n",
    "\n",
    "def fw3(i):\n",
    "    i2 = iter(i)\n",
    "    while True:\n",
    "        try:\n",
    "            e = next(i2)\n",
    "            print(str(e) + ' loop body')\n",
    "        # StopIteration is not really an 'error', so just catch it and terminate\n",
    "        except StopIteration as si:\n",
    "            # si will be bound to the error object, but we don't need it\n",
    "            print('before break')\n",
    "            break\n",
    "        finally:\n",
    "            print(str(e) + ' finally clause')\n",
    "        \n",
    "# why is '3 finally clause' printed twice?\n",
    "fw3([1,2,3])\n"
   ]
  },
  {
   "cell_type": "markdown",
   "metadata": {},
   "source": [
    "# 'with' statement\n",
    "- very common pattern in software is to aquire some kind of resource or context,\n",
    "use it for awhile, then return it or undo it. \n",
    "- common examples are file and network descriptors\n",
    "    - very important to use descriptors correctly\n",
    "    - running out of descriptors can crash a server"
   ]
  },
  {
   "cell_type": "code",
   "execution_count": null,
   "metadata": {
    "collapsed": false
   },
   "outputs": [],
   "source": [
    "# could write all this out...\n",
    "\n",
    "path = '/tmp/no-such-file'\n",
    "\n",
    "f = open(path, 'r')\n",
    "# do things that might fail somehow\n",
    "try:\n",
    "    f.read()\n",
    "finally: \n",
    "    # error or not, want to close the file descriptor\n",
    "    # finally clause guarantees close will happen\n",
    "    f.close()"
   ]
  },
  {
   "cell_type": "code",
   "execution_count": null,
   "metadata": {
    "collapsed": false
   },
   "outputs": [],
   "source": [
    "# instead, use 'with'\n",
    "# less work, more consise\n",
    "\n",
    "with open(path, 'r') as f:\n",
    "    f.read()\n"
   ]
  },
  {
   "cell_type": "markdown",
   "metadata": {},
   "source": [
    "# 'with' implements 'context manager' protocol\n",
    "- like iteration protocol, a general protocol implemented by many classes\n",
    "- depends on ```__enter__ and __exit__``` methods"
   ]
  },
  {
   "cell_type": "code",
   "execution_count": null,
   "metadata": {
    "collapsed": false
   },
   "outputs": [],
   "source": [
    "# 'with' use above roughly equivalent to:\n",
    "\n",
    "f = open(path, 'r')\n",
    "f.__enter__()\n",
    "try:\n",
    "    f.read()\n",
    "finally:\n",
    "    # always executed, closes the file descriptor\n",
    "    f.__exit__()\n"
   ]
  },
  {
   "cell_type": "markdown",
   "metadata": {},
   "source": [
    "# can explicitly 'raise'(or throw) an error "
   ]
  },
  {
   "cell_type": "code",
   "execution_count": 3,
   "metadata": {
    "collapsed": false
   },
   "outputs": [
    {
     "data": {
      "text/plain": [
       "3"
      ]
     },
     "execution_count": 3,
     "metadata": {},
     "output_type": "execute_result"
    }
   ],
   "source": [
    "def booboo(n):\n",
    "    if n == 0:\n",
    "        raise ValueError()\n",
    "    return n\n",
    "\n",
    "booboo(3)"
   ]
  },
  {
   "cell_type": "code",
   "execution_count": 4,
   "metadata": {
    "collapsed": false
   },
   "outputs": [
    {
     "ename": "ValueError",
     "evalue": "",
     "output_type": "error",
     "traceback": [
      "\u001b[0;31m---------------------------------------------------------------------------\u001b[0m",
      "\u001b[0;31mValueError\u001b[0m                                Traceback (most recent call last)",
      "\u001b[0;32m<ipython-input-4-a2b4d2bd4533>\u001b[0m in \u001b[0;36m<module>\u001b[0;34m()\u001b[0m\n\u001b[0;32m----> 1\u001b[0;31m \u001b[0mbooboo\u001b[0m\u001b[1;33m(\u001b[0m\u001b[1;36m0\u001b[0m\u001b[1;33m)\u001b[0m\u001b[1;33m\u001b[0m\u001b[0m\n\u001b[0m",
      "\u001b[0;32m<ipython-input-3-3956933c40e3>\u001b[0m in \u001b[0;36mbooboo\u001b[0;34m(n)\u001b[0m\n\u001b[1;32m      1\u001b[0m \u001b[1;32mdef\u001b[0m \u001b[0mbooboo\u001b[0m\u001b[1;33m(\u001b[0m\u001b[0mn\u001b[0m\u001b[1;33m)\u001b[0m\u001b[1;33m:\u001b[0m\u001b[1;33m\u001b[0m\u001b[0m\n\u001b[1;32m      2\u001b[0m     \u001b[1;32mif\u001b[0m \u001b[0mn\u001b[0m \u001b[1;33m==\u001b[0m \u001b[1;36m0\u001b[0m\u001b[1;33m:\u001b[0m\u001b[1;33m\u001b[0m\u001b[0m\n\u001b[0;32m----> 3\u001b[0;31m         \u001b[1;32mraise\u001b[0m \u001b[0mValueError\u001b[0m\u001b[1;33m(\u001b[0m\u001b[1;33m)\u001b[0m\u001b[1;33m\u001b[0m\u001b[0m\n\u001b[0m\u001b[1;32m      4\u001b[0m     \u001b[1;32mreturn\u001b[0m \u001b[0mn\u001b[0m\u001b[1;33m\u001b[0m\u001b[0m\n\u001b[1;32m      5\u001b[0m \u001b[1;33m\u001b[0m\u001b[0m\n",
      "\u001b[0;31mValueError\u001b[0m: "
     ]
    }
   ],
   "source": [
    "booboo(0)"
   ]
  },
  {
   "cell_type": "markdown",
   "metadata": {},
   "source": [
    "# call stack frames display\n",
    "- shows context of error\n",
    "- very useful for debugging\n",
    "- note: the most recent call frame is printed last"
   ]
  },
  {
   "cell_type": "code",
   "execution_count": null,
   "metadata": {
    "collapsed": false
   },
   "outputs": [],
   "source": [
    "def foo(n):\n",
    "    bar(1)\n",
    "\n",
    "def bar(n):\n",
    "    zap(2)\n",
    "\n",
    "def zap(n):\n",
    "    zip(3)\n",
    "    \n",
    "def zip(n):\n",
    "    raise Exception()\n",
    "\n",
    "foo(10)"
   ]
  },
  {
   "cell_type": "markdown",
   "metadata": {},
   "source": [
    "# can define custom error object\n",
    "- usually inherit from 'Exception'"
   ]
  },
  {
   "cell_type": "code",
   "execution_count": null,
   "metadata": {
    "collapsed": false
   },
   "outputs": [],
   "source": [
    "class missedSecret(Exception):\n",
    "    def __init__(self, secret, guess):\n",
    "        self.secret = secret\n",
    "        self.guess = guess\n",
    "    \n",
    "def guessSecret(guess):\n",
    "    secret = 1234\n",
    "    if guess != secret:\n",
    "        raise missedSecret(secret, guess)\n",
    "    return 'guess is correct'\n",
    "    \n",
    "guessSecret(1234)"
   ]
  },
  {
   "cell_type": "code",
   "execution_count": null,
   "metadata": {
    "collapsed": false,
    "scrolled": true
   },
   "outputs": [],
   "source": [
    "guessSecret(34)"
   ]
  },
  {
   "cell_type": "markdown",
   "metadata": {},
   "source": [
    "# can get error object and examine it\n",
    "- info in error object might help decide how to handle the error"
   ]
  },
  {
   "cell_type": "code",
   "execution_count": null,
   "metadata": {
    "collapsed": false
   },
   "outputs": [],
   "source": [
    "try:\n",
    "    guessSecret(12)\n",
    "except missedSecret as ms:\n",
    "    # ms will be bound to the error object\n",
    "    print('secret={} guess={}'.format(ms.secret, ms.guess))"
   ]
  },
  {
   "cell_type": "markdown",
   "metadata": {},
   "source": [
    "# when an error is raised, Python will search the call stack for an error handler\n",
    "- Python checks the current stack frame for a handler, then checks each\n",
    "older frame in turn\n",
    "- if no handler is found, the error is printed by the top level(and your program dies)"
   ]
  },
  {
   "cell_type": "code",
   "execution_count": null,
   "metadata": {
    "collapsed": false
   },
   "outputs": [],
   "source": [
    "# no error handler in 'bar', so look in caller, 'foo',\n",
    "# which does have one.\n",
    "\n",
    "def foo():\n",
    "    try:\n",
    "        bar()\n",
    "    except Exception as e:\n",
    "        print('caught in foo:', e)\n",
    "    \n",
    "def bar():\n",
    "    a,b = 0,1\n",
    "    # error raised here\n",
    "    b/a\n",
    "\n",
    "foo()"
   ]
  },
  {
   "cell_type": "code",
   "execution_count": null,
   "metadata": {
    "collapsed": false
   },
   "outputs": [],
   "source": [
    "# 'bar' has a handler, so error is caught there\n",
    "\n",
    "def foo():\n",
    "    try:\n",
    "        bar()\n",
    "    except Exception as e:\n",
    "        print('caught in foo:', e)\n",
    "    \n",
    "def bar():\n",
    "    a,b = 0,1\n",
    "    try:\n",
    "        b/a\n",
    "    except Exception as e:\n",
    "        print('caught in bar:', e)\n",
    "\n",
    "foo()"
   ]
  },
  {
   "cell_type": "code",
   "execution_count": null,
   "metadata": {
    "collapsed": false
   },
   "outputs": [],
   "source": [
    "# both 'foo' and 'bar' have handlers, but\n",
    "# neither is the right type, so the error\n",
    "# is NOT caught\n",
    "\n",
    "def foo():\n",
    "    try:\n",
    "        bar()\n",
    "    except FileNotFoundError as e:\n",
    "        print('caught in foo:', e)\n",
    "    \n",
    "def bar():\n",
    "    a,b = 0,1\n",
    "    try:\n",
    "        b/a\n",
    "    except ValueError as e:\n",
    "        print('caught in bar', e)\n",
    "\n",
    "foo()"
   ]
  },
  {
   "cell_type": "markdown",
   "metadata": {},
   "source": [
    "# Complex error example\n",
    "- you can ignore this if you wish"
   ]
  },
  {
   "cell_type": "code",
   "execution_count": null,
   "metadata": {
    "collapsed": true
   },
   "outputs": [],
   "source": [
    "def tc(b, f):\n",
    "    if b:\n",
    "        try:\n",
    "            return tc2(f)\n",
    "        # usually a good idea to catch\n",
    "        # Exception at top level\n",
    "        except Exception as e:\n",
    "            print('tc: caught {}'.format(e))\n",
    "    else:\n",
    "        try:\n",
    "            return tc2(f)\n",
    "        except OSError as os:\n",
    "            print('tc: caught {}'.format(os))  \n",
    "\n",
    "def tc2(f):\n",
    "    try:\n",
    "        return tc3(f)\n",
    "    # can catch any number of error types\n",
    "    # in a single try\n",
    "    except FileNotFoundError as fe:\n",
    "        print('tc2: caught {}'.format(fe))\n",
    "    except MemoryError as me:\n",
    "        print('tc2: caught {}'.format(me))\n",
    "    \n",
    "def tc3(f):\n",
    "    try:\n",
    "        return f()\n",
    "    except ArithmeticError as ae:\n",
    "        print('tc3: caught {}'.format(ae))  \n",
    "    \n",
    "def noproblem():\n",
    "    a = 5/4\n",
    "    return a\n",
    "    \n",
    "def dbz2():\n",
    "    try: \n",
    "        c = 1/0\n",
    "        return c\n",
    "    except ZeroDivisionError as z:\n",
    "        print('dbz: caught {}'.format(z))\n",
    "        \n",
    "def dbz3():\n",
    "    a = 1/0\n",
    "    return a\n",
    "    \n",
    "def si():\n",
    "    raise StopIteration\n",
    "    \n",
    "def fnf():\n",
    "    # can put useful information about \n",
    "    # the error into the error object\n",
    "    raise FileNotFoundError('/tmp/foo')\n",
    "\n",
    "def me():\n",
    "    raise MemoryError"
   ]
  },
  {
   "cell_type": "code",
   "execution_count": null,
   "metadata": {
    "collapsed": false
   },
   "outputs": [],
   "source": [
    "# should run fine, and not generate an error\n",
    "\n",
    "tc(1, noproblem)"
   ]
  },
  {
   "cell_type": "code",
   "execution_count": null,
   "metadata": {
    "collapsed": false
   },
   "outputs": [],
   "source": [
    "#  caught the error it generated, inside dbz2\n",
    "\n",
    "tc(1, dbz2)"
   ]
  },
  {
   "cell_type": "code",
   "execution_count": null,
   "metadata": {
    "collapsed": false
   },
   "outputs": [],
   "source": [
    "# no handler in dbz3\n",
    "# caught by handler in tc3\n",
    "\n",
    "tc(1, dbz3)"
   ]
  },
  {
   "cell_type": "code",
   "execution_count": null,
   "metadata": {
    "collapsed": false
   },
   "outputs": [],
   "source": [
    "# caught in 'tc' Exception handler\n",
    "\n",
    "tc(1, si)"
   ]
  },
  {
   "cell_type": "code",
   "execution_count": null,
   "metadata": {
    "collapsed": false
   },
   "outputs": [],
   "source": [
    "# no handler on the call stack\n",
    "# top level prints stack trace, \n",
    "# and your program crashes\n",
    "\n",
    "tc(0, si)"
   ]
  }
 ],
 "metadata": {
  "anaconda-cloud": {},
  "kernelspec": {
   "display_name": "Python [conda root]",
   "language": "python",
   "name": "conda-root-py"
  },
  "language_info": {
   "codemirror_mode": {
    "name": "ipython",
    "version": 3
   },
   "file_extension": ".py",
   "mimetype": "text/x-python",
   "name": "python",
   "nbconvert_exporter": "python",
   "pygments_lexer": "ipython3",
   "version": "3.5.2"
  }
 },
 "nbformat": 4,
 "nbformat_minor": 0
}
