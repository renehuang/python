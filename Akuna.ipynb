{
 "cells": [
  {
   "cell_type": "code",
   "execution_count": 11,
   "metadata": {
    "collapsed": true
   },
   "outputs": [],
   "source": [
    "def lampoff(grid_width, grid_height, conn_x1, conn_y1, conn_x2, conn_y2, start_x, start_y):\n",
    "    w,h = grid_width, grid_height\n",
    "    Matrix=[[1 for y in range(h)]for x in range(w)]\n",
    "    \n",
    "    print(Matrix[4][2])\n",
    "    \n",
    "    Matrix[start_x][start_y]=0\n",
    "    \n",
    "    while (start_x)\n",
    "    \n",
    "    if (start_x+conn_x1>=0) and (start_x+conn_x1<=grid_width-1) and (start_y+conn_y1>=0) and (start_y+conn_y1<=grid_width-1):\n",
    "        Matrix[start_x+conn_x1][start_y+conn_y1]=0\n",
    "    if (start_x+conn_x2>=0) and (start_x+conn_x2<=grid_width-1) and (start_y+conn_y2>=0) and (start_y+conn_y2<=grid_width-1):\n",
    "        Matrix[start_x+conn_x2][start_y+conn_y2]=0\n",
    "    if ((start_x+conn_x1<0) or (start_x+conn_x1>grid_width-1) or (start_y+conn_y1<0) or (start_y+conn_y1>grid_width-1)) and ((start_x+conn_x2<0) or (start_x+conn_x2>grid_width-1) or (start_y+conn_y2<0) or (start_y+conn_y2>grid_width-1)):\n",
    "        return\n",
    "    \n",
    "    return (sum(Matrix))"
   ]
  },
  {
   "cell_type": "code",
   "execution_count": 12,
   "metadata": {
    "collapsed": false
   },
   "outputs": [
    {
     "name": "stdout",
     "output_type": "stream",
     "text": [
      "1\n",
      "1\n",
      "1\n",
      "1\n",
      "1\n",
      "1\n"
     ]
    },
    {
     "ename": "TypeError",
     "evalue": "unsupported operand type(s) for +: 'int' and 'list'",
     "output_type": "error",
     "traceback": [
      "\u001b[0;31m---------------------------------------------------------------------------\u001b[0m",
      "\u001b[0;31mTypeError\u001b[0m                                 Traceback (most recent call last)",
      "\u001b[0;32m<ipython-input-12-c60227006b53>\u001b[0m in \u001b[0;36m<module>\u001b[0;34m()\u001b[0m\n\u001b[0;32m----> 1\u001b[0;31m \u001b[0mlampoff\u001b[0m\u001b[1;33m(\u001b[0m\u001b[1;36m5\u001b[0m\u001b[1;33m,\u001b[0m\u001b[1;36m3\u001b[0m\u001b[1;33m,\u001b[0m\u001b[1;33m-\u001b[0m\u001b[1;36m1\u001b[0m\u001b[1;33m,\u001b[0m\u001b[1;36m0\u001b[0m\u001b[1;33m,\u001b[0m\u001b[1;33m-\u001b[0m\u001b[1;36m1\u001b[0m\u001b[1;33m,\u001b[0m\u001b[1;33m-\u001b[0m\u001b[1;36m1\u001b[0m\u001b[1;33m,\u001b[0m\u001b[1;36m4\u001b[0m\u001b[1;33m,\u001b[0m\u001b[1;36m2\u001b[0m\u001b[1;33m)\u001b[0m\u001b[1;33m\u001b[0m\u001b[0m\n\u001b[0m",
      "\u001b[0;32m<ipython-input-11-bec53cf1e7da>\u001b[0m in \u001b[0;36mlampoff\u001b[0;34m(grid_width, grid_height, conn_x1, conn_y1, conn_x2, conn_y2, start_x, start_y)\u001b[0m\n\u001b[1;32m     16\u001b[0m         \u001b[1;32mreturn\u001b[0m\u001b[1;33m\u001b[0m\u001b[0m\n\u001b[1;32m     17\u001b[0m \u001b[1;33m\u001b[0m\u001b[0m\n\u001b[0;32m---> 18\u001b[0;31m     \u001b[0mlampoff\u001b[0m\u001b[1;33m(\u001b[0m\u001b[0mgrid_width\u001b[0m\u001b[1;33m,\u001b[0m \u001b[0mgrid_height\u001b[0m\u001b[1;33m,\u001b[0m \u001b[0mconn_x1\u001b[0m\u001b[1;33m,\u001b[0m \u001b[0mconn_y1\u001b[0m\u001b[1;33m,\u001b[0m \u001b[0mconn_x2\u001b[0m\u001b[1;33m,\u001b[0m \u001b[0mconn_y2\u001b[0m\u001b[1;33m,\u001b[0m \u001b[0mstart_x\u001b[0m\u001b[1;33m+\u001b[0m\u001b[0mconn_x1\u001b[0m\u001b[1;33m,\u001b[0m \u001b[0mstart_y\u001b[0m\u001b[1;33m+\u001b[0m\u001b[0mconn_y1\u001b[0m\u001b[1;33m)\u001b[0m\u001b[1;33m\u001b[0m\u001b[0m\n\u001b[0m\u001b[1;32m     19\u001b[0m     \u001b[0mlampoff\u001b[0m\u001b[1;33m(\u001b[0m\u001b[0mgrid_width\u001b[0m\u001b[1;33m,\u001b[0m \u001b[0mgrid_height\u001b[0m\u001b[1;33m,\u001b[0m \u001b[0mconn_x1\u001b[0m\u001b[1;33m,\u001b[0m \u001b[0mconn_y1\u001b[0m\u001b[1;33m,\u001b[0m \u001b[0mconn_x2\u001b[0m\u001b[1;33m,\u001b[0m \u001b[0mconn_y2\u001b[0m\u001b[1;33m,\u001b[0m \u001b[0mstart_x\u001b[0m\u001b[1;33m+\u001b[0m\u001b[0mconn_x2\u001b[0m\u001b[1;33m,\u001b[0m \u001b[0mstart_y\u001b[0m\u001b[1;33m+\u001b[0m\u001b[0mconn_y2\u001b[0m\u001b[1;33m)\u001b[0m\u001b[1;33m\u001b[0m\u001b[0m\n\u001b[1;32m     20\u001b[0m \u001b[1;33m\u001b[0m\u001b[0m\n",
      "\u001b[0;32m<ipython-input-11-bec53cf1e7da>\u001b[0m in \u001b[0;36mlampoff\u001b[0;34m(grid_width, grid_height, conn_x1, conn_y1, conn_x2, conn_y2, start_x, start_y)\u001b[0m\n\u001b[1;32m     16\u001b[0m         \u001b[1;32mreturn\u001b[0m\u001b[1;33m\u001b[0m\u001b[0m\n\u001b[1;32m     17\u001b[0m \u001b[1;33m\u001b[0m\u001b[0m\n\u001b[0;32m---> 18\u001b[0;31m     \u001b[0mlampoff\u001b[0m\u001b[1;33m(\u001b[0m\u001b[0mgrid_width\u001b[0m\u001b[1;33m,\u001b[0m \u001b[0mgrid_height\u001b[0m\u001b[1;33m,\u001b[0m \u001b[0mconn_x1\u001b[0m\u001b[1;33m,\u001b[0m \u001b[0mconn_y1\u001b[0m\u001b[1;33m,\u001b[0m \u001b[0mconn_x2\u001b[0m\u001b[1;33m,\u001b[0m \u001b[0mconn_y2\u001b[0m\u001b[1;33m,\u001b[0m \u001b[0mstart_x\u001b[0m\u001b[1;33m+\u001b[0m\u001b[0mconn_x1\u001b[0m\u001b[1;33m,\u001b[0m \u001b[0mstart_y\u001b[0m\u001b[1;33m+\u001b[0m\u001b[0mconn_y1\u001b[0m\u001b[1;33m)\u001b[0m\u001b[1;33m\u001b[0m\u001b[0m\n\u001b[0m\u001b[1;32m     19\u001b[0m     \u001b[0mlampoff\u001b[0m\u001b[1;33m(\u001b[0m\u001b[0mgrid_width\u001b[0m\u001b[1;33m,\u001b[0m \u001b[0mgrid_height\u001b[0m\u001b[1;33m,\u001b[0m \u001b[0mconn_x1\u001b[0m\u001b[1;33m,\u001b[0m \u001b[0mconn_y1\u001b[0m\u001b[1;33m,\u001b[0m \u001b[0mconn_x2\u001b[0m\u001b[1;33m,\u001b[0m \u001b[0mconn_y2\u001b[0m\u001b[1;33m,\u001b[0m \u001b[0mstart_x\u001b[0m\u001b[1;33m+\u001b[0m\u001b[0mconn_x2\u001b[0m\u001b[1;33m,\u001b[0m \u001b[0mstart_y\u001b[0m\u001b[1;33m+\u001b[0m\u001b[0mconn_y2\u001b[0m\u001b[1;33m)\u001b[0m\u001b[1;33m\u001b[0m\u001b[0m\n\u001b[1;32m     20\u001b[0m \u001b[1;33m\u001b[0m\u001b[0m\n",
      "\u001b[0;32m<ipython-input-11-bec53cf1e7da>\u001b[0m in \u001b[0;36mlampoff\u001b[0;34m(grid_width, grid_height, conn_x1, conn_y1, conn_x2, conn_y2, start_x, start_y)\u001b[0m\n\u001b[1;32m     16\u001b[0m         \u001b[1;32mreturn\u001b[0m\u001b[1;33m\u001b[0m\u001b[0m\n\u001b[1;32m     17\u001b[0m \u001b[1;33m\u001b[0m\u001b[0m\n\u001b[0;32m---> 18\u001b[0;31m     \u001b[0mlampoff\u001b[0m\u001b[1;33m(\u001b[0m\u001b[0mgrid_width\u001b[0m\u001b[1;33m,\u001b[0m \u001b[0mgrid_height\u001b[0m\u001b[1;33m,\u001b[0m \u001b[0mconn_x1\u001b[0m\u001b[1;33m,\u001b[0m \u001b[0mconn_y1\u001b[0m\u001b[1;33m,\u001b[0m \u001b[0mconn_x2\u001b[0m\u001b[1;33m,\u001b[0m \u001b[0mconn_y2\u001b[0m\u001b[1;33m,\u001b[0m \u001b[0mstart_x\u001b[0m\u001b[1;33m+\u001b[0m\u001b[0mconn_x1\u001b[0m\u001b[1;33m,\u001b[0m \u001b[0mstart_y\u001b[0m\u001b[1;33m+\u001b[0m\u001b[0mconn_y1\u001b[0m\u001b[1;33m)\u001b[0m\u001b[1;33m\u001b[0m\u001b[0m\n\u001b[0m\u001b[1;32m     19\u001b[0m     \u001b[0mlampoff\u001b[0m\u001b[1;33m(\u001b[0m\u001b[0mgrid_width\u001b[0m\u001b[1;33m,\u001b[0m \u001b[0mgrid_height\u001b[0m\u001b[1;33m,\u001b[0m \u001b[0mconn_x1\u001b[0m\u001b[1;33m,\u001b[0m \u001b[0mconn_y1\u001b[0m\u001b[1;33m,\u001b[0m \u001b[0mconn_x2\u001b[0m\u001b[1;33m,\u001b[0m \u001b[0mconn_y2\u001b[0m\u001b[1;33m,\u001b[0m \u001b[0mstart_x\u001b[0m\u001b[1;33m+\u001b[0m\u001b[0mconn_x2\u001b[0m\u001b[1;33m,\u001b[0m \u001b[0mstart_y\u001b[0m\u001b[1;33m+\u001b[0m\u001b[0mconn_y2\u001b[0m\u001b[1;33m)\u001b[0m\u001b[1;33m\u001b[0m\u001b[0m\n\u001b[1;32m     20\u001b[0m \u001b[1;33m\u001b[0m\u001b[0m\n",
      "\u001b[0;32m<ipython-input-11-bec53cf1e7da>\u001b[0m in \u001b[0;36mlampoff\u001b[0;34m(grid_width, grid_height, conn_x1, conn_y1, conn_x2, conn_y2, start_x, start_y)\u001b[0m\n\u001b[1;32m     19\u001b[0m     \u001b[0mlampoff\u001b[0m\u001b[1;33m(\u001b[0m\u001b[0mgrid_width\u001b[0m\u001b[1;33m,\u001b[0m \u001b[0mgrid_height\u001b[0m\u001b[1;33m,\u001b[0m \u001b[0mconn_x1\u001b[0m\u001b[1;33m,\u001b[0m \u001b[0mconn_y1\u001b[0m\u001b[1;33m,\u001b[0m \u001b[0mconn_x2\u001b[0m\u001b[1;33m,\u001b[0m \u001b[0mconn_y2\u001b[0m\u001b[1;33m,\u001b[0m \u001b[0mstart_x\u001b[0m\u001b[1;33m+\u001b[0m\u001b[0mconn_x2\u001b[0m\u001b[1;33m,\u001b[0m \u001b[0mstart_y\u001b[0m\u001b[1;33m+\u001b[0m\u001b[0mconn_y2\u001b[0m\u001b[1;33m)\u001b[0m\u001b[1;33m\u001b[0m\u001b[0m\n\u001b[1;32m     20\u001b[0m \u001b[1;33m\u001b[0m\u001b[0m\n\u001b[0;32m---> 21\u001b[0;31m     \u001b[1;32mreturn\u001b[0m \u001b[1;33m(\u001b[0m\u001b[0msum\u001b[0m\u001b[1;33m(\u001b[0m\u001b[0mMatrix\u001b[0m\u001b[1;33m)\u001b[0m\u001b[1;33m)\u001b[0m\u001b[1;33m\u001b[0m\u001b[0m\n\u001b[0m",
      "\u001b[0;31mTypeError\u001b[0m: unsupported operand type(s) for +: 'int' and 'list'"
     ]
    }
   ],
   "source": [
    "lampoff(5,3,-1,0,-1,-1,4,2)"
   ]
  },
  {
   "cell_type": "code",
   "execution_count": 63,
   "metadata": {
    "collapsed": true
   },
   "outputs": [],
   "source": [
    "def turnlamp(grid_width, grid_height, conn_x1, conn_y1, conn_x2, conn_y2, start_x, start_y):\n",
    "    w,h = grid_width, grid_height\n",
    "    Matrix=[[1 for x in range(w)]for y in range(h)]\n",
    "    bfs=[]\n",
    "    visited = [[0 for x in range(w)]for y in range(h)]\n",
    "    \n",
    "    if(start_x>=0) and (start_x<=w-1) and (start_y>=0) and (start_y<=h-1):\n",
    "        bfs.append([start_y, start_x])\n",
    "    \n",
    "    while(len(bfs)!=0):\n",
    "        start = bfs[0]        \n",
    "        Matrix[start[0]][start[1]]=0\n",
    "        visited[start[0]][start[1]]=1\n",
    "#        print(bfs)\n",
    "#        print(np.matrix(Matrix))\n",
    "        \n",
    "        if(start[0]+conn_y1>=0) and (start[0]+conn_y1<=h-1) and (start[1]+conn_x1>=0) and (start[1]+conn_x1<=w-1):\n",
    "            if not (visited[start[0]+conn_y1][start[1]+conn_x1]):\n",
    "                bfs.append([start[0]+conn_y1, start[1]+conn_x1])\n",
    "        if(start[0]+conn_y2>=0) and (start[0]+conn_y2<=h-1) and (start[1]+conn_x2>=0) and (start[1]+conn_x2<=w-1):\n",
    "            if not (visited[start[0]+conn_y2][start[1]+conn_x2]):\n",
    "                bfs.append([start[0]+conn_y2, start[1]+conn_x2])\n",
    "        del bfs[0]\n",
    "    \n",
    "#    print(np.matrix(Matrix))\n",
    "    \n",
    "    return (sum(map(sum,Matrix)))"
   ]
  },
  {
   "cell_type": "code",
   "execution_count": 64,
   "metadata": {
    "collapsed": false
   },
   "outputs": [
    {
     "data": {
      "text/plain": [
       "3"
      ]
     },
     "execution_count": 64,
     "metadata": {},
     "output_type": "execute_result"
    }
   ],
   "source": [
    "turnlamp(5,3,-1,0,-1,-1,4,2)"
   ]
  },
  {
   "cell_type": "code",
   "execution_count": 65,
   "metadata": {
    "collapsed": false
   },
   "outputs": [
    {
     "data": {
      "text/plain": [
       "1"
      ]
     },
     "execution_count": 65,
     "metadata": {},
     "output_type": "execute_result"
    }
   ],
   "source": [
    "turnlamp(1,1,-1,-1,-1,-1,2,2)"
   ]
  },
  {
   "cell_type": "code",
   "execution_count": 38,
   "metadata": {
    "collapsed": false
   },
   "outputs": [],
   "source": [
    "def wut(grid_width, grid_height, conn_x1, conn_y1, conn_x2, conn_y2, start_x, start_y):\n",
    "    w,h = grid_width, grid_height\n",
    "    bfs = [[start_y, start_x]]\n",
    "    start = bfs[0]\n",
    "    hi=((start[0]+conn_y1>=0) and (start[0]+conn_y1<=h-1) and (start[1]+conn_x1>=0) and (start[1]-conn_x1<=w-1))\n",
    "    return hi"
   ]
  },
  {
   "cell_type": "code",
   "execution_count": 39,
   "metadata": {
    "collapsed": false
   },
   "outputs": [
    {
     "data": {
      "text/plain": [
       "True"
      ]
     },
     "execution_count": 39,
     "metadata": {},
     "output_type": "execute_result"
    }
   ],
   "source": [
    "wut(5,3,-1,0,-1,-1,4,2)"
   ]
  },
  {
   "cell_type": "code",
   "execution_count": 50,
   "metadata": {
    "collapsed": true
   },
   "outputs": [],
   "source": [
    "def fairprice(n):\n",
    "    expect = 3.5\n",
    "    toss = [1,2,3,4,5,6]\n",
    "    \n",
    "    while (n>1):\n",
    "        expect = (expect * int(expect) + (int(expect)+7)*(6-int(expect))/2)/6\n",
    "        n-=1\n",
    "    \n",
    "    return expect"
   ]
  },
  {
   "cell_type": "code",
   "execution_count": 51,
   "metadata": {
    "collapsed": false
   },
   "outputs": [
    {
     "data": {
      "text/plain": [
       "4.666666666666667"
      ]
     },
     "execution_count": 51,
     "metadata": {},
     "output_type": "execute_result"
    }
   ],
   "source": [
    "fairprice(3)"
   ]
  },
  {
   "cell_type": "code",
   "execution_count": null,
   "metadata": {
    "collapsed": true
   },
   "outputs": [],
   "source": []
  }
 ],
 "metadata": {
  "anaconda-cloud": {},
  "kernelspec": {
   "display_name": "Python [conda root]",
   "language": "python",
   "name": "conda-root-py"
  },
  "language_info": {
   "codemirror_mode": {
    "name": "ipython",
    "version": 3
   },
   "file_extension": ".py",
   "mimetype": "text/x-python",
   "name": "python",
   "nbconvert_exporter": "python",
   "pygments_lexer": "ipython3",
   "version": "3.5.2"
  }
 },
 "nbformat": 4,
 "nbformat_minor": 1
}
