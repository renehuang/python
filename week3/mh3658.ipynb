{
 "cells": [
  {
   "cell_type": "markdown",
   "metadata": {},
   "source": [
    "# Introduction to Python\n",
    "# Homework #3\n",
    "\n",
    "- Mengyu Huang   \n",
    "- UNI: mh3658"
   ]
  },
  {
   "cell_type": "markdown",
   "metadata": {},
   "source": [
    "# Problem 1a - decimals\n",
    "- define a 'decimals' generator function, that 'generates' the decimal digits of 1/n, where n is an integer greater than 1\n",
    "- if the decimal expansion terminates, like 1/8 = .125, the generator should terminate. otherwise, like for 1/3=.333..., the generator should never stop\n",
    "- use long division to compute the expansion - it is very simple"
   ]
  },
  {
   "cell_type": "code",
   "execution_count": 3,
   "metadata": {
    "collapsed": true
   },
   "outputs": [],
   "source": [
    "def decimals(n):\n",
    "    r = 1\n",
    "    while (r != 0):\n",
    "        r*=10\n",
    "        q,r=divmod(r,n)\n",
    "        yield (q)"
   ]
  },
  {
   "cell_type": "code",
   "execution_count": 3,
   "metadata": {
    "collapsed": false
   },
   "outputs": [
    {
     "data": {
      "text/plain": [
       "[1, 2, 5]"
      ]
     },
     "execution_count": 3,
     "metadata": {},
     "output_type": "execute_result"
    }
   ],
   "source": [
    "# finite generator\n",
    "\n",
    "list(decimals(8))"
   ]
  },
  {
   "cell_type": "code",
   "execution_count": 4,
   "metadata": {
    "collapsed": false
   },
   "outputs": [
    {
     "data": {
      "text/plain": [
       "[3, 3, 3, 3]"
      ]
     },
     "execution_count": 4,
     "metadata": {},
     "output_type": "execute_result"
    }
   ],
   "source": [
    "# infinite generator\n",
    "# can't call 'list' on it\n",
    "\n",
    "g = decimals(3)\n",
    "[next(g), next(g), next(g), next(g)]"
   ]
  },
  {
   "cell_type": "markdown",
   "metadata": {},
   "source": [
    "# Problem 1b - genlimit\n",
    "- define 'genlimit(g, limit)', which generates at most 'limit' number of values from a generator 'g'"
   ]
  },
  {
   "cell_type": "code",
   "execution_count": 10,
   "metadata": {
    "collapsed": false
   },
   "outputs": [],
   "source": [
    "def genlimit(g, limit):\n",
    "    count =0\n",
    "    while(count<limit):\n",
    "        count+=1\n",
    "        yield(next(g))\n"
   ]
  },
  {
   "cell_type": "code",
   "execution_count": 11,
   "metadata": {
    "collapsed": false
   },
   "outputs": [
    {
     "data": {
      "text/plain": [
       "[1, 2, 5]"
      ]
     },
     "execution_count": 11,
     "metadata": {},
     "output_type": "execute_result"
    }
   ],
   "source": [
    "list(genlimit(decimals(8), 5))"
   ]
  },
  {
   "cell_type": "code",
   "execution_count": 12,
   "metadata": {
    "collapsed": false
   },
   "outputs": [
    {
     "data": {
      "text/plain": [
       "[3, 3, 3, 3, 3]"
      ]
     },
     "execution_count": 12,
     "metadata": {},
     "output_type": "execute_result"
    }
   ],
   "source": [
    "list(genlimit(decimals(3), 5))"
   ]
  },
  {
   "cell_type": "code",
   "execution_count": 13,
   "metadata": {
    "collapsed": false
   },
   "outputs": [
    {
     "data": {
      "text/plain": [
       "[0, 1, 2]"
      ]
     },
     "execution_count": 13,
     "metadata": {},
     "output_type": "execute_result"
    }
   ],
   "source": [
    "# works with any interator\n",
    "\n",
    "list(genlimit(iter(range(30)), 3))"
   ]
  },
  {
   "cell_type": "markdown",
   "metadata": {
    "collapsed": true
   },
   "source": [
    "# Problem 2 - Deal With Repeated Decimals\n",
    "- genlimit is useful, but never sure what we're missing with an arbitrary limit\n",
    "- since 1/n is a rational number, its decimal expansion must eventually repeat(unlike irrational numbers like PI)\n",
    "- write 'decimals2', a variant of 'decimals' \n",
    "- if the decimal expansion is finite, it should just return the finite set of digits\n",
    "- if the decimal expansion repeats, it should return the digits up to the point it starts repeating. then the final yield should be a list of the repeating sequence of digits\n",
    "- hint - keep a list, 'seen', of the [quotient, remainder] pairs as you generate digits. if you generate a new pair that is already in 'seen', you know you have started to repeat. \n"
   ]
  },
  {
   "cell_type": "code",
   "execution_count": 43,
   "metadata": {
    "collapsed": false
   },
   "outputs": [],
   "source": [
    "# not correct for 1/15\n",
    "\n",
    "def decimals2(n):\n",
    "    r = 1\n",
    "    seen=[]\n",
    "    while (r != 0):\n",
    "        r*=10\n",
    "        q,r=divmod(r,n)\n",
    "        if [q,r] not in seen:\n",
    "            seen.append([q,r])\n",
    "        else:\n",
    "            rep=[]\n",
    "            for i in range(seen.index([q,r]),len(seen)):\n",
    "                rep.append(seen[i][0])\n",
    "            yield rep\n",
    "            return\n",
    "        yield (q)"
   ]
  },
  {
   "cell_type": "code",
   "execution_count": 44,
   "metadata": {
    "collapsed": false
   },
   "outputs": [
    {
     "name": "stdout",
     "output_type": "stream",
     "text": [
      "   Expansion of 1/3:\n",
      "[3, [3]]\n",
      "   Expansion of 1/5:\n",
      "[2]\n",
      "   Expansion of 1/7:\n",
      "[1, 4, 2, 8, 5, 7, [1, 4, 2, 8, 5, 7]]\n",
      "   Expansion of 1/9:\n",
      "[1, [1]]\n",
      "   Expansion of 1/11:\n",
      "[0, 9, [0, 9]]\n",
      "   Expansion of 1/13:\n",
      "[0, 7, 6, 9, 2, 3, [0, 7, 6, 9, 2, 3]]\n",
      "   Expansion of 1/15:\n",
      "[0, 6, [6]]\n",
      "   Expansion of 1/17:\n",
      "[0, 5, 8, 8, 2, 3, 5, 2, 9, 4, 1, 1, 7, 6, 4, 7, [0, 5, 8, 8, 2, 3, 5, 2, 9, 4,\n",
      "1, 1, 7, 6, 4, 7]]\n",
      "   Expansion of 1/19:\n",
      "[0, 5, 2, 6, 3, 1, 5, 7, 8, 9, 4, 7, 3, 6, 8, 4, 2, 1, [0, 5, 2, 6, 3, 1, 5, 7,\n",
      "8, 9, 4, 7, 3, 6, 8, 4, 2, 1]]\n",
      "   Expansion of 1/21:\n",
      "[0, 4, 7, 6, 1, 9, [0, 4, 7, 6, 1, 9]]\n",
      "   Expansion of 1/23:\n",
      "[0, 4, 3, 4, 7, 8, 2, 6, 0, 8, 6, 9, 5, 6, 5, 2, 1, 7, 3, 9, 1, 3, [0, 4, 3, 4,\n",
      "7, 8, 2, 6, 0, 8, 6, 9, 5, 6, 5, 2, 1, 7, 3, 9, 1, 3]]\n",
      "   Expansion of 1/25:\n",
      "[0, 4]\n",
      "   Expansion of 1/27:\n",
      "[0, 3, 7, [0, 3, 7]]\n",
      "   Expansion of 1/29:\n",
      "[0, 3, 4, 4, 8, 2, 7, 5, 8, 6, 2, 0, 6, 8, 9, 6, 5, 5, 1, 7, 2, 4, 1, 3, 7, 9,\n",
      "3, 1, [0, 3, 4, 4, 8, 2, 7, 5, 8, 6, 2, 0, 6, 8, 9, 6, 5, 5, 1, 7, 2, 4, 1, 3,\n",
      "7, 9, 3, 1]]\n"
     ]
    }
   ],
   "source": [
    "import textwrap\n",
    "\n",
    "for j in range(3,30,2): \n",
    "    d = list(decimals2(j))\n",
    "    print('   Expansion of 1/' + str(j) + ':')\n",
    "    # hack needed because lines don't wrap in pdf version\n",
    "    print( textwrap.fill(str(d), 80))\n"
   ]
  },
  {
   "cell_type": "markdown",
   "metadata": {},
   "source": [
    "# Problem 3a - select\n",
    "- define a function 'select(input, selectors)', where 'input' and 'selectors' lists are the same length\n",
    "- 'select' returns a new list which consists of the elements of input that have a True value in the corresponding selectors element\n",
    "- remember 'generalized booleans'"
   ]
  },
  {
   "cell_type": "code",
   "execution_count": 6,
   "metadata": {
    "collapsed": true
   },
   "outputs": [],
   "source": [
    "# is that okay to use input as a input variable name?\n",
    "def select(input, selectors):\n",
    "    output=[]\n",
    "    for inp, sel in zip(input, selectors):\n",
    "        if sel:\n",
    "            output.append(inp)\n",
    "\n",
    "    return output\n",
    "            "
   ]
  },
  {
   "cell_type": "code",
   "execution_count": 7,
   "metadata": {
    "collapsed": false
   },
   "outputs": [
    {
     "data": {
      "text/plain": [
       "[1, 3, 4, 6]"
      ]
     },
     "execution_count": 7,
     "metadata": {},
     "output_type": "execute_result"
    }
   ],
   "source": [
    "select(range(7), [0, 1, '', 'foo', True, [], [1,2]])"
   ]
  },
  {
   "cell_type": "code",
   "execution_count": 4,
   "metadata": {
    "collapsed": false
   },
   "outputs": [
    {
     "data": {
      "text/plain": [
       "[6]"
      ]
     },
     "execution_count": 4,
     "metadata": {},
     "output_type": "execute_result"
    }
   ],
   "source": [
    "select([x*3 for x in [4,2,1]] , [0,1,0])"
   ]
  },
  {
   "cell_type": "markdown",
   "metadata": {},
   "source": [
    "# Problem 3b - intToNDigits\n",
    "- define a function 'intToNDigits(x, n)'\n",
    "- returns a list of the digits(int 0 and 1, not strings) in a base 2 representation of 'x'\n",
    "- list must have n digits, pad with 0 on the left if needed "
   ]
  },
  {
   "cell_type": "code",
   "execution_count": 3,
   "metadata": {
    "collapsed": false
   },
   "outputs": [],
   "source": [
    "def intToNDigits(x,n):\n",
    "    \n",
    "    s=bin(x)\n",
    "    output=[]\n",
    "    for letter in s[2::]:\n",
    "        output.append(int(letter))\n",
    "    \n",
    "    if len(output)<n:\n",
    "        output=(n-len(output))*[0]+output\n",
    "\n",
    "    return output"
   ]
  },
  {
   "cell_type": "code",
   "execution_count": 4,
   "metadata": {
    "collapsed": false
   },
   "outputs": [
    {
     "data": {
      "text/plain": [
       "[[1, 1], [0, 0, 0, 0, 1, 1], [1, 0, 1, 1]]"
      ]
     },
     "execution_count": 4,
     "metadata": {},
     "output_type": "execute_result"
    }
   ],
   "source": [
    "[intToNDigits(3, 2), intToNDigits(3, 6), intToNDigits(11, 4)]"
   ]
  },
  {
   "cell_type": "markdown",
   "metadata": {},
   "source": [
    "# Problem 3c - powerSet\n",
    "- using 'select' and'intToNDigits', define a function 'powerSet(x)' that returns a list\n",
    "of all possible subsets of the elements of input list x, including the empty set and the set of all elements\n",
    "- if a set has N elements, the power set will have 2**N elements"
   ]
  },
  {
   "cell_type": "code",
   "execution_count": 8,
   "metadata": {
    "collapsed": true
   },
   "outputs": [],
   "source": [
    "def powerSet(x):\n",
    "    output=[]\n",
    "    n=len(x)\n",
    "    for i in range(2**n):\n",
    "        vec=intToNDigits(i,n)\n",
    "        output.append(set(select(x,vec)))\n",
    "    return output\n",
    "    "
   ]
  },
  {
   "cell_type": "code",
   "execution_count": 9,
   "metadata": {
    "collapsed": false
   },
   "outputs": [
    {
     "data": {
      "text/plain": [
       "[set(),\n",
       " {'butler'},\n",
       " {'math'},\n",
       " {'butler', 'math'},\n",
       " {'avery'},\n",
       " {'avery', 'butler'},\n",
       " {'avery', 'math'},\n",
       " {'avery', 'butler', 'math'}]"
      ]
     },
     "execution_count": 9,
     "metadata": {},
     "output_type": "execute_result"
    }
   ],
   "source": [
    "powerSet(['avery', 'math', 'butler'])"
   ]
  },
  {
   "cell_type": "code",
   "execution_count": 10,
   "metadata": {
    "collapsed": false
   },
   "outputs": [
    {
     "data": {
      "text/plain": [
       "[set(),\n",
       " {'dodge'},\n",
       " {'butler'},\n",
       " {'butler', 'dodge'},\n",
       " {'math'},\n",
       " {'dodge', 'math'},\n",
       " {'butler', 'math'},\n",
       " {'butler', 'dodge', 'math'},\n",
       " {'avery'},\n",
       " {'avery', 'dodge'},\n",
       " {'avery', 'butler'},\n",
       " {'avery', 'butler', 'dodge'},\n",
       " {'avery', 'math'},\n",
       " {'avery', 'dodge', 'math'},\n",
       " {'avery', 'butler', 'math'},\n",
       " {'avery', 'butler', 'dodge', 'math'}]"
      ]
     },
     "execution_count": 10,
     "metadata": {},
     "output_type": "execute_result"
    }
   ],
   "source": [
    "powerSet(['avery', 'math', 'butler', 'dodge'])"
   ]
  },
  {
   "cell_type": "code",
   "execution_count": 11,
   "metadata": {
    "collapsed": false
   },
   "outputs": [
    {
     "data": {
      "text/plain": [
       "16"
      ]
     },
     "execution_count": 11,
     "metadata": {},
     "output_type": "execute_result"
    }
   ],
   "source": [
    "len(powerSet(['avery', 'math', 'butler', 'dodge']))"
   ]
  },
  {
   "cell_type": "markdown",
   "metadata": {},
   "source": [
    "# Problem 4 - generalized dot product(dotn)\n",
    "- take the dot product of any number of lists and finite generators\n",
    "- hints - refering to functions2\n",
    "    - use the variable number of arguments format\n",
    "    - you might find it convenient to 'spread a list of args' to 'zip'\n"
   ]
  },
  {
   "cell_type": "code",
   "execution_count": 24,
   "metadata": {
    "collapsed": false
   },
   "outputs": [],
   "source": [
    "def dotn(*arg):\n",
    "    total=0\n",
    "    for i in zip(*arg):\n",
    "        prod =1\n",
    "        for num in i:\n",
    "            prod*=num\n",
    "        total+=prod\n",
    "    return total"
   ]
  },
  {
   "cell_type": "code",
   "execution_count": 25,
   "metadata": {
    "collapsed": false
   },
   "outputs": [
    {
     "data": {
      "text/plain": [
       "83"
      ]
     },
     "execution_count": 25,
     "metadata": {},
     "output_type": "execute_result"
    }
   ],
   "source": [
    "def g(s, e):\n",
    "    for j in range(s, e):\n",
    "        yield j\n",
    "\n",
    "dotn([5,3,9], g(10,12))"
   ]
  },
  {
   "cell_type": "code",
   "execution_count": 26,
   "metadata": {
    "collapsed": false
   },
   "outputs": [
    {
     "data": {
      "text/plain": [
       "65"
      ]
     },
     "execution_count": 26,
     "metadata": {},
     "output_type": "execute_result"
    }
   ],
   "source": [
    "dotn([2,3,7], g(0,3), g(2,8))"
   ]
  },
  {
   "cell_type": "markdown",
   "metadata": {},
   "source": [
    "# Problem 5a - countBases\n",
    "- define 'countBases(dna)' - returns the number of 'A', 'C', 'G', 'T' bases in a strand of DNA in a dict"
   ]
  },
  {
   "cell_type": "code",
   "execution_count": 37,
   "metadata": {
    "collapsed": true
   },
   "outputs": [],
   "source": [
    "def countBases(dna):\n",
    "    dic={}\n",
    "    dic['A']=0\n",
    "    dic['C']=0\n",
    "    dic['G']=0\n",
    "    dic['T']=0\n",
    "    \n",
    "    for elem in dna:\n",
    "        if elem in dic.keys():\n",
    "            dic[elem]+=1\n",
    "    \n",
    "    return dic"
   ]
  },
  {
   "cell_type": "code",
   "execution_count": 38,
   "metadata": {
    "collapsed": true
   },
   "outputs": [],
   "source": [
    "# dna strings use upper case letters\n",
    "\n",
    "bases = 'ACGT'\n",
    "dna = 'CATCGATATCTCTGAGTGCAC'"
   ]
  },
  {
   "cell_type": "code",
   "execution_count": 46,
   "metadata": {
    "collapsed": false
   },
   "outputs": [
    {
     "data": {
      "text/plain": [
       "{'A': 3, 'C': 1, 'G': 0, 'T': 1}"
      ]
     },
     "execution_count": 46,
     "metadata": {},
     "output_type": "execute_result"
    }
   ],
   "source": [
    "countBases('AACAT')"
   ]
  },
  {
   "cell_type": "code",
   "execution_count": 47,
   "metadata": {
    "collapsed": false
   },
   "outputs": [
    {
     "data": {
      "text/plain": [
       "{'A': 5, 'C': 6, 'G': 4, 'T': 6}"
      ]
     },
     "execution_count": 47,
     "metadata": {},
     "output_type": "execute_result"
    }
   ],
   "source": [
    "countBases(dna)"
   ]
  },
  {
   "cell_type": "markdown",
   "metadata": {},
   "source": [
    "# Problem 5b - percentBases\n",
    "- return the percentage of each base in a strand of DNA in a dict"
   ]
  },
  {
   "cell_type": "code",
   "execution_count": 48,
   "metadata": {
    "collapsed": true
   },
   "outputs": [],
   "source": [
    "def percentBases(dna):\n",
    "    dic = countBases(dna)\n",
    "    total = sum(dic.values())\n",
    "    newdic={}\n",
    "    for key in dic.keys():\n",
    "        newdic[key]=dic[key]/total\n",
    "    \n",
    "    return newdic"
   ]
  },
  {
   "cell_type": "code",
   "execution_count": 49,
   "metadata": {
    "collapsed": false
   },
   "outputs": [
    {
     "data": {
      "text/plain": [
       "{'A': 0.3333333333333333,\n",
       " 'C': 0.3333333333333333,\n",
       " 'G': 0.3333333333333333,\n",
       " 'T': 0.0}"
      ]
     },
     "execution_count": 49,
     "metadata": {},
     "output_type": "execute_result"
    }
   ],
   "source": [
    "percentBases('ACG')"
   ]
  },
  {
   "cell_type": "code",
   "execution_count": 50,
   "metadata": {
    "collapsed": false
   },
   "outputs": [
    {
     "data": {
      "text/plain": [
       "{'A': 0.23809523809523808,\n",
       " 'C': 0.2857142857142857,\n",
       " 'G': 0.19047619047619047,\n",
       " 'T': 0.2857142857142857}"
      ]
     },
     "execution_count": 50,
     "metadata": {},
     "output_type": "execute_result"
    }
   ],
   "source": [
    "percentBases(dna)"
   ]
  },
  {
   "cell_type": "markdown",
   "metadata": {},
   "source": [
    "# Problem 5c - reverseComplement\n",
    "- define 'reverseComplement(dna)' \n",
    "- swaps A <-> T, C <-> G, and returns the new DNA in reverse order"
   ]
  },
  {
   "cell_type": "code",
   "execution_count": 80,
   "metadata": {
    "collapsed": false
   },
   "outputs": [],
   "source": [
    "def reverseComplement(dna):\n",
    "    revdna=''\n",
    "    for letter in dna:\n",
    "        if(letter=='A'):\n",
    "            revdna+='T'\n",
    "        elif(letter=='T'):\n",
    "            revdna+='A'\n",
    "        elif(letter=='C'):\n",
    "            revdna+='G'\n",
    "        elif(letter=='G'):\n",
    "            revdna+='C'\n",
    "    return (revdna[::-1])"
   ]
  },
  {
   "cell_type": "code",
   "execution_count": 81,
   "metadata": {
    "collapsed": false
   },
   "outputs": [
    {
     "data": {
      "text/plain": [
       "'ACGT'"
      ]
     },
     "execution_count": 81,
     "metadata": {},
     "output_type": "execute_result"
    }
   ],
   "source": [
    "reverseComplement('ACGT')"
   ]
  },
  {
   "cell_type": "code",
   "execution_count": 82,
   "metadata": {
    "collapsed": false
   },
   "outputs": [
    {
     "data": {
      "text/plain": [
       "'GTGCACTCAGAGATATCGATG'"
      ]
     },
     "execution_count": 82,
     "metadata": {},
     "output_type": "execute_result"
    }
   ],
   "source": [
    "reverseComplement(dna)"
   ]
  },
  {
   "cell_type": "code",
   "execution_count": null,
   "metadata": {
    "collapsed": true
   },
   "outputs": [],
   "source": []
  }
 ],
 "metadata": {
  "anaconda-cloud": {},
  "kernelspec": {
   "display_name": "Python [conda root]",
   "language": "python",
   "name": "conda-root-py"
  },
  "language_info": {
   "codemirror_mode": {
    "name": "ipython",
    "version": 3
   },
   "file_extension": ".py",
   "mimetype": "text/x-python",
   "name": "python",
   "nbconvert_exporter": "python",
   "pygments_lexer": "ipython3",
   "version": "3.5.2"
  }
 },
 "nbformat": 4,
 "nbformat_minor": 1
}
