{
 "cells": [
  {
   "cell_type": "markdown",
   "metadata": {},
   "source": [
    "# Eager and Lazy Evaluation\n",
    "- Eager - do tasks all at once\n",
    "- Lazy - do tasks incrementally, on demand\n",
    "- pros and cons to each method\n",
    "- lazy advantages\n",
    "    - don't need to store things until they are used\n",
    "    - don't make more than you need\n",
    "    - don't make things and then throw them away if not needed\n",
    "    - can simulate infinite lists\n",
    "- for loops can iterate over eager and lazy sequences"
   ]
  },
  {
   "cell_type": "code",
   "execution_count": null,
   "metadata": {
    "collapsed": false
   },
   "outputs": [],
   "source": [
    "# 'for' will loop over an existing list\n",
    "\n",
    "x = [3,5,'sadf', .343]\n",
    "for e in x:\n",
    "    print(e)"
   ]
  },
  {
   "cell_type": "code",
   "execution_count": null,
   "metadata": {
    "collapsed": false
   },
   "outputs": [],
   "source": [
    "# range just evaluates to itself\n",
    "\n",
    "r = range(4)\n",
    "r"
   ]
  },
  {
   "cell_type": "code",
   "execution_count": null,
   "metadata": {
    "collapsed": false
   },
   "outputs": [],
   "source": [
    "# a range holds the values of the original args\n",
    "\n",
    "[r.start, r.stop]"
   ]
  },
  {
   "cell_type": "code",
   "execution_count": null,
   "metadata": {
    "collapsed": false
   },
   "outputs": [],
   "source": [
    "# can make a list out of it\n",
    "\n",
    "list(range(4))"
   ]
  },
  {
   "cell_type": "code",
   "execution_count": null,
   "metadata": {
    "collapsed": false
   },
   "outputs": [],
   "source": [
    "# for iterates over integers specified by range \n",
    "\n",
    "for x in range(4):\n",
    "    print(x)\n"
   ]
  },
  {
   "cell_type": "code",
   "execution_count": null,
   "metadata": {
    "collapsed": false
   },
   "outputs": [],
   "source": [
    "# note: here range specifies the iteration, \n",
    "# but a million element list is never created\n",
    "\n",
    "sum = 0\n",
    "for x in range(1000000):\n",
    "    sum += x\n",
    "sum"
   ]
  },
  {
   "cell_type": "code",
   "execution_count": null,
   "metadata": {
    "collapsed": false
   },
   "outputs": [],
   "source": [
    "# here the list that range specifies IS created\n",
    "\n",
    "rl = list(range(4))\n",
    "\n",
    "print(rl)\n",
    "\n",
    "for x in rl:\n",
    "    print(x)"
   ]
  },
  {
   "cell_type": "markdown",
   "metadata": {},
   "source": [
    "# Iterator Protocol\n",
    "- there is a general protocol for iterating over objects\n",
    "- use 'iter' function to get an iterator from an object\n",
    "    - not all objects have iterators - for example, int and float don't\n",
    "- the 'iterator' may be the same object, or a different one\n",
    "- some objects allow multiple iterators simultaneously\n",
    "- call 'next' function repeatedly, to get the elements of the iteration\n",
    "- when all elements have been produced, iterator will raise a 'StopIteration' error each\n",
    "time 'next' is called\n",
    "- 'StopIteration' implies the iterator is 'exhausted' - discard it.\n",
    "- why raise an error at the end of the iteration???\n",
    "- for loops use iterator protocol"
   ]
  },
  {
   "cell_type": "code",
   "execution_count": null,
   "metadata": {
    "collapsed": false
   },
   "outputs": [],
   "source": [
    "x = [1,4]\n",
    "xi = iter(x)\n",
    "xi"
   ]
  },
  {
   "cell_type": "code",
   "execution_count": null,
   "metadata": {
    "collapsed": false
   },
   "outputs": [],
   "source": [
    "# 1st value\n",
    "\n",
    "next(xi)"
   ]
  },
  {
   "cell_type": "code",
   "execution_count": null,
   "metadata": {
    "collapsed": false
   },
   "outputs": [],
   "source": [
    "# 2nd value\n",
    "\n",
    "next(xi)"
   ]
  },
  {
   "cell_type": "code",
   "execution_count": null,
   "metadata": {
    "collapsed": false
   },
   "outputs": [],
   "source": [
    "# done\n",
    "\n",
    "next(xi)"
   ]
  },
  {
   "cell_type": "code",
   "execution_count": null,
   "metadata": {
    "collapsed": false
   },
   "outputs": [],
   "source": [
    "# 'range' each iterator is a new obj - can have any number of them\n",
    "\n",
    "r = range(2)\n",
    "ri = iter(r)\n",
    "ri2 = iter(r)\n",
    "\n",
    "[r, ri, ri2, ri is r, ri is ri2]"
   ]
  },
  {
   "cell_type": "code",
   "execution_count": null,
   "metadata": {
    "collapsed": false
   },
   "outputs": [],
   "source": [
    "next(ri)"
   ]
  },
  {
   "cell_type": "code",
   "execution_count": null,
   "metadata": {
    "collapsed": false
   },
   "outputs": [],
   "source": [
    "[next(ri), next(ri2)]"
   ]
  },
  {
   "cell_type": "code",
   "execution_count": null,
   "metadata": {
    "collapsed": false
   },
   "outputs": [],
   "source": [
    "# now ri is ahead of ri2, so it finishes first\n",
    "next(ri)"
   ]
  },
  {
   "cell_type": "code",
   "execution_count": null,
   "metadata": {
    "collapsed": false
   },
   "outputs": [],
   "source": [
    "# one val left for ri2\n",
    "\n",
    "next(ri2)"
   ]
  },
  {
   "cell_type": "code",
   "execution_count": null,
   "metadata": {
    "collapsed": false
   },
   "outputs": [],
   "source": [
    "# now ri2 is done\n",
    "\n",
    "next(ri2)"
   ]
  },
  {
   "cell_type": "markdown",
   "metadata": {},
   "source": [
    "# Generator Function\n",
    "- one way to define an iterator\n",
    "- a generator is defined by using a 'yield' statement inside a 'def'\n",
    "- executing the function returns the iterator\n",
    "- falling off the end of the function, or executing a 'return' statement, will terminate the generator.\n",
    "- once a generator terminates, it is 'exhausted', and can not be used again\n",
    "- calling 'next' on a generator will cause the generator to execute until it \n",
    "hits a 'yield' statement. The arg supplied to 'yield' will be returned by 'next'. The next time 'next' is called on the generator, the generator will resume executing on the statement following the yield. \n",
    "- all local variable values are preserved between between 'next' calls to the generator"
   ]
  },
  {
   "cell_type": "code",
   "execution_count": null,
   "metadata": {
    "collapsed": true
   },
   "outputs": [],
   "source": [
    "# executing this function will return a generator\n",
    "\n",
    "def gf(n):\n",
    "    for j in range(n):\n",
    "        yield(j)"
   ]
  },
  {
   "cell_type": "code",
   "execution_count": null,
   "metadata": {
    "collapsed": false
   },
   "outputs": [],
   "source": [
    "# 'list' will run generator until it is exhausted.\n",
    "\n",
    "list(gf(5))"
   ]
  },
  {
   "cell_type": "code",
   "execution_count": null,
   "metadata": {
    "collapsed": false
   },
   "outputs": [],
   "source": [
    "# or can use returned generator explicitly via iteration protocol\n",
    "\n",
    "g = gf(2)\n",
    "g"
   ]
  },
  {
   "cell_type": "code",
   "execution_count": null,
   "metadata": {
    "collapsed": false
   },
   "outputs": [],
   "source": [
    "next(g)"
   ]
  },
  {
   "cell_type": "code",
   "execution_count": null,
   "metadata": {
    "collapsed": false
   },
   "outputs": [],
   "source": [
    "next(g)"
   ]
  },
  {
   "cell_type": "code",
   "execution_count": null,
   "metadata": {
    "collapsed": false
   },
   "outputs": [],
   "source": [
    "# generator is finished - discard it\n",
    "\n",
    "next(g)"
   ]
  },
  {
   "cell_type": "code",
   "execution_count": null,
   "metadata": {
    "collapsed": false
   },
   "outputs": [],
   "source": [
    "# iterate over generator directly\n",
    "\n",
    "[j+10 for j in gf(3)]"
   ]
  },
  {
   "cell_type": "markdown",
   "metadata": {},
   "source": [
    "# A generator can represent an infinite sequence (sort of)\n",
    "- can't make a list of all the even integers\n",
    "- but in some sense can represent that list with a generator"
   ]
  },
  {
   "cell_type": "code",
   "execution_count": null,
   "metadata": {
    "collapsed": true
   },
   "outputs": [],
   "source": [
    "def infinite(start, incr):\n",
    "    e = start\n",
    "    # this generator will never terminate\n",
    "    while True:\n",
    "        yield(e)\n",
    "        e += incr"
   ]
  },
  {
   "cell_type": "code",
   "execution_count": null,
   "metadata": {
    "collapsed": false
   },
   "outputs": [],
   "source": [
    "# eg represents the positive even numbers\n",
    "\n",
    "eg = infinite(2,2)\n",
    "[next(eg) for j in range(5)]"
   ]
  },
  {
   "cell_type": "code",
   "execution_count": null,
   "metadata": {
    "collapsed": false
   },
   "outputs": [],
   "source": [
    "# a generator can use another generator\n",
    "\n",
    "def evenPowersOf2():\n",
    "    eg = infinite(2,2)\n",
    "    while True:\n",
    "        e = next(eg)\n",
    "        yield 2**e\n",
    "\n",
    "ep2 = evenPowersOf2()\n",
    "[next(ep2) for j in range(5)]"
   ]
  },
  {
   "cell_type": "code",
   "execution_count": null,
   "metadata": {
    "collapsed": false
   },
   "outputs": [],
   "source": [
    "import operator\n",
    "\n",
    "# add series\n",
    "\n",
    "eg = infinite(2,2)\n",
    "g5 = infinite(5,5)\n",
    "\n",
    "# generators can use other generators\n",
    "\n",
    "def opgen(op, g1, g2):\n",
    "    while True: \n",
    "        e1 = next(g1)\n",
    "        e2 = next(g2)\n",
    "        yield op(e1,e2)\n",
    "        \n",
    "og = opgen(operator.add, eg, g5)\n",
    "\n",
    "[next(og) for j in range(5)]\n"
   ]
  },
  {
   "cell_type": "code",
   "execution_count": null,
   "metadata": {
    "collapsed": false
   },
   "outputs": [],
   "source": [
    "# subtract series\n",
    "\n",
    "eg = infinite(2,2)\n",
    "g5 = infinite(5,5)\n",
    "og = opgen(operator.sub, eg, g5)\n",
    "\n",
    "[next(og) for j in range(5)]"
   ]
  },
  {
   "cell_type": "markdown",
   "metadata": {},
   "source": [
    "# Yields do not have to be inside a loop\n",
    "- fibonacci series is 1,1,2,3,5,8...\n",
    "- f(0) = 1\n",
    "- f(1) = 1\n",
    "- f(n) = f(n-1) + f(n-2)"
   ]
  },
  {
   "cell_type": "code",
   "execution_count": null,
   "metadata": {
    "collapsed": false
   },
   "outputs": [],
   "source": [
    "def fibonacci():\n",
    "    # easy way to handle the first two ones\n",
    "    yield(1)\n",
    "    yield(1)\n",
    "    last = 1\n",
    "    last2 = 1\n",
    "    while True:\n",
    "        sum = last + last2\n",
    "        yield(sum)\n",
    "        last2 = last\n",
    "        last = sum\n",
    "\n",
    "f = fibonacci()\n",
    "\n",
    "for j in range(10):\n",
    "    print( next(f))\n"
   ]
  },
  {
   "cell_type": "markdown",
   "metadata": {},
   "source": [
    "# Modifying a Running Generator\n",
    "- can change generator state at any time"
   ]
  },
  {
   "cell_type": "code",
   "execution_count": null,
   "metadata": {
    "collapsed": true
   },
   "outputs": [],
   "source": [
    "def counter(maximum):\n",
    "    cnt = 0\n",
    "    while cnt < maximum:\n",
    "        # peculiar syntax\n",
    "        val = (yield cnt)\n",
    "        # If value provided, change counter\n",
    "        if val is not None:\n",
    "            cnt = val\n",
    "        else:\n",
    "            cnt += 1\n"
   ]
  },
  {
   "cell_type": "code",
   "execution_count": null,
   "metadata": {
    "collapsed": false
   },
   "outputs": [],
   "source": [
    "c = counter(1000)\n",
    "[next(c) for j in range(10)]"
   ]
  },
  {
   "cell_type": "code",
   "execution_count": null,
   "metadata": {
    "collapsed": false
   },
   "outputs": [],
   "source": [
    "# change the 'cnt' variable that the generator saves \n",
    "# '(yield cnt)' in generator will return 300\n",
    "\n",
    "c.send(300)\n",
    "\n",
    "# generator continues from new value\n",
    "[next(c) for j in range(10)]"
   ]
  },
  {
   "cell_type": "code",
   "execution_count": null,
   "metadata": {
    "collapsed": true
   },
   "outputs": [],
   "source": [
    "# the generator is nowhere near done, but we can terminate it\n",
    "\n",
    "c.close()"
   ]
  },
  {
   "cell_type": "code",
   "execution_count": null,
   "metadata": {
    "collapsed": false
   },
   "outputs": [],
   "source": [
    "# the generator is exhausted now\n",
    "\n",
    "next(c)"
   ]
  },
  {
   "cell_type": "markdown",
   "metadata": {},
   "source": [
    "# Generator Expression\n",
    "- an expression that evaluates to a generator\n",
    "- looks like a list comprehension, but with outer '()' instead of '[]'"
   ]
  },
  {
   "cell_type": "code",
   "execution_count": null,
   "metadata": {
    "collapsed": false
   },
   "outputs": [],
   "source": [
    "def ge(n):\n",
    "    # can't return a 'def'\n",
    "    return ( j**2 for j in range(2, n) if j != 3)\n",
    "\n",
    "g = ge(8)"
   ]
  },
  {
   "cell_type": "code",
   "execution_count": null,
   "metadata": {
    "collapsed": false
   },
   "outputs": [],
   "source": [
    "# pick first two manually\n",
    "\n",
    "next(g)"
   ]
  },
  {
   "cell_type": "code",
   "execution_count": null,
   "metadata": {
    "collapsed": false
   },
   "outputs": [],
   "source": [
    "# skipped j == 3\n",
    "\n",
    "next(g)"
   ]
  },
  {
   "cell_type": "code",
   "execution_count": null,
   "metadata": {
    "collapsed": false
   },
   "outputs": [],
   "source": [
    "# for gets the rest\n",
    "\n",
    "for j in g:\n",
    "    print(j)"
   ]
  },
  {
   "cell_type": "markdown",
   "metadata": {},
   "source": [
    "# suppose want to sum 100,000 squares..."
   ]
  },
  {
   "cell_type": "code",
   "execution_count": null,
   "metadata": {
    "collapsed": false
   },
   "outputs": [],
   "source": [
    "# could do\n",
    "\n",
    "mil = 1000**2\n",
    "\n",
    "sq = [x**2 for x in range(mil)]\n",
    "sum(sq)\n"
   ]
  },
  {
   "cell_type": "code",
   "execution_count": null,
   "metadata": {
    "collapsed": false
   },
   "outputs": [],
   "source": [
    "# or \n",
    "\n",
    "total = 0 \n",
    "for x in range(mil):\n",
    "    total += x**2\n",
    "total"
   ]
  },
  {
   "cell_type": "code",
   "execution_count": null,
   "metadata": {
    "collapsed": false
   },
   "outputs": [],
   "source": [
    "# could use a generator\n",
    "\n",
    "# which way is better?\n",
    "\n",
    "sum(x**2 for x in range(mil))"
   ]
  },
  {
   "cell_type": "markdown",
   "metadata": {},
   "source": [
    "# A generator will finish if it calls a generator that finishes"
   ]
  },
  {
   "cell_type": "code",
   "execution_count": null,
   "metadata": {
    "collapsed": true
   },
   "outputs": [],
   "source": [
    "def g(n):\n",
    "    for j in range(n):\n",
    "        yield j\n",
    "\n",
    "def g2(n):\n",
    "    gen = g(n)\n",
    "    while True:\n",
    "        yield next(gen)\n"
   ]
  },
  {
   "cell_type": "code",
   "execution_count": null,
   "metadata": {
    "collapsed": false
   },
   "outputs": [],
   "source": [
    "list(g2(3))"
   ]
  },
  {
   "cell_type": "code",
   "execution_count": null,
   "metadata": {
    "collapsed": false
   },
   "outputs": [],
   "source": [
    "# generate chars\n",
    "\n",
    "def chars(s):\n",
    "    for c in s:\n",
    "        yield c\n",
    "        \n",
    "cs = chars('larry')\n",
    "for c in cs:\n",
    "    print(c)\n",
    "    "
   ]
  },
  {
   "cell_type": "code",
   "execution_count": null,
   "metadata": {
    "collapsed": false
   },
   "outputs": [],
   "source": [
    "# 'yield from' will yield everything from its generator argument\n",
    "\n",
    "def gfrom(g):\n",
    "    yield from g\n",
    "    \n",
    "gs = gfrom(chars('larry'))\n",
    "\n",
    "for c in gs:\n",
    "    print(c)"
   ]
  }
 ],
 "metadata": {
  "anaconda-cloud": {},
  "kernelspec": {
   "display_name": "Python [conda root]",
   "language": "python",
   "name": "conda-root-py"
  },
  "language_info": {
   "codemirror_mode": {
    "name": "ipython",
    "version": 3
   },
   "file_extension": ".py",
   "mimetype": "text/x-python",
   "name": "python",
   "nbconvert_exporter": "python",
   "pygments_lexer": "ipython3",
   "version": "3.5.2"
  }
 },
 "nbformat": 4,
 "nbformat_minor": 0
}
