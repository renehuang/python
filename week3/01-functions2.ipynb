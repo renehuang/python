{
 "cells": [
  {
   "cell_type": "markdown",
   "metadata": {},
   "source": [
    "# Args are \"passed by object\", and an object may be returned\n",
    "- args are bound to objects references\n",
    "- mutable objects can be changed\n",
    "- new objects created can be returned\n",
    "- a single object can be returned\n",
    "    - multiple values can be returned in a list, dict, set, etc\n",
    "- function body defines a 'namespace'\n",
    "    - args and variables defined by assignment in the function body are 'local' to the function"
   ]
  },
  {
   "cell_type": "code",
   "execution_count": null,
   "metadata": {
    "collapsed": false
   },
   "outputs": [],
   "source": [
    "# scoping example\n",
    "# function can reference global value of 'g'\n",
    "# 2nd arg, a list, is modified\n",
    "# outer value of 'm' is not changed by function\n",
    "\n",
    "x = [3,5,7]\n",
    "m = 20\n",
    "g = 30\n",
    "\n",
    "def foo(m, x2):\n",
    "    # can see g\n",
    "    print('g',g)\n",
    "    # created a new local, ignores outer 'm'\n",
    "    m = 55\n",
    "    x2[0] = 'mod'\n",
    "\n",
    "foo(8, x)\n",
    "[m, x]\n"
   ]
  },
  {
   "cell_type": "code",
   "execution_count": null,
   "metadata": {
    "collapsed": false
   },
   "outputs": [],
   "source": [
    "# what's going on here????\n",
    "\n",
    "g = 55\n",
    "def foo():\n",
    "    print(g)\n",
    "    g = 22\n",
    "foo()"
   ]
  },
  {
   "cell_type": "code",
   "execution_count": null,
   "metadata": {
    "collapsed": true
   },
   "outputs": [],
   "source": [
    "# above may seem weird...well it is\n",
    "# the print is looking at the local 'g', not the global one \n",
    "# the function body is scanned for assignments, it sees the 'g', \n",
    "# treats it as a local, then executes the body, and at 'print(g)' \n",
    "# time, the local 'g' is still undefined\n",
    "\n"
   ]
  },
  {
   "cell_type": "markdown",
   "metadata": {},
   "source": [
    "# global\n",
    "- using global is usually a very bad idea\n",
    "- but, handy for debugging and interactive use\n",
    "- can see values of function locals w/o prints or debugger"
   ]
  },
  {
   "cell_type": "code",
   "execution_count": null,
   "metadata": {
    "collapsed": true
   },
   "outputs": [],
   "source": [
    "def foo():\n",
    "    global x,y,z\n",
    "    x = 5\n",
    "    y = x + 20\n",
    "    z = x - y + x**2\n",
    "    return(x - y + z//2)"
   ]
  },
  {
   "cell_type": "code",
   "execution_count": null,
   "metadata": {
    "collapsed": false
   },
   "outputs": [],
   "source": [
    "foo()"
   ]
  },
  {
   "cell_type": "code",
   "execution_count": null,
   "metadata": {
    "collapsed": false
   },
   "outputs": [],
   "source": [
    "[x,y,z]"
   ]
  },
  {
   "cell_type": "markdown",
   "metadata": {},
   "source": [
    "# Stacks\n",
    "- a 'stack' basically has two operations\n",
    "    - 'push' something onto the stack\n",
    "    - 'pop' something off the stack\n",
    "    - think of a 'spring loaded dish rack'"
   ]
  },
  {
   "cell_type": "code",
   "execution_count": null,
   "metadata": {
    "collapsed": false
   },
   "outputs": [],
   "source": [
    "from IPython.display import Image\n",
    "\n",
    "Image('http://images.rasmuscatalog.com/M20217%20Former%20Bank/30168.jpg')"
   ]
  },
  {
   "cell_type": "markdown",
   "metadata": {},
   "source": [
    "# Call stack\n",
    "- holds runtime info for function calls\n",
    "- important for understanding recursion, generators, and error handling\n",
    "- each time a function is called, a new 'stack frame' is 'pushed' onto the call stack\n",
    "- each time a function returns, its stack frame is 'popped' from the call stack\n",
    "- nothing special about recursive calls\n",
    "- demo using spyder"
   ]
  },
  {
   "cell_type": "markdown",
   "metadata": {},
   "source": [
    "# lambda\n",
    "- 'lambda' defines anonymous functions(function doesn't get a name)\n",
    "- 'def' is a statement, 'lambda' is an expression, so lambda can go places def can't\n",
    "- lambda body is a single expression, so can not be as complex as a lambda\n",
    "- mainly intended for simple things\n",
    "- type name is 'function'"
   ]
  },
  {
   "cell_type": "code",
   "execution_count": null,
   "metadata": {
    "collapsed": false
   },
   "outputs": [],
   "source": [
    "# z holds a reference to the lambda object defined on the right\n",
    "\n",
    "z = lambda x : x + 5\n",
    "[z(33), type(z)]"
   ]
  },
  {
   "cell_type": "code",
   "execution_count": null,
   "metadata": {
    "collapsed": false
   },
   "outputs": [],
   "source": [
    "# call each lambda\n",
    "\n",
    "[f(10) for f in lams]"
   ]
  },
  {
   "cell_type": "code",
   "execution_count": null,
   "metadata": {
    "collapsed": false
   },
   "outputs": [],
   "source": [
    "# 'map' takes a function and a list as args\n",
    "# the function is applied to each element of the list,\n",
    "# and the values returned by the function are collected \n",
    "# into a new list\n",
    "# map is lazy\n",
    "\n",
    "def add2(n):\n",
    "    return n + 2\n",
    "\n",
    "list(map(add2, [1,4,3,7]))"
   ]
  },
  {
   "cell_type": "code",
   "execution_count": null,
   "metadata": {
    "collapsed": false
   },
   "outputs": [],
   "source": [
    "# with a lambda, can directly pass function as an arg\n",
    "# without first setting a name with def - \n",
    "# less clutter\n",
    "\n",
    "list(map(lambda x : x + 2, [1,4,3,7]))\n"
   ]
  },
  {
   "cell_type": "markdown",
   "metadata": {},
   "source": [
    "# Example: circlePoints\n"
   ]
  },
  {
   "cell_type": "code",
   "execution_count": null,
   "metadata": {
    "collapsed": true
   },
   "outputs": [],
   "source": [
    "# first attempt used for loop with accumulation var\n",
    "\n",
    "import math\n",
    "\n",
    "def circlePoints(n, radius):\n",
    "    ans = []\n",
    "    for j in range(n):\n",
    "        ang = j * 2 * math.pi / n\n",
    "        ans.append([radius * math.cos(ang), radius * math.sin(ang)])\n",
    "    return ans"
   ]
  },
  {
   "cell_type": "code",
   "execution_count": null,
   "metadata": {
    "collapsed": false
   },
   "outputs": [],
   "source": [
    "circlePoints(4,1)"
   ]
  },
  {
   "cell_type": "code",
   "execution_count": null,
   "metadata": {
    "collapsed": true
   },
   "outputs": [],
   "source": [
    "# use a comprehension and a lambda\n",
    "\n",
    "def circlePoints2(n, radius):\n",
    "    lam = lambda ang: [radius * math.cos(ang), radius * math.sin(ang)]\n",
    "    return [lam(j*2*math.pi/n) for j in range(n)]"
   ]
  },
  {
   "cell_type": "code",
   "execution_count": null,
   "metadata": {
    "collapsed": false
   },
   "outputs": [],
   "source": [
    "circlePoints2(4,1)"
   ]
  },
  {
   "cell_type": "code",
   "execution_count": null,
   "metadata": {
    "collapsed": true
   },
   "outputs": [],
   "source": [
    "# two lines\n",
    "\n",
    "def circlePoints3(n, radius):\n",
    "    return [(lambda ang: [radius * math.cos(ang), radius * math.sin(ang)])(j*2*math.pi/n) for j in range(n)]"
   ]
  },
  {
   "cell_type": "code",
   "execution_count": null,
   "metadata": {
    "collapsed": false
   },
   "outputs": [],
   "source": [
    "circlePoints3(4,1)"
   ]
  },
  {
   "cell_type": "markdown",
   "metadata": {},
   "source": [
    "# Multiple value return\n",
    "- strictly speaking, a function returns at most one object\n",
    "- can return easily return multiple values by returning a 'collection' object, like a list\n",
    "- unpacking can be convenient\n"
   ]
  },
  {
   "cell_type": "code",
   "execution_count": null,
   "metadata": {
    "collapsed": false
   },
   "outputs": [],
   "source": [
    "# return one list with two values\n",
    "\n",
    "def makePoint(x, y):\n",
    "    return [x,y]\n",
    "\n",
    "makePoint(5,8)"
   ]
  },
  {
   "cell_type": "code",
   "execution_count": null,
   "metadata": {
    "collapsed": false
   },
   "outputs": [],
   "source": [
    "# unpack\n",
    "\n",
    "x , y = makePoint(3,4)\n",
    "\n",
    "[x, y]"
   ]
  },
  {
   "cell_type": "markdown",
   "metadata": {},
   "source": [
    "# Function overloading\n",
    "- Python does not have 'overloaded' functions, like C/C++/Java\n",
    "- in those languages, can do\n",
    "\n",
    "void foo(float f) {  // do float thing }\n",
    "\n",
    "void foo(string s) ( // do string thing }\n",
    "\n",
    "- no argument types in Python, can't tell the two foo's apart, so no overloading in python\n",
    "- but, can do something similiar with run time typing"
   ]
  },
  {
   "cell_type": "code",
   "execution_count": null,
   "metadata": {
    "collapsed": false
   },
   "outputs": [],
   "source": [
    "def foo(arg): \n",
    "    if isinstance(arg, (int, float)): \n",
    "        print('do number thing')\n",
    "    if isinstance(arg, str):\n",
    "        print('do string thing')\n",
    "\n",
    "foo(34.4)\n",
    "foo(234)\n",
    "foo('')"
   ]
  },
  {
   "cell_type": "markdown",
   "metadata": {},
   "source": [
    "# Function definitions can specify complex argument processing\n",
    "- Sort of a pattern matching scheme - many possibilities\n",
    "- Downside - makes function calls more expensive\n",
    "- Two arg types\n",
    "    - positional\n",
    "    - keyword\n",
    "- Args can be matched or collected"
   ]
  },
  {
   "cell_type": "code",
   "execution_count": null,
   "metadata": {
    "collapsed": false
   },
   "outputs": [],
   "source": [
    "# three required positional args\n",
    "\n",
    "def a3(a,b,c):\n",
    "    return(a,b,c)\n",
    "\n",
    "a3(1,2,3)"
   ]
  },
  {
   "cell_type": "code",
   "execution_count": null,
   "metadata": {
    "collapsed": false
   },
   "outputs": [],
   "source": [
    "# only two args is an error\n",
    "# all three must be matched\n",
    "\n",
    "a3(1,2)"
   ]
  },
  {
   "cell_type": "code",
   "execution_count": null,
   "metadata": {
    "collapsed": false
   },
   "outputs": [],
   "source": [
    "# by using 'keyword args' (a=2), can supply the args in arbitrary order\n",
    "\n",
    "[a3(1,2,3), a3(1, c=2, b=3), a3(c=5, a=2, b=8)]"
   ]
  },
  {
   "cell_type": "code",
   "execution_count": null,
   "metadata": {
    "collapsed": false
   },
   "outputs": [],
   "source": [
    "# can give args default values\n",
    "\n",
    "def a3(a, b, c=22):\n",
    "    return([a,b,c])\n",
    "\n",
    "[a3(2,3,4), a3(2,3), a3(b=3,a=2), a3(b=3,c=9,a=2)]"
   ]
  },
  {
   "cell_type": "code",
   "execution_count": null,
   "metadata": {
    "collapsed": false
   },
   "outputs": [],
   "source": [
    "# b must get a value\n",
    "\n",
    "a3(c=5, a=3)"
   ]
  },
  {
   "cell_type": "code",
   "execution_count": null,
   "metadata": {
    "collapsed": false
   },
   "outputs": [],
   "source": [
    "# can pick up any number of 'unclaimed' positional and keyword args\n",
    "# *pos is a tuple\n",
    "# **kws is a dictionary\n",
    "# all positional args must come before keyword args\n",
    "\n",
    "def pk(a, b, c=5, *pos, **kws):\n",
    "    return([a, b, c, pos, kws])\n",
    "\n",
    "pk(1,2,3,4,5,6, foo=5, bar=9)"
   ]
  },
  {
   "cell_type": "markdown",
   "metadata": {},
   "source": [
    "# For clarity, can force args to be specified with keywords\n",
    "- args following a '*' must be keywords"
   ]
  },
  {
   "cell_type": "code",
   "execution_count": null,
   "metadata": {
    "collapsed": false
   },
   "outputs": [],
   "source": [
    "def foo(*, a, b):\n",
    "    return 2*a + 3*b\n",
    "\n",
    "foo(3,5)"
   ]
  },
  {
   "cell_type": "code",
   "execution_count": null,
   "metadata": {
    "collapsed": false
   },
   "outputs": [],
   "source": [
    "foo(a=4, b=8)"
   ]
  },
  {
   "cell_type": "markdown",
   "metadata": {},
   "source": [
    "# Example: print function has keyword args"
   ]
  },
  {
   "cell_type": "code",
   "execution_count": null,
   "metadata": {
    "collapsed": false
   },
   "outputs": [],
   "source": [
    "print(1,2,3,4)"
   ]
  },
  {
   "cell_type": "code",
   "execution_count": null,
   "metadata": {
    "collapsed": false
   },
   "outputs": [],
   "source": [
    "print(1,2,3,4, sep='--')"
   ]
  },
  {
   "cell_type": "code",
   "execution_count": null,
   "metadata": {
    "collapsed": false
   },
   "outputs": [],
   "source": [
    "# finish print with 3 new lines, instead of 1\n",
    "\n",
    "print(1,2,3,4,end='\\n\\n\\n')"
   ]
  },
  {
   "cell_type": "markdown",
   "metadata": {},
   "source": [
    "# Example: discriminate on number of args\n",
    "- in C++/Java\n",
    "\n",
    "void foo(float f) { // do one arg thing }\n",
    "\n",
    "void foo(float f, float f2) ( // do two arg thing }\n"
   ]
  },
  {
   "cell_type": "code",
   "execution_count": null,
   "metadata": {
    "collapsed": false
   },
   "outputs": [],
   "source": [
    "def onetwo(*pos):\n",
    "    if 1 == len(pos):\n",
    "        a = pos[0]\n",
    "        print('one arg',a)\n",
    "    else:\n",
    "        [a,b] = pos\n",
    "        print('two args', a, b)\n"
   ]
  },
  {
   "cell_type": "code",
   "execution_count": null,
   "metadata": {
    "collapsed": false
   },
   "outputs": [],
   "source": [
    "onetwo(1)"
   ]
  },
  {
   "cell_type": "code",
   "execution_count": null,
   "metadata": {
    "collapsed": false
   },
   "outputs": [],
   "source": [
    "onetwo(1,2)"
   ]
  },
  {
   "cell_type": "markdown",
   "metadata": {},
   "source": [
    "# Function caller can manipulate how arguments are passed"
   ]
  },
  {
   "cell_type": "code",
   "execution_count": null,
   "metadata": {
    "collapsed": false
   },
   "outputs": [],
   "source": [
    "# '*' 'spreads' a list over the positional args\n",
    "\n",
    "def foo(a,b,c):\n",
    "    return([a,b,c])\n",
    "\n",
    "foo(*[1,2,3])"
   ]
  },
  {
   "cell_type": "code",
   "execution_count": null,
   "metadata": {
    "collapsed": false
   },
   "outputs": [],
   "source": [
    "# *pos gets the range\n",
    "# '**kw' maps a dictionary into keyword args\n",
    "\n",
    "def bar(*pos, **kw):\n",
    "    return(pos, kw)\n",
    "\n",
    "d = {'mudd':'compsci', 'butler':'library'}\n",
    "bar(*range(5), **d)"
   ]
  },
  {
   "cell_type": "markdown",
   "metadata": {},
   "source": [
    "# Example: 'printf' style args"
   ]
  },
  {
   "cell_type": "code",
   "execution_count": null,
   "metadata": {
    "collapsed": false
   },
   "outputs": [],
   "source": [
    "def printf(controlString, *vals):\n",
    "    print(controlString)\n",
    "    print(vals)\n",
    "    return controlString.format(*vals)\n",
    "\n",
    "printf('an int: {} a float: {} a string: {}', 234, 3.34, 'foo')"
   ]
  },
  {
   "cell_type": "markdown",
   "metadata": {},
   "source": [
    "# Top level builtin functions\n",
    "- [doc for all the builtins](https://docs.python.org/3.5/library/functions.html)"
   ]
  },
  {
   "cell_type": "markdown",
   "metadata": {},
   "source": [
    "# All builtins\n",
    "- functions\n",
    "- classes\n",
    "- a few othre random things\n",
    "- do NOT redefine any of them"
   ]
  },
  {
   "cell_type": "code",
   "execution_count": null,
   "metadata": {
    "collapsed": false
   },
   "outputs": [],
   "source": [
    "import builtins\n",
    "\n",
    "[f for f in dir(builtins) ]"
   ]
  },
  {
   "cell_type": "markdown",
   "metadata": {},
   "source": [
    "# operator module\n",
    "- consists of functions that implement Python operators\n",
    "- useful for functional programming\n",
    "- [doc](https://docs.python.org/3/library/operator.html#mapping-operators-to-functions)"
   ]
  },
  {
   "cell_type": "code",
   "execution_count": null,
   "metadata": {
    "collapsed": false
   },
   "outputs": [],
   "source": [
    "import operator\n",
    "\n",
    "[operator.add(2,3), operator.mod(5,2), operator.concat('foo', 'bar'), operator.concat([1,2,3],[4,5,6])]"
   ]
  },
  {
   "cell_type": "markdown",
   "metadata": {},
   "source": [
    "# Horrible!! What is going on??"
   ]
  },
  {
   "cell_type": "code",
   "execution_count": null,
   "metadata": {
    "collapsed": true
   },
   "outputs": [],
   "source": [
    "def foo(x=[]):\n",
    "    x.append(1)\n",
    "    return(x)"
   ]
  },
  {
   "cell_type": "code",
   "execution_count": null,
   "metadata": {
    "collapsed": false
   },
   "outputs": [],
   "source": [
    "foo([2,3])"
   ]
  },
  {
   "cell_type": "code",
   "execution_count": null,
   "metadata": {
    "collapsed": false
   },
   "outputs": [],
   "source": [
    "foo([])"
   ]
  },
  {
   "cell_type": "code",
   "execution_count": null,
   "metadata": {
    "collapsed": false
   },
   "outputs": [],
   "source": [
    "foo()"
   ]
  },
  {
   "cell_type": "code",
   "execution_count": null,
   "metadata": {
    "collapsed": false
   },
   "outputs": [],
   "source": [
    "foo()"
   ]
  },
  {
   "cell_type": "code",
   "execution_count": null,
   "metadata": {
    "collapsed": false
   },
   "outputs": [],
   "source": [
    "foo()"
   ]
  },
  {
   "cell_type": "code",
   "execution_count": null,
   "metadata": {
    "collapsed": false
   },
   "outputs": [],
   "source": [
    "foo()"
   ]
  },
  {
   "cell_type": "code",
   "execution_count": null,
   "metadata": {
    "collapsed": false
   },
   "outputs": [],
   "source": [
    "# the x=[] happens at function definition time, not at invocation time\n",
    "# so a redefinition will 'reset' \n",
    "\n",
    "def foo(x=[]):\n",
    "    x.append(1)\n",
    "    return(x)\n",
    "\n",
    "foo()"
   ]
  },
  {
   "cell_type": "code",
   "execution_count": null,
   "metadata": {
    "collapsed": false
   },
   "outputs": [],
   "source": [
    "foo()"
   ]
  },
  {
   "cell_type": "code",
   "execution_count": null,
   "metadata": {
    "collapsed": false
   },
   "outputs": [],
   "source": [
    "foo()"
   ]
  }
 ],
 "metadata": {
  "anaconda-cloud": {},
  "kernelspec": {
   "display_name": "Python [conda root]",
   "language": "python",
   "name": "conda-root-py"
  },
  "language_info": {
   "codemirror_mode": {
    "name": "ipython",
    "version": 3
   },
   "file_extension": ".py",
   "mimetype": "text/x-python",
   "name": "python",
   "nbconvert_exporter": "python",
   "pygments_lexer": "ipython3",
   "version": "3.5.2"
  }
 },
 "nbformat": 4,
 "nbformat_minor": 0
}
