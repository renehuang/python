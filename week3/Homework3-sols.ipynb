{
 "cells": [
  {
   "cell_type": "markdown",
   "metadata": {},
   "source": [
    "# Introduction to Python\n",
    "# Homework #3\n",
    "# Due Thursday Noon 2/9 in Courseworks\n",
    "- You MUST submit on Courseworks before it closes\n",
    "- Email submissions are NOT accepted"
   ]
  },
  {
   "cell_type": "markdown",
   "metadata": {},
   "source": [
    "# Academic Honesty\n",
    "* The computer science department has strict polices. Check\n",
    "the department [web page](http://www.cs.columbia.edu/education/honesty) for details. \n",
    "- Do not look at anybody else's source code. Do not show anybody\n",
    "your source, or leave your source where somebody could see it.\n",
    "You MUST write your own code.\n",
    "- For this class, feel free to discuss issues with other people, but suggest waiting an hour or two after a discussion, before writing your code.\n",
    "-  Cases of non original source will be refered to the Judical Committee.\n",
    "\n"
   ]
  },
  {
   "cell_type": "markdown",
   "metadata": {},
   "source": [
    "## Tips"
   ]
  },
  {
   "cell_type": "code",
   "execution_count": null,
   "metadata": {
    "collapsed": true
   },
   "outputs": [],
   "source": [
    "# you can terminate a generator by using 'return',\n",
    "# or falling off the end of the generator\n",
    "\n",
    "def g1():\n",
    "    yield(1)\n",
    "    yield(2)\n",
    "    return\n",
    "    yield(3)\n",
    "\n",
    "def g2():\n",
    "    yield(1)\n",
    "    yield(2)"
   ]
  },
  {
   "cell_type": "code",
   "execution_count": null,
   "metadata": {
    "collapsed": false
   },
   "outputs": [],
   "source": [
    "# can get the elements from a \n",
    "# FINITE length generator with 'list'\n",
    "\n",
    "list(g1())"
   ]
  },
  {
   "cell_type": "code",
   "execution_count": null,
   "metadata": {
    "collapsed": false
   },
   "outputs": [],
   "source": [
    "list(g2())     "
   ]
  },
  {
   "cell_type": "code",
   "execution_count": null,
   "metadata": {
    "collapsed": false
   },
   "outputs": [],
   "source": [
    "# if a generator calls a 2nd generator for elements, \n",
    "# and the 2nd generator finishes, the 1st one will finish as well\n",
    "\n",
    "def g3(g):\n",
    "    while True:\n",
    "        yield(next(g))\n",
    "\n",
    "for i in g3(g2()):\n",
    "    print(i)"
   ]
  },
  {
   "cell_type": "code",
   "execution_count": null,
   "metadata": {
    "collapsed": false
   },
   "outputs": [],
   "source": [
    "# string replace method\n",
    "\n",
    "'324234213foo1234324'.replace('foo','XYZ')"
   ]
  },
  {
   "cell_type": "code",
   "execution_count": null,
   "metadata": {
    "collapsed": false
   },
   "outputs": [],
   "source": [
    "# divmod gives integer quotient and remainder\n",
    "\n",
    "divmod(13, 5)"
   ]
  },
  {
   "cell_type": "code",
   "execution_count": null,
   "metadata": {
    "collapsed": false
   },
   "outputs": [],
   "source": [
    "# 'bin' function yields the binary representation of a int\n",
    "#  returns a string of 0/1's, plus a '0b' prefix\n",
    "\n",
    "[bin(11), bin(31), bin(32)]"
   ]
  },
  {
   "cell_type": "code",
   "execution_count": null,
   "metadata": {
    "collapsed": false
   },
   "outputs": [],
   "source": [
    "# 1 and 0 function as True and False in an 'if' statement\n",
    "\n",
    "[True if 1 else False, True if 0 else False]"
   ]
  },
  {
   "cell_type": "code",
   "execution_count": null,
   "metadata": {
    "collapsed": false
   },
   "outputs": [],
   "source": [
    "# the set constructor function can take a list\n",
    "\n",
    "set([1,2,3])"
   ]
  },
  {
   "cell_type": "code",
   "execution_count": null,
   "metadata": {
    "collapsed": false
   },
   "outputs": [],
   "source": [
    "# an empty set prints as 'set()'\n",
    "\n",
    "set([])"
   ]
  },
  {
   "cell_type": "code",
   "execution_count": null,
   "metadata": {
    "collapsed": false
   },
   "outputs": [],
   "source": [
    "# can check for presense of a key in a dictionary with 'in' operator\n",
    "d = {'foo':234}\n",
    "['foo' in d, 'bar' in d]"
   ]
  },
  {
   "cell_type": "markdown",
   "metadata": {},
   "source": [
    "# Problem 1a - decimals\n",
    "- define a 'decimals' generator function, that 'generates' the decimal digits of 1/n, where n is an integer greater than 1\n",
    "- if the decimal expansion terminates, like 1/8 = .125, the generator should terminate. otherwise, like for 1/3=.333..., the generator should never stop\n",
    "- use long division to compute the expansion - it is very simple"
   ]
  },
  {
   "cell_type": "code",
   "execution_count": null,
   "metadata": {
    "collapsed": false
   },
   "outputs": [],
   "source": [
    "# example: 1/8 = .125\n",
    "# the digits of the expansion are the quotients\n",
    "\n",
    "r = 10\n",
    "q,r = divmod(r,8)\n",
    "print(q,r)\n",
    "r *= 10\n",
    "q,r = divmod(r,8)\n",
    "print(q,r)\n",
    "r *= 10\n",
    "q,r = divmod(r,8)\n",
    "print(q,r)\n",
    "# r == 0, so done"
   ]
  },
  {
   "cell_type": "code",
   "execution_count": null,
   "metadata": {
    "collapsed": false
   },
   "outputs": [],
   "source": [
    "# 1/3 = .333...\n",
    "\n",
    "r = 10\n",
    "q,r = divmod(r,3)\n",
    "print(q,r)\n",
    "r *= 10\n",
    "q,r = divmod(r,3)\n",
    "print(q, r)\n",
    "\n",
    "# (q,r) pairs have repeated, will never terminate"
   ]
  },
  {
   "cell_type": "code",
   "execution_count": 16,
   "metadata": {
    "collapsed": true
   },
   "outputs": [],
   "source": [
    "def decimals(n):\n",
    "    remain = 10\n",
    "    while True:\n",
    "        # want integer division\n",
    "        q,r = divmod(remain, n)\n",
    "        yield(q)\n",
    "        if r == 0:\n",
    "            return\n",
    "        remain = r * 10"
   ]
  },
  {
   "cell_type": "code",
   "execution_count": 17,
   "metadata": {
    "collapsed": false
   },
   "outputs": [
    {
     "data": {
      "text/plain": [
       "[1, 2, 5]"
      ]
     },
     "execution_count": 17,
     "metadata": {},
     "output_type": "execute_result"
    }
   ],
   "source": [
    "# finite generator\n",
    "\n",
    "list(decimals(8))"
   ]
  },
  {
   "cell_type": "code",
   "execution_count": 18,
   "metadata": {
    "collapsed": false
   },
   "outputs": [
    {
     "data": {
      "text/plain": [
       "[3, 3, 3, 3]"
      ]
     },
     "execution_count": 18,
     "metadata": {},
     "output_type": "execute_result"
    }
   ],
   "source": [
    "# infinite generator\n",
    "# can't call 'list' on it\n",
    "\n",
    "g = decimals(3)\n",
    "[next(g), next(g), next(g), next(g)]"
   ]
  },
  {
   "cell_type": "markdown",
   "metadata": {},
   "source": [
    "# Problem 1b - genlimit\n",
    "- define 'genlimit(g, limit)' which returns a generator that generates at most 'limit' number of values from a generator 'g'"
   ]
  },
  {
   "cell_type": "code",
   "execution_count": 19,
   "metadata": {
    "collapsed": true
   },
   "outputs": [],
   "source": [
    "def genlimit(g, limit):\n",
    "    for l in range(limit):\n",
    "        yield(next(g))\n"
   ]
  },
  {
   "cell_type": "code",
   "execution_count": 20,
   "metadata": {
    "collapsed": false
   },
   "outputs": [
    {
     "data": {
      "text/plain": [
       "[1, 2, 5]"
      ]
     },
     "execution_count": 20,
     "metadata": {},
     "output_type": "execute_result"
    }
   ],
   "source": [
    "list(genlimit(decimals(8), 5))"
   ]
  },
  {
   "cell_type": "code",
   "execution_count": 21,
   "metadata": {
    "collapsed": false
   },
   "outputs": [
    {
     "data": {
      "text/plain": [
       "[3, 3, 3, 3, 3]"
      ]
     },
     "execution_count": 21,
     "metadata": {},
     "output_type": "execute_result"
    }
   ],
   "source": [
    "list(genlimit(decimals(3), 5))"
   ]
  },
  {
   "cell_type": "code",
   "execution_count": 22,
   "metadata": {
    "collapsed": false
   },
   "outputs": [
    {
     "data": {
      "text/plain": [
       "[]"
      ]
     },
     "execution_count": 22,
     "metadata": {},
     "output_type": "execute_result"
    }
   ],
   "source": [
    "list(genlimit(decimals(3), 0))"
   ]
  },
  {
   "cell_type": "code",
   "execution_count": null,
   "metadata": {
    "collapsed": false
   },
   "outputs": [],
   "source": [
    "# works with any interator\n",
    "\n",
    "list(genlimit(iter(range(30)), 3))"
   ]
  },
  {
   "cell_type": "markdown",
   "metadata": {},
   "source": [
    "# Problem 2 - Deal With Repeated Decimals\n",
    "- genlimit is useful, but never sure what we're missing with an arbitrary limit\n",
    "- since 1/n is a rational number, its decimal expansion must eventually repeat(unlike irrational numbers like PI)\n",
    "- write 'decimals2', a variant of 'decimals' \n",
    "- if the decimal expansion is finite, it should just return the finite set of digits\n",
    "- if the decimal expansion repeats, it should return the digits up to the point it starts repeating. then the final yield should be a list of the repeating sequence of digits\n",
    "- hint - keep a list, 'seen', of the [quotient, remainder] pairs as you generate digits. if you generate a new pair that is already in 'seen', you know you have started to repeat. \n"
   ]
  },
  {
   "cell_type": "code",
   "execution_count": 23,
   "metadata": {
    "collapsed": false
   },
   "outputs": [],
   "source": [
    "def decimals2(n):\n",
    "    remain = 10\n",
    "    seen = []\n",
    "    while True:\n",
    "        q,r = divmod(remain, n)\n",
    "        # if q,r pair repeats, the decimal expansion is repeating\n",
    "        if [q,r] in seen:\n",
    "            break\n",
    "        # save history of [q,r]\n",
    "        seen.append([q, r])\n",
    "        yield q\n",
    "        if r == 0:\n",
    "            return\n",
    "        remain = r * 10\n",
    "    si = seen.index([q,r])\n",
    "    # pull out the repeating q's\n",
    "    yield [s[0] for s in seen[si:]]\n"
   ]
  },
  {
   "cell_type": "code",
   "execution_count": 24,
   "metadata": {
    "collapsed": false
   },
   "outputs": [
    {
     "name": "stdout",
     "output_type": "stream",
     "text": [
      "   Expansion of 1/6:\n",
      "[1, 6, [6]]\n",
      "   Expansion of 1/3:\n",
      "[3, [3]]\n",
      "   Expansion of 1/5:\n",
      "[2]\n",
      "   Expansion of 1/7:\n",
      "[1, 4, 2, 8, 5, 7, [1, 4, 2, 8, 5, 7]]\n",
      "   Expansion of 1/9:\n",
      "[1, [1]]\n",
      "   Expansion of 1/11:\n",
      "[0, 9, [0, 9]]\n",
      "   Expansion of 1/13:\n",
      "[0, 7, 6, 9, 2, 3, [0, 7, 6, 9, 2, 3]]\n",
      "   Expansion of 1/15:\n",
      "[0, 6, [6]]\n",
      "   Expansion of 1/17:\n",
      "[0, 5, 8, 8, 2, 3, 5, 2, 9, 4, 1, 1, 7, 6, 4, 7, [0, 5, 8, 8, 2, 3, 5, 2, 9, 4,\n",
      "1, 1, 7, 6, 4, 7]]\n",
      "   Expansion of 1/19:\n",
      "[0, 5, 2, 6, 3, 1, 5, 7, 8, 9, 4, 7, 3, 6, 8, 4, 2, 1, [0, 5, 2, 6, 3, 1, 5, 7,\n",
      "8, 9, 4, 7, 3, 6, 8, 4, 2, 1]]\n",
      "   Expansion of 1/21:\n",
      "[0, 4, 7, 6, 1, 9, [0, 4, 7, 6, 1, 9]]\n",
      "   Expansion of 1/23:\n",
      "[0, 4, 3, 4, 7, 8, 2, 6, 0, 8, 6, 9, 5, 6, 5, 2, 1, 7, 3, 9, 1, 3, [0, 4, 3, 4,\n",
      "7, 8, 2, 6, 0, 8, 6, 9, 5, 6, 5, 2, 1, 7, 3, 9, 1, 3]]\n",
      "   Expansion of 1/25:\n",
      "[0, 4]\n",
      "   Expansion of 1/27:\n",
      "[0, 3, 7, [0, 3, 7]]\n",
      "   Expansion of 1/29:\n",
      "[0, 3, 4, 4, 8, 2, 7, 5, 8, 6, 2, 0, 6, 8, 9, 6, 5, 5, 1, 7, 2, 4, 1, 3, 7, 9,\n",
      "3, 1, [0, 3, 4, 4, 8, 2, 7, 5, 8, 6, 2, 0, 6, 8, 9, 6, 5, 5, 1, 7, 2, 4, 1, 3,\n",
      "7, 9, 3, 1]]\n"
     ]
    }
   ],
   "source": [
    "import textwrap\n",
    "\n",
    "r = [6]\n",
    "r.extend(range(3,30,2))\n",
    "\n",
    "for j in r: \n",
    "    d = list(decimals2(j))\n",
    "    print('   Expansion of 1/' + str(j) + ':')\n",
    "    # textwrap hack needed because lines don't wrap in pdf version\n",
    "    print( textwrap.fill(str(d), 80))\n"
   ]
  },
  {
   "cell_type": "markdown",
   "metadata": {},
   "source": [
    "# Problem 3a - select\n",
    "- define a function 'select(data, selectors)', where 'data' and 'selectors' args are lists with the same length\n",
    "- if the nth element of the 'selectors' arg is True, in the generalized sense(see [truth value testing](https://docs.python.org/3.5/library/stdtypes.html#truth-value-testing)) then the nth element of 'data' is included in the output. \n",
    "- assume 'data' and 'selectors' are the same length\n"
   ]
  },
  {
   "cell_type": "code",
   "execution_count": 1,
   "metadata": {
    "collapsed": true
   },
   "outputs": [],
   "source": [
    "def select(data, selectors):\n",
    "    return [i for i,s in zip(data, selectors) if s]    "
   ]
  },
  {
   "cell_type": "code",
   "execution_count": 2,
   "metadata": {
    "collapsed": false
   },
   "outputs": [
    {
     "data": {
      "text/plain": [
       "[1, 4]"
      ]
     },
     "execution_count": 2,
     "metadata": {},
     "output_type": "execute_result"
    }
   ],
   "source": [
    "select([1,2,3,4,5], [True, False, False, True, False])"
   ]
  },
  {
   "cell_type": "code",
   "execution_count": 3,
   "metadata": {
    "collapsed": false
   },
   "outputs": [
    {
     "data": {
      "text/plain": [
       "[6]"
      ]
     },
     "execution_count": 3,
     "metadata": {},
     "output_type": "execute_result"
    }
   ],
   "source": [
    "select([x*3 for x in [4,2,1]] , [0,1,0])"
   ]
  },
  {
   "cell_type": "code",
   "execution_count": 4,
   "metadata": {
    "collapsed": false
   },
   "outputs": [
    {
     "data": {
      "text/plain": [
       "[1, 3, 4, 6]"
      ]
     },
     "execution_count": 4,
     "metadata": {},
     "output_type": "execute_result"
    }
   ],
   "source": [
    "select(range(7), [0, 1, '', 'foo', True, [], [1,2]])"
   ]
  },
  {
   "cell_type": "markdown",
   "metadata": {},
   "source": [
    "# Problem 3b - intToNDigits\n",
    "- define a function 'intToNDigits(x, n)'\n",
    "- returns a list of the digits(int 0 and 1, not strings) in a base 2 representation of 'x'\n",
    "- list must have at least n digits, pad with 0 on the left if needed "
   ]
  },
  {
   "cell_type": "code",
   "execution_count": 1,
   "metadata": {
    "collapsed": true
   },
   "outputs": [],
   "source": [
    "def intToNDigits(x, n):\n",
    "    # get rid of '0b' prefix\n",
    "    s = bin(x)[2:]\n",
    "    # another way to get a binary string is \n",
    "    # '{0:b}'.format(x)\n",
    "    # pad on left if needed\n",
    "    # 0 * '0' => ''\n",
    "    s = (n - len(s))*'0' + s\n",
    "    # map strings to digits\n",
    "    return [1 if d == \"1\" else 0 for d in s]\n"
   ]
  },
  {
   "cell_type": "code",
   "execution_count": 2,
   "metadata": {
    "collapsed": false
   },
   "outputs": [
    {
     "data": {
      "text/plain": [
       "[[1, 1], [0, 0, 0, 0, 1, 1], [1, 0, 1, 1], [1, 0, 1, 0]]"
      ]
     },
     "execution_count": 2,
     "metadata": {},
     "output_type": "execute_result"
    }
   ],
   "source": [
    "[intToNDigits(3, 2), intToNDigits(3, 6), intToNDigits(11, 4), intToNDigits(10,2)]"
   ]
  },
  {
   "cell_type": "markdown",
   "metadata": {},
   "source": [
    "# Problem 3c - powerSet\n",
    "- using 'select' and'intToNDigits', define a function 'powerSet(x)' that returns a list\n",
    "of all possible subsets of the elements of input list x, including the empty set and the set of all elements\n",
    "- if a set has N elements, the power set will have 2**N elements\n",
    "- assume the list elements are distinct - no duplicates"
   ]
  },
  {
   "cell_type": "code",
   "execution_count": 31,
   "metadata": {
    "collapsed": true
   },
   "outputs": [],
   "source": [
    "def powerSet(x):\n",
    "    n = len(x)\n",
    "    ps = []\n",
    "    for j in range(2**n):\n",
    "        b = intToNDigits(j, n)\n",
    "        ps.append(set(select(x, b)))\n",
    "    return ps\n"
   ]
  },
  {
   "cell_type": "code",
   "execution_count": 32,
   "metadata": {
    "collapsed": false
   },
   "outputs": [
    {
     "data": {
      "text/plain": [
       "[set(),\n",
       " {'butler'},\n",
       " {'math'},\n",
       " {'butler', 'math'},\n",
       " {'avery'},\n",
       " {'avery', 'butler'},\n",
       " {'avery', 'math'},\n",
       " {'avery', 'butler', 'math'}]"
      ]
     },
     "execution_count": 32,
     "metadata": {},
     "output_type": "execute_result"
    }
   ],
   "source": [
    "powerSet(['avery', 'math', 'butler'])"
   ]
  },
  {
   "cell_type": "code",
   "execution_count": 33,
   "metadata": {
    "collapsed": false
   },
   "outputs": [
    {
     "data": {
      "text/plain": [
       "[set(),\n",
       " {'dodge'},\n",
       " {'butler'},\n",
       " {'butler', 'dodge'},\n",
       " {'math'},\n",
       " {'dodge', 'math'},\n",
       " {'butler', 'math'},\n",
       " {'butler', 'dodge', 'math'},\n",
       " {'avery'},\n",
       " {'avery', 'dodge'},\n",
       " {'avery', 'butler'},\n",
       " {'avery', 'butler', 'dodge'},\n",
       " {'avery', 'math'},\n",
       " {'avery', 'dodge', 'math'},\n",
       " {'avery', 'butler', 'math'},\n",
       " {'avery', 'butler', 'dodge', 'math'}]"
      ]
     },
     "execution_count": 33,
     "metadata": {},
     "output_type": "execute_result"
    }
   ],
   "source": [
    "powerSet(['avery', 'math', 'butler', 'dodge'])"
   ]
  },
  {
   "cell_type": "code",
   "execution_count": 34,
   "metadata": {
    "collapsed": false
   },
   "outputs": [
    {
     "data": {
      "text/plain": [
       "16"
      ]
     },
     "execution_count": 34,
     "metadata": {},
     "output_type": "execute_result"
    }
   ],
   "source": [
    "len(powerSet(['avery', 'math', 'butler', 'dodge']))"
   ]
  },
  {
   "cell_type": "markdown",
   "metadata": {},
   "source": [
    "# Problem 4 - generalized dot product(dotn)\n",
    "- take the dot product of any number of lists and finite generators\n",
    "    - assume all lists and generators have the same length\n",
    "- hints\n",
    "    - look at functions2 notebook\n",
    "        - use the variable number of arguments format for 'dotn'\n",
    "        - you might find it convenient to 'spread a list of args' to 'zip'\n",
    "- I will solve this problem FIVE different ways\n"
   ]
  },
  {
   "cell_type": "code",
   "execution_count": 1,
   "metadata": {
    "collapsed": false
   },
   "outputs": [
    {
     "data": {
      "text/plain": [
       "[3, 4, 5]"
      ]
     },
     "execution_count": 1,
     "metadata": {},
     "output_type": "execute_result"
    }
   ],
   "source": [
    "# test generator\n",
    "\n",
    "def gen(s, e):\n",
    "    for j in range(s, e):\n",
    "        yield j\n",
    "\n",
    "# list will make a list out of finite generator\n",
    "\n",
    "list(gen(3,6))"
   ]
  },
  {
   "cell_type": "code",
   "execution_count": 3,
   "metadata": {
    "collapsed": false
   },
   "outputs": [
    {
     "ename": "TypeError",
     "evalue": "object of type 'generator' has no len()",
     "output_type": "error",
     "traceback": [
      "\u001b[0;31m---------------------------------------------------------------------------\u001b[0m",
      "\u001b[0;31mTypeError\u001b[0m                                 Traceback (most recent call last)",
      "\u001b[0;32m<ipython-input-3-fae011c47f91>\u001b[0m in \u001b[0;36m<module>\u001b[0;34m()\u001b[0m\n\u001b[1;32m      1\u001b[0m \u001b[0;31m# note that a generator doesn't have a length\u001b[0m\u001b[0;34m\u001b[0m\u001b[0;34m\u001b[0m\u001b[0m\n\u001b[1;32m      2\u001b[0m \u001b[0;34m\u001b[0m\u001b[0m\n\u001b[0;32m----> 3\u001b[0;31m \u001b[0mlen\u001b[0m\u001b[0;34m(\u001b[0m\u001b[0mgen\u001b[0m\u001b[0;34m(\u001b[0m\u001b[0;36m3\u001b[0m\u001b[0;34m,\u001b[0m\u001b[0;36m6\u001b[0m\u001b[0;34m)\u001b[0m\u001b[0;34m)\u001b[0m\u001b[0;34m\u001b[0m\u001b[0m\n\u001b[0m",
      "\u001b[0;31mTypeError\u001b[0m: object of type 'generator' has no len()"
     ]
    }
   ],
   "source": [
    "# note that a generator doesn't have a length\n",
    "\n",
    "len(gen(3,6))"
   ]
  },
  {
   "cell_type": "code",
   "execution_count": 79,
   "metadata": {
    "collapsed": false
   },
   "outputs": [
    {
     "data": {
      "text/plain": [
       "[3, 5, 6]"
      ]
     },
     "execution_count": 79,
     "metadata": {},
     "output_type": "execute_result"
    }
   ],
   "source": [
    "# list of a list is a list\n",
    "\n",
    "list([3,5,6])"
   ]
  },
  {
   "cell_type": "code",
   "execution_count": 5,
   "metadata": {
    "collapsed": true
   },
   "outputs": [],
   "source": [
    "# C/Java approach\n",
    "\n",
    "# two for loops\n",
    "# two acculmation variables\n",
    "\n",
    "# is there a problem here?\n",
    "\n",
    "def dotn(*pos):\n",
    "    # get a list of lists\n",
    "    # make the generators into lists\n",
    "    lists = [list(p) for p in pos]\n",
    "    total = 0\n",
    "    ln = len(lists[0])\n",
    "    for j in range(ln):\n",
    "        m = 1\n",
    "        for lst in lists:\n",
    "            # slice will be a list of the \n",
    "            # nth element of each list\n",
    "            # multiply them together\n",
    "            m *= lst[j]\n",
    "        # accumulate into sum\n",
    "        total += m\n",
    "    return total"
   ]
  },
  {
   "cell_type": "code",
   "execution_count": 6,
   "metadata": {
    "collapsed": false
   },
   "outputs": [
    {
     "data": {
      "text/plain": [
       "191"
      ]
     },
     "execution_count": 6,
     "metadata": {},
     "output_type": "execute_result"
    }
   ],
   "source": [
    "dotn([5,3,9], gen(10,13))"
   ]
  },
  {
   "cell_type": "code",
   "execution_count": 7,
   "metadata": {
    "collapsed": false
   },
   "outputs": [
    {
     "data": {
      "text/plain": [
       "191"
      ]
     },
     "execution_count": 7,
     "metadata": {},
     "output_type": "execute_result"
    }
   ],
   "source": [
    "5 * 10 + 3 * 11 + 9 * 12"
   ]
  },
  {
   "cell_type": "code",
   "execution_count": 27,
   "metadata": {
    "collapsed": false
   },
   "outputs": [
    {
     "name": "stdout",
     "output_type": "stream",
     "text": [
      "83\n"
     ]
    },
    {
     "data": {
      "text/plain": [
       "83"
      ]
     },
     "execution_count": 27,
     "metadata": {},
     "output_type": "execute_result"
    }
   ],
   "source": [
    "print(5 * 10 + 3 * 11 )\n",
    "dotn(gen(10,12),[5,3,9])"
   ]
  },
  {
   "cell_type": "code",
   "execution_count": 11,
   "metadata": {
    "collapsed": false
   },
   "outputs": [
    {
     "data": {
      "text/plain": [
       "[10, 11]"
      ]
     },
     "execution_count": 11,
     "metadata": {},
     "output_type": "execute_result"
    }
   ],
   "source": [
    "# making list out of generator\n",
    "\n",
    "ga = gen(10,12)\n",
    "list(ga)"
   ]
  },
  {
   "cell_type": "code",
   "execution_count": 12,
   "metadata": {
    "collapsed": false
   },
   "outputs": [
    {
     "data": {
      "text/plain": [
       "False"
      ]
     },
     "execution_count": 12,
     "metadata": {},
     "output_type": "execute_result"
    }
   ],
   "source": [
    "# given a list, list makes a copy\n",
    "\n",
    "t = [3,4,5,6]\n",
    "tt = list(t)\n",
    "t is tt"
   ]
  },
  {
   "cell_type": "markdown",
   "metadata": {},
   "source": [
    "# use zip\n",
    "- zip takes any number of positional args\n",
    "- [doc](https://docs.python.org/3/library/functions.html#zip)"
   ]
  },
  {
   "cell_type": "code",
   "execution_count": 13,
   "metadata": {
    "collapsed": true
   },
   "outputs": [],
   "source": [
    "# two for loops\n",
    "# two accmulation variables\n",
    "\n",
    "# nicer - zip more 'pythonic', and allows unequal list lengths\n",
    "# don't need to run list on the inputs, or explicitly \n",
    "# find the length of each list\n",
    "\n",
    "def dotn2(*pos):\n",
    "    total = 0\n",
    "    # \"spread\" elements of pos as positional args to zip\n",
    "    for slice in zip(*pos):\n",
    "        # slice will be a list of the \n",
    "        # nth element of each list\n",
    "        m = 1\n",
    "        # multiply them together\n",
    "        for s in slice:\n",
    "            m *= s\n",
    "        # accumulate into sum\n",
    "        total += m\n",
    "    return total\n",
    "   "
   ]
  },
  {
   "cell_type": "code",
   "execution_count": 14,
   "metadata": {
    "collapsed": false
   },
   "outputs": [
    {
     "data": {
      "text/plain": [
       "83"
      ]
     },
     "execution_count": 14,
     "metadata": {},
     "output_type": "execute_result"
    }
   ],
   "source": [
    "dotn2([5,3,9], gen(10,12))"
   ]
  },
  {
   "cell_type": "code",
   "execution_count": 15,
   "metadata": {
    "collapsed": false
   },
   "outputs": [
    {
     "data": {
      "text/plain": [
       "83"
      ]
     },
     "execution_count": 15,
     "metadata": {},
     "output_type": "execute_result"
    }
   ],
   "source": [
    "# above is \n",
    "# number of terms is length of shortest sequence\n",
    "\n",
    "5*10 + 3*11 "
   ]
  },
  {
   "cell_type": "markdown",
   "metadata": {},
   "source": [
    "# important\n",
    "# functools.reduce\n",
    "- first arg - two arg function\n",
    "- list or iterable\n",
    "- applies the function to elements until 'reduced' to one:\n",
    "\n",
    "suppose we have list [1,4,5,6]\n",
    "could sum it from left to right. \n",
    "like using an acculmation var and for loop:\n",
    "\n",
    "```\n",
    "1 + 4 + 5 + 6\n",
    "5 + 5 + 6\n",
    "10 + 6\n",
    "16\n",
    "```\n",
    "\n",
    "here's a different way:\n",
    "\n",
    "```\n",
    "1 + 4 + 5 + 6\n",
    "    5 + 11\n",
    "      16\n",
    "```\n",
    "\n",
    "the pairs [1,4], [5,6], [5,11] were \"reduced\"\n",
    "\n",
    "is there an advantage to reduce?"
   ]
  },
  {
   "cell_type": "code",
   "execution_count": 16,
   "metadata": {
    "collapsed": false
   },
   "outputs": [
    {
     "data": {
      "text/plain": [
       "16"
      ]
     },
     "execution_count": 16,
     "metadata": {},
     "output_type": "execute_result"
    }
   ],
   "source": [
    "import functools\n",
    "import operator\n",
    "\n",
    "# operator module has a function for each operator\n",
    "\n",
    "functools.reduce(operator.add, [1,4,5,6])"
   ]
  },
  {
   "cell_type": "code",
   "execution_count": 17,
   "metadata": {
    "collapsed": false
   },
   "outputs": [
    {
     "data": {
      "text/plain": [
       "24"
      ]
     },
     "execution_count": 17,
     "metadata": {},
     "output_type": "execute_result"
    }
   ],
   "source": [
    "def factorial(n):\n",
    "    return functools.reduce(operator.mul, range(2, n+1))\n",
    "\n",
    "factorial(4)"
   ]
  },
  {
   "cell_type": "code",
   "execution_count": 18,
   "metadata": {
    "collapsed": true
   },
   "outputs": [],
   "source": [
    "# slightly slicker version using reduce\n",
    "# one for loop\n",
    "# one acculmation variable\n",
    "\n",
    "def dotn3(*pos):\n",
    "    total = 0\n",
    "    for slice in zip(*pos):\n",
    "        total += functools.reduce(operator.mul,slice)\n",
    "    return total"
   ]
  },
  {
   "cell_type": "code",
   "execution_count": 19,
   "metadata": {
    "collapsed": false
   },
   "outputs": [
    {
     "data": {
      "text/plain": [
       "83"
      ]
     },
     "execution_count": 19,
     "metadata": {},
     "output_type": "execute_result"
    }
   ],
   "source": [
    "dotn3([5,3,9], gen(10,12))"
   ]
  },
  {
   "cell_type": "code",
   "execution_count": 20,
   "metadata": {
    "collapsed": false
   },
   "outputs": [],
   "source": [
    "# slicker still\n",
    "# one 'generator loop'\n",
    "# NO accumulation variable\n",
    "\n",
    "import functools\n",
    "import operator\n",
    "\n",
    "def dotn4(*pos):\n",
    "    return sum(functools.reduce(operator.mul,slice) for slice in zip(*pos))\n"
   ]
  },
  {
   "cell_type": "code",
   "execution_count": 22,
   "metadata": {
    "collapsed": false
   },
   "outputs": [
    {
     "data": {
      "text/plain": [
       "83"
      ]
     },
     "execution_count": 22,
     "metadata": {},
     "output_type": "execute_result"
    }
   ],
   "source": [
    "dotn4([5,3,9], gen(10,12))"
   ]
  },
  {
   "cell_type": "markdown",
   "metadata": {},
   "source": [
    "# map - iterate without loops\n",
    "- first arg is a function\n",
    "- second arg is an iteratable(list, generator,...)\n",
    "- the function is applied to each element of the iteratable,\n",
    "and a list of the results is returned\n",
    "- map is lazy"
   ]
  },
  {
   "cell_type": "code",
   "execution_count": 23,
   "metadata": {
    "collapsed": false
   },
   "outputs": [
    {
     "data": {
      "text/plain": [
       "<map at 0x106bedd68>"
      ]
     },
     "execution_count": 23,
     "metadata": {},
     "output_type": "execute_result"
    }
   ],
   "source": [
    "map(abs, [-3,4,-6,0])"
   ]
  },
  {
   "cell_type": "code",
   "execution_count": 24,
   "metadata": {
    "collapsed": false
   },
   "outputs": [
    {
     "data": {
      "text/plain": [
       "[3, 4, 6, 0]"
      ]
     },
     "execution_count": 24,
     "metadata": {},
     "output_type": "execute_result"
    }
   ],
   "source": [
    "list(map(abs, [-3,4,-6,0]))"
   ]
  },
  {
   "cell_type": "code",
   "execution_count": 25,
   "metadata": {
    "collapsed": true
   },
   "outputs": [],
   "source": [
    "# NO loops\n",
    "# NO accumulation variables\n",
    "\n",
    "import functools\n",
    "import operator\n",
    "\n",
    "def dotn5(*pos):\n",
    "    return sum(map(lambda slice : functools.reduce(operator.mul,slice), zip(*pos)))\n",
    "\n",
    "# 66666666666666666666666\n",
    "\n",
    "\n",
    "# here's our first attempt again for comparison - quite a difference!\n",
    "\n",
    "def dotn(*pos):\n",
    "    # get a list of lists\n",
    "    # make the generators into lists\n",
    "    lists = [list(p) for p in pos]\n",
    "    total = 0\n",
    "    ln = len(lists[0])\n",
    "    for j in range(ln):\n",
    "        m = 1\n",
    "        for lst in lists:\n",
    "            # slice will be a list of the \n",
    "            # nth element of each list\n",
    "            # multiply them together\n",
    "            m *= lst[j]\n",
    "        # accumulate into sum\n",
    "        total += m\n",
    "    return total\n"
   ]
  },
  {
   "cell_type": "code",
   "execution_count": 26,
   "metadata": {
    "collapsed": false
   },
   "outputs": [
    {
     "data": {
      "text/plain": [
       "83"
      ]
     },
     "execution_count": 26,
     "metadata": {},
     "output_type": "execute_result"
    }
   ],
   "source": [
    "dotn5([5,3,9], gen(10,12))"
   ]
  },
  {
   "cell_type": "markdown",
   "metadata": {},
   "source": [
    "# functional style\n",
    "- you do NOT need to understand or master this style\n",
    "- i show it just to give you a taste of advanced techniques\n",
    "    - they allow for considerable optimization\n",
    "    - they are used by professional python developers"
   ]
  },
  {
   "cell_type": "markdown",
   "metadata": {},
   "source": [
    "# Problem 5a - countBases\n",
    "- define 'countBases(dna)' - returns the number of 'A', 'C', 'G', 'T' bases in a strand of DNA in a dict"
   ]
  },
  {
   "cell_type": "code",
   "execution_count": 3,
   "metadata": {
    "collapsed": true
   },
   "outputs": [],
   "source": [
    "# dna strings use upper case letters\n",
    "\n",
    "bases = 'ACGT'\n",
    "dna = 'CATCGATATCTCTGAGTGCAC'"
   ]
  },
  {
   "cell_type": "code",
   "execution_count": 51,
   "metadata": {
    "collapsed": true
   },
   "outputs": [],
   "source": [
    "def countBases(s):\n",
    "    d = {}\n",
    "    for b in bases:\n",
    "        d[b] = s.count(b)\n",
    "    return d"
   ]
  },
  {
   "cell_type": "code",
   "execution_count": 43,
   "metadata": {
    "collapsed": false
   },
   "outputs": [
    {
     "data": {
      "text/plain": [
       "{'A': 3, 'C': 1, 'G': 0, 'T': 1}"
      ]
     },
     "execution_count": 43,
     "metadata": {},
     "output_type": "execute_result"
    }
   ],
   "source": [
    "countBases('AACAT')"
   ]
  },
  {
   "cell_type": "code",
   "execution_count": 44,
   "metadata": {
    "collapsed": false
   },
   "outputs": [
    {
     "data": {
      "text/plain": [
       "{'A': 5, 'C': 6, 'G': 4, 'T': 6}"
      ]
     },
     "execution_count": 44,
     "metadata": {},
     "output_type": "execute_result"
    }
   ],
   "source": [
    "countBases(dna)"
   ]
  },
  {
   "cell_type": "code",
   "execution_count": 52,
   "metadata": {
    "collapsed": true
   },
   "outputs": [],
   "source": [
    "# another approach\n",
    "\n",
    "import collections\n",
    "\n",
    "def countBases2(s):\n",
    "    d = collections.defaultdict(int)\n",
    "    for b in s:\n",
    "        d[b] += 1\n",
    "    return d\n",
    "    "
   ]
  },
  {
   "cell_type": "code",
   "execution_count": 53,
   "metadata": {
    "collapsed": false
   },
   "outputs": [
    {
     "data": {
      "text/plain": [
       "defaultdict(int, {'A': 5, 'C': 6, 'G': 4, 'T': 6})"
      ]
     },
     "execution_count": 53,
     "metadata": {},
     "output_type": "execute_result"
    }
   ],
   "source": [
    "countBases2(dna)"
   ]
  },
  {
   "cell_type": "markdown",
   "metadata": {},
   "source": [
    "# Problem 5b - percentBases\n",
    "- return the percentage of each base in a strand of DNA in a dict"
   ]
  },
  {
   "cell_type": "code",
   "execution_count": 46,
   "metadata": {
    "collapsed": true
   },
   "outputs": [],
   "source": [
    "def percentBases(dna):\n",
    "    cb = countBases(dna)\n",
    "    total = 0\n",
    "    for k in cb:\n",
    "        total += cb[k]\n",
    "    ftotal = float(total)\n",
    "    for k in cb:\n",
    "        cb[k] /= ftotal\n",
    "    return cb"
   ]
  },
  {
   "cell_type": "code",
   "execution_count": 47,
   "metadata": {
    "collapsed": false
   },
   "outputs": [
    {
     "data": {
      "text/plain": [
       "{'A': 0.3333333333333333,\n",
       " 'C': 0.3333333333333333,\n",
       " 'G': 0.3333333333333333,\n",
       " 'T': 0.0}"
      ]
     },
     "execution_count": 47,
     "metadata": {},
     "output_type": "execute_result"
    }
   ],
   "source": [
    "percentBases('ACG')"
   ]
  },
  {
   "cell_type": "code",
   "execution_count": 48,
   "metadata": {
    "collapsed": false
   },
   "outputs": [
    {
     "data": {
      "text/plain": [
       "{'A': 0.23809523809523808,\n",
       " 'C': 0.2857142857142857,\n",
       " 'G': 0.19047619047619047,\n",
       " 'T': 0.2857142857142857}"
      ]
     },
     "execution_count": 48,
     "metadata": {},
     "output_type": "execute_result"
    }
   ],
   "source": [
    "percentBases(dna)"
   ]
  },
  {
   "cell_type": "code",
   "execution_count": 49,
   "metadata": {
    "collapsed": false
   },
   "outputs": [],
   "source": [
    "# a little shorter\n",
    "\n",
    "def percentBases2(dna):\n",
    "    cb = countBases(dna)\n",
    "    ftotal = float(sum(cb.values()))\n",
    "    for k in cb:\n",
    "        cb[k] /= ftotal\n",
    "    return cb"
   ]
  },
  {
   "cell_type": "code",
   "execution_count": 54,
   "metadata": {
    "collapsed": false
   },
   "outputs": [
    {
     "data": {
      "text/plain": [
       "{'A': 0.23809523809523808,\n",
       " 'C': 0.2857142857142857,\n",
       " 'G': 0.19047619047619047,\n",
       " 'T': 0.2857142857142857}"
      ]
     },
     "execution_count": 54,
     "metadata": {},
     "output_type": "execute_result"
    }
   ],
   "source": [
    "percentBases2(dna)"
   ]
  },
  {
   "cell_type": "markdown",
   "metadata": {},
   "source": [
    "# Problem 5c - reverseComplement\n",
    "- define 'reverseComplement(dna)' \n",
    "- swaps A <-> T, C <-> G, and returns the new DNA in reverse order\n",
    "# compute in string domain\n",
    "- expensive - 6 copies!\n",
    "- everytime doing replace is creating a new copy"
   ]
  },
  {
   "cell_type": "code",
   "execution_count": 1,
   "metadata": {
    "collapsed": true
   },
   "outputs": [],
   "source": [
    "def reverseComplement(s):\n",
    "    s2 = s.replace('A', 't').replace('T', 'a').replace('C','g').replace('G','c').upper()\n",
    "    # no reverse method on string\n",
    "    return s2[::-1]"
   ]
  },
  {
   "cell_type": "code",
   "execution_count": 2,
   "metadata": {
    "collapsed": false
   },
   "outputs": [
    {
     "data": {
      "text/plain": [
       "'ACGT'"
      ]
     },
     "execution_count": 2,
     "metadata": {},
     "output_type": "execute_result"
    }
   ],
   "source": [
    "reverseComplement('ACGT')"
   ]
  },
  {
   "cell_type": "code",
   "execution_count": 3,
   "metadata": {
    "collapsed": false
   },
   "outputs": [
    {
     "ename": "NameError",
     "evalue": "name 'dna' is not defined",
     "output_type": "error",
     "traceback": [
      "\u001b[0;31m---------------------------------------------------------------------------\u001b[0m",
      "\u001b[0;31mNameError\u001b[0m                                 Traceback (most recent call last)",
      "\u001b[0;32m<ipython-input-3-c18d6e7257d7>\u001b[0m in \u001b[0;36m<module>\u001b[0;34m()\u001b[0m\n\u001b[0;32m----> 1\u001b[0;31m \u001b[0mreverseComplement\u001b[0m\u001b[1;33m(\u001b[0m\u001b[0mdna\u001b[0m\u001b[1;33m)\u001b[0m\u001b[1;33m\u001b[0m\u001b[0m\n\u001b[0m",
      "\u001b[0;31mNameError\u001b[0m: name 'dna' is not defined"
     ]
    }
   ],
   "source": [
    "reverseComplement(dna)"
   ]
  },
  {
   "cell_type": "markdown",
   "metadata": {},
   "source": [
    "# string domain\n",
    "- expensive - makes len(dna) strings"
   ]
  },
  {
   "cell_type": "code",
   "execution_count": null,
   "metadata": {
    "collapsed": true
   },
   "outputs": [],
   "source": [
    "def reverseComplement(dna):\n",
    "    result = \"\"\n",
    "    for i in dna:\n",
    "        if i == \"A\":\n",
    "            result +=\"T\"\n",
    "        if i == \"C\":\n",
    "            result +=\"G\"\n",
    "        if i == \"G\":\n",
    "            result +=\"C\"\n",
    "        if i == \"T\":\n",
    "            result +=\"A\"   \n",
    "    return  result[::-1] \n"
   ]
  },
  {
   "cell_type": "markdown",
   "metadata": {},
   "source": [
    "# compute in list domain\n",
    "- expense - 3 copies"
   ]
  },
  {
   "cell_type": "code",
   "execution_count": 35,
   "metadata": {
    "collapsed": true
   },
   "outputs": [],
   "source": [
    "def reverseComplement2(s):\n",
    "    x = list(s)\n",
    "    x.reverse()\n",
    "    # from/to map\n",
    "    d = {'A':'T', 'T':'A', 'C':'G', 'G':'C'}\n",
    "    # convert back to string\n",
    "    ns = ''.join([d[e] for e in x])\n",
    "    return ns\n",
    "    "
   ]
  },
  {
   "cell_type": "code",
   "execution_count": 36,
   "metadata": {
    "collapsed": false
   },
   "outputs": [
    {
     "data": {
      "text/plain": [
       "'GTGCACTCAGAGATATCGATG'"
      ]
     },
     "execution_count": 36,
     "metadata": {},
     "output_type": "execute_result"
    }
   ],
   "source": [
    "reverseComplement2(dna)"
   ]
  },
  {
   "cell_type": "code",
   "execution_count": 6,
   "metadata": {
    "collapsed": true
   },
   "outputs": [],
   "source": [
    "# a little better\n",
    "# using reversed iterator is faster than \n",
    "# reversing the list\n",
    "\n",
    "def reverseComplement2(s):\n",
    "    x = list(s)\n",
    "    # from/to map\n",
    "    d = {'A':'T', 'T':'A', 'C':'G', 'G':'C'}\n",
    "    # convert back to string\n",
    "    ns = ''.join([d[e] for e in reversed(x)])\n",
    "    return ns\n",
    "    "
   ]
  },
  {
   "cell_type": "code",
   "execution_count": 7,
   "metadata": {
    "collapsed": false
   },
   "outputs": [
    {
     "data": {
      "text/plain": [
       "'GTGCACTCAGAGATATCGATG'"
      ]
     },
     "execution_count": 7,
     "metadata": {},
     "output_type": "execute_result"
    }
   ],
   "source": [
    "reverseComplement2(dna)"
   ]
  },
  {
   "cell_type": "markdown",
   "metadata": {},
   "source": [
    "# list domain\n",
    "- expense 2 copies"
   ]
  },
  {
   "cell_type": "code",
   "execution_count": 40,
   "metadata": {
    "collapsed": true
   },
   "outputs": [],
   "source": [
    "# could also use reversed iterator\n",
    "\n",
    "def reverseComplement3(s):\n",
    "    x = list(s)\n",
    "    x.reverse()\n",
    "    # from/to map\n",
    "    d = {'A':'T', 'T':'A', 'C':'G', 'G':'C'}\n",
    "    for j in range(len(x)):\n",
    "        # convert chars\n",
    "        x[j] = d[x[j]]\n",
    "    # back to string\n",
    "    ns = ''.join(x)\n",
    "    return ns\n",
    "    "
   ]
  },
  {
   "cell_type": "code",
   "execution_count": 41,
   "metadata": {
    "collapsed": false
   },
   "outputs": [
    {
     "data": {
      "text/plain": [
       "'GTGCACTCAGAGATATCGATG'"
      ]
     },
     "execution_count": 41,
     "metadata": {},
     "output_type": "execute_result"
    }
   ],
   "source": [
    "reverseComplement3(dna)"
   ]
  },
  {
   "cell_type": "markdown",
   "metadata": {},
   "source": [
    "# str.translate method\n",
    "- very useful method\n",
    "- expense - two copies\n",
    "- [translate doc](https://docs.python.org/3/library/stdtypes.html#str.translate)\n",
    "- [maketrans doc](https://docs.python.org/3/library/stdtypes.html#str.maketrans)"
   ]
  },
  {
   "cell_type": "code",
   "execution_count": 44,
   "metadata": {
    "collapsed": true
   },
   "outputs": [],
   "source": [
    "# simplest and most direct of the methods\n",
    "# probably faster than versions above\n",
    "\n",
    "def reverseComplement4(s):\n",
    "    return s.translate(str.maketrans('ACGT', 'TGCA'))[::-1]"
   ]
  },
  {
   "cell_type": "code",
   "execution_count": 43,
   "metadata": {
    "collapsed": false
   },
   "outputs": [
    {
     "data": {
      "text/plain": [
       "'GTGCACTCAGAGATATCGATG'"
      ]
     },
     "execution_count": 43,
     "metadata": {},
     "output_type": "execute_result"
    }
   ],
   "source": [
    "reverseComplement4(dna)"
   ]
  }
 ],
 "metadata": {
  "anaconda-cloud": {},
  "kernelspec": {
   "display_name": "Python [conda root]",
   "language": "python",
   "name": "conda-root-py"
  },
  "language_info": {
   "codemirror_mode": {
    "name": "ipython",
    "version": 3
   },
   "file_extension": ".py",
   "mimetype": "text/x-python",
   "name": "python",
   "nbconvert_exporter": "python",
   "pygments_lexer": "ipython3",
   "version": "3.5.2"
  }
 },
 "nbformat": 4,
 "nbformat_minor": 0
}
