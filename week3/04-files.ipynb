{
 "cells": [
  {
   "cell_type": "markdown",
   "metadata": {},
   "source": [
    "# Files\n",
    "\n",
    "# tempfile module\n",
    "- will create a valid temporary file pathname on any OS"
   ]
  },
  {
   "cell_type": "code",
   "execution_count": 6,
   "metadata": {
    "collapsed": false
   },
   "outputs": [
    {
     "data": {
      "text/plain": [
       "['/var/folders/7p/8hg8wwy575z8m7n_bc4mjsdc0000gn/T/tmp9z9t0pqd',\n",
       " '/var/folders/7p/8hg8wwy575z8m7n_bc4mjsdc0000gn/T/tmpfejfhmnr',\n",
       " False,\n",
       " False]"
      ]
     },
     "execution_count": 6,
     "metadata": {},
     "output_type": "execute_result"
    }
   ],
   "source": [
    "import os\n",
    "import tempfile\n",
    "\n",
    "# does not create the file, just a pathname\n",
    "tp = tempfile.NamedTemporaryFile().name\n",
    "tp2 = tempfile.NamedTemporaryFile().name\n",
    "\n",
    "# os.path.exists(path) - True if file path exists\n",
    "\n",
    "[tp, tp2, os.path.exists(tp), os.path.exists(tp2)]"
   ]
  },
  {
   "cell_type": "markdown",
   "metadata": {},
   "source": [
    "# Getting file status"
   ]
  },
  {
   "cell_type": "code",
   "execution_count": 11,
   "metadata": {
    "collapsed": false
   },
   "outputs": [
    {
     "data": {
      "text/plain": [
       "[True, True, True, False]"
      ]
     },
     "execution_count": 11,
     "metadata": {},
     "output_type": "execute_result"
    }
   ],
   "source": [
    "# os.path.exists and os.access reports file status without throwning errors\n",
    "# os.stat throws an error if the path doesn't exist. \n",
    "\n",
    "# similar to touch command - make an empty file\n",
    "\n",
    "open(tp, 'w').close()\n",
    "\n",
    "def ac(p):\n",
    "    # can check exists, readable, writeable, executable\n",
    "    return([ os.access(p, m) for m in [os.F_OK, os.R_OK, os.W_OK, os.X_OK] ])\n",
    "\n",
    "ac(tp)\n"
   ]
  },
  {
   "cell_type": "code",
   "execution_count": 13,
   "metadata": {
    "collapsed": false
   },
   "outputs": [
    {
     "data": {
      "text/plain": [
       "[1486146685.0, 1486146971.0]"
      ]
     },
     "execution_count": 13,
     "metadata": {},
     "output_type": "execute_result"
    }
   ],
   "source": [
    "# last accessed time, last modified time\n",
    "\n",
    "[os.path.getatime(tp), os.path.getmtime(tp)]"
   ]
  },
  {
   "cell_type": "code",
   "execution_count": 14,
   "metadata": {
    "collapsed": false
   },
   "outputs": [
    {
     "data": {
      "text/plain": [
       "[True, False]"
      ]
     },
     "execution_count": 14,
     "metadata": {},
     "output_type": "execute_result"
    }
   ],
   "source": [
    "[os.path.isfile(tp), os.path.isdir(tp)]"
   ]
  },
  {
   "cell_type": "code",
   "execution_count": 15,
   "metadata": {
    "collapsed": false
   },
   "outputs": [
    {
     "data": {
      "text/plain": [
       "[True, False]"
      ]
     },
     "execution_count": 15,
     "metadata": {},
     "output_type": "execute_result"
    }
   ],
   "source": [
    "[os.path.isfile(tp), os.path.isdir(tp)]"
   ]
  },
  {
   "cell_type": "code",
   "execution_count": 16,
   "metadata": {
    "collapsed": false
   },
   "outputs": [
    {
     "data": {
      "text/plain": [
       "os.stat_result(st_mode=33206, st_ino=29977248, st_dev=16777220, st_nlink=1, st_uid=501, st_gid=20, st_size=0, st_atime=1486146685, st_mtime=1486146971, st_ctime=1486146971)"
      ]
     },
     "execution_count": 16,
     "metadata": {},
     "output_type": "execute_result"
    }
   ],
   "source": [
    "os.stat(tp)"
   ]
  },
  {
   "cell_type": "code",
   "execution_count": 17,
   "metadata": {
    "collapsed": false
   },
   "outputs": [
    {
     "data": {
      "text/plain": [
       "[False, False, False, False]"
      ]
     },
     "execution_count": 17,
     "metadata": {},
     "output_type": "execute_result"
    }
   ],
   "source": [
    "# removes a file, but throws error if it doesn't exist\n",
    "\n",
    "os.remove(tp)\n",
    "ac(tp)"
   ]
  },
  {
   "cell_type": "code",
   "execution_count": 18,
   "metadata": {
    "collapsed": false
   },
   "outputs": [
    {
     "data": {
      "text/plain": [
       "False"
      ]
     },
     "execution_count": 18,
     "metadata": {},
     "output_type": "execute_result"
    }
   ],
   "source": [
    "# file is gone\n",
    "\n",
    "os.path.exists(tp)"
   ]
  },
  {
   "cell_type": "code",
   "execution_count": 19,
   "metadata": {
    "collapsed": false
   },
   "outputs": [
    {
     "ename": "FileNotFoundError",
     "evalue": "[Errno 2] No such file or directory: '/var/folders/7p/8hg8wwy575z8m7n_bc4mjsdc0000gn/T/tmp9z9t0pqd'",
     "output_type": "error",
     "traceback": [
      "\u001b[0;31m---------------------------------------------------------------------------\u001b[0m",
      "\u001b[0;31mFileNotFoundError\u001b[0m                         Traceback (most recent call last)",
      "\u001b[0;32m<ipython-input-19-9dca2872f6ed>\u001b[0m in \u001b[0;36m<module>\u001b[0;34m()\u001b[0m\n\u001b[1;32m      1\u001b[0m \u001b[0;31m# stat gets upset and throws an error if the file doesn't exist\u001b[0m\u001b[0;34m\u001b[0m\u001b[0;34m\u001b[0m\u001b[0m\n\u001b[1;32m      2\u001b[0m \u001b[0;34m\u001b[0m\u001b[0m\n\u001b[0;32m----> 3\u001b[0;31m \u001b[0mos\u001b[0m\u001b[0;34m.\u001b[0m\u001b[0mstat\u001b[0m\u001b[0;34m(\u001b[0m\u001b[0mtp\u001b[0m\u001b[0;34m)\u001b[0m\u001b[0;34m\u001b[0m\u001b[0m\n\u001b[0m",
      "\u001b[0;31mFileNotFoundError\u001b[0m: [Errno 2] No such file or directory: '/var/folders/7p/8hg8wwy575z8m7n_bc4mjsdc0000gn/T/tmp9z9t0pqd'"
     ]
    }
   ],
   "source": [
    "# stat gets upset and throws an error if the file doesn't exist\n",
    "\n",
    "os.stat(tp)"
   ]
  },
  {
   "cell_type": "code",
   "execution_count": 52,
   "metadata": {
    "collapsed": false
   },
   "outputs": [
    {
     "data": {
      "text/plain": [
       "'anaconda'"
      ]
     },
     "execution_count": 52,
     "metadata": {},
     "output_type": "execute_result"
    }
   ],
   "source": [
    "# Returns list of files and dirs in a directory\n",
    "# can use isfile and isdir to figure out which is which\n",
    "\n",
    "fds = os.listdir( os.path.join(os.path.expanduser('~')))\n",
    "\n",
    "# find anaconda dir\n",
    "\n",
    "for fd in fds:\n",
    "    if fd.startswith(('Anaconda', 'anaconda')):\n",
    "        anaconda = fd\n",
    "anaconda"
   ]
  },
  {
   "cell_type": "markdown",
   "metadata": {},
   "source": [
    "# 'walk' and get all the files and dirs under a start dir"
   ]
  },
  {
   "cell_type": "code",
   "execution_count": 57,
   "metadata": {
    "collapsed": false
   },
   "outputs": [
    {
     "name": "stdout",
     "output_type": "stream",
     "text": [
      "/Users/lstead/anaconda/etc\n"
     ]
    },
    {
     "data": {
      "text/plain": [
       "<generator object walk at 0x106be9a40>"
      ]
     },
     "execution_count": 57,
     "metadata": {},
     "output_type": "execute_result"
    }
   ],
   "source": [
    "# returns a generator...\n",
    "\n",
    "e = os.path.expanduser('~/' + anaconda + '/etc')\n",
    "print(e)\n",
    "g = os.walk(e)\n",
    "g"
   ]
  },
  {
   "cell_type": "code",
   "execution_count": 58,
   "metadata": {
    "collapsed": false
   },
   "outputs": [
    {
     "data": {
      "text/plain": [
       "[('/Users/lstead/anaconda/etc', ['fish', 'jupyter'], ['.DS_Store']),\n",
       " ('/Users/lstead/anaconda/etc/fish', ['conf.d'], []),\n",
       " ('/Users/lstead/anaconda/etc/fish/conf.d', [], ['conda.fish']),\n",
       " ('/Users/lstead/anaconda/etc/jupyter',\n",
       "  ['nbconfig'],\n",
       "  ['jupyter_notebook_config.json']),\n",
       " ('/Users/lstead/anaconda/etc/jupyter/nbconfig',\n",
       "  [],\n",
       "  ['notebook.json', 'tree.json'])]"
      ]
     },
     "execution_count": 58,
     "metadata": {},
     "output_type": "execute_result"
    }
   ],
   "source": [
    "# nicer than os.listdir() in that files and dirs are in separate lists\n",
    "# returns (dirpath, dirs in dirpath, files in dir)\n",
    "\n",
    "[tup for tup in g]"
   ]
  },
  {
   "cell_type": "markdown",
   "metadata": {},
   "source": [
    "# open function\n",
    "- used to open files for reading and writing"
   ]
  },
  {
   "cell_type": "markdown",
   "metadata": {},
   "source": [
    "# Writing files \n",
    "- no automatic newlines"
   ]
  },
  {
   "cell_type": "code",
   "execution_count": 28,
   "metadata": {
    "collapsed": true
   },
   "outputs": [],
   "source": [
    "# open file, write to file descriptor, close file descriptor\n",
    "# can be error prone - easy to forget to close. also, if there\n",
    "# is an error, the close call could be skipped\n",
    "# not closing file descriptors can cause a server to crash\n",
    "# 'w' is the 'open mode' - tells 'open' to open the file for writing\n",
    "\n",
    "fd = open(tp, 'w')\n",
    "for e in ['one', 'two', 'three', 'four']:\n",
    "    fd.write(e + '\\n')\n",
    "fd.close()"
   ]
  },
  {
   "cell_type": "markdown",
   "metadata": {},
   "source": [
    "# with \n",
    "- 'with' is a 'context manager'\n",
    "- binds return value from open to 'fd'\n",
    "- 'with' will automatically close the file when the 'with' block is exited, even if by error\n",
    "- note ':' and indenting defines a statement block over which 'fd' will be bound"
   ]
  },
  {
   "cell_type": "code",
   "execution_count": 29,
   "metadata": {
    "collapsed": false
   },
   "outputs": [],
   "source": [
    "with open(tp, 'w') as fd:\n",
    "    for e in ['one', 'two', 'three', 'four']:\n",
    "        fd.write(e + '\\n')"
   ]
  },
  {
   "cell_type": "code",
   "execution_count": 30,
   "metadata": {
    "collapsed": false
   },
   "outputs": [],
   "source": [
    "# could do one write with join\n",
    "\n",
    "with open(tp, 'w') as fd:\n",
    "    fd.write('\\n'.join(['one', 'two', 'three', 'four']))"
   ]
  },
  {
   "cell_type": "code",
   "execution_count": 32,
   "metadata": {
    "collapsed": false
   },
   "outputs": [],
   "source": [
    "# or write out the string with newlines\n",
    "\n",
    "with open(tp, 'w') as fd:\n",
    "    fd.write(\"one\\ntwo\\nthree\\nfour\\n\")"
   ]
  },
  {
   "cell_type": "code",
   "execution_count": 33,
   "metadata": {
    "collapsed": true
   },
   "outputs": [],
   "source": [
    "# can append(open mode 'a') to an existing file\n",
    "\n",
    "with open(tp, 'a') as f:\n",
    "    for l in ['five', 'six']:\n",
    "        f.write(l + '\\n')"
   ]
  },
  {
   "cell_type": "markdown",
   "metadata": {},
   "source": [
    "# print function output can goto a file"
   ]
  },
  {
   "cell_type": "code",
   "execution_count": 34,
   "metadata": {
    "collapsed": false
   },
   "outputs": [
    {
     "name": "stdout",
     "output_type": "stream",
     "text": [
      "1\n",
      "2\n",
      "3\n",
      "4\n",
      "\n"
     ]
    }
   ],
   "source": [
    "\n",
    "with open(tp2, \"w\") as f:\n",
    "    print(1,2,3,4,sep='\\n', file=f)\n",
    "\n",
    "with open(tp2, 'r') as f:\n",
    "    print(f.read())"
   ]
  },
  {
   "cell_type": "markdown",
   "metadata": {},
   "source": [
    "# Reading files - eager\n",
    "- read the entire file immediately"
   ]
  },
  {
   "cell_type": "code",
   "execution_count": 35,
   "metadata": {
    "collapsed": false
   },
   "outputs": [
    {
     "name": "stdout",
     "output_type": "stream",
     "text": [
      "one\n",
      "two\n",
      "three\n",
      "four\n",
      "five\n",
      "six\n",
      "\n"
     ]
    }
   ],
   "source": [
    "# eager read - read the entire file into one string\n",
    "# 'r' tells 'open' to open the file for reading\n",
    "\n",
    "with open(tp, 'r') as fd:    \n",
    "    print( fd.read())"
   ]
  },
  {
   "cell_type": "code",
   "execution_count": 36,
   "metadata": {
    "collapsed": false
   },
   "outputs": [
    {
     "name": "stdout",
     "output_type": "stream",
     "text": [
      "['one\\n', 'two\\n', 'three\\n', 'four\\n', 'five\\n', 'six\\n']\n"
     ]
    }
   ],
   "source": [
    "# eager read - get a list of all the lines \n",
    "\n",
    "with open(tp,'r') as fd:\n",
    "    print(fd.readlines())"
   ]
  },
  {
   "cell_type": "markdown",
   "metadata": {},
   "source": [
    "# Reading files - lazy\n",
    "- suppose you are looking for a substring in a huge unsorted file of text lines\n",
    "    - lazy read probably wins\n",
    "    - don't have to read in entire file before you can start search\n",
    "    - don't have to allocate memory to hold the whole file\n",
    "    - once you find the substring, you don't have to read the rest of the file"
   ]
  },
  {
   "cell_type": "code",
   "execution_count": 37,
   "metadata": {
    "collapsed": false
   },
   "outputs": [
    {
     "name": "stdout",
     "output_type": "stream",
     "text": [
      "one\n",
      "\n",
      "two\n",
      "\n",
      "three\n",
      "\n",
      "four\n",
      "\n",
      "five\n",
      "\n",
      "six\n",
      "\n"
     ]
    }
   ],
   "source": [
    "# read one line at a time \n",
    "\n",
    "with open(tp, 'r') as fd:\n",
    "    while True:\n",
    "        x = fd.readline()\n",
    "        # returns empty string when finished\n",
    "        if x == '':\n",
    "            break;\n",
    "        print(x)"
   ]
  },
  {
   "cell_type": "code",
   "execution_count": 38,
   "metadata": {
    "collapsed": false
   },
   "outputs": [
    {
     "name": "stdout",
     "output_type": "stream",
     "text": [
      "one\n",
      "two\n",
      "three\n",
      "four\n",
      "five\n",
      "six\n"
     ]
    }
   ],
   "source": [
    "# note double spacing\n",
    "# each line in the file has a newline, plus print is adding one\n",
    "# can turn off the print newline with keyword arg 'end'\n",
    "\n",
    "with open(tp, 'r') as fd:\n",
    "    while True:\n",
    "        x = fd.readline()\n",
    "        # returns empty string when finished\n",
    "        if x == '':\n",
    "            break;\n",
    "        print(x, end='')"
   ]
  },
  {
   "cell_type": "code",
   "execution_count": 39,
   "metadata": {
    "collapsed": false
   },
   "outputs": [
    {
     "data": {
      "text/plain": [
       "<_io.TextIOWrapper name='/var/folders/7p/8hg8wwy575z8m7n_bc4mjsdc0000gn/T/tmp9z9t0pqd' mode='r' encoding='UTF-8'>"
      ]
     },
     "execution_count": 39,
     "metadata": {},
     "output_type": "execute_result"
    }
   ],
   "source": [
    "fd = open(tp, 'r')\n",
    "fd"
   ]
  },
  {
   "cell_type": "code",
   "execution_count": 40,
   "metadata": {
    "collapsed": false
   },
   "outputs": [
    {
     "data": {
      "text/plain": [
       "[<_io.TextIOWrapper name='/var/folders/7p/8hg8wwy575z8m7n_bc4mjsdc0000gn/T/tmp9z9t0pqd' mode='r' encoding='UTF-8'>,\n",
       " <_io.TextIOWrapper name='/var/folders/7p/8hg8wwy575z8m7n_bc4mjsdc0000gn/T/tmp9z9t0pqd' mode='r' encoding='UTF-8'>,\n",
       " True]"
      ]
     },
     "execution_count": 40,
     "metadata": {},
     "output_type": "execute_result"
    }
   ],
   "source": [
    "# a file descriptor is an iterator over the file lines\n",
    "\n",
    "[fd, iter(fd), fd is iter(fd)]"
   ]
  },
  {
   "cell_type": "code",
   "execution_count": 41,
   "metadata": {
    "collapsed": false
   },
   "outputs": [
    {
     "data": {
      "text/plain": [
       "'one\\n'"
      ]
     },
     "execution_count": 41,
     "metadata": {},
     "output_type": "execute_result"
    }
   ],
   "source": [
    "next(fd)"
   ]
  },
  {
   "cell_type": "code",
   "execution_count": 42,
   "metadata": {
    "collapsed": false
   },
   "outputs": [
    {
     "data": {
      "text/plain": [
       "'two\\n'"
      ]
     },
     "execution_count": 42,
     "metadata": {},
     "output_type": "execute_result"
    }
   ],
   "source": [
    "# don't have to finish iterator...\n",
    "\n",
    "next(fd)"
   ]
  },
  {
   "cell_type": "code",
   "execution_count": 43,
   "metadata": {
    "collapsed": false
   },
   "outputs": [
    {
     "data": {
      "text/plain": [
       "'one'"
      ]
     },
     "execution_count": 43,
     "metadata": {},
     "output_type": "execute_result"
    }
   ],
   "source": [
    "# note with readline and readlines each line has a trailing '\\n', \n",
    "# which you usually don't want\n",
    "# use strip() to remove\n",
    "# can this cause a problem?\n",
    "\n",
    "'one\\n'.strip()"
   ]
  },
  {
   "cell_type": "code",
   "execution_count": 44,
   "metadata": {
    "collapsed": false
   },
   "outputs": [
    {
     "name": "stdout",
     "output_type": "stream",
     "text": [
      "one\n",
      "\n",
      "tw\n",
      "o\n",
      "t\n",
      "hre\n",
      "e\n",
      "f\n",
      "our\n",
      "\n",
      "\n"
     ]
    }
   ],
   "source": [
    "# read N chars at a time\n",
    "\n",
    "with open(path, 'r')  as f:\n",
    "    while True:\n",
    "        s = f.read(3)\n",
    "        if s == '':\n",
    "            break;\n",
    "        print(s)\n",
    "        "
   ]
  },
  {
   "cell_type": "code",
   "execution_count": 45,
   "metadata": {
    "collapsed": false
   },
   "outputs": [
    {
     "data": {
      "text/plain": [
       "['three\\n', 'four\\n', 'five\\n', 'six\\n']"
      ]
     },
     "execution_count": 45,
     "metadata": {},
     "output_type": "execute_result"
    }
   ],
   "source": [
    "# ... or can finish iterator later on\n",
    "\n",
    "[next(fd), next(fd), next(fd), next(fd)]"
   ]
  },
  {
   "cell_type": "code",
   "execution_count": 46,
   "metadata": {
    "collapsed": false
   },
   "outputs": [
    {
     "ename": "StopIteration",
     "evalue": "",
     "output_type": "error",
     "traceback": [
      "\u001b[0;31m---------------------------------------------------------------------------\u001b[0m",
      "\u001b[0;31mStopIteration\u001b[0m                             Traceback (most recent call last)",
      "\u001b[0;32m<ipython-input-46-af6cbe3afd01>\u001b[0m in \u001b[0;36m<module>\u001b[0;34m()\u001b[0m\n\u001b[1;32m      1\u001b[0m \u001b[0;31m# exhausted, can not be used again\u001b[0m\u001b[0;34m\u001b[0m\u001b[0;34m\u001b[0m\u001b[0m\n\u001b[1;32m      2\u001b[0m \u001b[0;34m\u001b[0m\u001b[0m\n\u001b[0;32m----> 3\u001b[0;31m \u001b[0mnext\u001b[0m\u001b[0;34m(\u001b[0m\u001b[0mfd\u001b[0m\u001b[0;34m)\u001b[0m\u001b[0;34m\u001b[0m\u001b[0m\n\u001b[0m",
      "\u001b[0;31mStopIteration\u001b[0m: "
     ]
    }
   ],
   "source": [
    "# exhausted, can not be used again\n",
    "\n",
    "next(fd)"
   ]
  },
  {
   "cell_type": "markdown",
   "metadata": {},
   "source": [
    "# In memory \"files\"\n",
    "- very useful \n",
    "- [doc](https://docs.python.org/3.5/library/io.html#io.StringIO)"
   ]
  },
  {
   "cell_type": "code",
   "execution_count": 47,
   "metadata": {
    "collapsed": false
   },
   "outputs": [
    {
     "data": {
      "text/plain": [
       "'one\\ntwo'"
      ]
     },
     "execution_count": 47,
     "metadata": {},
     "output_type": "execute_result"
    }
   ],
   "source": [
    "import io\n",
    "\n",
    "ios = io.StringIO()\n",
    "\n",
    "print('one', file=ios)\n",
    "ios.write('two')\n",
    "\n",
    "ios.getvalue()"
   ]
  },
  {
   "cell_type": "code",
   "execution_count": 48,
   "metadata": {
    "collapsed": false
   },
   "outputs": [
    {
     "data": {
      "text/plain": [
       "'asdfasdf'"
      ]
     },
     "execution_count": 48,
     "metadata": {},
     "output_type": "execute_result"
    }
   ],
   "source": [
    "ios = io.StringIO('asdfasdf')\n",
    "\n",
    "ios.read()"
   ]
  },
  {
   "cell_type": "markdown",
   "metadata": {},
   "source": [
    "# shutil module \n",
    "- has utilities for reading and writing:\n",
    "    - compressed files - 'gzip', 'bz2' \n",
    "    - file archives - 'zip', 'tar', 'hdf5'\n",
    "- move and copy files\n",
    "- [doc](https://docs.python.org/3.5/library/shutil.html)"
   ]
  }
 ],
 "metadata": {
  "anaconda-cloud": {},
  "kernelspec": {
   "display_name": "Python [conda root]",
   "language": "python",
   "name": "conda-root-py"
  },
  "language_info": {
   "codemirror_mode": {
    "name": "ipython",
    "version": 3
   },
   "file_extension": ".py",
   "mimetype": "text/x-python",
   "name": "python",
   "nbconvert_exporter": "python",
   "pygments_lexer": "ipython3",
   "version": "3.5.2"
  }
 },
 "nbformat": 4,
 "nbformat_minor": 0
}
