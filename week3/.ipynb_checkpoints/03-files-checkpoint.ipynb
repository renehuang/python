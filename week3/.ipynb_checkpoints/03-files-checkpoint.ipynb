{
 "cells": [
  {
   "cell_type": "markdown",
   "metadata": {},
   "source": [
    "# File I/O"
   ]
  },
  {
   "cell_type": "markdown",
   "metadata": {},
   "source": [
    "# Pathname manipulation"
   ]
  },
  {
   "cell_type": "code",
   "execution_count": 1,
   "metadata": {
    "collapsed": false
   },
   "outputs": [
    {
     "data": {
      "text/plain": [
       "'C:\\\\Users\\\\reneh/foo/bar/zap.txt'"
      ]
     },
     "execution_count": 1,
     "metadata": {},
     "output_type": "execute_result"
    }
   ],
   "source": [
    "# Most pathname functions will NOT expand '~\"\n",
    "# use expanduser\n",
    "\n",
    "import os\n",
    "\n",
    "ep = os.path.expanduser('~/foo/bar/zap.txt')\n",
    "ep"
   ]
  },
  {
   "cell_type": "code",
   "execution_count": 2,
   "metadata": {
    "collapsed": false
   },
   "outputs": [
    {
     "data": {
      "text/plain": [
       "[('C:\\\\Users\\\\reneh/foo/bar', 'zap.txt'),\n",
       " ('C:\\\\Users\\\\reneh/foo/bar/zap', '.txt')]"
      ]
     },
     "execution_count": 2,
     "metadata": {},
     "output_type": "execute_result"
    }
   ],
   "source": [
    "# get pieces of paths\n",
    "\n",
    "[os.path.split(ep), os.path.splitext(ep)]"
   ]
  },
  {
   "cell_type": "code",
   "execution_count": 3,
   "metadata": {
    "collapsed": false
   },
   "outputs": [
    {
     "data": {
      "text/plain": [
       "'/Users\\\\lstead\\\\foo/bar\\\\zap.txt'"
      ]
     },
     "execution_count": 3,
     "metadata": {},
     "output_type": "execute_result"
    }
   ],
   "source": [
    "# put paths together\n",
    "\n",
    "os.path.join('/Users', 'lstead', 'foo/', 'bar', 'zap.txt')"
   ]
  },
  {
   "cell_type": "code",
   "execution_count": 4,
   "metadata": {
    "collapsed": false
   },
   "outputs": [
    {
     "data": {
      "text/plain": [
       "'/foo\\\\bar\\\\zap.txt'"
      ]
     },
     "execution_count": 4,
     "metadata": {},
     "output_type": "execute_result"
    }
   ],
   "source": [
    "# leading /  on foo eliminates components on the left\n",
    "os.path.join('/Users', 'lstead', '/foo', 'bar', 'zap.txt')"
   ]
  },
  {
   "cell_type": "markdown",
   "metadata": {},
   "source": [
    "# Getting file status"
   ]
  },
  {
   "cell_type": "code",
   "execution_count": 7,
   "metadata": {
    "collapsed": false
   },
   "outputs": [
    {
     "ename": "FileNotFoundError",
     "evalue": "[Errno 2] No such file or directory: '/tmp/touch'",
     "output_type": "error",
     "traceback": [
      "\u001b[0;31m---------------------------------------------------------------------------\u001b[0m",
      "\u001b[0;31mFileNotFoundError\u001b[0m                         Traceback (most recent call last)",
      "\u001b[0;32m<ipython-input-7-9a52e2c47d6c>\u001b[0m in \u001b[0;36m<module>\u001b[0;34m()\u001b[0m\n\u001b[1;32m      5\u001b[0m \u001b[1;31m# similar to touch\u001b[0m\u001b[1;33m\u001b[0m\u001b[1;33m\u001b[0m\u001b[0m\n\u001b[1;32m      6\u001b[0m \u001b[0mpath\u001b[0m \u001b[1;33m=\u001b[0m \u001b[1;34m'/tmp/touch'\u001b[0m\u001b[1;33m\u001b[0m\u001b[0m\n\u001b[0;32m----> 7\u001b[0;31m \u001b[0mopen\u001b[0m\u001b[1;33m(\u001b[0m\u001b[0mpath\u001b[0m\u001b[1;33m,\u001b[0m \u001b[1;34m'w'\u001b[0m\u001b[1;33m)\u001b[0m\u001b[1;33m.\u001b[0m\u001b[0mclose\u001b[0m\u001b[1;33m(\u001b[0m\u001b[1;33m)\u001b[0m\u001b[1;33m\u001b[0m\u001b[0m\n\u001b[0m\u001b[1;32m      8\u001b[0m \u001b[0mos\u001b[0m\u001b[1;33m.\u001b[0m\u001b[0mutime\u001b[0m\u001b[1;33m(\u001b[0m\u001b[0mpath\u001b[0m\u001b[1;33m,\u001b[0m \u001b[1;32mNone\u001b[0m\u001b[1;33m)\u001b[0m\u001b[1;33m\u001b[0m\u001b[0m\n\u001b[1;32m      9\u001b[0m \u001b[1;33m\u001b[0m\u001b[0m\n",
      "\u001b[0;31mFileNotFoundError\u001b[0m: [Errno 2] No such file or directory: '/tmp/touch'"
     ]
    }
   ],
   "source": [
    "# os.path.exists and os.access reports file status without throwning errors\n",
    "# os.stat throws an error if the path doesn't exist. \n",
    "import os\n",
    "\n",
    "# similar to touch\n",
    "path = '/tmp/touch'\n",
    "open(path, 'w').close()\n",
    "os.utime(path, None)\n",
    "\n",
    "\n",
    "def ac(p):\n",
    "    # can check exists, readable, writeable, executable\n",
    "    return([ os.access(p, m) for m in [os.F_OK, os.R_OK, os.W_OK, os.X_OK] ])\n",
    "\n",
    "ac(path)\n"
   ]
  },
  {
   "cell_type": "code",
   "execution_count": 6,
   "metadata": {
    "collapsed": false
   },
   "outputs": [
    {
     "ename": "FileNotFoundError",
     "evalue": "[WinError 3] The system cannot find the path specified: '/tmp/touch'",
     "output_type": "error",
     "traceback": [
      "\u001b[0;31m---------------------------------------------------------------------------\u001b[0m",
      "\u001b[0;31mFileNotFoundError\u001b[0m                         Traceback (most recent call last)",
      "\u001b[0;32m<ipython-input-6-19fd69f54d35>\u001b[0m in \u001b[0;36m<module>\u001b[0;34m()\u001b[0m\n\u001b[1;32m      1\u001b[0m \u001b[1;31m# last accessed time, last modified time\u001b[0m\u001b[1;33m\u001b[0m\u001b[1;33m\u001b[0m\u001b[0m\n\u001b[0;32m----> 2\u001b[0;31m \u001b[1;33m[\u001b[0m\u001b[0mos\u001b[0m\u001b[1;33m.\u001b[0m\u001b[0mpath\u001b[0m\u001b[1;33m.\u001b[0m\u001b[0mgetatime\u001b[0m\u001b[1;33m(\u001b[0m\u001b[0mpath\u001b[0m\u001b[1;33m)\u001b[0m\u001b[1;33m,\u001b[0m \u001b[0mos\u001b[0m\u001b[1;33m.\u001b[0m\u001b[0mpath\u001b[0m\u001b[1;33m.\u001b[0m\u001b[0mgetmtime\u001b[0m\u001b[1;33m(\u001b[0m\u001b[0mpath\u001b[0m\u001b[1;33m)\u001b[0m\u001b[1;33m]\u001b[0m\u001b[1;33m\u001b[0m\u001b[0m\n\u001b[0m",
      "\u001b[0;32mC:\\Users\\reneh\\Anaconda3\\lib\\genericpath.py\u001b[0m in \u001b[0;36mgetatime\u001b[0;34m(filename)\u001b[0m\n\u001b[1;32m     58\u001b[0m \u001b[1;32mdef\u001b[0m \u001b[0mgetatime\u001b[0m\u001b[1;33m(\u001b[0m\u001b[0mfilename\u001b[0m\u001b[1;33m)\u001b[0m\u001b[1;33m:\u001b[0m\u001b[1;33m\u001b[0m\u001b[0m\n\u001b[1;32m     59\u001b[0m     \u001b[1;34m\"\"\"Return the last access time of a file, reported by os.stat().\"\"\"\u001b[0m\u001b[1;33m\u001b[0m\u001b[0m\n\u001b[0;32m---> 60\u001b[0;31m     \u001b[1;32mreturn\u001b[0m \u001b[0mos\u001b[0m\u001b[1;33m.\u001b[0m\u001b[0mstat\u001b[0m\u001b[1;33m(\u001b[0m\u001b[0mfilename\u001b[0m\u001b[1;33m)\u001b[0m\u001b[1;33m.\u001b[0m\u001b[0mst_atime\u001b[0m\u001b[1;33m\u001b[0m\u001b[0m\n\u001b[0m\u001b[1;32m     61\u001b[0m \u001b[1;33m\u001b[0m\u001b[0m\n\u001b[1;32m     62\u001b[0m \u001b[1;33m\u001b[0m\u001b[0m\n",
      "\u001b[0;31mFileNotFoundError\u001b[0m: [WinError 3] The system cannot find the path specified: '/tmp/touch'"
     ]
    }
   ],
   "source": [
    "# last accessed time, last modified time\n",
    "[os.path.getatime(path), os.path.getmtime(path)]"
   ]
  },
  {
   "cell_type": "code",
   "execution_count": null,
   "metadata": {
    "collapsed": false
   },
   "outputs": [],
   "source": [
    "# file exists predicate\n",
    "\n",
    "os.path.exists(path)"
   ]
  },
  {
   "cell_type": "code",
   "execution_count": null,
   "metadata": {
    "collapsed": false
   },
   "outputs": [],
   "source": [
    "[os.path.isfile(path), os.path.isdir(path)]"
   ]
  },
  {
   "cell_type": "code",
   "execution_count": null,
   "metadata": {
    "collapsed": false
   },
   "outputs": [],
   "source": [
    "[os.path.isfile('/tmp'), os.path.isdir('/tmp')]"
   ]
  },
  {
   "cell_type": "code",
   "execution_count": null,
   "metadata": {
    "collapsed": false
   },
   "outputs": [],
   "source": [
    "os.stat(path)"
   ]
  },
  {
   "cell_type": "code",
   "execution_count": null,
   "metadata": {
    "collapsed": false
   },
   "outputs": [],
   "source": [
    "# removes a file, but throws error if it doesn't exist\n",
    "\n",
    "os.remove(path)\n",
    "ac(path)"
   ]
  },
  {
   "cell_type": "code",
   "execution_count": null,
   "metadata": {
    "collapsed": false
   },
   "outputs": [],
   "source": [
    "# file is gone\n",
    "\n",
    "os.path.exists(path)"
   ]
  },
  {
   "cell_type": "code",
   "execution_count": null,
   "metadata": {
    "collapsed": false
   },
   "outputs": [],
   "source": [
    "# stat gets upset and throws an error if the file doesn't exist\n",
    "\n",
    "os.stat(path)"
   ]
  },
  {
   "cell_type": "code",
   "execution_count": null,
   "metadata": {
    "collapsed": false
   },
   "outputs": [],
   "source": [
    "# Returns list of files and dirs in a directory\n",
    "# can use isfile and isdir to figure out which is which\n",
    "\n",
    "os.listdir( os.path.join(os.path.expanduser('~'), 'anaconda'))"
   ]
  },
  {
   "cell_type": "markdown",
   "metadata": {},
   "source": [
    "# 'walk' and get all the files and dirs under a start dir"
   ]
  },
  {
   "cell_type": "code",
   "execution_count": null,
   "metadata": {
    "collapsed": false
   },
   "outputs": [],
   "source": [
    "g = os.walk('~/anaconda/ssl')"
   ]
  },
  {
   "cell_type": "code",
   "execution_count": null,
   "metadata": {
    "collapsed": false
   },
   "outputs": [],
   "source": [
    "# didn't work - walk doesn't like '~'\n",
    "\n",
    "next(g)"
   ]
  },
  {
   "cell_type": "code",
   "execution_count": null,
   "metadata": {
    "collapsed": false
   },
   "outputs": [],
   "source": [
    "# returns a generator...\n",
    "\n",
    "e = os.path.expanduser('~/anaconda/ssl')\n",
    "print(e)\n",
    "g = os.walk(e)\n",
    "g"
   ]
  },
  {
   "cell_type": "code",
   "execution_count": null,
   "metadata": {
    "collapsed": false
   },
   "outputs": [],
   "source": [
    "# nicer than os.listdir() in that files and dirs are in separate lists\n",
    "# returns (dirpath, dirs in dirpath, files in dir)\n",
    "\n",
    "next(g)"
   ]
  },
  {
   "cell_type": "code",
   "execution_count": null,
   "metadata": {
    "collapsed": false
   },
   "outputs": [],
   "source": [
    "# descend into 'misc' directory\n",
    "\n",
    "next(g)"
   ]
  },
  {
   "cell_type": "code",
   "execution_count": null,
   "metadata": {
    "collapsed": false
   },
   "outputs": [],
   "source": [
    "# finished\n",
    "\n",
    "next(g)"
   ]
  },
  {
   "cell_type": "markdown",
   "metadata": {},
   "source": [
    "# open function\n",
    "- used to open files for reading and writing"
   ]
  },
  {
   "cell_type": "markdown",
   "metadata": {},
   "source": [
    "# Writing files \n",
    "- no automatic newlines"
   ]
  },
  {
   "cell_type": "code",
   "execution_count": null,
   "metadata": {
    "collapsed": true
   },
   "outputs": [],
   "source": [
    "# open file, write to file descriptor, close file descriptor\n",
    "# can be error prone - easy to forget to close. also, if there\n",
    "# is an error, the close call could be skipped\n",
    "# not closing file descriptors can cause a server to crash\n",
    "# 'w' is the 'open mode' - tells 'open' to open the file for writing\n",
    "\n",
    "path = '/tmp/four.txt'\n",
    "fd = open(path, 'w')\n",
    "for e in ['one', 'two', 'three', 'four']:\n",
    "    fd.write(e + '\\n')\n",
    "fd.close()"
   ]
  },
  {
   "cell_type": "markdown",
   "metadata": {},
   "source": [
    "# with \n",
    "- 'with' is a 'context manager'\n",
    "- binds return value from open to 'fd'\n",
    "- 'with' will automatically close the file when the 'with' block is exited, even if by error\n",
    "- note ':' and indenting defines a statement block over which 'fd' will be bound"
   ]
  },
  {
   "cell_type": "code",
   "execution_count": null,
   "metadata": {
    "collapsed": false
   },
   "outputs": [],
   "source": [
    "with open(path, 'w') as fd:\n",
    "    for e in ['one', 'two', 'three', 'four']:\n",
    "        fd.write(e + '\\n')"
   ]
  },
  {
   "cell_type": "code",
   "execution_count": null,
   "metadata": {
    "collapsed": false
   },
   "outputs": [],
   "source": [
    "# could do one write with join\n",
    "\n",
    "with open(path, 'w') as fd:\n",
    "    fd.write('\\n'.join(['one', 'two', 'three', 'four']))"
   ]
  },
  {
   "cell_type": "code",
   "execution_count": null,
   "metadata": {
    "collapsed": false
   },
   "outputs": [],
   "source": [
    "# or write out the string with newlines\n",
    "\n",
    "with open(path, 'w') as fd:\n",
    "    fd.write(\"one\\ntwo\\nthree\\nfour\\n\")"
   ]
  },
  {
   "cell_type": "code",
   "execution_count": null,
   "metadata": {
    "collapsed": true
   },
   "outputs": [],
   "source": [
    "# can append(open mode 'a') to an existing file\n",
    "\n",
    "path = '/tmp/four.txt'\n",
    "with open(path, 'a') as f:\n",
    "    for l in ['five', 'six']:\n",
    "        f.write(l + '\\n')"
   ]
  },
  {
   "cell_type": "markdown",
   "metadata": {},
   "source": [
    "# print function output can goto a file"
   ]
  },
  {
   "cell_type": "code",
   "execution_count": null,
   "metadata": {
    "collapsed": false
   },
   "outputs": [],
   "source": [
    "path = '/tmp/print'\n",
    "\n",
    "with open(path, \"w\") as f:\n",
    "    print(1,2,3,4,sep='\\n', file=f)\n",
    "\n",
    "with open(path, 'r') as f:\n",
    "    print(f.read())"
   ]
  },
  {
   "cell_type": "markdown",
   "metadata": {},
   "source": [
    "# Reading files - eager\n",
    "- read the entire file immediately"
   ]
  },
  {
   "cell_type": "code",
   "execution_count": null,
   "metadata": {
    "collapsed": false
   },
   "outputs": [],
   "source": [
    "# eager read - read the entire file into one string\n",
    "# 'r' tells 'open' to open the file for reading\n",
    "\n",
    "with open(path, 'r') as fd:    \n",
    "    print( fd.read())"
   ]
  },
  {
   "cell_type": "code",
   "execution_count": null,
   "metadata": {
    "collapsed": false
   },
   "outputs": [],
   "source": [
    "# eager read - get a list of all the lines \n",
    "\n",
    "with open(path,'r') as fd:\n",
    "    print(fd.readlines())"
   ]
  },
  {
   "cell_type": "markdown",
   "metadata": {},
   "source": [
    "# Reading files - lazy\n",
    "- suppose you are looking for a substring in a huge unsorted file of text lines\n",
    "    - lazy read probably wins\n",
    "    - don't have to read in entire file before you can start search\n",
    "    - don't have to allocate memory to hold the whole file\n",
    "    - once you find the substring, you don't have to read the rest of the file"
   ]
  },
  {
   "cell_type": "code",
   "execution_count": null,
   "metadata": {
    "collapsed": false
   },
   "outputs": [],
   "source": [
    "# read one line at a time \n",
    "\n",
    "with open(path, 'r') as fd:\n",
    "    while True:\n",
    "        x = fd.readline()\n",
    "        # returns empty string when finished\n",
    "        if x == '':\n",
    "            break;\n",
    "        print(x)"
   ]
  },
  {
   "cell_type": "code",
   "execution_count": null,
   "metadata": {
    "collapsed": false
   },
   "outputs": [],
   "source": [
    "# note double spacing\n",
    "# each line in the file has a newline, plus print is adding one\n",
    "# can turn off the print newline with keyword arg 'end'\n",
    "\n",
    "with open(path, 'r') as fd:\n",
    "    while True:\n",
    "        x = fd.readline()\n",
    "        # returns empty string when finished\n",
    "        if x == '':\n",
    "            break;\n",
    "        print(x, end='')"
   ]
  },
  {
   "cell_type": "code",
   "execution_count": null,
   "metadata": {
    "collapsed": false
   },
   "outputs": [],
   "source": [
    "fd = open('/tmp/four.txt')\n",
    "fd"
   ]
  },
  {
   "cell_type": "code",
   "execution_count": null,
   "metadata": {
    "collapsed": false
   },
   "outputs": [],
   "source": [
    "# a file descriptor is an iterator over the file lines\n",
    "\n",
    "[fd, iter(fd), fd is iter(fd)]"
   ]
  },
  {
   "cell_type": "code",
   "execution_count": null,
   "metadata": {
    "collapsed": false
   },
   "outputs": [],
   "source": [
    "next(fd)"
   ]
  },
  {
   "cell_type": "code",
   "execution_count": null,
   "metadata": {
    "collapsed": false
   },
   "outputs": [],
   "source": [
    "# don't have to finish iterator...\n",
    "\n",
    "next(fd)"
   ]
  },
  {
   "cell_type": "code",
   "execution_count": null,
   "metadata": {
    "collapsed": false
   },
   "outputs": [],
   "source": [
    "# note with readline and readlines each line has a trailing '\\n', \n",
    "# which you usually don't want\n",
    "# use strip() to remove\n",
    "# can this cause a problem?\n",
    "\n",
    "'one\\n'.strip()"
   ]
  },
  {
   "cell_type": "code",
   "execution_count": null,
   "metadata": {
    "collapsed": false
   },
   "outputs": [],
   "source": [
    "# read N chars at a time\n",
    "\n",
    "with open(path, 'r')  as f:\n",
    "    while True:\n",
    "        s = f.read(3)\n",
    "        if s == '':\n",
    "            break;\n",
    "        print(s)\n",
    "        "
   ]
  },
  {
   "cell_type": "code",
   "execution_count": null,
   "metadata": {
    "collapsed": false
   },
   "outputs": [],
   "source": [
    "# ... or can finish iterator later on\n",
    "\n",
    "[next(fd), next(fd), next(fd), next(fd)]"
   ]
  },
  {
   "cell_type": "code",
   "execution_count": null,
   "metadata": {
    "collapsed": false
   },
   "outputs": [],
   "source": [
    "# exhausted, can not be used again\n",
    "\n",
    "next(fd)"
   ]
  },
  {
   "cell_type": "markdown",
   "metadata": {},
   "source": [
    "# In memory \"files\"\n",
    "- very useful \n",
    "- [doc](https://docs.python.org/3.5/library/io.html#io.StringIO)"
   ]
  },
  {
   "cell_type": "code",
   "execution_count": null,
   "metadata": {
    "collapsed": false
   },
   "outputs": [],
   "source": [
    "import io\n",
    "\n",
    "ios = io.StringIO()\n",
    "\n",
    "print('one', file=ios)\n",
    "ios.write('two')\n",
    "\n",
    "ios.getvalue()"
   ]
  },
  {
   "cell_type": "code",
   "execution_count": null,
   "metadata": {
    "collapsed": false
   },
   "outputs": [],
   "source": [
    "ios = io.StringIO('asdfasdf')\n",
    "\n",
    "ios.read()"
   ]
  },
  {
   "cell_type": "markdown",
   "metadata": {},
   "source": [
    "# shutil module \n",
    "- has utilities for reading and writing:\n",
    "    - compressed files - 'gzip', 'bz2' \n",
    "    - file archives - 'zip', 'tar', 'hdf5'\n",
    "- move and copy files\n",
    "- [doc](https://docs.python.org/3.5/library/shutil.html)"
   ]
  }
 ],
 "metadata": {
  "anaconda-cloud": {},
  "kernelspec": {
   "display_name": "Python [conda root]",
   "language": "python",
   "name": "conda-root-py"
  },
  "language_info": {
   "codemirror_mode": {
    "name": "ipython",
    "version": 3
   },
   "file_extension": ".py",
   "mimetype": "text/x-python",
   "name": "python",
   "nbconvert_exporter": "python",
   "pygments_lexer": "ipython3",
   "version": "3.5.2"
  }
 },
 "nbformat": 4,
 "nbformat_minor": 0
}
