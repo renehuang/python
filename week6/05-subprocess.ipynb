{
 "cells": [
  {
   "cell_type": "markdown",
   "metadata": {},
   "source": [
    "# subprocess module\n",
    "- 'run' method executes external programm\n",
    "- also known as an 'exec'\n",
    "- often very useful\n",
    "- [doc](https://docs.python.org/3.5/library/subprocess.html)"
   ]
  },
  {
   "cell_type": "code",
   "execution_count": null,
   "metadata": {
    "collapsed": false
   },
   "outputs": [],
   "source": [
    "# run() will hang until subprocess finishes\n",
    "# returns a 'CompletedProcess' object, \n",
    "# which has info about the subprocess execution,\n",
    "# including the exit code(which we set in scripts with sys.exit())\n",
    "\n",
    "# 'say' works on a mac\n",
    "\n",
    "import subprocess\n",
    "\n",
    "subprocess.run(['say', 'macs have a text to speech system built in'])\n"
   ]
  },
  {
   "cell_type": "code",
   "execution_count": null,
   "metadata": {
    "collapsed": true
   },
   "outputs": [],
   "source": [
    "# simplest form - just run a command\n",
    "# touch will create an empty file if none exits,\n",
    "# or change the last access date of an existing file\n",
    "# exit code (0 is happy) is returned\n",
    "\n",
    "import tempfile\n",
    "path = tempfile.NamedTemporaryFile().name"
   ]
  },
  {
   "cell_type": "code",
   "execution_count": null,
   "metadata": {
    "collapsed": false
   },
   "outputs": [],
   "source": [
    "subprocess.run(['touch', path])"
   ]
  },
  {
   "cell_type": "code",
   "execution_count": null,
   "metadata": {
    "collapsed": false
   },
   "outputs": [],
   "source": [
    "# check for file\n",
    "\n",
    "import os\n",
    "\n",
    "[os.access(path, os.F_OK), os.stat(path)]"
   ]
  },
  {
   "cell_type": "code",
   "execution_count": null,
   "metadata": {
    "collapsed": false
   },
   "outputs": [],
   "source": [
    "# can grab the standard output from the command\n",
    "# can pick up stderr as well\n",
    "# note - this is returning a 'byte' array\n",
    "\n",
    "cp=subprocess.run(['/bin/ls', '/'], stdout=subprocess.PIPE)\n",
    "cp.stdout"
   ]
  },
  {
   "cell_type": "code",
   "execution_count": null,
   "metadata": {
    "collapsed": false
   },
   "outputs": [],
   "source": [
    "# with universal_newlines=True,\n",
    "# this call returns a string\n",
    "\n",
    "cp=subprocess.run(['/bin/ls', '/'], stdout=subprocess.PIPE,\n",
    "                  universal_newlines=True)\n",
    "cp.stdout"
   ]
  },
  {
   "cell_type": "markdown",
   "metadata": {},
   "source": [
    "- linux/mac has a command line [topological sort](http://en.wikipedia.org/wiki/Tsort)\n",
    "- reads constraints from standard input\n",
    "- writes solution to standard output"
   ]
  },
  {
   "cell_type": "code",
   "execution_count": null,
   "metadata": {
    "collapsed": false
   },
   "outputs": [],
   "source": [
    "# supply stdin, and read stdout\n",
    "# 3 comes before 8, 3 before 10, ...\n",
    "\n",
    "pairs = [[3, 8], [3, 10], [5, 11], [7, 8], [7, 11], [8, 9], [11, 2], [11, 9], [11, 10]]\n",
    "input = ''.join( [ ('%d %d\\n' % (l, r)) for l, r in pairs ])\n",
    "#print(input)\n",
    "cp=subprocess.run(['tsort'], input=input, \n",
    "                            stdout=subprocess.PIPE,\n",
    "                            universal_newlines=True)\n",
    "[cp.stdout.split(), cp.returncode]\n"
   ]
  },
  {
   "cell_type": "code",
   "execution_count": null,
   "metadata": {
    "collapsed": false
   },
   "outputs": [],
   "source": [
    "# bad call to tsort - get a nonzero return call\n",
    "\n",
    "cp=subprocess.run(['tsort'], input='bad', \n",
    "                            stdout=subprocess.PIPE,\n",
    "                            universal_newlines=True)\n",
    "cp.returncode"
   ]
  },
  {
   "cell_type": "code",
   "execution_count": null,
   "metadata": {
    "collapsed": false
   },
   "outputs": [],
   "source": [
    "# with universal_newlines false, input/output is binary\n",
    "# note input is a byte array\n",
    "\n",
    "cp=subprocess.run([\"sed\", \"-e\", \"s/human/animal/\"],\n",
    "                         stdout=subprocess.PIPE,\n",
    "                         input=b\"when in the course of human events\\n\")\n",
    "\n",
    "cp.stdout\n"
   ]
  },
  {
   "cell_type": "code",
   "execution_count": null,
   "metadata": {
    "collapsed": false
   },
   "outputs": [],
   "source": [
    "# run under a shell - can do pipes, redirects\n",
    "\n",
    "cp=subprocess.run(['tsort|wc'], input=input, \n",
    "                        stdout=subprocess.PIPE,\n",
    "                        shell=True, universal_newlines=True)\n",
    "cp.stdout"
   ]
  }
 ],
 "metadata": {
  "anaconda-cloud": {},
  "kernelspec": {
   "display_name": "Python [conda root]",
   "language": "python",
   "name": "conda-root-py"
  },
  "language_info": {
   "codemirror_mode": {
    "name": "ipython",
    "version": 3
   },
   "file_extension": ".py",
   "mimetype": "text/x-python",
   "name": "python",
   "nbconvert_exporter": "python",
   "pygments_lexer": "ipython3",
   "version": "3.5.2"
  }
 },
 "nbformat": 4,
 "nbformat_minor": 0
}
