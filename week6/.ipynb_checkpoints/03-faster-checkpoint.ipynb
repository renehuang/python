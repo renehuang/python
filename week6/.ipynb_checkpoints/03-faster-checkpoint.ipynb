{
 "cells": [
  {
   "cell_type": "code",
   "execution_count": 1,
   "metadata": {
    "collapsed": true
   },
   "outputs": [],
   "source": [
    "import random\n",
    "\n",
    "class player:\n",
    "    def __init__(self, swap):\n",
    "        self.swap = swap\n",
    "        \n",
    "    def chooseDoor(self):\n",
    "        return random.choice(host.drange)\n",
    "\n",
    "\n",
    "\n",
    "class door:    \n",
    "    def __init__(self, number):\n",
    "        self.number = number\n",
    "        self.prize = False      \n",
    "    \n",
    "    def __str__(self):\n",
    "        return 'door(%d, %s)' % (self.number, self.prize)\n",
    "        \n",
    "    def __repr__(self):\n",
    "        return(self.__str__())\n",
    "\n",
    "\n",
    "\n",
    "class host:\n",
    "    drange = range(3)\n",
    "    \n",
    "    def play(self, player):\n",
    "        # make the doors\n",
    "        doors = [door(n) for n in host.drange]\n",
    "        # pick a door for the prize\n",
    "        doors[random.choice(host.drange)].prize = True\n",
    "        # player picks a door\n",
    "        choice = doors[player.chooseDoor()]\n",
    "        # copy doors\n",
    "        remain = doors[:]\n",
    "        # remove players choice\n",
    "        remain.remove(choice)\n",
    "        # shuffle two not choosen doors\n",
    "        random.shuffle(remain)\n",
    "        # pick door to show\n",
    "        show, last = remain\n",
    "        if show.prize:\n",
    "            # if show has prize, pick other door to show\n",
    "            show, last = last, show\n",
    "        # did player swap?\n",
    "        finalChoice = last if player.swap else choice\n",
    "        return(finalChoice.prize)\n",
    "        \n",
    "    def playLots(self, player, lots):\n",
    "        cnt = 0\n",
    "        for j in range(lots):\n",
    "            if self.play(player):\n",
    "                cnt += 1\n",
    "        return (float(cnt)/lots)\n",
    "    \n",
    "h = host()\n",
    "pns = player(False)\n",
    "ps = player(True)\n"
   ]
  },
  {
   "cell_type": "code",
   "execution_count": 2,
   "metadata": {
    "collapsed": false
   },
   "outputs": [
    {
     "data": {
      "text/plain": [
       "0.333195"
      ]
     },
     "execution_count": 2,
     "metadata": {},
     "output_type": "execute_result"
    }
   ],
   "source": [
    "h.playLots(pns, 1000*1000)\n"
   ]
  },
  {
   "cell_type": "code",
   "execution_count": 3,
   "metadata": {
    "collapsed": false
   },
   "outputs": [
    {
     "data": {
      "text/plain": [
       "0.66609"
      ]
     },
     "execution_count": 3,
     "metadata": {},
     "output_type": "execute_result"
    }
   ],
   "source": [
    "h.playLots(ps, 1000*1000)"
   ]
  },
  {
   "cell_type": "markdown",
   "metadata": {},
   "source": [
    "# Faster!\n",
    "- There are versions of Python that try to 'go faster'\n",
    "- as an unscientific benchmark, i used a 'monte carlo' 'monty hall' program \n",
    "- in normal(Cpython) python, running the game a million times takes about 12 secs\n",
    "- Java or C code would do it in under a second\n",
    "\n",
    "# [cython](http://docs.cython.org/src/tutorial/cython_tutorial.html)\n",
    "- writes a 'C' version of your Python code, which in theory might run faster\n",
    "- C program is remarkably complex and long. \n",
    "- optional declarations can be added for various datatypes, like int and float, which allows optimizations to take place\n",
    "- not much speedup on monte\n",
    "- a more numeric program would be probably see bigger gains\n",
    "- to try 'monte' put this in a 'setup.py' file:\n",
    "- runs monte hall in about 9 seconds\n",
    "\n",
    "```\n",
    "from distutils.core import setup\n",
    "from Cython.Build import cythonize\n",
    "\n",
    "setup(\n",
    "  name = 'monte',\n",
    "  ext_modules = cythonize(\"monte.pyx\"),\n",
    ")\n",
    "```\n",
    "\n",
    "  - now run \n",
    "\n",
    "```\n",
    "python setup.py build_ext --inplace\n",
    "```\n",
    "\n",
    "  - generates monte.c - very complex code!\n",
    "  - compiles monte.c to make monte.so(shared library)\n",
    "  - the monte*.so library file can be imported in python(which proves you can load C code into python)\n",
    "\n",
    "```\n",
    "# loads the shared library\n",
    "\n",
    "from monte import *\n",
    "\n",
    "meg = 1000*1000\n",
    "\n",
    "# names are in monte module\n",
    "\n",
    "monte.h.playLots(monte.ps, meg)\n",
    "\n",
    "```\n"
   ]
  },
  {
   "cell_type": "markdown",
   "metadata": {},
   "source": [
    "# [PyPY](http://pypy.org)\n",
    "- uses a JIT(Just in Time Compiler), like Java has\n",
    "- in theory can do better than static code compiler\n",
    "- sees what program is actually doing and optimizes accordingly\n",
    "- uses a simple garbage collector instead of reference counting\n",
    "- easy to use - just load code as usual, no preprocessing like Cython\n",
    "- runs monte hall in ~1 seccond\n",
    "- downsides\n",
    "    - implements python 2.7\n",
    "    - lacks symbol completion\n",
    "    - Numpy support is not complete"
   ]
  },
  {
   "cell_type": "markdown",
   "metadata": {},
   "source": [
    "# Python with GPUs\n",
    "- alot of work going into integrating python with GPUs - best of both worlds\n",
    "- [Accelerate](https://store.continuum.io/cshop/accelerate/)\n",
    "  - can move many numpy functions into [GPU](http://nbviewer.ipython.org/github/ContinuumIO/numbapro-examples/blob/master/webinars/2014_06_17/intro_to_gpu_python.ipynb)\n",
    "- [theano](http://deeplearning.net/software/theano/)"
   ]
  },
  {
   "cell_type": "markdown",
   "metadata": {
    "collapsed": true
   },
   "source": [
    "# Numba\n",
    "- JIT compilier that works in normal python\n",
    "- just add @jit decoration"
   ]
  },
  {
   "cell_type": "code",
   "execution_count": null,
   "metadata": {
    "collapsed": false
   },
   "outputs": [],
   "source": [
    "# pretty slow \n",
    "\n",
    "%timeit\n",
    "\n",
    "from numba import jit\n",
    "from numpy import arange\n",
    "\n",
    "def sum2d(arr):\n",
    "    M, N = arr.shape\n",
    "    result = 0.0\n",
    "    for i in range(M):\n",
    "        for j in range(N):\n",
    "            result += arr[i,j]\n",
    "    return result\n",
    "\n",
    "a = arange(33333333).reshape(11111111,3)\n",
    "print(sum2d(a))"
   ]
  },
  {
   "cell_type": "code",
   "execution_count": null,
   "metadata": {
    "collapsed": false
   },
   "outputs": [],
   "source": [
    "# jit decorator tells Numba to compile this function.\n",
    "# The argument types will be inferred by Numba when function is called.\n",
    "\n",
    "@jit\n",
    "def sum2d(arr):\n",
    "    M, N = arr.shape\n",
    "    result = 0.0\n",
    "    for i in range(M):\n",
    "        for j in range(N):\n",
    "            result += arr[i,j]\n",
    "    return result\n",
    "\n",
    "a = arange(33333333).reshape(11111111,3)\n",
    "print(sum2d(a))"
   ]
  },
  {
   "cell_type": "code",
   "execution_count": null,
   "metadata": {
    "collapsed": false
   },
   "outputs": [],
   "source": [
    "\n",
    "from __future__ import print_function, division, absolute_import\n",
    "\n",
    "from timeit import default_timer as timer\n",
    "from matplotlib.pylab import imshow, jet, show, ion\n",
    "import numpy as np\n",
    "\n",
    "from numba import jit\n",
    "%matplotlib inline\n",
    "\n",
    "def mandel(x, y, max_iters):\n",
    "    \"\"\"\n",
    "    Given the real and imaginary parts of a complex number,\n",
    "    determine if it is a candidate for membership in the Mandelbrot\n",
    "    set given a fixed number of iterations.\n",
    "    \"\"\"\n",
    "    i = 0\n",
    "    c = complex(x,y)\n",
    "    z = 0.0j\n",
    "    for i in range(max_iters):\n",
    "        z = z*z + c\n",
    "        if (z.real*z.real + z.imag*z.imag) >= 4:\n",
    "            return i\n",
    "\n",
    "    return 255\n",
    "\n",
    "def create_fractal(min_x, max_x, min_y, max_y, image, iters):\n",
    "    height = image.shape[0]\n",
    "    width = image.shape[1]\n",
    "\n",
    "    pixel_size_x = (max_x - min_x) / width\n",
    "    pixel_size_y = (max_y - min_y) / height\n",
    "    for x in range(width):\n",
    "        real = min_x + x * pixel_size_x\n",
    "        for y in range(height):\n",
    "            imag = min_y + y * pixel_size_y\n",
    "            color = mandel(real, imag, iters)\n",
    "            image[y, x] = color\n",
    "\n",
    "    return image\n",
    "\n",
    "image = np.zeros((500 * 2, 750 * 2), dtype=np.uint8)\n",
    "s = timer()\n",
    "create_fractal(-2.0, 1.0, -1.0, 1.0, image, 20)\n",
    "e = timer()\n",
    "print(e - s)\n",
    "imshow(image)\n",
    "#jet()\n",
    "#ion()\n",
    "show()"
   ]
  },
  {
   "cell_type": "code",
   "execution_count": null,
   "metadata": {
    "collapsed": false
   },
   "outputs": [],
   "source": [
    "\n",
    "from __future__ import print_function, division, absolute_import\n",
    "\n",
    "from timeit import default_timer as timer\n",
    "from matplotlib.pylab import imshow, jet, show, ion\n",
    "import numpy as np\n",
    "\n",
    "from numba import jit\n",
    "%matplotlib inline\n",
    "\n",
    "@jit\n",
    "def mandel(x, y, max_iters):\n",
    "    \"\"\"\n",
    "    Given the real and imaginary parts of a complex number,\n",
    "    determine if it is a candidate for membership in the Mandelbrot\n",
    "    set given a fixed number of iterations.\n",
    "    \"\"\"\n",
    "    i = 0\n",
    "    c = complex(x,y)\n",
    "    z = 0.0j\n",
    "    for i in range(max_iters):\n",
    "        z = z*z + c\n",
    "        if (z.real*z.real + z.imag*z.imag) >= 4:\n",
    "            return i\n",
    "\n",
    "    return 255\n",
    "\n",
    "@jit\n",
    "def create_fractal(min_x, max_x, min_y, max_y, image, iters):\n",
    "    height = image.shape[0]\n",
    "    width = image.shape[1]\n",
    "\n",
    "    pixel_size_x = (max_x - min_x) / width\n",
    "    pixel_size_y = (max_y - min_y) / height\n",
    "    for x in range(width):\n",
    "        real = min_x + x * pixel_size_x\n",
    "        for y in range(height):\n",
    "            imag = min_y + y * pixel_size_y\n",
    "            color = mandel(real, imag, iters)\n",
    "            image[y, x] = color\n",
    "\n",
    "    return image\n",
    "\n",
    "image = np.zeros((500 * 2, 750 * 2), dtype=np.uint8)\n",
    "s = timer()\n",
    "create_fractal(-2.0, 1.0, -1.0, 1.0, image, 20)\n",
    "e = timer()\n",
    "print(e - s)\n",
    "imshow(image)\n",
    "#jet()\n",
    "#ion()\n",
    "show()"
   ]
  },
  {
   "cell_type": "markdown",
   "metadata": {},
   "source": [
    "# Slower!\n",
    "- PyPy is on the [Raspberry Pi](http://morepypy.blogspot.co.uk/2013/05/pypy-20-alpha-for-arm.html), the $30 linux machine"
   ]
  }
 ],
 "metadata": {
  "anaconda-cloud": {},
  "kernelspec": {
   "display_name": "Python [default]",
   "language": "python",
   "name": "python3"
  },
  "language_info": {
   "codemirror_mode": {
    "name": "ipython",
    "version": 3
   },
   "file_extension": ".py",
   "mimetype": "text/x-python",
   "name": "python",
   "nbconvert_exporter": "python",
   "pygments_lexer": "ipython3",
   "version": "3.5.2"
  }
 },
 "nbformat": 4,
 "nbformat_minor": 0
}
