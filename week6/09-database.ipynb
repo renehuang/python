{
 "cells": [
  {
   "cell_type": "markdown",
   "metadata": {},
   "source": [
    "# SQL Databases\n",
    "- easy to use from Python\n",
    "- many different dbs are supported: sqlite3, mysql, postgres, oracle..."
   ]
  },
  {
   "cell_type": "code",
   "execution_count": null,
   "metadata": {
    "collapsed": false
   },
   "outputs": [],
   "source": [
    "# need some names to build a database, so made some random strings\n",
    "# but they are hard to read...\n",
    "\n",
    "import random\n",
    "import string\n",
    "\n",
    "string.ascii_lowercase\n",
    "\n",
    "def makeNames(n):\n",
    "    # chr takes an ascii code and returns the letter in a string\n",
    "    n = ''.join([random.choice(string.ascii_lowercase) for j in range(n)])\n",
    "    return n.capitalize()\n",
    "    \n",
    "[makeNames(4) for j in range(10)]"
   ]
  },
  {
   "cell_type": "code",
   "execution_count": null,
   "metadata": {
    "collapsed": false
   },
   "outputs": [],
   "source": [
    "# nltk corpus has 8,000 real names!\n",
    "# get some short ones\n",
    "\n",
    "import random\n",
    "import nltk\n",
    "\n",
    "def makeNames(wcnt, wlen):\n",
    "    names = [w for w in nltk.corpus.names.words() if len(w) == wlen]\n",
    "    # names are in alphabetical order\n",
    "    # random doesn't have a 'random subset' routine\n",
    "    # so do a shuffle \n",
    "    random.shuffle(names)\n",
    "    # then just take random names from the front\n",
    "    return names[:wcnt]\n",
    "\n",
    "firsts = makeNames(10, 4)\n",
    "lasts = makeNames(10, 5)\n",
    "\n",
    "[firsts, lasts]"
   ]
  },
  {
   "cell_type": "code",
   "execution_count": null,
   "metadata": {
    "collapsed": false
   },
   "outputs": [],
   "source": [
    "# sqlite stores data in one file\n",
    "# make a db connection and get a cursor\n",
    "\n",
    "import sqlite3 \n",
    "import tempfile\n",
    "\n",
    "dbf = tempfile.NamedTemporaryFile().name\n",
    "\n",
    "con = sqlite3.connect(dbf)\n",
    "cur = con.cursor()\n",
    "cur"
   ]
  },
  {
   "cell_type": "markdown",
   "metadata": {},
   "source": [
    "# Create two tables\n",
    "- grade(uni, course, grade)\n",
    "- student(first, last, uni)"
   ]
  },
  {
   "cell_type": "code",
   "execution_count": null,
   "metadata": {
    "collapsed": false
   },
   "outputs": [],
   "source": [
    "cur.execute('create table grade (uni text, course text, grade real)')"
   ]
  },
  {
   "cell_type": "code",
   "execution_count": null,
   "metadata": {
    "collapsed": false
   },
   "outputs": [],
   "source": [
    "cur.execute('create table student (first text, last text, uni text)')"
   ]
  },
  {
   "cell_type": "markdown",
   "metadata": {},
   "source": [
    "# Build student table"
   ]
  },
  {
   "cell_type": "code",
   "execution_count": null,
   "metadata": {
    "collapsed": false
   },
   "outputs": [],
   "source": [
    "# first, last\n",
    "\n",
    "fl = [ [firsts[k], lasts[k]] for k in range(10)]\n",
    "fl"
   ]
  },
  {
   "cell_type": "code",
   "execution_count": null,
   "metadata": {
    "collapsed": false
   },
   "outputs": [],
   "source": [
    "# make an uni\n",
    "# student = [first, last, uni]\n",
    "\n",
    "students = [ [f, l, (f[0] + l[0] + str(random.randint(1000,9999))).lower()] \n",
    "            for f,l in fl]\n",
    "students"
   ]
  },
  {
   "cell_type": "code",
   "execution_count": null,
   "metadata": {
    "collapsed": false
   },
   "outputs": [],
   "source": [
    "# insert above list into db\n",
    "\n",
    "# 'execute' inserts one row at a time\n",
    "# expects one row of data\n",
    "cur.execute('insert into student values(?, ?, ?)', students[0])\n",
    "\n",
    "# 'executemany' inserts multiple rows at once\n",
    "# expects list of rows, executes the statement for each row\n",
    "cur.executemany('insert into student values(?, ?, ?)', students[1:])\n",
    "\n",
    "'''\n",
    "# the above two statements are equivalent to \n",
    "for student in students:\n",
    "    cur.execute('insert into student values(?, ?, ?)', student)\n",
    "\n",
    "# or \n",
    "cur.executemany('insert into student values(?, ?, ?)', students)\n",
    "\n",
    "executemany is typically more efficient \n",
    "'''\n",
    "\n",
    "None"
   ]
  },
  {
   "cell_type": "code",
   "execution_count": null,
   "metadata": {
    "collapsed": false
   },
   "outputs": [],
   "source": [
    "# the select returns a generator\n",
    "\n",
    "sg = cur.execute('select first, last, uni from student')\n",
    "sg"
   ]
  },
  {
   "cell_type": "code",
   "execution_count": null,
   "metadata": {
    "collapsed": false
   },
   "outputs": [],
   "source": [
    "rows = list(sg)\n",
    "rows"
   ]
  },
  {
   "cell_type": "code",
   "execution_count": null,
   "metadata": {
    "collapsed": false
   },
   "outputs": [],
   "source": [
    "# pull the uni out of the tuple \n",
    "\n",
    "unis = [t[0] for t in cur.execute('select uni from student')]\n",
    "unis"
   ]
  },
  {
   "cell_type": "code",
   "execution_count": null,
   "metadata": {
    "collapsed": false
   },
   "outputs": [],
   "source": [
    "# classes \n",
    "\n",
    "classes = ['COMSW {}'.format(random.randint(1000, 9999)) for j in range(5)]\n",
    "classes"
   ]
  },
  {
   "cell_type": "code",
   "execution_count": null,
   "metadata": {
    "collapsed": false
   },
   "outputs": [],
   "source": [
    "# students take finals\n",
    "\n",
    "grades = [ [u , random.choice(classes), 70 + 30 * random.random() ] for u in unis ]\n",
    "grades"
   ]
  },
  {
   "cell_type": "code",
   "execution_count": null,
   "metadata": {
    "collapsed": false
   },
   "outputs": [],
   "source": [
    "# executemany inserts multiple rows at once \n",
    "\n",
    "cur.executemany('insert into grade values(?, ?, ?)', grades)"
   ]
  },
  {
   "cell_type": "code",
   "execution_count": null,
   "metadata": {
    "collapsed": false
   },
   "outputs": [],
   "source": [
    "# join the two tables on the uni field\n",
    "\n",
    "list(cur.execute('select first,last,student.uni, \\\n",
    "                 grade from student,grade where student.uni = grade.uni'))"
   ]
  },
  {
   "cell_type": "code",
   "execution_count": null,
   "metadata": {
    "collapsed": false
   },
   "outputs": [],
   "source": [
    "# add a filter term\n",
    "\n",
    "q = 'select last,first,grade from student,grade \\\n",
    " where grade>80 and student.uni = grade.uni \\\n",
    " order by last'\n",
    "list(cur.execute(q))"
   ]
  },
  {
   "cell_type": "code",
   "execution_count": null,
   "metadata": {
    "collapsed": true
   },
   "outputs": [],
   "source": [
    "# always commit and close the connection\n",
    "\n",
    "con.commit()\n",
    "con.close()"
   ]
  },
  {
   "cell_type": "code",
   "execution_count": null,
   "metadata": {
    "collapsed": false
   },
   "outputs": [],
   "source": [
    "# data is persisted on disk, can read again\n",
    "# normally would use a with statement to automatically close\n",
    "\n",
    "res=None\n",
    "\n",
    "with sqlite3.connect(dbf) as con:\n",
    "    cur = con.cursor()\n",
    "    res = list(cur.execute(q))\n",
    "\n",
    "res"
   ]
  },
  {
   "cell_type": "markdown",
   "metadata": {},
   "source": [
    "# Object Relational Mappers\n",
    "- maps objects into a relational database\n",
    "- somewhat complex but very useful\n",
    "- best known one is [SQLAlchemy](http://www.sqlalchemy.org)\n",
    "- [peewee](http://docs.peewee-orm.com/en/latest/) is a simple one\n",
    "- [hibernate](http://hibernate.org) was a pioneering and hugely successful ORM for Java"
   ]
  },
  {
   "cell_type": "markdown",
   "metadata": {},
   "source": [
    "# NoSQL databases\n",
    "- provide less functionality than SQL, but are more efficient and scale better\n",
    "- [mongodb](https://www.mongodb.org) is a popular one\n",
    "- [PyMongo](https://docs.mongodb.org/getting-started/python/client/) is the python driver for mongodb\n"
   ]
  }
 ],
 "metadata": {
  "anaconda-cloud": {},
  "kernelspec": {
   "display_name": "Python [conda root]",
   "language": "python",
   "name": "conda-root-py"
  },
  "language_info": {
   "codemirror_mode": {
    "name": "ipython",
    "version": 3
   },
   "file_extension": ".py",
   "mimetype": "text/x-python",
   "name": "python",
   "nbconvert_exporter": "python",
   "pygments_lexer": "ipython3",
   "version": "3.5.2"
  }
 },
 "nbformat": 4,
 "nbformat_minor": 0
}
