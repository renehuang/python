{
 "cells": [
  {
   "cell_type": "markdown",
   "metadata": {},
   "source": [
    "# Logging \n",
    "- Often two types of logging are performed\n",
    "  - during development, may want very verbose logging to help debug system\n",
    "  - during production, want to log \"important\" events, like web hits, major failures, services performed, accounting data\n",
    "- inserting and removing print statement is tedious and unsystematic\n",
    "- want one system to handle both needs\n",
    "- use logging package \n",
    "    - can globally control how much is logged\n",
    "    - can send logger output to files and streams\n",
    "    - Python logging package similiar to Java log4j\n",
    "- [doc](https://docs.python.org/3/library/logging.html)"
   ]
  },
  {
   "cell_type": "code",
   "execution_count": null,
   "metadata": {
    "collapsed": false
   },
   "outputs": [],
   "source": [
    "import logging\n",
    "import sys\n",
    "\n",
    "root = logging.getLogger()\n"
   ]
  },
  {
   "cell_type": "code",
   "execution_count": null,
   "metadata": {
    "collapsed": false
   },
   "outputs": [],
   "source": [
    "\n",
    "# Can instantiate any number of named loggers, and set their log level\n",
    "log = logging.getLogger('test')\n",
    "\n",
    "def testlog():\n",
    "    log.critical('critical')\n",
    "    log.error('error')\n",
    "    log.warning('warning')\n",
    "    log.info('info')\n",
    "    log.debug('debug')\n",
    "\n",
    "# the same name will get the same logger\n",
    "log2 = logging.getLogger('test')\n",
    "log is log2"
   ]
  },
  {
   "cell_type": "code",
   "execution_count": null,
   "metadata": {
    "collapsed": false
   },
   "outputs": [],
   "source": [
    "# only critical events will be logged\n",
    "log.setLevel(level = logging.CRITICAL)\n",
    "testlog()"
   ]
  },
  {
   "cell_type": "code",
   "execution_count": null,
   "metadata": {
    "collapsed": false
   },
   "outputs": [],
   "source": [
    "# warning events and everything above \n",
    "log.setLevel(level = logging.WARNING)\n",
    "testlog()"
   ]
  },
  {
   "cell_type": "code",
   "execution_count": null,
   "metadata": {
    "collapsed": false
   },
   "outputs": [],
   "source": [
    "# everything will be logged\n",
    "log.setLevel(level = logging.DEBUG)\n",
    "testlog()"
   ]
  },
  {
   "cell_type": "markdown",
   "metadata": {},
   "source": [
    "# Notice the args to debug, info, etc\n",
    "\n",
    "``Logger.debug(msg, *args, **kwargs)``"
   ]
  },
  {
   "cell_type": "code",
   "execution_count": null,
   "metadata": {
    "collapsed": false
   },
   "outputs": [],
   "source": [
    "# These two calls seem to print the same thing...\n",
    "# What is the critical difference between these approaches?\n",
    "\n",
    "\n",
    "log.debug('debugging system #%d version #%d status=%s' % (34, 104, 'alpha'))\n",
    "log.debug('debugging system #%d version #%d status=%s', 34, 104, 'alpha')"
   ]
  },
  {
   "cell_type": "code",
   "execution_count": null,
   "metadata": {
    "collapsed": false
   },
   "outputs": [],
   "source": [
    "# a logger can get alot of stack info\n",
    "\n",
    "def foo():\n",
    "    bar()\n",
    "\n",
    "def bar():\n",
    "    for line in log.findCaller(stack_info=True):\n",
    "        print(line)\n",
    "\n",
    "foo()"
   ]
  }
 ],
 "metadata": {
  "anaconda-cloud": {},
  "kernelspec": {
   "display_name": "Python [conda root]",
   "language": "python",
   "name": "conda-root-py"
  },
  "language_info": {
   "codemirror_mode": {
    "name": "ipython",
    "version": 3
   },
   "file_extension": ".py",
   "mimetype": "text/x-python",
   "name": "python",
   "nbconvert_exporter": "python",
   "pygments_lexer": "ipython3",
   "version": "3.5.2"
  }
 },
 "nbformat": 4,
 "nbformat_minor": 0
}
