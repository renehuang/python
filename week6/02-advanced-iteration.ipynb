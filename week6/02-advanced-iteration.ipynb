{
 "cells": [
  {
   "cell_type": "markdown",
   "metadata": {},
   "source": [
    "# Can iterate over things other than list elements"
   ]
  },
  {
   "cell_type": "markdown",
   "metadata": {},
   "source": [
    "# map\n",
    "- top level function\n",
    "- 1st arg is a function that takes N args\n",
    "- remaining N args are iterables\n",
    "- function is applied to each set of N \n",
    "- lazy function"
   ]
  },
  {
   "cell_type": "code",
   "execution_count": null,
   "metadata": {
    "collapsed": false
   },
   "outputs": [],
   "source": [
    "list(map(lambda x : x + 5, [1,2,5]))"
   ]
  },
  {
   "cell_type": "code",
   "execution_count": null,
   "metadata": {
    "collapsed": false
   },
   "outputs": [],
   "source": [
    "list(map( lambda x,y,z: x * y + z, range(5), range(10,15), range(20,25)))"
   ]
  },
  {
   "cell_type": "markdown",
   "metadata": {},
   "source": [
    "# filter\n",
    "- top level function\n",
    "- only keep iterables that meet a criteria\n",
    "- 1st arg is predicate function\n",
    "- 2nd arg is iterable\n",
    "- lazy function"
   ]
  },
  {
   "cell_type": "code",
   "execution_count": null,
   "metadata": {
    "collapsed": false
   },
   "outputs": [],
   "source": [
    "list(filter(lambda x : x % 3 ==0, range(10)))"
   ]
  },
  {
   "cell_type": "markdown",
   "metadata": {},
   "source": [
    "# itertools module\n",
    "- collection of advanced iteration tools\n",
    "- [doc](https://docs.python.org/3.5/library/itertools.html)"
   ]
  },
  {
   "cell_type": "code",
   "execution_count": null,
   "metadata": {
    "collapsed": true
   },
   "outputs": [],
   "source": [
    "from itertools import *"
   ]
  },
  {
   "cell_type": "markdown",
   "metadata": {},
   "source": [
    "# groupby\n",
    "- something like linux 'uniq' command \n",
    "- lazy function"
   ]
  },
  {
   "cell_type": "code",
   "execution_count": null,
   "metadata": {
    "collapsed": false
   },
   "outputs": [],
   "source": [
    "for k, g in groupby(sorted([1,2,3,1,1,2,1,3,7,3])):\n",
    "    print(k , list(g))\n"
   ]
  },
  {
   "cell_type": "markdown",
   "metadata": {},
   "source": [
    "# chain\n",
    "- takes an arbitrary number of args,\n",
    "- and iterates over each arg, from left to right\n",
    "- note chain can take any mix of iteratable types\n",
    "- lazy function"
   ]
  },
  {
   "cell_type": "code",
   "execution_count": null,
   "metadata": {
    "collapsed": false
   },
   "outputs": [],
   "source": [
    "list(chain('foo', [1,2,3], 'bar'))"
   ]
  },
  {
   "cell_type": "code",
   "execution_count": null,
   "metadata": {
    "collapsed": false
   },
   "outputs": [],
   "source": [
    "# takes one iterable arg, and iterates over each element\n",
    "\n",
    "list(chain.from_iterable(['foo', [1,2,3],'bar']))"
   ]
  },
  {
   "cell_type": "markdown",
   "metadata": {},
   "source": [
    "# combinations \n",
    "- iterates over all possible subsets of a given size that can be made from an iterable\n",
    "- remember that sets are not ordered, so would not see (0,1,2) and (2,1,0) in output\n",
    "- can make subsets with or without replacement\n",
    "- lazy function "
   ]
  },
  {
   "cell_type": "code",
   "execution_count": null,
   "metadata": {
    "collapsed": false
   },
   "outputs": [],
   "source": [
    "list(combinations(range(4), 3))"
   ]
  },
  {
   "cell_type": "code",
   "execution_count": null,
   "metadata": {
    "collapsed": false
   },
   "outputs": [],
   "source": [
    "# list of iterables\n",
    "\n",
    "x = [1, 2, 3]\n",
    "\n",
    "(combinations(x, r) for r in range(len(x)+1))"
   ]
  },
  {
   "cell_type": "code",
   "execution_count": null,
   "metadata": {
    "collapsed": false
   },
   "outputs": [],
   "source": [
    "list((combinations(x, r) for r in range(len(x)+1)))"
   ]
  },
  {
   "cell_type": "code",
   "execution_count": null,
   "metadata": {
    "collapsed": false
   },
   "outputs": [],
   "source": [
    "# lazyness gets out of control sometimes!\n",
    "# power sets\n",
    "\n",
    "list(map(list, (combinations(x, r) for r in range(len(x)+1))))"
   ]
  },
  {
   "cell_type": "code",
   "execution_count": null,
   "metadata": {
    "collapsed": false
   },
   "outputs": [],
   "source": [
    "# power sets again\n",
    "# maybe a little nicer\n",
    "\n",
    "list(chain.from_iterable(combinations(x, r) for r in range(len(x)+1)))"
   ]
  },
  {
   "cell_type": "code",
   "execution_count": null,
   "metadata": {
    "collapsed": false
   },
   "outputs": [],
   "source": [
    "# no replacements\n",
    "\n",
    "list(combinations(range(3), 3))"
   ]
  },
  {
   "cell_type": "code",
   "execution_count": null,
   "metadata": {
    "collapsed": false
   },
   "outputs": [],
   "source": [
    "list(combinations_with_replacement(range(3), 3))"
   ]
  },
  {
   "cell_type": "markdown",
   "metadata": {},
   "source": [
    "# permutations\n",
    "- order DOES matter\n",
    "- lazy function"
   ]
  },
  {
   "cell_type": "code",
   "execution_count": null,
   "metadata": {
    "collapsed": false
   },
   "outputs": [],
   "source": [
    "list(permutations(range(3)))"
   ]
  },
  {
   "cell_type": "code",
   "execution_count": null,
   "metadata": {
    "collapsed": false
   },
   "outputs": [],
   "source": [
    "list(permutations(range(3),2))"
   ]
  },
  {
   "cell_type": "code",
   "execution_count": null,
   "metadata": {
    "collapsed": false
   },
   "outputs": [],
   "source": [
    "# similiar to numpy boolean indexing\n",
    "\n",
    "list(compress(range(5), [1,0,0,1,0]))"
   ]
  },
  {
   "cell_type": "code",
   "execution_count": null,
   "metadata": {
    "collapsed": false
   },
   "outputs": [],
   "source": [
    "# repeats indefinitely\n",
    "\n",
    "c = cycle('larry')\n",
    "\n",
    "[ next(c) for j in range(13) ]"
   ]
  },
  {
   "cell_type": "code",
   "execution_count": null,
   "metadata": {
    "collapsed": false
   },
   "outputs": [],
   "source": [
    "# repeat generates infinite sequence of one value\n",
    "\n",
    "g = repeat(2)\n",
    "for e in range(4):\n",
    "    print(next(g))"
   ]
  },
  {
   "cell_type": "code",
   "execution_count": null,
   "metadata": {
    "collapsed": false
   },
   "outputs": [],
   "source": [
    "# can use repeat with zip, because zip terminates when one sequence terminates\n",
    "\n",
    "[b**e for b,e in zip(g, range(4))]"
   ]
  },
  {
   "cell_type": "code",
   "execution_count": null,
   "metadata": {
    "collapsed": false
   },
   "outputs": [],
   "source": [
    "# another way to do a padded dot product \n",
    "\n",
    "list(zip_longest([1,2,3,4], [1], [4,5], fillvalue=10))"
   ]
  },
  {
   "cell_type": "code",
   "execution_count": null,
   "metadata": {
    "collapsed": false
   },
   "outputs": [],
   "source": [
    "# count produces an infinite sequence\n",
    "# count is lazy\n",
    "\n",
    "for j,c in enumerate(count(start=3, step=5)):\n",
    "    if j > 10:\n",
    "        break\n",
    "    print(j, c)\n"
   ]
  },
  {
   "cell_type": "markdown",
   "metadata": {},
   "source": [
    "# 'slices' of generators"
   ]
  },
  {
   "cell_type": "code",
   "execution_count": null,
   "metadata": {
    "collapsed": false
   },
   "outputs": [],
   "source": [
    "# takewhile takes elements from begining of a sequence until predicate fails\n",
    "\n",
    "g = takewhile(lambda x: x < 30, count(start=3, step=5))\n",
    "list(g)"
   ]
  },
  {
   "cell_type": "code",
   "execution_count": null,
   "metadata": {
    "collapsed": false
   },
   "outputs": [],
   "source": [
    "# dropwhile drops some number of items at the begining of a sequence\n",
    "\n",
    "g = dropwhile(lambda x: x < 30, count(start=3, step=5))\n",
    "[ next(g) for j in range(20) ]"
   ]
  },
  {
   "cell_type": "code",
   "execution_count": null,
   "metadata": {
    "collapsed": false
   },
   "outputs": [],
   "source": [
    "# since count is infinite, g is infinite\n",
    "\n",
    "next(g)"
   ]
  },
  {
   "cell_type": "code",
   "execution_count": null,
   "metadata": {
    "collapsed": false
   },
   "outputs": [],
   "source": [
    "# lets you take a slice of a generator\n",
    "\n",
    "list(islice(count(start=100), 4, 10, 2 ))"
   ]
  },
  {
   "cell_type": "code",
   "execution_count": null,
   "metadata": {
    "collapsed": false
   },
   "outputs": [],
   "source": [
    "# cartesian product\n",
    "\n",
    "list(product(['jack','jill'], ['hill', 'up', 'water']))"
   ]
  },
  {
   "cell_type": "code",
   "execution_count": null,
   "metadata": {
    "collapsed": false
   },
   "outputs": [],
   "source": [
    "# sort of a running total\n",
    "# lazy\n",
    "\n",
    "list(accumulate([1,4,7,4,3,1,2,9]))"
   ]
  },
  {
   "cell_type": "code",
   "execution_count": null,
   "metadata": {
    "collapsed": false
   },
   "outputs": [],
   "source": [
    "# make N independent iterables over an iterable\n",
    "\n",
    "g1,g2,g3 = tee(range(5), 3)\n",
    "[g1, g2, g3]"
   ]
  },
  {
   "cell_type": "code",
   "execution_count": null,
   "metadata": {
    "collapsed": false
   },
   "outputs": [],
   "source": [
    "next(g1)\n",
    "next(g1)\n",
    "next(g2)\n",
    "[next(g1), next(g2), next(g3)]"
   ]
  },
  {
   "cell_type": "code",
   "execution_count": null,
   "metadata": {
    "collapsed": false
   },
   "outputs": [],
   "source": [
    "# list will get what's left\n",
    "\n",
    "[list(g1), list(g2), list(g3)]"
   ]
  },
  {
   "cell_type": "code",
   "execution_count": null,
   "metadata": {
    "collapsed": false
   },
   "outputs": [],
   "source": [
    "# pull out parts of a list\n",
    "# another case of too much lazyness\n",
    "\n",
    "t1, t2, t3 = tee(range(20),3)\n",
    "\n",
    "list(map(list, [filter(lambda x : 0 == x % 2, t1), filter(lambda x : x >10, t2), \n",
    "           filter(lambda x : x < 7, t3)]))"
   ]
  }
 ],
 "metadata": {
  "anaconda-cloud": {},
  "kernelspec": {
   "display_name": "Python [conda root]",
   "language": "python",
   "name": "conda-root-py"
  },
  "language_info": {
   "codemirror_mode": {
    "name": "ipython",
    "version": 3
   },
   "file_extension": ".py",
   "mimetype": "text/x-python",
   "name": "python",
   "nbconvert_exporter": "python",
   "pygments_lexer": "ipython3",
   "version": "3.5.2"
  }
 },
 "nbformat": 4,
 "nbformat_minor": 0
}
