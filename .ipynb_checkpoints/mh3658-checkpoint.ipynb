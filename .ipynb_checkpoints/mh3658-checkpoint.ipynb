{
 "cells": [
  {
   "cell_type": "code",
   "execution_count": 1,
   "metadata": {
    "collapsed": false
   },
   "outputs": [
    {
     "data": {
      "text/plain": [
       "'3.5.2 |Anaconda 4.2.0 (64-bit)| (default, Jul  5 2016, 11:41:13) [MSC v.1900 64 bit (AMD64)]'"
      ]
     },
     "execution_count": 1,
     "metadata": {},
     "output_type": "execute_result"
    }
   ],
   "source": [
    "import math\n",
    "import random\n",
    "import sys\n",
    "import re\n",
    "\n",
    "sys.version\n"
   ]
  },
  {
   "cell_type": "code",
   "execution_count": 2,
   "metadata": {
    "collapsed": false
   },
   "outputs": [
    {
     "data": {
      "text/plain": [
       "[[1.0, 0.0],\n",
       " [6.123233995736766e-17, 1.0],\n",
       " [-1.0, 1.2246467991473532e-16],\n",
       " [-1.8369701987210297e-16, -1.0]]"
      ]
     },
     "execution_count": 2,
     "metadata": {},
     "output_type": "execute_result"
    }
   ],
   "source": [
    "# part3 circlePoints\n",
    "def circlePoints(n,radius):\n",
    "    ans=[]\n",
    "    for j in range(n):\n",
    "        ang=j*2*math.pi/n\n",
    "        ans.append([radius*math.cos(ang),radius*math.sin(ang)])\n",
    "    return ans\n",
    "\n",
    "\n",
    "circlePoints(4,1)"
   ]
  },
  {
   "cell_type": "code",
   "execution_count": 5,
   "metadata": {
    "collapsed": false
   },
   "outputs": [
    {
     "data": {
      "text/plain": [
       "5.0"
      ]
     },
     "execution_count": 5,
     "metadata": {},
     "output_type": "execute_result"
    }
   ],
   "source": [
    "# part4 Distance Computations\n",
    "def euclid(pt1,pt2):\n",
    "    dis=math.sqrt((pt1[0]-pt2[0])**2+(pt1[1]-pt2[1])**2)\n",
    "    return dis\n",
    "\n",
    "def manhattan(pt1, pt2):\n",
    "    dis=abs(pt1[0]-pt2[0])+abs(pt1[1]-pt2[1])\n",
    "    return dis\n",
    "\n",
    "pt1=[0,0]\n",
    "pt2=[3,4]\n",
    "\n",
    "euclid(pt1, pt2)"
   ]
  },
  {
   "cell_type": "code",
   "execution_count": 6,
   "metadata": {
    "collapsed": false
   },
   "outputs": [
    {
     "data": {
      "text/plain": [
       "7"
      ]
     },
     "execution_count": 6,
     "metadata": {},
     "output_type": "execute_result"
    }
   ],
   "source": [
    "manhattan(pt1, pt2)"
   ]
  },
  {
   "cell_type": "code",
   "execution_count": 12,
   "metadata": {
    "collapsed": false
   },
   "outputs": [
    {
     "data": {
      "text/plain": [
       "[15.0, 27.0]"
      ]
     },
     "execution_count": 12,
     "metadata": {},
     "output_type": "execute_result"
    }
   ],
   "source": [
    "# part5 sumPoints\n",
    "def sumPoints(list1):\n",
    "    sumx=0\n",
    "    sumy=0\n",
    "    for point in list1:\n",
    "        sumx+=point[0]\n",
    "        sumy+=point[1]\n",
    "        \n",
    "    return([sumx,sumy])\n",
    "\n",
    "sumPoints([[2,3],[3,4],[10,20]])\n",
    "    "
   ]
  },
  {
   "cell_type": "code",
   "execution_count": 13,
   "metadata": {
    "collapsed": false
   },
   "outputs": [
    {
     "data": {
      "text/plain": [
       "[-1.8369701987210297e-16, 2.220446049250313e-16]"
      ]
     },
     "execution_count": 13,
     "metadata": {},
     "output_type": "execute_result"
    }
   ],
   "source": [
    "sumPoints(circlePoints(4,1))"
   ]
  },
  {
   "cell_type": "code",
   "execution_count": 14,
   "metadata": {
    "collapsed": false
   },
   "outputs": [
    {
     "data": {
      "text/plain": [
       "[-5.551115123125783e-16, -2.220446049250313e-16]"
      ]
     },
     "execution_count": 14,
     "metadata": {},
     "output_type": "execute_result"
    }
   ],
   "source": [
    "sumPoints(circlePoints(8,1))\n",
    "#why is x not the same with the sample?"
   ]
  },
  {
   "cell_type": "code",
   "execution_count": 15,
   "metadata": {
    "collapsed": false
   },
   "outputs": [
    {
     "data": {
      "text/plain": [
       "[-2.3314683517128287e-15, -3.594347042223944e-15]"
      ]
     },
     "execution_count": 15,
     "metadata": {},
     "output_type": "execute_result"
    }
   ],
   "source": [
    "sumPoints(circlePoints(64,1))\n",
    "#why is the result not the same with the smaple?"
   ]
  },
  {
   "cell_type": "code",
   "execution_count": 16,
   "metadata": {
    "collapsed": false
   },
   "outputs": [
    {
     "data": {
      "text/plain": [
       "[-1.1102230246251565e-16, 1.1102230246251565e-16]"
      ]
     },
     "execution_count": 16,
     "metadata": {},
     "output_type": "execute_result"
    }
   ],
   "source": [
    "sumPoints(circlePoints(5,1))"
   ]
  },
  {
   "cell_type": "code",
   "execution_count": 17,
   "metadata": {
    "collapsed": false
   },
   "outputs": [
    {
     "data": {
      "text/plain": [
       "[-9.992007221626409e-16, 9.992007221626409e-16]"
      ]
     },
     "execution_count": 17,
     "metadata": {},
     "output_type": "execute_result"
    }
   ],
   "source": [
    "sumPoints(circlePoints(17,1))"
   ]
  },
  {
   "cell_type": "code",
   "execution_count": 18,
   "metadata": {
    "collapsed": false
   },
   "outputs": [
    {
     "data": {
      "text/plain": [
       "[-5.10702591327572e-15, -2.0816681711721685e-16]"
      ]
     },
     "execution_count": 18,
     "metadata": {},
     "output_type": "execute_result"
    }
   ],
   "source": [
    "sumPoints(circlePoints(63,1))"
   ]
  },
  {
   "cell_type": "code",
   "execution_count": 19,
   "metadata": {
    "collapsed": false
   },
   "outputs": [
    {
     "data": {
      "text/plain": [
       "[[1.0, 0.0],\n",
       " [6.123233995736766e-17, 1.0],\n",
       " [-1.0, 1.2246467991473532e-16],\n",
       " [-1.8369701987210297e-16, -1.0]]"
      ]
     },
     "execution_count": 19,
     "metadata": {},
     "output_type": "execute_result"
    }
   ],
   "source": [
    "# part6 Approximate the area and circumference of a circle with n-gons\n",
    "circlePoints(4,1)"
   ]
  },
  {
   "cell_type": "code",
   "execution_count": 24,
   "metadata": {
    "collapsed": false
   },
   "outputs": [
    {
     "data": {
      "text/plain": [
       "2.0000000000000004"
      ]
     },
     "execution_count": 24,
     "metadata": {},
     "output_type": "execute_result"
    }
   ],
   "source": [
    "# does it matter to have the round number?\n",
    "def perimeter(n, radius):\n",
    "    ang=2*math.pi/n\n",
    "    peri=n*2*radius*math.sin(ang/2)\n",
    "    return peri\n",
    "\n",
    "def area(n, radius):\n",
    "    ang=2*math.pi/n\n",
    "    are=radius*math.cos(ang/2)*perimeter(n, radius)/2\n",
    "    return are\n",
    "    \n",
    "area(4,1)"
   ]
  },
  {
   "cell_type": "code",
   "execution_count": 21,
   "metadata": {
    "collapsed": false
   },
   "outputs": [
    {
     "data": {
      "text/plain": [
       "5.656854249492381"
      ]
     },
     "execution_count": 21,
     "metadata": {},
     "output_type": "execute_result"
    }
   ],
   "source": [
    "perimeter(4,1)"
   ]
  },
  {
   "cell_type": "code",
   "execution_count": 25,
   "metadata": {
    "collapsed": false
   },
   "outputs": [
    {
     "data": {
      "text/plain": [
       "5.656854249492381"
      ]
     },
     "execution_count": 25,
     "metadata": {},
     "output_type": "execute_result"
    }
   ],
   "source": [
    "4*math.sqrt(2)"
   ]
  },
  {
   "cell_type": "code",
   "execution_count": 26,
   "metadata": {
    "collapsed": false
   },
   "outputs": [
    {
     "data": {
      "text/plain": [
       "12.566370614359172"
      ]
     },
     "execution_count": 26,
     "metadata": {},
     "output_type": "execute_result"
    }
   ],
   "source": [
    "math.pi*2*2"
   ]
  },
  {
   "cell_type": "code",
   "execution_count": 27,
   "metadata": {
    "collapsed": false
   },
   "outputs": [
    {
     "name": "stdout",
     "output_type": "stream",
     "text": [
      "5.196152422706633\n",
      "8.000000000000002\n",
      "9.510565162951536\n",
      "11.313708498984761\n",
      "12.148744695291628\n",
      "12.360679774997896\n",
      "12.474701449065558\n",
      "12.533323356430424\n",
      "12.558103905862675\n",
      "12.566287931117904\n",
      "12.56637061427649\n"
     ]
    }
   ],
   "source": [
    "def testArea(radius):\n",
    "    for n in [3,4,5,8,14,20,30,50,100,1000,1000000]:\n",
    "        print(area(n,radius))\n",
    "        \n",
    "testArea(2)"
   ]
  },
  {
   "cell_type": "code",
   "execution_count": 28,
   "metadata": {
    "collapsed": false
   },
   "outputs": [
    {
     "data": {
      "text/plain": [
       "6.283185307179586"
      ]
     },
     "execution_count": 28,
     "metadata": {},
     "output_type": "execute_result"
    }
   ],
   "source": [
    "2*math.pi"
   ]
  },
  {
   "cell_type": "code",
   "execution_count": 29,
   "metadata": {
    "collapsed": false
   },
   "outputs": [
    {
     "name": "stdout",
     "output_type": "stream",
     "text": [
      "5.196152422706632\n",
      "5.656854249492381\n",
      "5.877852522924732\n",
      "6.1229349178414365\n",
      "6.230586150776803\n",
      "6.2573786016092345\n",
      "6.271707796059207\n",
      "6.279051952931337\n",
      "6.282151815625658\n",
      "6.283174971759127\n",
      "6.283185307169251\n"
     ]
    }
   ],
   "source": [
    "def testPerimeter(radius):\n",
    "    for n in [3,4,5,8,14,20,30,50,100,1000,1000000]:\n",
    "        print(perimeter(n,radius))\n",
    "        \n",
    "testPerimeter(1)"
   ]
  },
  {
   "cell_type": "code",
   "execution_count": 31,
   "metadata": {
    "collapsed": false
   },
   "outputs": [
    {
     "name": "stdout",
     "output_type": "stream",
     "text": [
      ".C@xlGB\\Y|piHPSFS*:H=Vt&Jj(Mn'\n",
      "muvcC;Sd%pX-R$B`>Ha^y*`z%{R^Pu\n",
      "-l+*`d-OL|]YG'-H'CQSMugs!F<I?$\n",
      "`qlIg@;CSxXUm%GR(BDa\")#DtFrKp.\n"
     ]
    }
   ],
   "source": [
    "# part7 random string generator\n",
    "\n",
    "import string\n",
    "\n",
    "def randomString(n):\n",
    "    chars=string.ascii_letters + string.punctuation\n",
    "    return ''.join([random.choice(chars) for j in range(n)])\n",
    "\n",
    "for j in range(4):\n",
    "    print (randomString(30))"
   ]
  },
  {
   "cell_type": "code",
   "execution_count": 36,
   "metadata": {
    "collapsed": false
   },
   "outputs": [
    {
     "data": {
      "text/plain": [
       "'\\'rw({6PythonBW\"vw2is&ZirG*i~6really(+I:*f6great![c[q|=SVePy'"
      ]
     },
     "execution_count": 36,
     "metadata": {},
     "output_type": "execute_result"
    }
   ],
   "source": [
    "# part8 define encrypt and decrypt functions\n",
    "def encrypt(list1):\n",
    "    list2=[]\n",
    "    for words in list1:\n",
    "        list2.append(str(len(words))+words)\n",
    "    code=''\n",
    "    for newword in list2:\n",
    "        code+=(randomString(random.randint(5,15))+newword)\n",
    "    return (code+randomString(random.randint(5,15)))\n",
    "\n",
    "\n",
    "e=encrypt(['Python','is','really','great!'])\n",
    "e"
   ]
  },
  {
   "cell_type": "code",
   "execution_count": 39,
   "metadata": {
    "collapsed": false
   },
   "outputs": [
    {
     "data": {
      "text/plain": [
       "['Python', 'is', 'really', 'great!']"
      ]
     },
     "execution_count": 39,
     "metadata": {},
     "output_type": "execute_result"
    }
   ],
   "source": [
    "def decrypt(string):\n",
    "    words=[]\n",
    "    for i in range(len(string)):\n",
    "            if(string[i].isdigit()):\n",
    "                length=int(string[i]);\n",
    "                words.append(string[i+1:i+length+1])\n",
    "                i=i+length+1\n",
    "    return words\n",
    "\n",
    "decrypt(e)"
   ]
  },
  {
   "cell_type": "code",
   "execution_count": null,
   "metadata": {
    "collapsed": true
   },
   "outputs": [],
   "source": []
  }
 ],
 "metadata": {
  "anaconda-cloud": {},
  "kernelspec": {
   "display_name": "Python [conda root]",
   "language": "python",
   "name": "conda-root-py"
  },
  "language_info": {
   "codemirror_mode": {
    "name": "ipython",
    "version": 3
   },
   "file_extension": ".py",
   "mimetype": "text/x-python",
   "name": "python",
   "nbconvert_exporter": "python",
   "pygments_lexer": "ipython3",
   "version": "3.5.2"
  }
 },
 "nbformat": 4,
 "nbformat_minor": 1
}
